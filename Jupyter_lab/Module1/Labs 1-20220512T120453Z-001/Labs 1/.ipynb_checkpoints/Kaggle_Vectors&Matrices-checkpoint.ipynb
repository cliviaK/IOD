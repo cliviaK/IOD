{
 "cells": [
  {
   "cell_type": "markdown",
   "id": "888694c8-ac02-4437-85fa-b02657bcf16a",
   "metadata": {},
   "source": [
    "Kaggle Project: Vectors and Matrices\n"
   ]
  },
  {
   "cell_type": "markdown",
   "id": "3da8f667-c872-4984-8880-d2d4831df89d",
   "metadata": {},
   "source": [
    "https://www.kaggle.com/code/jhossain/introduction-to-numpy-vectors-and-matrices/notebook"
   ]
  },
  {
   "cell_type": "code",
   "execution_count": 1,
   "id": "09149878-7095-4381-b857-cefdd6c5aebf",
   "metadata": {},
   "outputs": [],
   "source": [
    "import numpy as np"
   ]
  },
  {
   "cell_type": "code",
   "execution_count": 2,
   "id": "bbb455c9-421d-43e3-8af8-349aa4e5613d",
   "metadata": {},
   "outputs": [
    {
     "name": "stdout",
     "output_type": "stream",
     "text": [
      "[1 2 3]\n"
     ]
    }
   ],
   "source": [
    "vector_row = np.array([1,2,3])\n",
    "print(vector_row)"
   ]
  },
  {
   "cell_type": "code",
   "execution_count": 3,
   "id": "bcd90da9-b59f-4f50-822e-879a21410153",
   "metadata": {},
   "outputs": [
    {
     "name": "stdout",
     "output_type": "stream",
     "text": [
      "[[1]\n",
      " [2]\n",
      " [3]]\n"
     ]
    }
   ],
   "source": [
    "vector_column = np.array([[1],[2],[3]])\n",
    "print(vector_column)"
   ]
  },
  {
   "cell_type": "code",
   "execution_count": 4,
   "id": "51744e1f-bdd3-4eb7-b043-fc669355db3d",
   "metadata": {},
   "outputs": [
    {
     "name": "stdout",
     "output_type": "stream",
     "text": [
      "[[ 1  2  3  4]\n",
      " [ 4  5  6  7]\n",
      " [ 7  8  9 10]]\n"
     ]
    }
   ],
   "source": [
    "mat1 = np.matrix('1,2,3,4;4,5,6,7;7,8,9,10')\n",
    "print(mat1)"
   ]
  },
  {
   "cell_type": "code",
   "execution_count": 11,
   "id": "9a1c218a-bbc0-4eae-9dcc-db954c967a79",
   "metadata": {},
   "outputs": [
    {
     "name": "stdout",
     "output_type": "stream",
     "text": [
      "[[ 1  2  3  4]\n",
      " [ 4  5  6  7]\n",
      " [ 7  8  9 10]]\n"
     ]
    },
    {
     "data": {
      "text/plain": [
       "(3, 4)"
      ]
     },
     "execution_count": 11,
     "metadata": {},
     "output_type": "execute_result"
    }
   ],
   "source": [
    "mat1_1 = np.array([[1,2,3,4],[4,5,6,7],[7,8,9,10]])\n",
    "print(mat1_1)\n",
    "mat1_1.shape"
   ]
  },
  {
   "cell_type": "code",
   "execution_count": 6,
   "id": "8b7c95ef-3635-426a-8c5e-31299db55411",
   "metadata": {},
   "outputs": [
    {
     "data": {
      "text/plain": [
       "matrix([[ True,  True,  True,  True],\n",
       "        [ True,  True,  True,  True],\n",
       "        [ True,  True,  True,  True]])"
      ]
     },
     "execution_count": 6,
     "metadata": {},
     "output_type": "execute_result"
    }
   ],
   "source": [
    "mat1_1 == mat1"
   ]
  },
  {
   "cell_type": "code",
   "execution_count": 8,
   "id": "5772f388-4a7a-4e67-bade-1e7725cc728b",
   "metadata": {},
   "outputs": [
    {
     "name": "stdout",
     "output_type": "stream",
     "text": [
      "[[1 2]\n",
      " [3 4]\n",
      " [4 6]]\n"
     ]
    }
   ],
   "source": [
    "mat2 = np.array([[1,2],[3,4],[4,6]])\n",
    "print(mat2)"
   ]
  },
  {
   "cell_type": "code",
   "execution_count": 9,
   "id": "a4e89232-9b23-4534-9534-3acd86be60d0",
   "metadata": {},
   "outputs": [
    {
     "name": "stdout",
     "output_type": "stream",
     "text": [
      "[[ 1  2  3  4]\n",
      " [ 4  5  6  7]\n",
      " [ 7  8  9 10]]\n"
     ]
    }
   ],
   "source": [
    "mat3 = np.matrix('1,2,3,4;4,5,6,7;7,8,9,10')\n",
    "print(mat3)"
   ]
  },
  {
   "cell_type": "code",
   "execution_count": 10,
   "id": "e6660c2b-b156-4556-bbce-a1babfa258cf",
   "metadata": {},
   "outputs": [
    {
     "data": {
      "text/plain": [
       "(3, 4)"
      ]
     },
     "execution_count": 10,
     "metadata": {},
     "output_type": "execute_result"
    }
   ],
   "source": [
    "mat3.shape"
   ]
  },
  {
   "cell_type": "code",
   "execution_count": 12,
   "id": "f583ea0f-d1a7-494d-b058-3c874b69ebfc",
   "metadata": {},
   "outputs": [
    {
     "data": {
      "text/plain": [
       "3"
      ]
     },
     "execution_count": 12,
     "metadata": {},
     "output_type": "execute_result"
    }
   ],
   "source": [
    "mat3.shape[0]"
   ]
  },
  {
   "cell_type": "code",
   "execution_count": 13,
   "id": "415f5345-cc35-4c82-aa9d-4fba65dc98d9",
   "metadata": {},
   "outputs": [
    {
     "data": {
      "text/plain": [
       "4"
      ]
     },
     "execution_count": 13,
     "metadata": {},
     "output_type": "execute_result"
    }
   ],
   "source": [
    "mat3.shape[1]"
   ]
  },
  {
   "cell_type": "code",
   "execution_count": 14,
   "id": "a730595e-674b-45da-8203-6d9a3e2a4b5e",
   "metadata": {},
   "outputs": [
    {
     "name": "stdout",
     "output_type": "stream",
     "text": [
      "[[ 1  2  3  4]\n",
      " [ 4  5  6  7]\n",
      " [ 7  8  9 10]]\n"
     ]
    }
   ],
   "source": [
    "mat4 = np.matrix('1,2,3,4;4,5,6,7;7,8,9,10')\n",
    "print(mat4)"
   ]
  },
  {
   "cell_type": "code",
   "execution_count": 15,
   "id": "147d2b85-5529-4c81-85d9-0e446ea77e9f",
   "metadata": {},
   "outputs": [
    {
     "data": {
      "text/plain": [
       "12"
      ]
     },
     "execution_count": 15,
     "metadata": {},
     "output_type": "execute_result"
    }
   ],
   "source": [
    "mat4.size\n"
   ]
  },
  {
   "cell_type": "code",
   "execution_count": 25,
   "id": "0e29228d-da57-47d5-9e63-08e950c6367f",
   "metadata": {},
   "outputs": [
    {
     "name": "stdout",
     "output_type": "stream",
     "text": [
      "[[ 1  2  3  4]\n",
      " [ 4  5  6  7]\n",
      " [ 7  8  9 10]]\n"
     ]
    }
   ],
   "source": [
    "mat5 = np.matrix('1, 2, 3, 4; 4, 5, 6, 7; 7, 8, 9, 10')\n",
    "print(mat5)"
   ]
  },
  {
   "cell_type": "code",
   "execution_count": 17,
   "id": "e00975e1-b63d-46e8-98cc-ef2231171d82",
   "metadata": {},
   "outputs": [
    {
     "name": "stdout",
     "output_type": "stream",
     "text": [
      "[[1 1 1]]\n"
     ]
    }
   ],
   "source": [
    "col_new = np.matrix('1,1,1')\n",
    "print(col_new)"
   ]
  },
  {
   "cell_type": "code",
   "execution_count": 18,
   "id": "98a65e79-6fd3-4193-9260-3bef91b87a27",
   "metadata": {},
   "outputs": [
    {
     "name": "stdout",
     "output_type": "stream",
     "text": [
      "[[ 1  1  2  3  4]\n",
      " [ 1  4  5  6  7]\n",
      " [ 1  7  8  9 10]]\n"
     ]
    }
   ],
   "source": [
    "mat6 = np.insert(mat5, 0, col_new, axis=1)\n",
    "#axis = 0 insert as row , axis=1 add like as column\n",
    "print(mat6)"
   ]
  },
  {
   "cell_type": "code",
   "execution_count": 19,
   "id": "60beaf57-dfc9-4c73-84f1-6ad2378d5ff9",
   "metadata": {},
   "outputs": [
    {
     "name": "stdout",
     "output_type": "stream",
     "text": [
      "[[1]\n",
      " [1]\n",
      " [1]]\n"
     ]
    }
   ],
   "source": [
    "col_new_1 = np.array([[1],[1],[1]])\n",
    "print(col_new_1)"
   ]
  },
  {
   "cell_type": "code",
   "execution_count": 20,
   "id": "e50aba9f-1817-48af-a34a-a6391d628fb9",
   "metadata": {},
   "outputs": [
    {
     "name": "stdout",
     "output_type": "stream",
     "text": [
      "[[ 1  1  1  1  2  3  4]\n",
      " [ 1  1  1  4  5  6  7]\n",
      " [ 1  1  1  7  8  9 10]]\n"
     ]
    }
   ],
   "source": [
    "mat6_1 = np.insert(mat5, 0, col_new_1, axis=1)\n",
    "print(mat6_1)"
   ]
  },
  {
   "cell_type": "code",
   "execution_count": 22,
   "id": "46993f81-552c-4872-b4b9-b3cc36f99b1d",
   "metadata": {},
   "outputs": [
    {
     "name": "stdout",
     "output_type": "stream",
     "text": [
      "[[ 1  2  1  3  4]\n",
      " [ 4  5  1  6  7]\n",
      " [ 7  8  1  9 10]]\n"
     ]
    }
   ],
   "source": [
    "mat6_2 = np.insert(mat5,2, col_new, axis=1)\n",
    "print(mat6_2)"
   ]
  },
  {
   "cell_type": "code",
   "execution_count": 72,
   "id": "abebbb99-3cd0-4c75-af5c-6f70f1474320",
   "metadata": {},
   "outputs": [],
   "source": [
    "#mat6_3 = np.insert(mat5, 0, col_new, axis=0)\n",
    "#print(mat6_3)"
   ]
  },
  {
   "cell_type": "code",
   "execution_count": 26,
   "id": "f6680d9b-d45b-4e62-8ac5-48cf7049a3d3",
   "metadata": {},
   "outputs": [
    {
     "name": "stdout",
     "output_type": "stream",
     "text": [
      "[[0 0 0 0]]\n"
     ]
    }
   ],
   "source": [
    "row_new = np.matrix('0, 0, 0, 0')\n",
    "print(row_new)"
   ]
  },
  {
   "cell_type": "code",
   "execution_count": 27,
   "id": "b86fecc4-8c93-4ac4-9a8e-2435f2f73f85",
   "metadata": {},
   "outputs": [
    {
     "name": "stdout",
     "output_type": "stream",
     "text": [
      "[[ 0  0  0  0]\n",
      " [ 1  2  3  4]\n",
      " [ 4  5  6  7]\n",
      " [ 7  8  9 10]]\n"
     ]
    }
   ],
   "source": [
    "mat7 = np.insert(mat5, 0, row_new, axis=0)\n",
    "print(mat7)"
   ]
  },
  {
   "cell_type": "code",
   "execution_count": 30,
   "id": "f73550c4-a636-491d-a3d6-4ea0e881fc41",
   "metadata": {},
   "outputs": [
    {
     "name": "stdout",
     "output_type": "stream",
     "text": [
      "[[ 1  2  3  4  5]\n",
      " [ 5  6  7  8  9]\n",
      " [ 9 10 11 12 13]]\n"
     ]
    }
   ],
   "source": [
    "mat_a = np.matrix('1, 2, 3, 4, 5; 5, 6, 7, 8, 9; 9, 10, 11, 12, 13')\n",
    "print(mat_1)\n"
   ]
  },
  {
   "cell_type": "code",
   "execution_count": 31,
   "id": "01532d13-4bc9-4d18-8345-cebbfec5355d",
   "metadata": {},
   "outputs": [
    {
     "name": "stdout",
     "output_type": "stream",
     "text": [
      "[[ 1  2  3  4  5]\n",
      " [ 5  0  7  8  9]\n",
      " [ 9 10 11 12 13]]\n"
     ]
    }
   ],
   "source": [
    "mat_a[1, 1] = 0\n",
    "print(mat_a)\n"
   ]
  },
  {
   "cell_type": "code",
   "execution_count": 32,
   "id": "c87904cd-e55d-43a3-ab3e-68546b61e055",
   "metadata": {},
   "outputs": [
    {
     "name": "stdout",
     "output_type": "stream",
     "text": [
      "[[ 1  2  3  4  5]\n",
      " [ 5  0 90  8  9]\n",
      " [ 9 10 11 12 13]]\n"
     ]
    }
   ],
   "source": [
    "mat_a[1, 2] = 90\n",
    "print(mat_a)"
   ]
  },
  {
   "cell_type": "code",
   "execution_count": 36,
   "id": "912ebc67-ca40-4234-b758-461637ec56b9",
   "metadata": {},
   "outputs": [
    {
     "data": {
      "text/plain": [
       "matrix([[ 5,  0, 90,  8,  9]])"
      ]
     },
     "execution_count": 36,
     "metadata": {},
     "output_type": "execute_result"
    }
   ],
   "source": [
    "mat_a[1, :]\n"
   ]
  },
  {
   "cell_type": "code",
   "execution_count": 37,
   "id": "445f6c59-b55e-4a3a-a135-c2511486d92e",
   "metadata": {},
   "outputs": [
    {
     "data": {
      "text/plain": [
       "matrix([[ 3],\n",
       "        [90],\n",
       "        [11]])"
      ]
     },
     "execution_count": 37,
     "metadata": {},
     "output_type": "execute_result"
    }
   ],
   "source": [
    "mat_a[:, 2]\n"
   ]
  },
  {
   "cell_type": "code",
   "execution_count": 38,
   "id": "333fc438-975f-4ee6-9b85-87d08598bf16",
   "metadata": {},
   "outputs": [
    {
     "data": {
      "text/plain": [
       "90"
      ]
     },
     "execution_count": 38,
     "metadata": {},
     "output_type": "execute_result"
    }
   ],
   "source": [
    "mat_a[1, 2]"
   ]
  },
  {
   "cell_type": "markdown",
   "id": "262907b4-3d8a-491b-8f8f-6fa4fdfa67be",
   "metadata": {},
   "source": [
    "Matrix Operations"
   ]
  },
  {
   "cell_type": "code",
   "execution_count": 53,
   "id": "21a9e44d-23fa-46d9-a100-8b71aa8ff42c",
   "metadata": {},
   "outputs": [
    {
     "name": "stdout",
     "output_type": "stream",
     "text": [
      "[[ 0  1  2  3]\n",
      " [ 4  5  6  7]\n",
      " [ 8  9 10 11]\n",
      " [12 13 14 15]\n",
      " [16 17 18 19]]\n"
     ]
    }
   ],
   "source": [
    "A = np.arange(0, 20).reshape(5,4)\n",
    "print(A)"
   ]
  },
  {
   "cell_type": "code",
   "execution_count": 54,
   "id": "2b31707b-3d90-42ac-b80a-a48d0689e246",
   "metadata": {},
   "outputs": [
    {
     "name": "stdout",
     "output_type": "stream",
     "text": [
      "[[20 21 22 23]\n",
      " [24 25 26 27]\n",
      " [28 29 30 31]\n",
      " [32 33 34 35]\n",
      " [36 37 38 39]]\n"
     ]
    }
   ],
   "source": [
    "B = np.arange(20, 40).reshape(5,4)\n",
    "print(B)"
   ]
  },
  {
   "cell_type": "code",
   "execution_count": 55,
   "id": "cf7da925-4bae-488f-a048-60b13a5f8c90",
   "metadata": {},
   "outputs": [
    {
     "data": {
      "text/plain": [
       "array([[20, 22, 24, 26],\n",
       "       [28, 30, 32, 34],\n",
       "       [36, 38, 40, 42],\n",
       "       [44, 46, 48, 50],\n",
       "       [52, 54, 56, 58]])"
      ]
     },
     "execution_count": 55,
     "metadata": {},
     "output_type": "execute_result"
    }
   ],
   "source": [
    "np.add(A, B)"
   ]
  },
  {
   "cell_type": "code",
   "execution_count": 56,
   "id": "e4524422-03c2-4901-b70e-0051915eaaa1",
   "metadata": {},
   "outputs": [
    {
     "data": {
      "text/plain": [
       "array([[-20, -20, -20, -20],\n",
       "       [-20, -20, -20, -20],\n",
       "       [-20, -20, -20, -20],\n",
       "       [-20, -20, -20, -20],\n",
       "       [-20, -20, -20, -20]])"
      ]
     },
     "execution_count": 56,
     "metadata": {},
     "output_type": "execute_result"
    }
   ],
   "source": [
    "np.subtract(A, B)\n"
   ]
  },
  {
   "cell_type": "code",
   "execution_count": 57,
   "id": "cdbd8999-436c-47b8-84a5-bd205526b9ce",
   "metadata": {},
   "outputs": [
    {
     "name": "stdout",
     "output_type": "stream",
     "text": [
      "[[ 0  1  2  3]\n",
      " [ 4  5  6  7]\n",
      " [ 8  9 10 11]\n",
      " [12 13 14 15]\n",
      " [16 17 18 19]]\n"
     ]
    }
   ],
   "source": [
    "A_T = np.arange(0, 20).reshape(5,4)\n",
    "print(A_T)"
   ]
  },
  {
   "cell_type": "code",
   "execution_count": 58,
   "id": "c760974a-ac0b-4e24-b616-214f2a7d15ec",
   "metadata": {},
   "outputs": [
    {
     "data": {
      "text/plain": [
       "array([[ 0,  4,  8, 12, 16],\n",
       "       [ 1,  5,  9, 13, 17],\n",
       "       [ 2,  6, 10, 14, 18],\n",
       "       [ 3,  7, 11, 15, 19]])"
      ]
     },
     "execution_count": 58,
     "metadata": {},
     "output_type": "execute_result"
    }
   ],
   "source": [
    "np.transpose(A_T)"
   ]
  },
  {
   "cell_type": "code",
   "execution_count": 63,
   "id": "565677db-13a9-45c6-a3e1-a654f44dfdb2",
   "metadata": {},
   "outputs": [
    {
     "name": "stdout",
     "output_type": "stream",
     "text": [
      "[[ 0  1  2  3]\n",
      " [ 4  5  6  7]\n",
      " [ 8  9 10 11]\n",
      " [12 13 14 15]\n",
      " [16 17 18 19]]\n",
      "[[20 21 22 23]\n",
      " [24 25 26 27]\n",
      " [28 29 30 31]\n",
      " [32 33 34 35]\n",
      " [36 37 38 39]]\n",
      "(5, 4)\n",
      "(5, 4)\n"
     ]
    }
   ],
   "source": [
    "print(A);\n",
    "print(B)\n",
    "print(A.shape)\n",
    "print(B.shape)"
   ]
  },
  {
   "cell_type": "code",
   "execution_count": 64,
   "id": "2b263523-ea8e-463d-bcce-30b7d9391eb5",
   "metadata": {},
   "outputs": [],
   "source": [
    "#np.dot(A, B)"
   ]
  },
  {
   "cell_type": "markdown",
   "id": "3e637226-9da6-4422-bc21-7f3f81267172",
   "metadata": {},
   "source": [
    "#using dot function, needs to make sure columns in matrix A is equal to rows in matrix B"
   ]
  },
  {
   "cell_type": "code",
   "execution_count": 65,
   "id": "dc7ceeb1-2658-460f-aec8-2545cbe32c98",
   "metadata": {},
   "outputs": [
    {
     "name": "stdout",
     "output_type": "stream",
     "text": [
      "[[20 24 28 32 36]\n",
      " [21 25 29 33 37]\n",
      " [22 26 30 34 38]\n",
      " [23 27 31 35 39]]\n"
     ]
    }
   ],
   "source": [
    "T = np.transpose(B)\n",
    "print(T)"
   ]
  },
  {
   "cell_type": "code",
   "execution_count": 66,
   "id": "44f3dc36-d36f-4412-9f0a-7bba6ad28040",
   "metadata": {},
   "outputs": [
    {
     "data": {
      "text/plain": [
       "array([[ 134,  158,  182,  206,  230],\n",
       "       [ 478,  566,  654,  742,  830],\n",
       "       [ 822,  974, 1126, 1278, 1430],\n",
       "       [1166, 1382, 1598, 1814, 2030],\n",
       "       [1510, 1790, 2070, 2350, 2630]])"
      ]
     },
     "execution_count": 66,
     "metadata": {},
     "output_type": "execute_result"
    }
   ],
   "source": [
    "np.dot(A,T)"
   ]
  },
  {
   "cell_type": "code",
   "execution_count": 67,
   "id": "c22c5d24-3577-41d2-811f-a541545aed34",
   "metadata": {},
   "outputs": [
    {
     "data": {
      "text/plain": [
       "array([[ 134,  158,  182,  206,  230],\n",
       "       [ 478,  566,  654,  742,  830],\n",
       "       [ 822,  974, 1126, 1278, 1430],\n",
       "       [1166, 1382, 1598, 1814, 2030],\n",
       "       [1510, 1790, 2070, 2350, 2630]])"
      ]
     },
     "execution_count": 67,
     "metadata": {},
     "output_type": "execute_result"
    }
   ],
   "source": [
    "np.matmul(A, T)"
   ]
  },
  {
   "cell_type": "code",
   "execution_count": 68,
   "id": "33f5880b-a3cf-40c5-bd71-e92778018d54",
   "metadata": {},
   "outputs": [
    {
     "data": {
      "text/plain": [
       "array([[ 134,  158,  182,  206,  230],\n",
       "       [ 478,  566,  654,  742,  830],\n",
       "       [ 822,  974, 1126, 1278, 1430],\n",
       "       [1166, 1382, 1598, 1814, 2030],\n",
       "       [1510, 1790, 2070, 2350, 2630]])"
      ]
     },
     "execution_count": 68,
     "metadata": {},
     "output_type": "execute_result"
    }
   ],
   "source": [
    "A @ T"
   ]
  },
  {
   "cell_type": "code",
   "execution_count": 73,
   "id": "2a9719ea-e14b-45da-aed8-f2ff2766a311",
   "metadata": {},
   "outputs": [
    {
     "data": {
      "text/plain": [
       "array([[  0,  21,  44,  69],\n",
       "       [ 96, 125, 156, 189],\n",
       "       [224, 261, 300, 341],\n",
       "       [384, 429, 476, 525],\n",
       "       [576, 629, 684, 741]])"
      ]
     },
     "execution_count": 73,
     "metadata": {},
     "output_type": "execute_result"
    }
   ],
   "source": [
    "np.multiply(A,B) # element-wise multiplication"
   ]
  },
  {
   "cell_type": "code",
   "execution_count": 71,
   "id": "e0a0468e-1667-4b56-8153-989b4b2962c0",
   "metadata": {},
   "outputs": [
    {
     "data": {
      "text/plain": [
       "array([[0.        , 0.04761905, 0.09090909, 0.13043478],\n",
       "       [0.16666667, 0.2       , 0.23076923, 0.25925926],\n",
       "       [0.28571429, 0.31034483, 0.33333333, 0.35483871],\n",
       "       [0.375     , 0.39393939, 0.41176471, 0.42857143],\n",
       "       [0.44444444, 0.45945946, 0.47368421, 0.48717949]])"
      ]
     },
     "execution_count": 71,
     "metadata": {},
     "output_type": "execute_result"
    }
   ],
   "source": [
    "np.divide(A, B)  # named division, it's actually inverse"
   ]
  },
  {
   "cell_type": "code",
   "execution_count": null,
   "id": "fb064b5c-ffa5-4ab3-b42e-4c3fb983baf3",
   "metadata": {},
   "outputs": [],
   "source": []
  }
 ],
 "metadata": {
  "kernelspec": {
   "display_name": "Python 3 (ipykernel)",
   "language": "python",
   "name": "python3"
  },
  "language_info": {
   "codemirror_mode": {
    "name": "ipython",
    "version": 3
   },
   "file_extension": ".py",
   "mimetype": "text/x-python",
   "name": "python",
   "nbconvert_exporter": "python",
   "pygments_lexer": "ipython3",
   "version": "3.8.13"
  }
 },
 "nbformat": 4,
 "nbformat_minor": 5
}
