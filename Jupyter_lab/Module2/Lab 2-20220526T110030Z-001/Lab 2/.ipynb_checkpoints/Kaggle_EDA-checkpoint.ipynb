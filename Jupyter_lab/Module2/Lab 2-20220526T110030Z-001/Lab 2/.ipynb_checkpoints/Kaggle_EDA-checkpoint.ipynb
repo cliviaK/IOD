{
 "cells": [
  {
   "cell_type": "markdown",
   "id": "2b8f784a-2256-4b17-974d-178b3d1ea229",
   "metadata": {},
   "source": [
    "Kaggle: Intro to Exploratory data analysis (EDA) in Python"
   ]
  },
  {
   "cell_type": "markdown",
   "id": "d5eef8f7-2ea7-4d6e-9d01-08e79ca34623",
   "metadata": {},
   "source": [
    "https://www.kaggle.com/code/imoore/intro-to-exploratory-data-analysis-eda-in-python/data\n"
   ]
  },
  {
   "cell_type": "code",
   "execution_count": 1,
   "id": "54fb1cec-9f46-4aa1-a363-b1e96147e4ab",
   "metadata": {},
   "outputs": [],
   "source": [
    "import pandas as pd\n",
    "import numpy as np\n",
    "import seaborn as sns\n",
    "import matplotlib.pyplot as plt\n",
    "\n",
    "%matplotlib inline\n",
    "sns.set(color_codes=True)"
   ]
  },
  {
   "cell_type": "code",
   "execution_count": 2,
   "id": "1c59e7d1-f2ca-46a6-993f-e8ea47a0bb57",
   "metadata": {},
   "outputs": [
    {
     "data": {
      "text/html": [
       "<div>\n",
       "<style scoped>\n",
       "    .dataframe tbody tr th:only-of-type {\n",
       "        vertical-align: middle;\n",
       "    }\n",
       "\n",
       "    .dataframe tbody tr th {\n",
       "        vertical-align: top;\n",
       "    }\n",
       "\n",
       "    .dataframe thead th {\n",
       "        text-align: right;\n",
       "    }\n",
       "</style>\n",
       "<table border=\"1\" class=\"dataframe\">\n",
       "  <thead>\n",
       "    <tr style=\"text-align: right;\">\n",
       "      <th></th>\n",
       "      <th>Make</th>\n",
       "      <th>Model</th>\n",
       "      <th>Year</th>\n",
       "      <th>Engine Fuel Type</th>\n",
       "      <th>Engine HP</th>\n",
       "      <th>Engine Cylinders</th>\n",
       "      <th>Transmission Type</th>\n",
       "      <th>Driven_Wheels</th>\n",
       "      <th>Number of Doors</th>\n",
       "      <th>Market Category</th>\n",
       "      <th>Vehicle Size</th>\n",
       "      <th>Vehicle Style</th>\n",
       "      <th>highway MPG</th>\n",
       "      <th>city mpg</th>\n",
       "      <th>Popularity</th>\n",
       "      <th>MSRP</th>\n",
       "    </tr>\n",
       "  </thead>\n",
       "  <tbody>\n",
       "    <tr>\n",
       "      <th>0</th>\n",
       "      <td>BMW</td>\n",
       "      <td>1 Series M</td>\n",
       "      <td>2011</td>\n",
       "      <td>premium unleaded (required)</td>\n",
       "      <td>335.0</td>\n",
       "      <td>6.0</td>\n",
       "      <td>MANUAL</td>\n",
       "      <td>rear wheel drive</td>\n",
       "      <td>2.0</td>\n",
       "      <td>Factory Tuner,Luxury,High-Performance</td>\n",
       "      <td>Compact</td>\n",
       "      <td>Coupe</td>\n",
       "      <td>26</td>\n",
       "      <td>19</td>\n",
       "      <td>3916</td>\n",
       "      <td>46135</td>\n",
       "    </tr>\n",
       "    <tr>\n",
       "      <th>1</th>\n",
       "      <td>BMW</td>\n",
       "      <td>1 Series</td>\n",
       "      <td>2011</td>\n",
       "      <td>premium unleaded (required)</td>\n",
       "      <td>300.0</td>\n",
       "      <td>6.0</td>\n",
       "      <td>MANUAL</td>\n",
       "      <td>rear wheel drive</td>\n",
       "      <td>2.0</td>\n",
       "      <td>Luxury,Performance</td>\n",
       "      <td>Compact</td>\n",
       "      <td>Convertible</td>\n",
       "      <td>28</td>\n",
       "      <td>19</td>\n",
       "      <td>3916</td>\n",
       "      <td>40650</td>\n",
       "    </tr>\n",
       "    <tr>\n",
       "      <th>2</th>\n",
       "      <td>BMW</td>\n",
       "      <td>1 Series</td>\n",
       "      <td>2011</td>\n",
       "      <td>premium unleaded (required)</td>\n",
       "      <td>300.0</td>\n",
       "      <td>6.0</td>\n",
       "      <td>MANUAL</td>\n",
       "      <td>rear wheel drive</td>\n",
       "      <td>2.0</td>\n",
       "      <td>Luxury,High-Performance</td>\n",
       "      <td>Compact</td>\n",
       "      <td>Coupe</td>\n",
       "      <td>28</td>\n",
       "      <td>20</td>\n",
       "      <td>3916</td>\n",
       "      <td>36350</td>\n",
       "    </tr>\n",
       "    <tr>\n",
       "      <th>3</th>\n",
       "      <td>BMW</td>\n",
       "      <td>1 Series</td>\n",
       "      <td>2011</td>\n",
       "      <td>premium unleaded (required)</td>\n",
       "      <td>230.0</td>\n",
       "      <td>6.0</td>\n",
       "      <td>MANUAL</td>\n",
       "      <td>rear wheel drive</td>\n",
       "      <td>2.0</td>\n",
       "      <td>Luxury,Performance</td>\n",
       "      <td>Compact</td>\n",
       "      <td>Coupe</td>\n",
       "      <td>28</td>\n",
       "      <td>18</td>\n",
       "      <td>3916</td>\n",
       "      <td>29450</td>\n",
       "    </tr>\n",
       "    <tr>\n",
       "      <th>4</th>\n",
       "      <td>BMW</td>\n",
       "      <td>1 Series</td>\n",
       "      <td>2011</td>\n",
       "      <td>premium unleaded (required)</td>\n",
       "      <td>230.0</td>\n",
       "      <td>6.0</td>\n",
       "      <td>MANUAL</td>\n",
       "      <td>rear wheel drive</td>\n",
       "      <td>2.0</td>\n",
       "      <td>Luxury</td>\n",
       "      <td>Compact</td>\n",
       "      <td>Convertible</td>\n",
       "      <td>28</td>\n",
       "      <td>18</td>\n",
       "      <td>3916</td>\n",
       "      <td>34500</td>\n",
       "    </tr>\n",
       "  </tbody>\n",
       "</table>\n",
       "</div>"
      ],
      "text/plain": [
       "  Make       Model  Year             Engine Fuel Type  Engine HP  \\\n",
       "0  BMW  1 Series M  2011  premium unleaded (required)      335.0   \n",
       "1  BMW    1 Series  2011  premium unleaded (required)      300.0   \n",
       "2  BMW    1 Series  2011  premium unleaded (required)      300.0   \n",
       "3  BMW    1 Series  2011  premium unleaded (required)      230.0   \n",
       "4  BMW    1 Series  2011  premium unleaded (required)      230.0   \n",
       "\n",
       "   Engine Cylinders Transmission Type     Driven_Wheels  Number of Doors  \\\n",
       "0               6.0            MANUAL  rear wheel drive              2.0   \n",
       "1               6.0            MANUAL  rear wheel drive              2.0   \n",
       "2               6.0            MANUAL  rear wheel drive              2.0   \n",
       "3               6.0            MANUAL  rear wheel drive              2.0   \n",
       "4               6.0            MANUAL  rear wheel drive              2.0   \n",
       "\n",
       "                         Market Category Vehicle Size Vehicle Style  \\\n",
       "0  Factory Tuner,Luxury,High-Performance      Compact         Coupe   \n",
       "1                     Luxury,Performance      Compact   Convertible   \n",
       "2                Luxury,High-Performance      Compact         Coupe   \n",
       "3                     Luxury,Performance      Compact         Coupe   \n",
       "4                                 Luxury      Compact   Convertible   \n",
       "\n",
       "   highway MPG  city mpg  Popularity   MSRP  \n",
       "0           26        19        3916  46135  \n",
       "1           28        19        3916  40650  \n",
       "2           28        20        3916  36350  \n",
       "3           28        18        3916  29450  \n",
       "4           28        18        3916  34500  "
      ]
     },
     "execution_count": 2,
     "metadata": {},
     "output_type": "execute_result"
    }
   ],
   "source": [
    "path = r'D:\\IOD\\Data\\data.csv'\n",
    "df = pd.read_csv(path)\n",
    "df.head()"
   ]
  },
  {
   "cell_type": "code",
   "execution_count": 3,
   "id": "5541a847-8e14-40fb-92d7-44b53307d523",
   "metadata": {},
   "outputs": [
    {
     "data": {
      "text/html": [
       "<div>\n",
       "<style scoped>\n",
       "    .dataframe tbody tr th:only-of-type {\n",
       "        vertical-align: middle;\n",
       "    }\n",
       "\n",
       "    .dataframe tbody tr th {\n",
       "        vertical-align: top;\n",
       "    }\n",
       "\n",
       "    .dataframe thead th {\n",
       "        text-align: right;\n",
       "    }\n",
       "</style>\n",
       "<table border=\"1\" class=\"dataframe\">\n",
       "  <thead>\n",
       "    <tr style=\"text-align: right;\">\n",
       "      <th></th>\n",
       "      <th>Year</th>\n",
       "      <th>Engine HP</th>\n",
       "      <th>Engine Cylinders</th>\n",
       "      <th>Number of Doors</th>\n",
       "      <th>highway MPG</th>\n",
       "      <th>city mpg</th>\n",
       "      <th>Popularity</th>\n",
       "      <th>MSRP</th>\n",
       "    </tr>\n",
       "  </thead>\n",
       "  <tbody>\n",
       "    <tr>\n",
       "      <th>count</th>\n",
       "      <td>11914.000000</td>\n",
       "      <td>11845.00000</td>\n",
       "      <td>11884.000000</td>\n",
       "      <td>11908.000000</td>\n",
       "      <td>11914.000000</td>\n",
       "      <td>11914.000000</td>\n",
       "      <td>11914.000000</td>\n",
       "      <td>1.191400e+04</td>\n",
       "    </tr>\n",
       "    <tr>\n",
       "      <th>mean</th>\n",
       "      <td>2010.384338</td>\n",
       "      <td>249.38607</td>\n",
       "      <td>5.628829</td>\n",
       "      <td>3.436093</td>\n",
       "      <td>26.637485</td>\n",
       "      <td>19.733255</td>\n",
       "      <td>1554.911197</td>\n",
       "      <td>4.059474e+04</td>\n",
       "    </tr>\n",
       "    <tr>\n",
       "      <th>std</th>\n",
       "      <td>7.579740</td>\n",
       "      <td>109.19187</td>\n",
       "      <td>1.780559</td>\n",
       "      <td>0.881315</td>\n",
       "      <td>8.863001</td>\n",
       "      <td>8.987798</td>\n",
       "      <td>1441.855347</td>\n",
       "      <td>6.010910e+04</td>\n",
       "    </tr>\n",
       "    <tr>\n",
       "      <th>min</th>\n",
       "      <td>1990.000000</td>\n",
       "      <td>55.00000</td>\n",
       "      <td>0.000000</td>\n",
       "      <td>2.000000</td>\n",
       "      <td>12.000000</td>\n",
       "      <td>7.000000</td>\n",
       "      <td>2.000000</td>\n",
       "      <td>2.000000e+03</td>\n",
       "    </tr>\n",
       "    <tr>\n",
       "      <th>25%</th>\n",
       "      <td>2007.000000</td>\n",
       "      <td>170.00000</td>\n",
       "      <td>4.000000</td>\n",
       "      <td>2.000000</td>\n",
       "      <td>22.000000</td>\n",
       "      <td>16.000000</td>\n",
       "      <td>549.000000</td>\n",
       "      <td>2.100000e+04</td>\n",
       "    </tr>\n",
       "    <tr>\n",
       "      <th>50%</th>\n",
       "      <td>2015.000000</td>\n",
       "      <td>227.00000</td>\n",
       "      <td>6.000000</td>\n",
       "      <td>4.000000</td>\n",
       "      <td>26.000000</td>\n",
       "      <td>18.000000</td>\n",
       "      <td>1385.000000</td>\n",
       "      <td>2.999500e+04</td>\n",
       "    </tr>\n",
       "    <tr>\n",
       "      <th>75%</th>\n",
       "      <td>2016.000000</td>\n",
       "      <td>300.00000</td>\n",
       "      <td>6.000000</td>\n",
       "      <td>4.000000</td>\n",
       "      <td>30.000000</td>\n",
       "      <td>22.000000</td>\n",
       "      <td>2009.000000</td>\n",
       "      <td>4.223125e+04</td>\n",
       "    </tr>\n",
       "    <tr>\n",
       "      <th>max</th>\n",
       "      <td>2017.000000</td>\n",
       "      <td>1001.00000</td>\n",
       "      <td>16.000000</td>\n",
       "      <td>4.000000</td>\n",
       "      <td>354.000000</td>\n",
       "      <td>137.000000</td>\n",
       "      <td>5657.000000</td>\n",
       "      <td>2.065902e+06</td>\n",
       "    </tr>\n",
       "  </tbody>\n",
       "</table>\n",
       "</div>"
      ],
      "text/plain": [
       "               Year    Engine HP  Engine Cylinders  Number of Doors  \\\n",
       "count  11914.000000  11845.00000      11884.000000     11908.000000   \n",
       "mean    2010.384338    249.38607          5.628829         3.436093   \n",
       "std        7.579740    109.19187          1.780559         0.881315   \n",
       "min     1990.000000     55.00000          0.000000         2.000000   \n",
       "25%     2007.000000    170.00000          4.000000         2.000000   \n",
       "50%     2015.000000    227.00000          6.000000         4.000000   \n",
       "75%     2016.000000    300.00000          6.000000         4.000000   \n",
       "max     2017.000000   1001.00000         16.000000         4.000000   \n",
       "\n",
       "        highway MPG      city mpg    Popularity          MSRP  \n",
       "count  11914.000000  11914.000000  11914.000000  1.191400e+04  \n",
       "mean      26.637485     19.733255   1554.911197  4.059474e+04  \n",
       "std        8.863001      8.987798   1441.855347  6.010910e+04  \n",
       "min       12.000000      7.000000      2.000000  2.000000e+03  \n",
       "25%       22.000000     16.000000    549.000000  2.100000e+04  \n",
       "50%       26.000000     18.000000   1385.000000  2.999500e+04  \n",
       "75%       30.000000     22.000000   2009.000000  4.223125e+04  \n",
       "max      354.000000    137.000000   5657.000000  2.065902e+06  "
      ]
     },
     "execution_count": 3,
     "metadata": {},
     "output_type": "execute_result"
    }
   ],
   "source": [
    "df.describe()"
   ]
  },
  {
   "cell_type": "code",
   "execution_count": 4,
   "id": "86819fbf-441c-46a9-8c88-192e9f5506d8",
   "metadata": {},
   "outputs": [
    {
     "data": {
      "text/plain": [
       "Make                  object\n",
       "Model                 object\n",
       "Year                   int64\n",
       "Engine Fuel Type      object\n",
       "Engine HP            float64\n",
       "Engine Cylinders     float64\n",
       "Transmission Type     object\n",
       "Driven_Wheels         object\n",
       "Number of Doors      float64\n",
       "Market Category       object\n",
       "Vehicle Size          object\n",
       "Vehicle Style         object\n",
       "highway MPG            int64\n",
       "city mpg               int64\n",
       "Popularity             int64\n",
       "MSRP                   int64\n",
       "dtype: object"
      ]
     },
     "execution_count": 4,
     "metadata": {},
     "output_type": "execute_result"
    }
   ],
   "source": [
    "df.dtypes"
   ]
  },
  {
   "cell_type": "code",
   "execution_count": 5,
   "id": "4d07d59b-d2eb-4768-b57d-40159b403669",
   "metadata": {},
   "outputs": [
    {
     "data": {
      "text/html": [
       "<div>\n",
       "<style scoped>\n",
       "    .dataframe tbody tr th:only-of-type {\n",
       "        vertical-align: middle;\n",
       "    }\n",
       "\n",
       "    .dataframe tbody tr th {\n",
       "        vertical-align: top;\n",
       "    }\n",
       "\n",
       "    .dataframe thead th {\n",
       "        text-align: right;\n",
       "    }\n",
       "</style>\n",
       "<table border=\"1\" class=\"dataframe\">\n",
       "  <thead>\n",
       "    <tr style=\"text-align: right;\">\n",
       "      <th></th>\n",
       "      <th>Make</th>\n",
       "      <th>Model</th>\n",
       "      <th>Year</th>\n",
       "      <th>Engine Fuel Type</th>\n",
       "      <th>Engine HP</th>\n",
       "      <th>Engine Cylinders</th>\n",
       "      <th>Transmission Type</th>\n",
       "      <th>Driven_Wheels</th>\n",
       "      <th>Market Category</th>\n",
       "      <th>Vehicle Size</th>\n",
       "      <th>Vehicle Style</th>\n",
       "      <th>highway MPG</th>\n",
       "      <th>city mpg</th>\n",
       "      <th>Popularity</th>\n",
       "      <th>MSRP</th>\n",
       "    </tr>\n",
       "  </thead>\n",
       "  <tbody>\n",
       "    <tr>\n",
       "      <th>0</th>\n",
       "      <td>BMW</td>\n",
       "      <td>1 Series M</td>\n",
       "      <td>2011</td>\n",
       "      <td>premium unleaded (required)</td>\n",
       "      <td>335.0</td>\n",
       "      <td>6.0</td>\n",
       "      <td>MANUAL</td>\n",
       "      <td>rear wheel drive</td>\n",
       "      <td>Factory Tuner,Luxury,High-Performance</td>\n",
       "      <td>Compact</td>\n",
       "      <td>Coupe</td>\n",
       "      <td>26</td>\n",
       "      <td>19</td>\n",
       "      <td>3916</td>\n",
       "      <td>46135</td>\n",
       "    </tr>\n",
       "    <tr>\n",
       "      <th>1</th>\n",
       "      <td>BMW</td>\n",
       "      <td>1 Series</td>\n",
       "      <td>2011</td>\n",
       "      <td>premium unleaded (required)</td>\n",
       "      <td>300.0</td>\n",
       "      <td>6.0</td>\n",
       "      <td>MANUAL</td>\n",
       "      <td>rear wheel drive</td>\n",
       "      <td>Luxury,Performance</td>\n",
       "      <td>Compact</td>\n",
       "      <td>Convertible</td>\n",
       "      <td>28</td>\n",
       "      <td>19</td>\n",
       "      <td>3916</td>\n",
       "      <td>40650</td>\n",
       "    </tr>\n",
       "    <tr>\n",
       "      <th>2</th>\n",
       "      <td>BMW</td>\n",
       "      <td>1 Series</td>\n",
       "      <td>2011</td>\n",
       "      <td>premium unleaded (required)</td>\n",
       "      <td>300.0</td>\n",
       "      <td>6.0</td>\n",
       "      <td>MANUAL</td>\n",
       "      <td>rear wheel drive</td>\n",
       "      <td>Luxury,High-Performance</td>\n",
       "      <td>Compact</td>\n",
       "      <td>Coupe</td>\n",
       "      <td>28</td>\n",
       "      <td>20</td>\n",
       "      <td>3916</td>\n",
       "      <td>36350</td>\n",
       "    </tr>\n",
       "    <tr>\n",
       "      <th>3</th>\n",
       "      <td>BMW</td>\n",
       "      <td>1 Series</td>\n",
       "      <td>2011</td>\n",
       "      <td>premium unleaded (required)</td>\n",
       "      <td>230.0</td>\n",
       "      <td>6.0</td>\n",
       "      <td>MANUAL</td>\n",
       "      <td>rear wheel drive</td>\n",
       "      <td>Luxury,Performance</td>\n",
       "      <td>Compact</td>\n",
       "      <td>Coupe</td>\n",
       "      <td>28</td>\n",
       "      <td>18</td>\n",
       "      <td>3916</td>\n",
       "      <td>29450</td>\n",
       "    </tr>\n",
       "    <tr>\n",
       "      <th>4</th>\n",
       "      <td>BMW</td>\n",
       "      <td>1 Series</td>\n",
       "      <td>2011</td>\n",
       "      <td>premium unleaded (required)</td>\n",
       "      <td>230.0</td>\n",
       "      <td>6.0</td>\n",
       "      <td>MANUAL</td>\n",
       "      <td>rear wheel drive</td>\n",
       "      <td>Luxury</td>\n",
       "      <td>Compact</td>\n",
       "      <td>Convertible</td>\n",
       "      <td>28</td>\n",
       "      <td>18</td>\n",
       "      <td>3916</td>\n",
       "      <td>34500</td>\n",
       "    </tr>\n",
       "  </tbody>\n",
       "</table>\n",
       "</div>"
      ],
      "text/plain": [
       "  Make       Model  Year             Engine Fuel Type  Engine HP  \\\n",
       "0  BMW  1 Series M  2011  premium unleaded (required)      335.0   \n",
       "1  BMW    1 Series  2011  premium unleaded (required)      300.0   \n",
       "2  BMW    1 Series  2011  premium unleaded (required)      300.0   \n",
       "3  BMW    1 Series  2011  premium unleaded (required)      230.0   \n",
       "4  BMW    1 Series  2011  premium unleaded (required)      230.0   \n",
       "\n",
       "   Engine Cylinders Transmission Type     Driven_Wheels  \\\n",
       "0               6.0            MANUAL  rear wheel drive   \n",
       "1               6.0            MANUAL  rear wheel drive   \n",
       "2               6.0            MANUAL  rear wheel drive   \n",
       "3               6.0            MANUAL  rear wheel drive   \n",
       "4               6.0            MANUAL  rear wheel drive   \n",
       "\n",
       "                         Market Category Vehicle Size Vehicle Style  \\\n",
       "0  Factory Tuner,Luxury,High-Performance      Compact         Coupe   \n",
       "1                     Luxury,Performance      Compact   Convertible   \n",
       "2                Luxury,High-Performance      Compact         Coupe   \n",
       "3                     Luxury,Performance      Compact         Coupe   \n",
       "4                                 Luxury      Compact   Convertible   \n",
       "\n",
       "   highway MPG  city mpg  Popularity   MSRP  \n",
       "0           26        19        3916  46135  \n",
       "1           28        19        3916  40650  \n",
       "2           28        20        3916  36350  \n",
       "3           28        18        3916  29450  \n",
       "4           28        18        3916  34500  "
      ]
     },
     "execution_count": 5,
     "metadata": {},
     "output_type": "execute_result"
    }
   ],
   "source": [
    "# drop irrelevant columns\n",
    "df = df.drop(['Number of Doors'], axis=1)\n",
    "df.head()\n"
   ]
  },
  {
   "cell_type": "code",
   "execution_count": 6,
   "id": "472718f8-e73d-4194-9e5e-737b524a1637",
   "metadata": {},
   "outputs": [
    {
     "data": {
      "text/html": [
       "<div>\n",
       "<style scoped>\n",
       "    .dataframe tbody tr th:only-of-type {\n",
       "        vertical-align: middle;\n",
       "    }\n",
       "\n",
       "    .dataframe tbody tr th {\n",
       "        vertical-align: top;\n",
       "    }\n",
       "\n",
       "    .dataframe thead th {\n",
       "        text-align: right;\n",
       "    }\n",
       "</style>\n",
       "<table border=\"1\" class=\"dataframe\">\n",
       "  <thead>\n",
       "    <tr style=\"text-align: right;\">\n",
       "      <th></th>\n",
       "      <th>Make</th>\n",
       "      <th>Model</th>\n",
       "      <th>Year</th>\n",
       "      <th>Engine Fuel Type</th>\n",
       "      <th>HP</th>\n",
       "      <th>Cylinders</th>\n",
       "      <th>Transmission</th>\n",
       "      <th>Drive Mode</th>\n",
       "      <th>Market Category</th>\n",
       "      <th>Vehicle Size</th>\n",
       "      <th>Vehicle Style</th>\n",
       "      <th>MPG-H</th>\n",
       "      <th>MPG-C</th>\n",
       "      <th>Popularity</th>\n",
       "      <th>Price</th>\n",
       "    </tr>\n",
       "  </thead>\n",
       "  <tbody>\n",
       "    <tr>\n",
       "      <th>0</th>\n",
       "      <td>BMW</td>\n",
       "      <td>1 Series M</td>\n",
       "      <td>2011</td>\n",
       "      <td>premium unleaded (required)</td>\n",
       "      <td>335.0</td>\n",
       "      <td>6.0</td>\n",
       "      <td>MANUAL</td>\n",
       "      <td>rear wheel drive</td>\n",
       "      <td>Factory Tuner,Luxury,High-Performance</td>\n",
       "      <td>Compact</td>\n",
       "      <td>Coupe</td>\n",
       "      <td>26</td>\n",
       "      <td>19</td>\n",
       "      <td>3916</td>\n",
       "      <td>46135</td>\n",
       "    </tr>\n",
       "    <tr>\n",
       "      <th>1</th>\n",
       "      <td>BMW</td>\n",
       "      <td>1 Series</td>\n",
       "      <td>2011</td>\n",
       "      <td>premium unleaded (required)</td>\n",
       "      <td>300.0</td>\n",
       "      <td>6.0</td>\n",
       "      <td>MANUAL</td>\n",
       "      <td>rear wheel drive</td>\n",
       "      <td>Luxury,Performance</td>\n",
       "      <td>Compact</td>\n",
       "      <td>Convertible</td>\n",
       "      <td>28</td>\n",
       "      <td>19</td>\n",
       "      <td>3916</td>\n",
       "      <td>40650</td>\n",
       "    </tr>\n",
       "    <tr>\n",
       "      <th>2</th>\n",
       "      <td>BMW</td>\n",
       "      <td>1 Series</td>\n",
       "      <td>2011</td>\n",
       "      <td>premium unleaded (required)</td>\n",
       "      <td>300.0</td>\n",
       "      <td>6.0</td>\n",
       "      <td>MANUAL</td>\n",
       "      <td>rear wheel drive</td>\n",
       "      <td>Luxury,High-Performance</td>\n",
       "      <td>Compact</td>\n",
       "      <td>Coupe</td>\n",
       "      <td>28</td>\n",
       "      <td>20</td>\n",
       "      <td>3916</td>\n",
       "      <td>36350</td>\n",
       "    </tr>\n",
       "    <tr>\n",
       "      <th>3</th>\n",
       "      <td>BMW</td>\n",
       "      <td>1 Series</td>\n",
       "      <td>2011</td>\n",
       "      <td>premium unleaded (required)</td>\n",
       "      <td>230.0</td>\n",
       "      <td>6.0</td>\n",
       "      <td>MANUAL</td>\n",
       "      <td>rear wheel drive</td>\n",
       "      <td>Luxury,Performance</td>\n",
       "      <td>Compact</td>\n",
       "      <td>Coupe</td>\n",
       "      <td>28</td>\n",
       "      <td>18</td>\n",
       "      <td>3916</td>\n",
       "      <td>29450</td>\n",
       "    </tr>\n",
       "    <tr>\n",
       "      <th>4</th>\n",
       "      <td>BMW</td>\n",
       "      <td>1 Series</td>\n",
       "      <td>2011</td>\n",
       "      <td>premium unleaded (required)</td>\n",
       "      <td>230.0</td>\n",
       "      <td>6.0</td>\n",
       "      <td>MANUAL</td>\n",
       "      <td>rear wheel drive</td>\n",
       "      <td>Luxury</td>\n",
       "      <td>Compact</td>\n",
       "      <td>Convertible</td>\n",
       "      <td>28</td>\n",
       "      <td>18</td>\n",
       "      <td>3916</td>\n",
       "      <td>34500</td>\n",
       "    </tr>\n",
       "  </tbody>\n",
       "</table>\n",
       "</div>"
      ],
      "text/plain": [
       "  Make       Model  Year             Engine Fuel Type     HP  Cylinders  \\\n",
       "0  BMW  1 Series M  2011  premium unleaded (required)  335.0        6.0   \n",
       "1  BMW    1 Series  2011  premium unleaded (required)  300.0        6.0   \n",
       "2  BMW    1 Series  2011  premium unleaded (required)  300.0        6.0   \n",
       "3  BMW    1 Series  2011  premium unleaded (required)  230.0        6.0   \n",
       "4  BMW    1 Series  2011  premium unleaded (required)  230.0        6.0   \n",
       "\n",
       "  Transmission        Drive Mode                        Market Category  \\\n",
       "0       MANUAL  rear wheel drive  Factory Tuner,Luxury,High-Performance   \n",
       "1       MANUAL  rear wheel drive                     Luxury,Performance   \n",
       "2       MANUAL  rear wheel drive                Luxury,High-Performance   \n",
       "3       MANUAL  rear wheel drive                     Luxury,Performance   \n",
       "4       MANUAL  rear wheel drive                                 Luxury   \n",
       "\n",
       "  Vehicle Size Vehicle Style  MPG-H  MPG-C  Popularity  Price  \n",
       "0      Compact         Coupe     26     19        3916  46135  \n",
       "1      Compact   Convertible     28     19        3916  40650  \n",
       "2      Compact         Coupe     28     20        3916  36350  \n",
       "3      Compact         Coupe     28     18        3916  29450  \n",
       "4      Compact   Convertible     28     18        3916  34500  "
      ]
     },
     "execution_count": 6,
     "metadata": {},
     "output_type": "execute_result"
    }
   ],
   "source": [
    "# rename coumns\n",
    "df = df.rename(columns={'Engine HP':'HP','Engine Cylinders':'Cylinders','Transmission Type':'Transmission', 'Driven_Wheels': 'Drive Mode', 'highway MPG':'MPG-H', 'city mpg':'MPG-C','MSRP':'Price'})\n",
    "df.head()"
   ]
  },
  {
   "cell_type": "code",
   "execution_count": 7,
   "id": "e8e7313f-a1b2-4984-8dca-e2ed7ac69d22",
   "metadata": {},
   "outputs": [
    {
     "data": {
      "text/plain": [
       "(11914, 15)"
      ]
     },
     "execution_count": 7,
     "metadata": {},
     "output_type": "execute_result"
    }
   ],
   "source": [
    "df.shape\n"
   ]
  },
  {
   "cell_type": "code",
   "execution_count": 8,
   "id": "6e65ba12-6ae5-4302-8e61-91b6b22fbe6b",
   "metadata": {},
   "outputs": [
    {
     "name": "stdout",
     "output_type": "stream",
     "text": [
      "(716, 15)\n"
     ]
    }
   ],
   "source": [
    "duplicate_row_df = df[df.duplicated()]\n",
    "print(duplicate_row_df.shape)\n",
    "# how this step identify the duplicate row? why we need to look at the shape of duplicate row"
   ]
  },
  {
   "cell_type": "code",
   "execution_count": 9,
   "id": "6d8ca57a-065e-4712-8c71-bce0153740a5",
   "metadata": {},
   "outputs": [
    {
     "data": {
      "text/plain": [
       "Make                11914\n",
       "Model               11914\n",
       "Year                11914\n",
       "Engine Fuel Type    11911\n",
       "HP                  11845\n",
       "Cylinders           11884\n",
       "Transmission        11914\n",
       "Drive Mode          11914\n",
       "Market Category      8172\n",
       "Vehicle Size        11914\n",
       "Vehicle Style       11914\n",
       "MPG-H               11914\n",
       "MPG-C               11914\n",
       "Popularity          11914\n",
       "Price               11914\n",
       "dtype: int64"
      ]
     },
     "execution_count": 9,
     "metadata": {},
     "output_type": "execute_result"
    }
   ],
   "source": [
    "df.count()"
   ]
  },
  {
   "cell_type": "code",
   "execution_count": 10,
   "id": "0ed82bf0-c2c9-4722-b0b1-49134bb1f0fb",
   "metadata": {},
   "outputs": [
    {
     "data": {
      "text/html": [
       "<div>\n",
       "<style scoped>\n",
       "    .dataframe tbody tr th:only-of-type {\n",
       "        vertical-align: middle;\n",
       "    }\n",
       "\n",
       "    .dataframe tbody tr th {\n",
       "        vertical-align: top;\n",
       "    }\n",
       "\n",
       "    .dataframe thead th {\n",
       "        text-align: right;\n",
       "    }\n",
       "</style>\n",
       "<table border=\"1\" class=\"dataframe\">\n",
       "  <thead>\n",
       "    <tr style=\"text-align: right;\">\n",
       "      <th></th>\n",
       "      <th>Make</th>\n",
       "      <th>Model</th>\n",
       "      <th>Year</th>\n",
       "      <th>Engine Fuel Type</th>\n",
       "      <th>HP</th>\n",
       "      <th>Cylinders</th>\n",
       "      <th>Transmission</th>\n",
       "      <th>Drive Mode</th>\n",
       "      <th>Market Category</th>\n",
       "      <th>Vehicle Size</th>\n",
       "      <th>Vehicle Style</th>\n",
       "      <th>MPG-H</th>\n",
       "      <th>MPG-C</th>\n",
       "      <th>Popularity</th>\n",
       "      <th>Price</th>\n",
       "    </tr>\n",
       "  </thead>\n",
       "  <tbody>\n",
       "    <tr>\n",
       "      <th>0</th>\n",
       "      <td>BMW</td>\n",
       "      <td>1 Series M</td>\n",
       "      <td>2011</td>\n",
       "      <td>premium unleaded (required)</td>\n",
       "      <td>335.0</td>\n",
       "      <td>6.0</td>\n",
       "      <td>MANUAL</td>\n",
       "      <td>rear wheel drive</td>\n",
       "      <td>Factory Tuner,Luxury,High-Performance</td>\n",
       "      <td>Compact</td>\n",
       "      <td>Coupe</td>\n",
       "      <td>26</td>\n",
       "      <td>19</td>\n",
       "      <td>3916</td>\n",
       "      <td>46135</td>\n",
       "    </tr>\n",
       "    <tr>\n",
       "      <th>1</th>\n",
       "      <td>BMW</td>\n",
       "      <td>1 Series</td>\n",
       "      <td>2011</td>\n",
       "      <td>premium unleaded (required)</td>\n",
       "      <td>300.0</td>\n",
       "      <td>6.0</td>\n",
       "      <td>MANUAL</td>\n",
       "      <td>rear wheel drive</td>\n",
       "      <td>Luxury,Performance</td>\n",
       "      <td>Compact</td>\n",
       "      <td>Convertible</td>\n",
       "      <td>28</td>\n",
       "      <td>19</td>\n",
       "      <td>3916</td>\n",
       "      <td>40650</td>\n",
       "    </tr>\n",
       "    <tr>\n",
       "      <th>2</th>\n",
       "      <td>BMW</td>\n",
       "      <td>1 Series</td>\n",
       "      <td>2011</td>\n",
       "      <td>premium unleaded (required)</td>\n",
       "      <td>300.0</td>\n",
       "      <td>6.0</td>\n",
       "      <td>MANUAL</td>\n",
       "      <td>rear wheel drive</td>\n",
       "      <td>Luxury,High-Performance</td>\n",
       "      <td>Compact</td>\n",
       "      <td>Coupe</td>\n",
       "      <td>28</td>\n",
       "      <td>20</td>\n",
       "      <td>3916</td>\n",
       "      <td>36350</td>\n",
       "    </tr>\n",
       "    <tr>\n",
       "      <th>3</th>\n",
       "      <td>BMW</td>\n",
       "      <td>1 Series</td>\n",
       "      <td>2011</td>\n",
       "      <td>premium unleaded (required)</td>\n",
       "      <td>230.0</td>\n",
       "      <td>6.0</td>\n",
       "      <td>MANUAL</td>\n",
       "      <td>rear wheel drive</td>\n",
       "      <td>Luxury,Performance</td>\n",
       "      <td>Compact</td>\n",
       "      <td>Coupe</td>\n",
       "      <td>28</td>\n",
       "      <td>18</td>\n",
       "      <td>3916</td>\n",
       "      <td>29450</td>\n",
       "    </tr>\n",
       "    <tr>\n",
       "      <th>4</th>\n",
       "      <td>BMW</td>\n",
       "      <td>1 Series</td>\n",
       "      <td>2011</td>\n",
       "      <td>premium unleaded (required)</td>\n",
       "      <td>230.0</td>\n",
       "      <td>6.0</td>\n",
       "      <td>MANUAL</td>\n",
       "      <td>rear wheel drive</td>\n",
       "      <td>Luxury</td>\n",
       "      <td>Compact</td>\n",
       "      <td>Convertible</td>\n",
       "      <td>28</td>\n",
       "      <td>18</td>\n",
       "      <td>3916</td>\n",
       "      <td>34500</td>\n",
       "    </tr>\n",
       "  </tbody>\n",
       "</table>\n",
       "</div>"
      ],
      "text/plain": [
       "  Make       Model  Year             Engine Fuel Type     HP  Cylinders  \\\n",
       "0  BMW  1 Series M  2011  premium unleaded (required)  335.0        6.0   \n",
       "1  BMW    1 Series  2011  premium unleaded (required)  300.0        6.0   \n",
       "2  BMW    1 Series  2011  premium unleaded (required)  300.0        6.0   \n",
       "3  BMW    1 Series  2011  premium unleaded (required)  230.0        6.0   \n",
       "4  BMW    1 Series  2011  premium unleaded (required)  230.0        6.0   \n",
       "\n",
       "  Transmission        Drive Mode                        Market Category  \\\n",
       "0       MANUAL  rear wheel drive  Factory Tuner,Luxury,High-Performance   \n",
       "1       MANUAL  rear wheel drive                     Luxury,Performance   \n",
       "2       MANUAL  rear wheel drive                Luxury,High-Performance   \n",
       "3       MANUAL  rear wheel drive                     Luxury,Performance   \n",
       "4       MANUAL  rear wheel drive                                 Luxury   \n",
       "\n",
       "  Vehicle Size Vehicle Style  MPG-H  MPG-C  Popularity  Price  \n",
       "0      Compact         Coupe     26     19        3916  46135  \n",
       "1      Compact   Convertible     28     19        3916  40650  \n",
       "2      Compact         Coupe     28     20        3916  36350  \n",
       "3      Compact         Coupe     28     18        3916  29450  \n",
       "4      Compact   Convertible     28     18        3916  34500  "
      ]
     },
     "execution_count": 10,
     "metadata": {},
     "output_type": "execute_result"
    }
   ],
   "source": [
    "df= df.drop_duplicates()\n",
    "df.head()"
   ]
  },
  {
   "cell_type": "code",
   "execution_count": 11,
   "id": "d046db36-fe3f-45f0-80e5-1306687532e7",
   "metadata": {},
   "outputs": [
    {
     "data": {
      "text/plain": [
       "(11198, 15)"
      ]
     },
     "execution_count": 11,
     "metadata": {},
     "output_type": "execute_result"
    }
   ],
   "source": [
    "df.shape"
   ]
  },
  {
   "cell_type": "code",
   "execution_count": 12,
   "id": "60be7461-82dd-4c23-9187-9db59e4efe2f",
   "metadata": {},
   "outputs": [
    {
     "data": {
      "text/plain": [
       "Make                11198\n",
       "Model               11198\n",
       "Year                11198\n",
       "Engine Fuel Type    11195\n",
       "HP                  11129\n",
       "Cylinders           11168\n",
       "Transmission        11198\n",
       "Drive Mode          11198\n",
       "Market Category      7823\n",
       "Vehicle Size        11198\n",
       "Vehicle Style       11198\n",
       "MPG-H               11198\n",
       "MPG-C               11198\n",
       "Popularity          11198\n",
       "Price               11198\n",
       "dtype: int64"
      ]
     },
     "execution_count": 12,
     "metadata": {},
     "output_type": "execute_result"
    }
   ],
   "source": [
    "df.count()"
   ]
  },
  {
   "cell_type": "code",
   "execution_count": 13,
   "id": "db1a3cd4-f359-42e4-b4c6-25b3081a8b6e",
   "metadata": {},
   "outputs": [
    {
     "name": "stdout",
     "output_type": "stream",
     "text": [
      "Make                   0\n",
      "Model                  0\n",
      "Year                   0\n",
      "Engine Fuel Type       3\n",
      "HP                    69\n",
      "Cylinders             30\n",
      "Transmission           0\n",
      "Drive Mode             0\n",
      "Market Category     3375\n",
      "Vehicle Size           0\n",
      "Vehicle Style          0\n",
      "MPG-H                  0\n",
      "MPG-C                  0\n",
      "Popularity             0\n",
      "Price                  0\n",
      "dtype: int64\n"
     ]
    }
   ],
   "source": [
    "# see above HP & Cylinders have 10856 count, but other columns have 10925 count,so checking:\n",
    "print(df.isnull().sum())"
   ]
  },
  {
   "cell_type": "code",
   "execution_count": 14,
   "id": "f3a7b7e4-54ab-4d0a-a280-5fa2b97b8e8e",
   "metadata": {},
   "outputs": [
    {
     "data": {
      "text/plain": [
       "Make                7736\n",
       "Model               7736\n",
       "Year                7736\n",
       "Engine Fuel Type    7736\n",
       "HP                  7736\n",
       "Cylinders           7736\n",
       "Transmission        7736\n",
       "Drive Mode          7736\n",
       "Market Category     7736\n",
       "Vehicle Size        7736\n",
       "Vehicle Style       7736\n",
       "MPG-H               7736\n",
       "MPG-C               7736\n",
       "Popularity          7736\n",
       "Price               7736\n",
       "dtype: int64"
      ]
     },
     "execution_count": 14,
     "metadata": {},
     "output_type": "execute_result"
    }
   ],
   "source": [
    "df =df.dropna()  # drop missing values\n",
    "df.count()\n"
   ]
  },
  {
   "cell_type": "code",
   "execution_count": 15,
   "id": "06687778-47d9-4586-ad1a-c90e4e2d8ca5",
   "metadata": {},
   "outputs": [
    {
     "name": "stdout",
     "output_type": "stream",
     "text": [
      "Make                0\n",
      "Model               0\n",
      "Year                0\n",
      "Engine Fuel Type    0\n",
      "HP                  0\n",
      "Cylinders           0\n",
      "Transmission        0\n",
      "Drive Mode          0\n",
      "Market Category     0\n",
      "Vehicle Size        0\n",
      "Vehicle Style       0\n",
      "MPG-H               0\n",
      "MPG-C               0\n",
      "Popularity          0\n",
      "Price               0\n",
      "dtype: int64\n"
     ]
    }
   ],
   "source": [
    "print(df.isnull().sum())  # after dropped"
   ]
  },
  {
   "cell_type": "code",
   "execution_count": 16,
   "id": "e7386e07-84b9-4054-8694-8b1c3cece87c",
   "metadata": {},
   "outputs": [
    {
     "data": {
      "text/plain": [
       "<AxesSubplot:xlabel='Price'>"
      ]
     },
     "execution_count": 16,
     "metadata": {},
     "output_type": "execute_result"
    },
    {
     "data": {
      "image/png": "[encoded data removed]",
      "text/plain": [
       "<Figure size 432x288 with 1 Axes>"
      ]
     },
     "metadata": {},
     "output_type": "display_data"
    }
   ],
   "source": [
    "# finding the outliers\n",
    "sns.boxplot(x=df['Price'])\n"
   ]
  },
  {
   "cell_type": "code",
   "execution_count": 17,
   "id": "8dd6d641-ec47-47fb-85ea-41423cc28ee5",
   "metadata": {},
   "outputs": [
    {
     "data": {
      "text/plain": [
       "<AxesSubplot:xlabel='HP'>"
      ]
     },
     "execution_count": 17,
     "metadata": {},
     "output_type": "execute_result"
    },
    {
     "data": {
      "image/png": "[encoded data removed]",
      "text/plain": [
       "<Figure size 432x288 with 1 Axes>"
      ]
     },
     "metadata": {},
     "output_type": "display_data"
    }
   ],
   "source": [
    "sns.boxplot(x=df['HP'])\n"
   ]
  },
  {
   "cell_type": "code",
   "execution_count": 18,
   "id": "3ce418d2-d52f-4912-a07a-c254cf1e3e9e",
   "metadata": {},
   "outputs": [
    {
     "data": {
      "text/plain": [
       "<AxesSubplot:xlabel='Cylinders'>"
      ]
     },
     "execution_count": 18,
     "metadata": {},
     "output_type": "execute_result"
    },
    {
     "data": {
      "image/png": "[encoded data removed]",
      "text/plain": [
       "<Figure size 432x288 with 1 Axes>"
      ]
     },
     "metadata": {},
     "output_type": "display_data"
    }
   ],
   "source": [
    "sns.boxplot(x=df['Cylinders'])"
   ]
  },
  {
   "cell_type": "code",
   "execution_count": 19,
   "id": "d7009c5a-3649-4d11-80f6-796bb8ccc0bd",
   "metadata": {},
   "outputs": [
    {
     "name": "stdout",
     "output_type": "stream",
     "text": [
      "Year              6.0\n",
      "HP              131.0\n",
      "Cylinders         2.0\n",
      "MPG-H             8.0\n",
      "MPG-C             6.0\n",
      "Popularity     1489.0\n",
      "Price         23262.5\n",
      "dtype: float64\n",
      "Year           2010.0\n",
      "HP              194.0\n",
      "Cylinders         4.0\n",
      "MPG-H            22.0\n",
      "MPG-C            16.0\n",
      "Popularity      520.0\n",
      "Price         26225.0\n",
      "Name: 0.25, dtype: float64\n",
      "Year           2016.0\n",
      "HP              325.0\n",
      "Cylinders         6.0\n",
      "MPG-H            30.0\n",
      "MPG-C            22.0\n",
      "Popularity     2009.0\n",
      "Price         49487.5\n",
      "Name: 0.75, dtype: float64\n"
     ]
    }
   ],
   "source": [
    "Q1 = df.quantile(0.25)\n",
    "Q3 = df.quantile(0.75)\n",
    "IQR = Q3 - Q1\n",
    "print(IQR)\n",
    "print(Q1)\n",
    "print(Q3)"
   ]
  },
  {
   "cell_type": "code",
   "execution_count": 20,
   "id": "5e78d43e-b365-47df-8b53-4b9e75ebace5",
   "metadata": {},
   "outputs": [
    {
     "name": "stderr",
     "output_type": "stream",
     "text": [
      "C:\\Users\\Clivia\\AppData\\Local\\Temp\\ipykernel_33456\\3748443646.py:1: FutureWarning: Automatic reindexing on DataFrame vs Series comparisons is deprecated and will raise ValueError in a future version. Do `left, right = left.align(right, axis=1, copy=False)` before e.g. `left == right`\n",
      "  df = df[~((df < (Q1 - 1.5*IQR)) | (df > (Q3 + 1.5 * IQR))).any(axis=1)]\n"
     ]
    },
    {
     "data": {
      "text/plain": [
       "(5622, 15)"
      ]
     },
     "execution_count": 20,
     "metadata": {},
     "output_type": "execute_result"
    }
   ],
   "source": [
    "df = df[~((df < (Q1 - 1.5*IQR)) | (df > (Q3 + 1.5 * IQR))).any(axis=1)]  \n",
    "# be cautious about deleting outliers\n",
    "# TWO CONDITIONS, \"~\" means I don't want these data which meet two below conditions\n",
    "# condition1:df < (Q1 - 1.5*IQR), condition2: df > (Q3 + 1.5 * IQR)\n",
    "df.shape"
   ]
  },
  {
   "cell_type": "code",
   "execution_count": 21,
   "id": "c7921cdc-2b53-4909-b399-d3bb1182518d",
   "metadata": {},
   "outputs": [],
   "source": [
    "#As seen above there were around 1600 rows were outliers. \n",
    "#But you cannot completely remove the outliers \n",
    "#because even after you use the above technique there maybe 1–2 outlier unremoved \n",
    "#but that ok because there were more than 100 outliers. \n",
    "#Something is better than nothing."
   ]
  },
  {
   "cell_type": "markdown",
   "id": "66125707-3ed6-4acc-8d01-5049dd2f3e77",
   "metadata": {},
   "source": [
    "Ploting\n"
   ]
  },
  {
   "cell_type": "code",
   "execution_count": 54,
   "id": "85e77176-5103-4e4d-8b68-c1c3cbe76335",
   "metadata": {},
   "outputs": [
    {
     "data": {
      "text/plain": [
       "Text(0.5, 0, 'Make')"
      ]
     },
     "execution_count": 54,
     "metadata": {},
     "output_type": "execute_result"
    },
    {
     "data": {
      "image/png": "[encoded data removed]",
      "text/plain": [
       "<Figure size 2880x1440 with 1 Axes>"
      ]
     },
     "metadata": {},
     "output_type": "display_data"
    }
   ],
   "source": [
    "largest_40_make =df.Make.value_counts().nlargest(10)\n",
    "largest_40_make.plot(kind='barh', figsize=(40,20))\n",
    "plt.title('Number of cars by make')\n",
    "plt.ylabel('Number of cars')\n",
    "plt.xlabel('Make')"
   ]
  },
  {
   "cell_type": "code",
   "execution_count": 23,
   "id": "d0dfed8b-2d24-4d0d-8b3c-ce028be389f8",
   "metadata": {},
   "outputs": [
    {
     "data": {
      "text/html": [
       "<div>\n",
       "<style scoped>\n",
       "    .dataframe tbody tr th:only-of-type {\n",
       "        vertical-align: middle;\n",
       "    }\n",
       "\n",
       "    .dataframe tbody tr th {\n",
       "        vertical-align: top;\n",
       "    }\n",
       "\n",
       "    .dataframe thead th {\n",
       "        text-align: right;\n",
       "    }\n",
       "</style>\n",
       "<table border=\"1\" class=\"dataframe\">\n",
       "  <thead>\n",
       "    <tr style=\"text-align: right;\">\n",
       "      <th></th>\n",
       "      <th>Year</th>\n",
       "      <th>HP</th>\n",
       "      <th>Cylinders</th>\n",
       "      <th>MPG-H</th>\n",
       "      <th>MPG-C</th>\n",
       "      <th>Popularity</th>\n",
       "      <th>Price</th>\n",
       "    </tr>\n",
       "  </thead>\n",
       "  <tbody>\n",
       "    <tr>\n",
       "      <th>Year</th>\n",
       "      <td>1.000000</td>\n",
       "      <td>0.151051</td>\n",
       "      <td>-0.173957</td>\n",
       "      <td>0.344971</td>\n",
       "      <td>0.320515</td>\n",
       "      <td>0.194030</td>\n",
       "      <td>0.224195</td>\n",
       "    </tr>\n",
       "    <tr>\n",
       "      <th>HP</th>\n",
       "      <td>0.151051</td>\n",
       "      <td>1.000000</td>\n",
       "      <td>0.772090</td>\n",
       "      <td>-0.558102</td>\n",
       "      <td>-0.646821</td>\n",
       "      <td>0.089515</td>\n",
       "      <td>0.757838</td>\n",
       "    </tr>\n",
       "    <tr>\n",
       "      <th>Cylinders</th>\n",
       "      <td>-0.173957</td>\n",
       "      <td>0.772090</td>\n",
       "      <td>1.000000</td>\n",
       "      <td>-0.709868</td>\n",
       "      <td>-0.749259</td>\n",
       "      <td>0.021924</td>\n",
       "      <td>0.518301</td>\n",
       "    </tr>\n",
       "    <tr>\n",
       "      <th>MPG-H</th>\n",
       "      <td>0.344971</td>\n",
       "      <td>-0.558102</td>\n",
       "      <td>-0.709868</td>\n",
       "      <td>1.000000</td>\n",
       "      <td>0.924245</td>\n",
       "      <td>0.109159</td>\n",
       "      <td>-0.308098</td>\n",
       "    </tr>\n",
       "    <tr>\n",
       "      <th>MPG-C</th>\n",
       "      <td>0.320515</td>\n",
       "      <td>-0.646821</td>\n",
       "      <td>-0.749259</td>\n",
       "      <td>0.924245</td>\n",
       "      <td>1.000000</td>\n",
       "      <td>0.062135</td>\n",
       "      <td>-0.381777</td>\n",
       "    </tr>\n",
       "    <tr>\n",
       "      <th>Popularity</th>\n",
       "      <td>0.194030</td>\n",
       "      <td>0.089515</td>\n",
       "      <td>0.021924</td>\n",
       "      <td>0.109159</td>\n",
       "      <td>0.062135</td>\n",
       "      <td>1.000000</td>\n",
       "      <td>0.141315</td>\n",
       "    </tr>\n",
       "    <tr>\n",
       "      <th>Price</th>\n",
       "      <td>0.224195</td>\n",
       "      <td>0.757838</td>\n",
       "      <td>0.518301</td>\n",
       "      <td>-0.308098</td>\n",
       "      <td>-0.381777</td>\n",
       "      <td>0.141315</td>\n",
       "      <td>1.000000</td>\n",
       "    </tr>\n",
       "  </tbody>\n",
       "</table>\n",
       "</div>"
      ],
      "text/plain": [
       "                Year        HP  Cylinders     MPG-H     MPG-C  Popularity  \\\n",
       "Year        1.000000  0.151051  -0.173957  0.344971  0.320515    0.194030   \n",
       "HP          0.151051  1.000000   0.772090 -0.558102 -0.646821    0.089515   \n",
       "Cylinders  -0.173957  0.772090   1.000000 -0.709868 -0.749259    0.021924   \n",
       "MPG-H       0.344971 -0.558102  -0.709868  1.000000  0.924245    0.109159   \n",
       "MPG-C       0.320515 -0.646821  -0.749259  0.924245  1.000000    0.062135   \n",
       "Popularity  0.194030  0.089515   0.021924  0.109159  0.062135    1.000000   \n",
       "Price       0.224195  0.757838   0.518301 -0.308098 -0.381777    0.141315   \n",
       "\n",
       "               Price  \n",
       "Year        0.224195  \n",
       "HP          0.757838  \n",
       "Cylinders   0.518301  \n",
       "MPG-H      -0.308098  \n",
       "MPG-C      -0.381777  \n",
       "Popularity  0.141315  \n",
       "Price       1.000000  "
      ]
     },
     "execution_count": 23,
     "metadata": {},
     "output_type": "execute_result"
    },
    {
     "data": {
      "image/png": "[encoded data removed]",
      "text/plain": [
       "<Figure size 720x360 with 2 Axes>"
      ]
     },
     "metadata": {},
     "output_type": "display_data"
    }
   ],
   "source": [
    "# Heat Maps of correlation\n",
    "plt.figure(figsize=(10,5))\n",
    "c= df.corr()\n",
    "sns.heatmap(c,cmap='BrBG', annot=True)\n",
    "c"
   ]
  },
  {
   "cell_type": "code",
   "execution_count": 24,
   "id": "e61e0de2-b4bd-4992-bf50-7572189ab1b3",
   "metadata": {},
   "outputs": [
    {
     "data": {
      "image/png": "[encoded data removed]",
      "text/plain": [
       "<Figure size 720x432 with 1 Axes>"
      ]
     },
     "metadata": {},
     "output_type": "display_data"
    }
   ],
   "source": [
    "fig, ax = plt.subplots(figsize=(10,6))\n",
    "ax.scatter(df['HP'], df['Price'])\n",
    "ax.set_xlabel('HP')\n",
    "ax.set_ylabel('Price')\n",
    "plt.show()"
   ]
  },
  {
   "cell_type": "code",
   "execution_count": 25,
   "id": "0d679e23-60d6-440f-a475-1bab2130a6cf",
   "metadata": {},
   "outputs": [
    {
     "name": "stdout",
     "output_type": "stream",
     "text": [
      "                 Popularity         Price\n",
      "Model                                    \n",
      "1 Series             3916.0  38276.666667\n",
      "1 Series M           3916.0  46135.000000\n",
      "124 Spider            819.0  26895.000000\n",
      "2                     586.0  15821.666667\n",
      "2 Series             3916.0  41697.058824\n",
      "...                     ...           ...\n",
      "allroad quattro      3105.0  41943.750000\n",
      "iM                    105.0  18830.000000\n",
      "tC                    105.0  21546.428571\n",
      "xA                    105.0  12996.666667\n",
      "xD                    105.0  16683.000000\n",
      "\n",
      "[461 rows x 2 columns]\n",
      "Vehicle Style  Make         \n",
      "2dr Hatchback  Acura             204.0\n",
      "               BMW              3916.0\n",
      "               Chrysler         1013.0\n",
      "               FIAT              819.0\n",
      "               Honda            2202.0\n",
      "                                 ...  \n",
      "Wagon          Mercedes-Benz     617.0\n",
      "               Saab              376.0\n",
      "               Toyota           2031.0\n",
      "               Volkswagen        873.0\n",
      "               Volvo             870.0\n",
      "Name: Popularity, Length: 179, dtype: float64\n",
      "     Vehicle Style           Make  Popularity\n",
      "0    2dr Hatchback          Acura       204.0\n",
      "1    2dr Hatchback            BMW      3916.0\n",
      "2    2dr Hatchback       Chrysler      1013.0\n",
      "3    2dr Hatchback           FIAT       819.0\n",
      "4    2dr Hatchback          Honda      2202.0\n",
      "..             ...            ...         ...\n",
      "174          Wagon  Mercedes-Benz       617.0\n",
      "175          Wagon           Saab       376.0\n",
      "176          Wagon         Toyota      2031.0\n",
      "177          Wagon     Volkswagen       873.0\n",
      "178          Wagon          Volvo       870.0\n",
      "\n",
      "[179 rows x 3 columns]\n"
     ]
    }
   ],
   "source": [
    "#df.groupby(by='Make').Popularity.mean().sort_values()\n",
    "df_1 = df.groupby(['Make']).Popularity.mean()\n",
    "df_1\n",
    "df_2 = df.groupby(['Model'])[['Popularity','Price']].mean()\n",
    "df_2\n",
    "df_3 = df.groupby(['Vehicle Style','Make'])['Popularity'].mean()\n",
    "df_4 = df.groupby(['Vehicle Style','Make'], as_index=False)['Popularity'].mean()\n",
    "print(df_2)\n",
    "print(df_3)\n",
    "print(df_4)\n"
   ]
  },
  {
   "cell_type": "code",
   "execution_count": 26,
   "id": "73f6af0d-a65f-4654-b14e-4eeba11a7173",
   "metadata": {},
   "outputs": [
    {
     "data": {
      "text/plain": [
       "Text(0.5, 0, 'Popularity')"
      ]
     },
     "execution_count": 26,
     "metadata": {},
     "output_type": "execute_result"
    },
    {
     "data": {
      "image/png": "[encoded data removed]",
      "text/plain": [
       "<Figure size 2880x1440 with 1 Axes>"
      ]
     },
     "metadata": {},
     "output_type": "display_data"
    }
   ],
   "source": [
    "\n",
    "df_1.plot(kind='barh', figsize=(40,20))\n",
    "plt.title('Average Porporlarity by Make')\n",
    "plt.ylabel('Make')\n",
    "plt.xlabel('Popularity')"
   ]
  },
  {
   "cell_type": "code",
   "execution_count": 47,
   "id": "ebc440e3-a634-432d-8d36-39cdbfb84f39",
   "metadata": {},
   "outputs": [],
   "source": [
    "df_4 = df[['Vehicle Size','Popularity']]\n",
    "#print(df_4.to_string())   # the popularity is based on the vehicle size????"
   ]
  },
  {
   "cell_type": "code",
   "execution_count": 48,
   "id": "cc3f4d3f-df84-4d2e-8229-130a2056755d",
   "metadata": {},
   "outputs": [
    {
     "data": {
      "text/html": [
       "<div>\n",
       "<style scoped>\n",
       "    .dataframe tbody tr th:only-of-type {\n",
       "        vertical-align: middle;\n",
       "    }\n",
       "\n",
       "    .dataframe tbody tr th {\n",
       "        vertical-align: top;\n",
       "    }\n",
       "\n",
       "    .dataframe thead th {\n",
       "        text-align: right;\n",
       "    }\n",
       "</style>\n",
       "<table border=\"1\" class=\"dataframe\">\n",
       "  <thead>\n",
       "    <tr style=\"text-align: right;\">\n",
       "      <th></th>\n",
       "      <th>Vehicle Size</th>\n",
       "      <th>Make</th>\n",
       "      <th>Model</th>\n",
       "      <th>Price</th>\n",
       "    </tr>\n",
       "  </thead>\n",
       "  <tbody>\n",
       "    <tr>\n",
       "      <th>0</th>\n",
       "      <td>Compact</td>\n",
       "      <td>BMW</td>\n",
       "      <td>1 Series M</td>\n",
       "      <td>46135</td>\n",
       "    </tr>\n",
       "    <tr>\n",
       "      <th>1</th>\n",
       "      <td>Compact</td>\n",
       "      <td>BMW</td>\n",
       "      <td>1 Series</td>\n",
       "      <td>40650</td>\n",
       "    </tr>\n",
       "    <tr>\n",
       "      <th>2</th>\n",
       "      <td>Compact</td>\n",
       "      <td>BMW</td>\n",
       "      <td>1 Series</td>\n",
       "      <td>36350</td>\n",
       "    </tr>\n",
       "    <tr>\n",
       "      <th>3</th>\n",
       "      <td>Compact</td>\n",
       "      <td>BMW</td>\n",
       "      <td>1 Series</td>\n",
       "      <td>29450</td>\n",
       "    </tr>\n",
       "    <tr>\n",
       "      <th>4</th>\n",
       "      <td>Compact</td>\n",
       "      <td>BMW</td>\n",
       "      <td>1 Series</td>\n",
       "      <td>34500</td>\n",
       "    </tr>\n",
       "    <tr>\n",
       "      <th>...</th>\n",
       "      <td>...</td>\n",
       "      <td>...</td>\n",
       "      <td>...</td>\n",
       "      <td>...</td>\n",
       "    </tr>\n",
       "    <tr>\n",
       "      <th>11909</th>\n",
       "      <td>Midsize</td>\n",
       "      <td>Acura</td>\n",
       "      <td>ZDX</td>\n",
       "      <td>46120</td>\n",
       "    </tr>\n",
       "    <tr>\n",
       "      <th>11910</th>\n",
       "      <td>Midsize</td>\n",
       "      <td>Acura</td>\n",
       "      <td>ZDX</td>\n",
       "      <td>56670</td>\n",
       "    </tr>\n",
       "    <tr>\n",
       "      <th>11911</th>\n",
       "      <td>Midsize</td>\n",
       "      <td>Acura</td>\n",
       "      <td>ZDX</td>\n",
       "      <td>50620</td>\n",
       "    </tr>\n",
       "    <tr>\n",
       "      <th>11912</th>\n",
       "      <td>Midsize</td>\n",
       "      <td>Acura</td>\n",
       "      <td>ZDX</td>\n",
       "      <td>50920</td>\n",
       "    </tr>\n",
       "    <tr>\n",
       "      <th>11913</th>\n",
       "      <td>Midsize</td>\n",
       "      <td>Lincoln</td>\n",
       "      <td>Zephyr</td>\n",
       "      <td>28995</td>\n",
       "    </tr>\n",
       "  </tbody>\n",
       "</table>\n",
       "<p>5622 rows × 4 columns</p>\n",
       "</div>"
      ],
      "text/plain": [
       "      Vehicle Size     Make       Model  Price\n",
       "0          Compact      BMW  1 Series M  46135\n",
       "1          Compact      BMW    1 Series  40650\n",
       "2          Compact      BMW    1 Series  36350\n",
       "3          Compact      BMW    1 Series  29450\n",
       "4          Compact      BMW    1 Series  34500\n",
       "...            ...      ...         ...    ...\n",
       "11909      Midsize    Acura         ZDX  46120\n",
       "11910      Midsize    Acura         ZDX  56670\n",
       "11911      Midsize    Acura         ZDX  50620\n",
       "11912      Midsize    Acura         ZDX  50920\n",
       "11913      Midsize  Lincoln      Zephyr  28995\n",
       "\n",
       "[5622 rows x 4 columns]"
      ]
     },
     "execution_count": 48,
     "metadata": {},
     "output_type": "execute_result"
    }
   ],
   "source": [
    "df_5 = df[['Vehicle Size','Make','Model','Price']]\n",
    "df_5"
   ]
  },
  {
   "cell_type": "code",
   "execution_count": 51,
   "id": "1f16e032-a468-400c-a2ae-9ef84a325ac4",
   "metadata": {},
   "outputs": [
    {
     "name": "stdout",
     "output_type": "stream",
     "text": [
      "Vehicle Size\n",
      "Compact    1217.621349\n",
      "Large      1294.797010\n",
      "Midsize    1184.661311\n",
      "Name: Popularity, dtype: float64\n"
     ]
    },
    {
     "data": {
      "image/png": "[encoded data removed]",
      "text/plain": [
       "<Figure size 432x288 with 1 Axes>"
      ]
     },
     "metadata": {},
     "output_type": "display_data"
    }
   ],
   "source": [
    "df_4_1 = df.groupby(['Vehicle Size']).Popularity.mean()\n",
    "df_4_1.plot(kind='bar')\n",
    "print(df_4_1)"
   ]
  },
  {
   "cell_type": "code",
   "execution_count": 181,
   "id": "3827923e-edc9-4a52-8010-cf84024ed96a",
   "metadata": {},
   "outputs": [
    {
     "name": "stdout",
     "output_type": "stream",
     "text": [
      "0         True\n",
      "1         True\n",
      "2         True\n",
      "3         True\n",
      "4         True\n",
      "         ...  \n",
      "11909    False\n",
      "11910    False\n",
      "11911    False\n",
      "11912    False\n",
      "11913    False\n",
      "Name: Make, Length: 5622, dtype: bool\n"
     ]
    },
    {
     "data": {
      "text/html": [
       "<div>\n",
       "<style scoped>\n",
       "    .dataframe tbody tr th:only-of-type {\n",
       "        vertical-align: middle;\n",
       "    }\n",
       "\n",
       "    .dataframe tbody tr th {\n",
       "        vertical-align: top;\n",
       "    }\n",
       "\n",
       "    .dataframe thead th {\n",
       "        text-align: right;\n",
       "    }\n",
       "</style>\n",
       "<table border=\"1\" class=\"dataframe\">\n",
       "  <thead>\n",
       "    <tr style=\"text-align: right;\">\n",
       "      <th></th>\n",
       "      <th>Vehicle Size</th>\n",
       "      <th>Make</th>\n",
       "      <th>Model</th>\n",
       "      <th>Price</th>\n",
       "    </tr>\n",
       "  </thead>\n",
       "  <tbody>\n",
       "    <tr>\n",
       "      <th>0</th>\n",
       "      <td>Compact</td>\n",
       "      <td>BMW</td>\n",
       "      <td>1 Series M</td>\n",
       "      <td>46135</td>\n",
       "    </tr>\n",
       "    <tr>\n",
       "      <th>1</th>\n",
       "      <td>Compact</td>\n",
       "      <td>BMW</td>\n",
       "      <td>1 Series</td>\n",
       "      <td>40650</td>\n",
       "    </tr>\n",
       "    <tr>\n",
       "      <th>2</th>\n",
       "      <td>Compact</td>\n",
       "      <td>BMW</td>\n",
       "      <td>1 Series</td>\n",
       "      <td>36350</td>\n",
       "    </tr>\n",
       "    <tr>\n",
       "      <th>3</th>\n",
       "      <td>Compact</td>\n",
       "      <td>BMW</td>\n",
       "      <td>1 Series</td>\n",
       "      <td>29450</td>\n",
       "    </tr>\n",
       "    <tr>\n",
       "      <th>4</th>\n",
       "      <td>Compact</td>\n",
       "      <td>BMW</td>\n",
       "      <td>1 Series</td>\n",
       "      <td>34500</td>\n",
       "    </tr>\n",
       "    <tr>\n",
       "      <th>...</th>\n",
       "      <td>...</td>\n",
       "      <td>...</td>\n",
       "      <td>...</td>\n",
       "      <td>...</td>\n",
       "    </tr>\n",
       "    <tr>\n",
       "      <th>11898</th>\n",
       "      <td>Compact</td>\n",
       "      <td>BMW</td>\n",
       "      <td>Z4</td>\n",
       "      <td>56950</td>\n",
       "    </tr>\n",
       "    <tr>\n",
       "      <th>11899</th>\n",
       "      <td>Compact</td>\n",
       "      <td>BMW</td>\n",
       "      <td>Z4</td>\n",
       "      <td>65800</td>\n",
       "    </tr>\n",
       "    <tr>\n",
       "      <th>11900</th>\n",
       "      <td>Compact</td>\n",
       "      <td>BMW</td>\n",
       "      <td>Z4</td>\n",
       "      <td>57500</td>\n",
       "    </tr>\n",
       "    <tr>\n",
       "      <th>11901</th>\n",
       "      <td>Compact</td>\n",
       "      <td>BMW</td>\n",
       "      <td>Z4</td>\n",
       "      <td>49700</td>\n",
       "    </tr>\n",
       "    <tr>\n",
       "      <th>11902</th>\n",
       "      <td>Compact</td>\n",
       "      <td>BMW</td>\n",
       "      <td>Z4</td>\n",
       "      <td>66350</td>\n",
       "    </tr>\n",
       "  </tbody>\n",
       "</table>\n",
       "<p>679 rows × 4 columns</p>\n",
       "</div>"
      ],
      "text/plain": [
       "      Vehicle Size Make       Model  Price\n",
       "0          Compact  BMW  1 Series M  46135\n",
       "1          Compact  BMW    1 Series  40650\n",
       "2          Compact  BMW    1 Series  36350\n",
       "3          Compact  BMW    1 Series  29450\n",
       "4          Compact  BMW    1 Series  34500\n",
       "...            ...  ...         ...    ...\n",
       "11898      Compact  BMW          Z4  56950\n",
       "11899      Compact  BMW          Z4  65800\n",
       "11900      Compact  BMW          Z4  57500\n",
       "11901      Compact  BMW          Z4  49700\n",
       "11902      Compact  BMW          Z4  66350\n",
       "\n",
       "[679 rows x 4 columns]"
      ]
     },
     "execution_count": 181,
     "metadata": {},
     "output_type": "execute_result"
    }
   ],
   "source": [
    "pd.set_option('expand_frame_repr', False)\n",
    "Top_3_popular_make = ['Audi','BMW','Honda']\n",
    "df_5_filter = df_5['Make'].isin(Top_3_popular_make)\n",
    "print(df_5_filter)\n",
    "df_5_1= df_5.loc[df_5_filter]\n",
    "df_5_1\n",
    "#df_5_1 = df.groupby(['Vehicle Size','Make']).Price.mean()\n",
    "#df_5_1.plot(kind='bar')\n",
    "#print(df_5_1)"
   ]
  },
  {
   "cell_type": "code",
   "execution_count": 179,
   "id": "d2665b49-461e-4801-b0d6-8707da76acfa",
   "metadata": {},
   "outputs": [
    {
     "name": "stdout",
     "output_type": "stream",
     "text": [
      "['BMW', 'Audi', 'Honda', 'Toyota', 'Nissan']\n",
      "<bound method NDFrame.describe of       Vehicle Size Make       Model  Price\n",
      "0          Compact  BMW  1 Series M  46135\n",
      "1          Compact  BMW    1 Series  40650\n",
      "2          Compact  BMW    1 Series  36350\n",
      "3          Compact  BMW    1 Series  29450\n",
      "4          Compact  BMW    1 Series  34500\n",
      "...            ...  ...         ...    ...\n",
      "11898      Compact  BMW          Z4  56950\n",
      "11899      Compact  BMW          Z4  65800\n",
      "11900      Compact  BMW          Z4  57500\n",
      "11901      Compact  BMW          Z4  49700\n",
      "11902      Compact  BMW          Z4  66350\n",
      "\n",
      "[1161 rows x 4 columns]>\n"
     ]
    }
   ],
   "source": [
    "df_1 = df.groupby(['Make']).Popularity.mean()\n",
    "pd.set_option('expand_frame_repr', False)\n",
    "#print(df_1)\n",
    "#df_1.nlargest(5).index\n",
    "#pd.DataFrame(df_1)\n",
    "df_1_2= df_1.reset_index(name='Popular')\n",
    "#print(df_1_2)\n",
    "Top_5_popular_make_list= df_1_2.nlargest(5,'Popular').Make.tolist()\n",
    "print(Top_5_popular_make_list)\n",
    "df_6_filter = df_5['Make'].isin(Top_5_popular_make_list)\n",
    "df_6_1= df_5.loc[df_6_filter]\n",
    "print(df_6_1.describe)"
   ]
  },
  {
   "cell_type": "code",
   "execution_count": 174,
   "id": "4a5b2b2a-6c38-4c82-8a22-de68fb8c6381",
   "metadata": {},
   "outputs": [
    {
     "name": "stdout",
     "output_type": "stream",
     "text": [
      "  Vehicle Size   Make     Price\n",
      "0      Compact   Audi  41810.80\n",
      "1      Compact    BMW  43675.08\n",
      "2      Compact  Honda  24814.19\n",
      "3        Large   Audi  66185.48\n",
      "4        Large    BMW  67979.55\n",
      "5      Midsize   Audi  50620.90\n",
      "6      Midsize    BMW  51203.49\n",
      "7      Midsize  Honda  34680.32\n"
     ]
    },
    {
     "data": {
      "text/plain": [
       "<AxesSubplot:ylabel='Make'>"
      ]
     },
     "execution_count": 174,
     "metadata": {},
     "output_type": "execute_result"
    },
    {
     "data": {
      "image/png": "[encoded data removed]",
      "text/plain": [
       "<Figure size 432x288 with 1 Axes>"
      ]
     },
     "metadata": {},
     "output_type": "display_data"
    }
   ],
   "source": [
    "df_large_Vechile_Size = df_5_1.groupby(['Vehicle Size','Make'], as_index=False)['Price'].mean().round(2)\n",
    "print(df_large_Vechile_Size.to_string())\n",
    "df_large_Vechile_Size.plot(kind='barh',x='Make')\n"
   ]
  },
  {
   "cell_type": "code",
   "execution_count": 170,
   "id": "c7eaa496-286e-49c2-be8b-8545012f1e5d",
   "metadata": {},
   "outputs": [
    {
     "data": {
      "text/html": [
       "<div>\n",
       "<style scoped>\n",
       "    .dataframe tbody tr th:only-of-type {\n",
       "        vertical-align: middle;\n",
       "    }\n",
       "\n",
       "    .dataframe tbody tr th {\n",
       "        vertical-align: top;\n",
       "    }\n",
       "\n",
       "    .dataframe thead tr th {\n",
       "        text-align: left;\n",
       "    }\n",
       "\n",
       "    .dataframe thead tr:last-of-type th {\n",
       "        text-align: right;\n",
       "    }\n",
       "</style>\n",
       "<table border=\"1\" class=\"dataframe\">\n",
       "  <thead>\n",
       "    <tr>\n",
       "      <th></th>\n",
       "      <th colspan=\"3\" halign=\"left\">Price</th>\n",
       "    </tr>\n",
       "    <tr>\n",
       "      <th>Make</th>\n",
       "      <th>Audi</th>\n",
       "      <th>BMW</th>\n",
       "      <th>Honda</th>\n",
       "    </tr>\n",
       "    <tr>\n",
       "      <th>Vehicle Size</th>\n",
       "      <th></th>\n",
       "      <th></th>\n",
       "      <th></th>\n",
       "    </tr>\n",
       "  </thead>\n",
       "  <tbody>\n",
       "    <tr>\n",
       "      <th>Compact</th>\n",
       "      <td>41810.80</td>\n",
       "      <td>43675.08</td>\n",
       "      <td>24814.19</td>\n",
       "    </tr>\n",
       "    <tr>\n",
       "      <th>Large</th>\n",
       "      <td>66185.48</td>\n",
       "      <td>67979.55</td>\n",
       "      <td>NaN</td>\n",
       "    </tr>\n",
       "    <tr>\n",
       "      <th>Midsize</th>\n",
       "      <td>50620.90</td>\n",
       "      <td>51203.49</td>\n",
       "      <td>34680.32</td>\n",
       "    </tr>\n",
       "  </tbody>\n",
       "</table>\n",
       "</div>"
      ],
      "text/plain": [
       "                 Price                    \n",
       "Make              Audi       BMW     Honda\n",
       "Vehicle Size                              \n",
       "Compact       41810.80  43675.08  24814.19\n",
       "Large         66185.48  67979.55       NaN\n",
       "Midsize       50620.90  51203.49  34680.32"
      ]
     },
     "execution_count": 170,
     "metadata": {},
     "output_type": "execute_result"
    }
   ],
   "source": [
    "df_large_Vechile_Size.pivot_table(index='Vehicle Size',columns='Make')"
   ]
  },
  {
   "cell_type": "code",
   "execution_count": 171,
   "id": "bc2b77ee-1fa9-4f2d-aa88-827f4cf259f2",
   "metadata": {},
   "outputs": [
    {
     "data": {
      "text/plain": [
       "<AxesSubplot:ylabel='Vehicle Size'>"
      ]
     },
     "execution_count": 171,
     "metadata": {},
     "output_type": "execute_result"
    },
    {
     "data": {
      "image/png": "[encoded data removed]",
      "text/plain": [
       "<Figure size 432x288 with 1 Axes>"
      ]
     },
     "metadata": {},
     "output_type": "display_data"
    }
   ],
   "source": [
    "df_large_Vechile_Size.pivot_table(index='Vehicle Size',columns='Make').plot(kind='barh',y='Price')"
   ]
  },
  {
   "cell_type": "code",
   "execution_count": 172,
   "id": "4b4a6355-44c8-40eb-acc2-171c9125d22f",
   "metadata": {},
   "outputs": [],
   "source": [
    "#Conclusion? Honda's Compact car price can be higher"
   ]
  },
  {
   "cell_type": "code",
   "execution_count": 180,
   "id": "3b26c75a-80c8-4d1d-8211-099b6d9520e7",
   "metadata": {},
   "outputs": [
    {
     "name": "stdout",
     "output_type": "stream",
     "text": [
      "   Vehicle Size    Make     Price\n",
      "0       Compact    Audi  41810.80\n",
      "1       Compact     BMW  43675.08\n",
      "2       Compact   Honda  24814.19\n",
      "3       Compact  Nissan  33095.34\n",
      "4       Compact  Toyota  19771.53\n",
      "5         Large    Audi  66185.48\n",
      "6         Large     BMW  67979.55\n",
      "7         Large  Nissan  36585.33\n",
      "8         Large  Toyota  40793.17\n",
      "9       Midsize    Audi  50620.90\n",
      "10      Midsize     BMW  51203.49\n",
      "11      Midsize   Honda  34680.32\n",
      "12      Midsize  Nissan  32292.01\n",
      "13      Midsize  Toyota  35946.90\n"
     ]
    },
    {
     "data": {
      "text/plain": [
       "<AxesSubplot:ylabel='Vehicle Size'>"
      ]
     },
     "execution_count": 180,
     "metadata": {},
     "output_type": "execute_result"
    },
    {
     "data": {
      "image/png": "[encoded data removed]",
      "text/plain": [
       "<Figure size 432x288 with 1 Axes>"
      ]
     },
     "metadata": {},
     "output_type": "display_data"
    }
   ],
   "source": [
    "df_large_Vechile_Size_5popular = df_6_1.groupby(['Vehicle Size','Make'], as_index=False)['Price'].mean().round(2)\n",
    "print(df_large_Vechile_Size_5popular.to_string())\n",
    "df_large_Vechile_Size_5popular.pivot_table(index='Vehicle Size',columns='Make').plot(kind='barh',y='Price')"
   ]
  },
  {
   "cell_type": "code",
   "execution_count": null,
   "id": "4bbef3bd-7c3b-46c3-b4a7-c05d9e5072d7",
   "metadata": {},
   "outputs": [],
   "source": [
    "#Conclusion? Nissan's Compact car price is relatively higher than other make"
   ]
  },
  {
   "cell_type": "code",
   "execution_count": null,
   "id": "69afa606-d4e5-4fd1-b515-5859fd6e0215",
   "metadata": {},
   "outputs": [],
   "source": []
  }
 ],
 "metadata": {
  "kernelspec": {
   "display_name": "Python 3 (ipykernel)",
   "language": "python",
   "name": "python3"
  },
  "language_info": {
   "codemirror_mode": {
    "name": "ipython",
    "version": 3
   },
   "file_extension": ".py",
   "mimetype": "text/x-python",
   "name": "python",
   "nbconvert_exporter": "python",
   "pygments_lexer": "ipython3",
   "version": "3.8.13"
  }
 },
 "nbformat": 4,
 "nbformat_minor": 5
}
