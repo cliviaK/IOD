{
 "cells": [
  {
   "cell_type": "markdown",
   "metadata": {
    "id": "O4slJmP6lJPO"
   },
   "source": [
    "<div>\n",
    "<img src=https://www.institutedata.com/wp-content/uploads/2019/10/iod_h_tp_primary_c.svg width=\"300\">\n",
    "</div>"
   ]
  },
  {
   "cell_type": "markdown",
   "metadata": {
    "id": "YgGme6aRlJPT"
   },
   "source": [
    "# Lab 3.1.3: \n",
    "# *Database Programming with Python and SQLite*"
   ]
  },
  {
   "cell_type": "markdown",
   "metadata": {
    "id": "qv6NIGfOlJPW"
   },
   "source": [
    "<a name=\"demo\"></a>\n",
    "## Using SQLite\n",
    "\n",
    "### Advantages of SQLite\n",
    "\n",
    "- does not run on a separate server\n",
    "- creates portable SQL databases saved in a single file\n",
    "- databases are stored in a very efficient manner and allow fast querying\n",
    "- ideal for small databases or databases that need to be copied across machines.\n",
    "- prototyping applications (e.g. as an embedded database server in a Python program).\n",
    "\n"
   ]
  },
  {
   "cell_type": "markdown",
   "metadata": {
    "id": "IHIaKfRelJPc"
   },
   "source": [
    "### The `sqlite3` Command Line Utility\n",
    "\n",
    "- useful for basic SQL tasks and databse maintenance\n",
    "- for creating and dropping databases, it may be safer to use the command line than to roll the code into a Python program"
   ]
  },
  {
   "cell_type": "markdown",
   "metadata": {
    "id": "adOx7ovjlJPf"
   },
   "source": [
    "1. Add the sqlite3 installation folder to your PATH environment variable.\n",
    "2. Open a command window.\n",
    "3. Navigate to your preferred working directory.\n",
    "4. Start the sqlite3 command line utility and create a database called \"ex1\":\n",
    "\n",
    "`$ sqlite3 ex1`\n",
    "\n",
    "Output:  \n",
    "\n",
    "`SQLite version 3.8.5 2014-05-29 12:36:14\n",
    "Enter \".help\" for usage hints.\n",
    "sqlite>`\n",
    "\n",
    "*Nb. If you leave out the database name (after `sqlite3`, above) a new, temporary database will be created; it will be destroyed upon exiting sqlite3.*  \n"
   ]
  },
  {
   "cell_type": "markdown",
   "metadata": {
    "id": "nuPeNybYlJPj"
   },
   "source": [
    "Enter the following commands at the sqlite prompt (not shown):\n",
    "\n",
    "`create table tbl1(one varchar(10), two smallint);\n",
    "insert into tbl1 values('hello!',10);\n",
    "insert into tbl1 values('goodbye', 20);\n",
    "select * from tbl1;`\n",
    "\n",
    "Output:  \n",
    "\n",
    "`hello!|10\n",
    "goodbye|20`"
   ]
  },
  {
   "cell_type": "markdown",
   "metadata": {
    "id": "G7c-GNh_lJPl"
   },
   "source": [
    "Enter `.help` at the sqlite3 command prompt. This lists the available \"dot commands\". \n",
    "\n",
    "Some of the more useful dot commands include:\n",
    "\n",
    "`  \n",
    ".backup ?DB? FILE      Backup DB (default \"main\") to FILE.\n",
    ".cd DIRECTORY          Change the working directory to DIRECTORY\n",
    ".clone NEWDB           Clone data into NEWDB from the existing database\n",
    ".databases             List names and files of attached databases\n",
    ".dump ?TABLE? ...      Dump the database in an SQL text format.\n",
    ".excel                 Display the output of next command in a spreadsheet\n",
    ".exit                  Exit this program\n",
    ".headers on|off        Turn display of headers on or off\n",
    ".help                  Show this message\n",
    ".import FILE TABLE     Import data from FILE into TABLE\n",
    ".indexes ?TABLE?       Show names of all indexes.\n",
    ".quit                  Exit this program\n",
    ".read FILENAME         Execute SQL in FILENAME\n",
    ".restore ?DB? FILE     Restore content of DB (default \"main\") from FILE\n",
    ".save FILE             Write in-memory database into FILE\n",
    ".tables ?TABLE?        List names of tables.`\n"
   ]
  },
  {
   "cell_type": "markdown",
   "metadata": {
    "id": "UGuSmoHMlJPn"
   },
   "source": [
    "### The `sqlite3` package\n",
    "\n",
    "The easiest way to incorporate an SQL database into a Python application is by using the `sqlite3` package for [`Python 2.7`](https://docs.python.org/2.7/library/sqlite3.html) or [`Python 3.x`](https://docs.python.org/3/library/sqlite3.html).\n",
    "\n",
    "Open a connection to an SQLite database file.  As before, if the file does not already exist it will automatically be created."
   ]
  },
  {
   "cell_type": "code",
   "execution_count": 4,
   "metadata": {
    "ExecuteTime": {
     "end_time": "2019-03-21T02:45:26.790620Z",
     "start_time": "2019-03-21T02:45:26.783638Z"
    },
    "id": "kDA5eAPilJPo"
   },
   "outputs": [],
   "source": [
    "import sqlite3\n",
    "sqlite_db = 'test_db.sqlite'\n",
    "conn = sqlite3.connect(sqlite_db) \n",
    "c = conn.cursor()"
   ]
  },
  {
   "cell_type": "markdown",
   "metadata": {
    "id": "SbbON3DXlJPt"
   },
   "source": [
    "Commands can be executed by passing them as string arguments to the `execute` method of the cursor we just created for this database."
   ]
  },
  {
   "cell_type": "markdown",
   "metadata": {
    "id": "9YezTIZxlJPu"
   },
   "source": [
    "*Nb. If this script has never been run before, the following will raise an (inconsequential) error message:*"
   ]
  },
  {
   "cell_type": "code",
   "execution_count": 29,
   "metadata": {
    "ExecuteTime": {
     "end_time": "2019-03-21T02:53:18.454636Z",
     "start_time": "2019-03-21T02:53:18.434692Z"
    },
    "id": "vf0t6T2mlJPw"
   },
   "outputs": [],
   "source": [
    "c.execute('DROP TABLE houses;')\n",
    "\n",
    "# Save (commit) the changes:\n",
    "conn.commit()"
   ]
  },
  {
   "cell_type": "code",
   "execution_count": 30,
   "metadata": {
    "ExecuteTime": {
     "end_time": "2019-03-21T02:53:29.356866Z",
     "start_time": "2019-03-21T02:53:29.332924Z"
    },
    "id": "jSfkJrVWlJPz"
   },
   "outputs": [],
   "source": [
    "c.execute('CREATE TABLE houses (field1 INTEGER PRIMARY KEY, sqft INTEGER, bdrms INTEGER, age INTEGER, price INTEGER);')\n",
    "conn.commit()"
   ]
  },
  {
   "cell_type": "markdown",
   "metadata": {
    "id": "_BWciGvRlJP3"
   },
   "source": [
    "With the database saved the table should now be viewable using SQLite Manager.\n",
    "\n",
    "#### Adding data\n",
    "\n",
    "Since we're back in python, we can now use regular programming techniques in conjunction with the sqlite connection.  In particular, the cursor's `execute()` method supports value substitution using the `?` character, which makes adding multiple records a bit easier.  See the [docs](https://docs.python.org/2.7/library/sqlite3.html) for more details.\n",
    "\n",
    "> c.execute(sql_command, values)"
   ]
  },
  {
   "cell_type": "code",
   "execution_count": 32,
   "metadata": {
    "ExecuteTime": {
     "end_time": "2019-03-21T02:53:32.085517Z",
     "start_time": "2019-03-21T02:53:32.065541Z"
    },
    "id": "EFU0wSP1lJP4"
   },
   "outputs": [],
   "source": [
    "# A\n",
    "last_sale = (None, 4000, 5, 22, 619000)\n",
    "\n",
    "# Execute Command\n",
    "c.execute('INSERT INTO houses VALUES(?,?,?,?,?)',last_sale)\n",
    "# Remember to commit the changes\n",
    "conn.commit()"
   ]
  },
  {
   "cell_type": "markdown",
   "metadata": {
    "id": "t7h9HnjDlJP7"
   },
   "source": [
    "Notice that in this syntax we use the python `None` value, rather than `NULL`, to trigger SQLite to auto-increment the Primary Key. \n",
    "\n",
    "There is a related cursor method `executemany()` which takes an array of tuples and loops through them, substituting one tuple at a time.\n",
    "\n",
    "> c.executemany(sql_command, values)"
   ]
  },
  {
   "cell_type": "code",
   "execution_count": 34,
   "metadata": {
    "ExecuteTime": {
     "end_time": "2019-03-21T02:53:39.925817Z",
     "start_time": "2019-03-21T02:53:39.899884Z"
    },
    "id": "MA2Xia7IlJP8"
   },
   "outputs": [],
   "source": [
    "# A\n",
    "recent_sales = [\n",
    "  (None, 2390, 4, 34, 319000),\n",
    "  (None, 1870, 3, 14, 289000),\n",
    "  (None, 1505, 3, 90, 269000),\n",
    "]\n",
    "\n",
    "# Nb. The \"?\" parameters are placeholders for data that will map to the table columns during insertion;\n",
    "# this is a security measure against SQL injection attacks:\n",
    "# \n",
    "c.executemany('INSERT INTO houses VALUES(?,?,?,?,?)',recent_sales)\n",
    "conn.commit()"
   ]
  },
  {
   "cell_type": "markdown",
   "metadata": {
    "id": "4re-XRYUlAj7"
   },
   "source": [
    "Select all rows from houses"
   ]
  },
  {
   "cell_type": "code",
   "execution_count": 35,
   "metadata": {
    "ExecuteTime": {
     "end_time": "2019-03-21T02:53:42.873911Z",
     "start_time": "2019-03-21T02:53:42.860919Z"
    },
    "id": "aQPGUlLZlJP-"
   },
   "outputs": [
    {
     "data": {
      "text/plain": [
       "[(1, 4000, 5, 22, 619000),\n",
       " (2, 2390, 4, 34, 319000),\n",
       " (3, 1870, 3, 14, 289000),\n",
       " (4, 1505, 3, 90, 269000)]"
      ]
     },
     "execution_count": 35,
     "metadata": {},
     "output_type": "execute_result"
    }
   ],
   "source": [
    "# A\n",
    "results = c.execute(\"SELECT * FROM houses\")\n",
    "results.fetchall()"
   ]
  },
  {
   "cell_type": "markdown",
   "metadata": {
    "id": "Rua_QrCClJQF"
   },
   "source": [
    "\n",
    "\n",
    "\n",
    "#### Adding data from a csv file\n",
    "One way to populate the database from a file is to use `numpy.genfromtxt` to read the file into an array (converted to a list for easier handling), and then `INSERT` those records into the database.  The `genfromtxt` function has options including the output data type, handling of missing values, skipping of header and footer rows, columns to read, and more. "
   ]
  },
  {
   "cell_type": "markdown",
   "metadata": {},
   "source": [
    "import pandas as pd\n",
    "data_csv = r'D:\\IOD\\Data\\Datasets 2\\housing-data.csv'\n",
    "data = pd.read_csv(data_csv)\n",
    "data.head(5)"
   ]
  },
  {
   "cell_type": "code",
   "execution_count": 61,
   "metadata": {
    "ExecuteTime": {
     "end_time": "2019-03-21T03:00:15.086181Z",
     "start_time": "2019-03-21T03:00:15.078202Z"
    },
    "collapsed": true,
    "id": "DbzyW9LclJQG",
    "jupyter": {
     "outputs_hidden": true
    },
    "tags": []
   },
   "outputs": [
    {
     "data": {
      "text/plain": [
       "[[2104, 3, 70, 399900],\n",
       " [1600, 3, 28, 329900],\n",
       " [2400, 3, 44, 369000],\n",
       " [1416, 2, 49, 232000],\n",
       " [3000, 4, 75, 539900],\n",
       " [1985, 4, 61, 299900],\n",
       " [1534, 3, 12, 314900],\n",
       " [1427, 3, 57, 198999],\n",
       " [1380, 3, 14, 212000],\n",
       " [1494, 3, 15, 242500],\n",
       " [1940, 4, 7, 239999],\n",
       " [2000, 3, 27, 347000],\n",
       " [1890, 3, 45, 329999],\n",
       " [4478, 5, 49, 699900],\n",
       " [1268, 3, 58, 259900],\n",
       " [2300, 4, 77, 449900],\n",
       " [1320, 2, 62, 299900],\n",
       " [1236, 3, 78, 199900],\n",
       " [2609, 4, 5, 499998],\n",
       " [3031, 4, 21, 599000],\n",
       " [1767, 3, 44, 252900],\n",
       " [1888, 2, 79, 255000],\n",
       " [1604, 3, 13, 242900],\n",
       " [1962, 4, 53, 259900],\n",
       " [3890, 3, 36, 573900],\n",
       " [1100, 3, 60, 249900],\n",
       " [1458, 3, 29, 464500],\n",
       " [2526, 3, 13, 469000],\n",
       " [2200, 3, 28, 475000],\n",
       " [2637, 3, 25, 299900],\n",
       " [1839, 2, 40, 349900],\n",
       " [1000, 1, 5, 169900],\n",
       " [2040, 4, 75, 314900],\n",
       " [3137, 3, 67, 579900],\n",
       " [1811, 4, 24, 285900],\n",
       " [1437, 3, 50, 249900],\n",
       " [1239, 3, 22, 229900],\n",
       " [2132, 4, 28, 345000],\n",
       " [4215, 4, 66, 549000],\n",
       " [2162, 4, 43, 287000],\n",
       " [1664, 2, 40, 368500],\n",
       " [2238, 3, 37, 329900],\n",
       " [2567, 4, 57, 314000],\n",
       " [1200, 3, 76, 299000],\n",
       " [852, 2, 70, 179900],\n",
       " [1852, 4, 64, 299900],\n",
       " [1203, 3, 11, 239500]]"
      ]
     },
     "execution_count": 61,
     "metadata": {},
     "output_type": "execute_result"
    }
   ],
   "source": [
    "from numpy import genfromtxt\n",
    "\n",
    "# import into nparray of ints, then convert to list of lists:\n",
    "data = genfromtxt(r'D:\\IOD\\Data\\Datasets 2\\housing-data.csv', dtype = 'i8', \n",
    "                    delimiter = ',', skip_header = 1).tolist()\n",
    "data"
   ]
  },
  {
   "cell_type": "markdown",
   "metadata": {
    "id": "rsYzLBGglJQI"
   },
   "source": [
    "Suppose we need to put a placeholder in the first column for data that will be available later. Best practice is to insert the value `None`:"
   ]
  },
  {
   "cell_type": "code",
   "execution_count": 62,
   "metadata": {
    "ExecuteTime": {
     "end_time": "2019-03-21T03:00:17.647051Z",
     "start_time": "2019-03-21T03:00:17.642063Z"
    },
    "id": "IpIp0WZhlJQI"
   },
   "outputs": [],
   "source": [
    "# prepend a None value to beginning of each sub-list:\n",
    "for d in data:\n",
    "    d.insert(0, None)"
   ]
  },
  {
   "cell_type": "markdown",
   "metadata": {
    "id": "FwHtbxRTlJQL"
   },
   "source": [
    "*Nb. This is why we converted the input array to a list. An array can only hold one type of data (integers in this case) so we could not have inserted `None` before we did this conversion.*"
   ]
  },
  {
   "cell_type": "code",
   "execution_count": 63,
   "metadata": {
    "ExecuteTime": {
     "end_time": "2019-03-21T03:00:20.313136Z",
     "start_time": "2019-03-21T03:00:20.306156Z"
    },
    "id": "dpjV2gEIlJQL",
    "outputId": "553d1507-35e9-4682-fd2f-141d26513a2c"
   },
   "outputs": [
    {
     "name": "stdout",
     "output_type": "stream",
     "text": [
      "<class 'list'>\n",
      "[[None, 2104, 3, 70, 399900], [None, 1600, 3, 28, 329900], [None, 2400, 3, 44, 369000]]\n"
     ]
    }
   ],
   "source": [
    "# check:\n",
    "print(type(data))\n",
    "print(data[0:3])"
   ]
  },
  {
   "cell_type": "markdown",
   "metadata": {
    "id": "2YuxctislJQP"
   },
   "source": [
    "Now we can insert each list item as a row of fields in the database."
   ]
  },
  {
   "cell_type": "code",
   "execution_count": 67,
   "metadata": {
    "ExecuteTime": {
     "end_time": "2019-03-21T03:00:23.383321Z",
     "start_time": "2019-03-21T03:00:23.360381Z"
    },
    "id": "1X78UleXlJQP"
   },
   "outputs": [],
   "source": [
    "# loop through data, running an INSERT on each record (i.e. sublist):\n",
    "for d in data:\n",
    "    c.execute('INSERT INTO houses VALUES (?, ?, ?, ?, ?)', d)\n",
    "\n",
    "conn.commit()"
   ]
  },
  {
   "cell_type": "markdown",
   "metadata": {
    "id": "fOU5sJDmlJQS"
   },
   "source": [
    "In this case, because we were inserting the same value for all records, so we could have simply used a 'None' in the numpy `insert` method at column 0."
   ]
  },
  {
   "cell_type": "code",
   "execution_count": 69,
   "metadata": {
    "ExecuteTime": {
     "end_time": "2019-03-21T03:00:26.207906Z",
     "start_time": "2019-03-21T03:00:26.192925Z"
    },
    "id": "sDig16BalJQS"
   },
   "outputs": [],
   "source": [
    "import numpy as np\n",
    "d1 = np.asarray([1200, 3, 15, 250000])\n",
    "d1 = d1.tolist()\n",
    "d1.insert(0, None)\n",
    "d1\n",
    "c.execute('INSERT INTO houses VALUES (?, ?, ?, ?, ?)', d1)\n",
    "conn.commit()"
   ]
  },
  {
   "cell_type": "markdown",
   "metadata": {
    "id": "FVZ3jVc3lJQT"
   },
   "source": [
    "#### Deleting Rows"
   ]
  },
  {
   "cell_type": "markdown",
   "metadata": {
    "id": "fwGFqJKplJQU"
   },
   "source": [
    "The `DELETE FROM` statement can be used with a `WHERE` clause to specify rows to delete based on some criteria."
   ]
  },
  {
   "cell_type": "code",
   "execution_count": 72,
   "metadata": {
    "ExecuteTime": {
     "end_time": "2019-03-21T03:00:28.930270Z",
     "start_time": "2019-03-21T03:00:28.913316Z"
    },
    "id": "G-t-_J1alJQU"
   },
   "outputs": [],
   "source": [
    "c.execute('DELETE FROM houses WHERE field1 IN (52, 53)')\n",
    "conn.commit()"
   ]
  },
  {
   "cell_type": "markdown",
   "metadata": {
    "id": "dBd4Rh8DlJQW"
   },
   "source": [
    "QUIZ: What would `DELETE FROM houses` do?"
   ]
  },
  {
   "cell_type": "markdown",
   "metadata": {
    "id": "omubeB6qlJQW"
   },
   "source": [
    "#### Filtering Rows"
   ]
  },
  {
   "cell_type": "markdown",
   "metadata": {
    "id": "0x6oaa-UlU2c"
   },
   "source": [
    "**1. Select Rows Where Bedrooms = 4**"
   ]
  },
  {
   "cell_type": "markdown",
   "metadata": {},
   "source": [
    "SELECT *\n",
    "FROM houses\n",
    "WHERE bdrms = 4"
   ]
  },
  {
   "cell_type": "code",
   "execution_count": 74,
   "metadata": {},
   "outputs": [],
   "source": [
    "c.execute('SELECT *FROM houses WHERE bdrms = 4')\n",
    "conn.commit()"
   ]
  },
  {
   "cell_type": "markdown",
   "metadata": {},
   "source": [
    "houses"
   ]
  },
  {
   "cell_type": "code",
   "execution_count": 76,
   "metadata": {
    "ExecuteTime": {
     "end_time": "2019-03-21T03:00:32.102245Z",
     "start_time": "2019-03-21T03:00:32.091281Z"
    },
    "collapsed": true,
    "id": "tET_cYfWlJQX",
    "jupyter": {
     "outputs_hidden": true
    },
    "tags": []
   },
   "outputs": [
    {
     "data": {
      "text/plain": [
       "[(2, 2390, 4, 34, 319000),\n",
       " (9, 3000, 4, 75, 539900),\n",
       " (10, 1985, 4, 61, 299900),\n",
       " (15, 1940, 4, 7, 239999),\n",
       " (20, 2300, 4, 77, 449900),\n",
       " (23, 2609, 4, 5, 499998),\n",
       " (24, 3031, 4, 21, 599000),\n",
       " (28, 1962, 4, 53, 259900),\n",
       " (37, 2040, 4, 75, 314900),\n",
       " (39, 1811, 4, 24, 285900),\n",
       " (42, 2132, 4, 28, 345000),\n",
       " (43, 4215, 4, 66, 549000),\n",
       " (44, 2162, 4, 43, 287000),\n",
       " (47, 2567, 4, 57, 314000),\n",
       " (50, 1852, 4, 64, 299900),\n",
       " (56, 3000, 4, 75, 539900),\n",
       " (57, 1985, 4, 61, 299900),\n",
       " (62, 1940, 4, 7, 239999),\n",
       " (67, 2300, 4, 77, 449900),\n",
       " (70, 2609, 4, 5, 499998),\n",
       " (71, 3031, 4, 21, 599000),\n",
       " (75, 1962, 4, 53, 259900),\n",
       " (84, 2040, 4, 75, 314900),\n",
       " (86, 1811, 4, 24, 285900),\n",
       " (89, 2132, 4, 28, 345000),\n",
       " (90, 4215, 4, 66, 549000),\n",
       " (91, 2162, 4, 43, 287000),\n",
       " (94, 2567, 4, 57, 314000),\n",
       " (97, 1852, 4, 64, 299900)]"
      ]
     },
     "execution_count": 76,
     "metadata": {},
     "output_type": "execute_result"
    }
   ],
   "source": [
    "# ANSWER\n",
    "results = c.execute('SELECT *FROM houses WHERE bdrms = 4')\n",
    "results.fetchall()"
   ]
  },
  {
   "cell_type": "markdown",
   "metadata": {
    "id": "sTNiWQB2lJQg"
   },
   "source": [
    "**2. Run a query to calculate the average floor area and price of each size of house (i.e. by number of bedrooms):**"
   ]
  },
  {
   "cell_type": "code",
   "execution_count": 77,
   "metadata": {
    "ExecuteTime": {
     "end_time": "2019-03-21T03:00:40.229917Z",
     "start_time": "2019-03-21T03:00:40.215956Z"
    },
    "id": "nkFpYIbVlJQg",
    "outputId": "a56eebd4-9f0b-483d-9e30-4305de3e25b6"
   },
   "outputs": [
    {
     "data": {
      "text/plain": [
       "[(1, 1000.0, 169900.0),\n",
       " (2, 1496.5, 280866.6666666667),\n",
       " (3, 1807.8653846153845, 320161.46153846156),\n",
       " (4, 2400.0689655172414, 375434.275862069),\n",
       " (5, 4318.666666666667, 672933.3333333334)]"
      ]
     },
     "execution_count": 77,
     "metadata": {},
     "output_type": "execute_result"
    }
   ],
   "source": [
    "# ANSWER\n",
    "results = c.execute(\"SELECT bdrms, AVG(sqft) AS avg_sqft, AVG(price) AS avg_price FROM houses GROUP BY bdrms\")\n",
    "results.fetchall()"
   ]
  },
  {
   "cell_type": "markdown",
   "metadata": {
    "id": "7K9VDroqlJQi"
   },
   "source": [
    "### Pandas connector\n",
    "\n",
    "While databases provide many analytical capabilities, at some point we may need to pull data into Python for more flexible processing. Large, fixed operations would be more efficient in a database, but Pandas allows for interactive processing.\n",
    "\n",
    "For example, if you want to aggregate nightly log-ins or sales for a report or dashboard, this would be a fixed operation on a large dataset. These computations would run more efficiently in the database system itself.\n",
    "\n",
    "However, if we wanted to model the patterns of login behaviour or factors driving sales, then we would import the data to Python where we could use its simple interfaces to powerful analytic libraries."
   ]
  },
  {
   "cell_type": "code",
   "execution_count": 78,
   "metadata": {
    "ExecuteTime": {
     "end_time": "2019-03-21T03:00:47.378382Z",
     "start_time": "2019-03-21T03:00:46.506361Z"
    },
    "id": "tvI0P-r8lJQj"
   },
   "outputs": [],
   "source": [
    "import pandas as pd\n",
    "from pandas.io import sql"
   ]
  },
  {
   "cell_type": "markdown",
   "metadata": {
    "id": "gBz6pxPFlJQk"
   },
   "source": [
    "Pandas can connect to most relational databases. In this demonstration, we will create and connect to a SQLite database."
   ]
  },
  {
   "cell_type": "markdown",
   "metadata": {
    "id": "3dZYouA_lJQk"
   },
   "source": [
    "### Writing data into a database\n",
    "\n",
    "Data in Pandas can be loaded into a relational database. \n",
    "\n",
    "If the data table is not too large, we can load all of it into a Pandas DataFrame:"
   ]
  },
  {
   "cell_type": "code",
   "execution_count": 79,
   "metadata": {
    "ExecuteTime": {
     "end_time": "2019-03-21T03:00:57.272152Z",
     "start_time": "2019-03-21T03:00:57.245228Z"
    },
    "id": "GfjtD2iylJQl",
    "outputId": "efe6eddd-8fae-4ad3-d8b9-c34c3444a015"
   },
   "outputs": [
    {
     "data": {
      "text/html": [
       "<div>\n",
       "<style scoped>\n",
       "    .dataframe tbody tr th:only-of-type {\n",
       "        vertical-align: middle;\n",
       "    }\n",
       "\n",
       "    .dataframe tbody tr th {\n",
       "        vertical-align: top;\n",
       "    }\n",
       "\n",
       "    .dataframe thead th {\n",
       "        text-align: right;\n",
       "    }\n",
       "</style>\n",
       "<table border=\"1\" class=\"dataframe\">\n",
       "  <thead>\n",
       "    <tr style=\"text-align: right;\">\n",
       "      <th></th>\n",
       "      <th>sqft</th>\n",
       "      <th>bdrms</th>\n",
       "      <th>age</th>\n",
       "      <th>price</th>\n",
       "    </tr>\n",
       "  </thead>\n",
       "  <tbody>\n",
       "    <tr>\n",
       "      <th>0</th>\n",
       "      <td>2104</td>\n",
       "      <td>3</td>\n",
       "      <td>70</td>\n",
       "      <td>399900</td>\n",
       "    </tr>\n",
       "    <tr>\n",
       "      <th>1</th>\n",
       "      <td>1600</td>\n",
       "      <td>3</td>\n",
       "      <td>28</td>\n",
       "      <td>329900</td>\n",
       "    </tr>\n",
       "    <tr>\n",
       "      <th>2</th>\n",
       "      <td>2400</td>\n",
       "      <td>3</td>\n",
       "      <td>44</td>\n",
       "      <td>369000</td>\n",
       "    </tr>\n",
       "    <tr>\n",
       "      <th>3</th>\n",
       "      <td>1416</td>\n",
       "      <td>2</td>\n",
       "      <td>49</td>\n",
       "      <td>232000</td>\n",
       "    </tr>\n",
       "    <tr>\n",
       "      <th>4</th>\n",
       "      <td>3000</td>\n",
       "      <td>4</td>\n",
       "      <td>75</td>\n",
       "      <td>539900</td>\n",
       "    </tr>\n",
       "  </tbody>\n",
       "</table>\n",
       "</div>"
      ],
      "text/plain": [
       "   sqft  bdrms  age   price\n",
       "0  2104      3   70  399900\n",
       "1  1600      3   28  329900\n",
       "2  2400      3   44  369000\n",
       "3  1416      2   49  232000\n",
       "4  3000      4   75  539900"
      ]
     },
     "execution_count": 79,
     "metadata": {},
     "output_type": "execute_result"
    }
   ],
   "source": [
    "# Nb. Use low_memory=False to ensure that type inference does not fail due to buffered processing of input:\n",
    "data = pd.read_csv(r'D:\\IOD\\Data\\Datasets 2\\housing-data.csv', low_memory = False)\n",
    "data.head()"
   ]
  },
  {
   "cell_type": "markdown",
   "metadata": {
    "id": "3fD3CvPRlJQo"
   },
   "source": [
    "We can move data in the opposite direction -- from a DataFrame to a database -- using the `to_sql` command, similar to the `to_csv` command.\n",
    "\n",
    "`to_sql` takes as arguments:\n",
    "    - `name`, the table name to create\n",
    "    - `con`, a connection to a database\n",
    "    - `index`, whether to input the index column\n",
    "    - `schema`, if we want to write a custom schema for the new table\n",
    "    - `if_exists`, what to do if the table already exists. We can overwrite it, add to it, or fail"
   ]
  },
  {
   "cell_type": "markdown",
   "metadata": {
    "id": "Q2W5ZbrHlJQo"
   },
   "source": [
    "This copies our `data` DataFrame to a sqlite3 table called `houses_pandas`:"
   ]
  },
  {
   "cell_type": "code",
   "execution_count": 80,
   "metadata": {
    "ExecuteTime": {
     "end_time": "2019-03-21T03:01:06.485595Z",
     "start_time": "2019-03-21T03:01:06.010981Z"
    },
    "id": "BoyMHydFlJQp"
   },
   "outputs": [
    {
     "data": {
      "text/plain": [
       "47"
      ]
     },
     "execution_count": 80,
     "metadata": {},
     "output_type": "execute_result"
    }
   ],
   "source": [
    "data.to_sql('houses_pandas', con = conn, if_exists = 'replace', index = False)"
   ]
  },
  {
   "cell_type": "markdown",
   "metadata": {
    "id": "WqPJA5l_lJQr"
   },
   "source": [
    "Run a query to get the average price of each house size from this table:"
   ]
  },
  {
   "cell_type": "code",
   "execution_count": 81,
   "metadata": {
    "ExecuteTime": {
     "end_time": "2019-03-21T03:01:09.023417Z",
     "start_time": "2019-03-21T03:01:09.016436Z"
    },
    "collapsed": true,
    "id": "w5Uf5INrlJQr",
    "jupyter": {
     "outputs_hidden": true
    },
    "tags": []
   },
   "outputs": [
    {
     "data": {
      "text/plain": [
       "[(2, 179900.0),\n",
       " (1, 169900.0),\n",
       " (3, 249900.0),\n",
       " (3, 274500.0),\n",
       " (3, 239500.0),\n",
       " (3, 199900.0),\n",
       " (3, 229900.0),\n",
       " (3, 259900.0),\n",
       " (2, 299900.0),\n",
       " (3, 212000.0),\n",
       " (2, 232000.0),\n",
       " (3, 198999.0),\n",
       " (3, 249900.0),\n",
       " (3, 464500.0),\n",
       " (3, 242500.0),\n",
       " (3, 269000.0),\n",
       " (3, 314900.0),\n",
       " (3, 329900.0),\n",
       " (3, 242900.0),\n",
       " (2, 368500.0),\n",
       " (3, 252900.0),\n",
       " (4, 285900.0),\n",
       " (2, 349900.0),\n",
       " (4, 299900.0),\n",
       " (3, 289000.0),\n",
       " (2, 255000.0),\n",
       " (3, 329999.0),\n",
       " (4, 239999.0),\n",
       " (4, 259900.0),\n",
       " (4, 299900.0),\n",
       " (3, 347000.0),\n",
       " (4, 314900.0),\n",
       " (3, 399900.0),\n",
       " (4, 345000.0),\n",
       " (4, 287000.0),\n",
       " (3, 475000.0),\n",
       " (3, 329900.0),\n",
       " (4, 449900.0),\n",
       " (4, 319000.0),\n",
       " (3, 369000.0),\n",
       " (3, 469000.0),\n",
       " (4, 314000.0),\n",
       " (4, 499998.0),\n",
       " (3, 299900.0),\n",
       " (4, 539900.0),\n",
       " (4, 599000.0),\n",
       " (3, 579900.0),\n",
       " (3, 573900.0),\n",
       " (5, 619000.0),\n",
       " (4, 549000.0),\n",
       " (5, 699900.0)]"
      ]
     },
     "execution_count": 81,
     "metadata": {},
     "output_type": "execute_result"
    }
   ],
   "source": [
    "#ANSWER\n",
    "results = c.execute(\"SELECT bdrms, AVG(price) AS avg_price FROM houses GROUP BY sqft\")\n",
    "results.fetchall()"
   ]
  },
  {
   "cell_type": "markdown",
   "metadata": {
    "id": "CJtvJ5EylJQu"
   },
   "source": [
    "## Discussion\n",
    "\n",
    "**Scenarios for using Pandas with SQLite**\n",
    "\n",
    "1. When would you want to use Pandas on a dataset before storing it in a database?\n",
    "\n",
    "2. When would you want to use Pandas on a dataset retrieved from a database?"
   ]
  },
  {
   "cell_type": "markdown",
   "metadata": {
    "id": "YZ7J3ZyUlJQu"
   },
   "source": [
    "<a name=\"guided-practice\"></a>\n",
    "\n",
    "\n",
    "# Reference: SQL Syntax \n",
    "\n",
    "\n",
    "#### SELECT Statement\n",
    "Every query should start with `SELECT`.  `SELECT` is followed by the names of the columns in the output.\n",
    "\n",
    "`SELECT` is always paired with `FROM`, and `FROM` identifies the table to retrieve data from.\n",
    "\n",
    "```sql\n",
    "SELECT\n",
    "<columns>\n",
    "FROM\n",
    "<table>\n",
    "```\n",
    "\n",
    "`SELECT *` denotes returns *all* of the columns.\n",
    "\n",
    "Housing Data example:\n",
    "```sql\n",
    "SELECT\n",
    "sqft, bdrms\n",
    "FROM houses_pandas;\n",
    "```\n",
    "\n",
    "**Check:** Write a query that returns the `sqft`, `bdrms` and `price`.\n",
    "\n",
    "```sql\n",
    "SELECT\n",
    "sqft, bdrms, price\n",
    "FROM houses_pandas;\n",
    "```\n",
    "\n",
    "#### WHERE Clause\n",
    "`WHERE` is used to filter table to a specific criteria and follows the `FROM` clause.\n",
    "\n",
    "```sql\n",
    "SELECT\n",
    "<columns>\n",
    "FROM\n",
    "<table>\n",
    "WHERE\n",
    "<condition>\n",
    "```\n",
    "Example:\n",
    "```sql\n",
    "SELECT\n",
    "sqft, bdrms, age, price\n",
    "FROM houses_pandas\n",
    "WHERE bdrms = 2 and price < 250000;\n",
    "```\n",
    "\n",
    "The condition is effectively a row filter; rows that match the condition will be included in the rowset that is returned by the query.\n",
    "\n",
    "**Check:** Write a query that returns the `sqft`, `bdrms`, `age` for houses older than 60 years.\n",
    ">```sql\n",
    "SELECT\n",
    "sqft, bdrms, age\n",
    "FROM houses_pandas\n",
    "WHERE age > 60;\n",
    "```"
   ]
  },
  {
   "cell_type": "markdown",
   "metadata": {
    "id": "u5hFKdhQlJQu"
   },
   "source": [
    "### AGGREGATIONS\n",
    "\n",
    "Aggregations (or aggregate functions) are functions where the values of multiple rows are grouped together as input on certain criteria to form a single value of more significant meaning or measurement such as a set, a bag or a list.\n",
    "\n",
    "Examples of aggregate funtions:\n",
    "\n",
    "- Average (i.e., arithmetic mean)\n",
    "- Count\n",
    "- Maximum\n",
    "- Minimum\n",
    "- Median\n",
    "- Mode\n",
    "- Sum\n",
    "\n",
    "In SQL they are performed in a `SELECT` statement as follows.\n",
    "\n",
    "```sql\n",
    "SELECT COUNT(price)\n",
    "FROM houses_pandas;\n",
    "```\n",
    "\n",
    "```sql\n",
    "SELECT AVG(sqft), MIN(price), MAX(price)\n",
    "FROM houses_pandas\n",
    "WHERE bdrms = 2;\n",
    "```"
   ]
  },
  {
   "cell_type": "markdown",
   "metadata": {
    "id": "CscvF7JthEEO"
   },
   "source": [
    "### Read Order Data\n",
    "- P12-ListOfOrders\n",
    "- P12-OrderBreakdown"
   ]
  },
  {
   "cell_type": "markdown",
   "metadata": {
    "id": "DOl3mmXohEEP"
   },
   "source": [
    "#### 1. Read CSV into DataFrame"
   ]
  },
  {
   "cell_type": "code",
   "execution_count": 82,
   "metadata": {
    "ExecuteTime": {
     "end_time": "2019-03-21T03:22:39.364636Z",
     "start_time": "2019-03-21T03:22:39.360648Z"
    },
    "id": "bVugNG7HhEEP"
   },
   "outputs": [],
   "source": [
    "import pandas as pd\n",
    "import sqlite3\n",
    "from pandas.io import sql"
   ]
  },
  {
   "cell_type": "code",
   "execution_count": 84,
   "metadata": {
    "ExecuteTime": {
     "end_time": "2019-03-21T03:12:07.534283Z",
     "start_time": "2019-03-21T03:12:07.477433Z"
    },
    "id": "Q6QO2rjrhEER"
   },
   "outputs": [],
   "source": [
    "# Reading CSV to Dataframe\n",
    "orders = pd.read_csv(r'D:\\IOD\\Data\\Datasets 2\\P12-ListOfOrders.csv', encoding = 'utf-8')\n",
    "orders_break_down =  pd.read_csv(r'D:\\IOD\\Data\\Datasets 2\\P12-OrderBreakdown.csv', encoding = 'utf-8')"
   ]
  },
  {
   "cell_type": "code",
   "execution_count": 85,
   "metadata": {
    "ExecuteTime": {
     "end_time": "2019-03-21T03:12:26.465643Z",
     "start_time": "2019-03-21T03:12:26.437719Z"
    },
    "id": "ap_uuKx6hEET",
    "outputId": "5454cc0b-5b6d-4afc-9f7e-a0d2e20aedf2"
   },
   "outputs": [
    {
     "data": {
      "text/html": [
       "<div>\n",
       "<style scoped>\n",
       "    .dataframe tbody tr th:only-of-type {\n",
       "        vertical-align: middle;\n",
       "    }\n",
       "\n",
       "    .dataframe tbody tr th {\n",
       "        vertical-align: top;\n",
       "    }\n",
       "\n",
       "    .dataframe thead th {\n",
       "        text-align: right;\n",
       "    }\n",
       "</style>\n",
       "<table border=\"1\" class=\"dataframe\">\n",
       "  <thead>\n",
       "    <tr style=\"text-align: right;\">\n",
       "      <th></th>\n",
       "      <th>Order ID</th>\n",
       "      <th>Order Date</th>\n",
       "      <th>Customer Name</th>\n",
       "      <th>Country</th>\n",
       "    </tr>\n",
       "  </thead>\n",
       "  <tbody>\n",
       "    <tr>\n",
       "      <th>0</th>\n",
       "      <td>IT-2011-3647632</td>\n",
       "      <td>2011-01-01</td>\n",
       "      <td>Eugene Moren</td>\n",
       "      <td>Sweden</td>\n",
       "    </tr>\n",
       "    <tr>\n",
       "      <th>1</th>\n",
       "      <td>ES-2011-4869686</td>\n",
       "      <td>2011-01-03</td>\n",
       "      <td>Dorothy Dickinson</td>\n",
       "      <td>United Kingdom</td>\n",
       "    </tr>\n",
       "    <tr>\n",
       "      <th>2</th>\n",
       "      <td>ES-2011-4939443</td>\n",
       "      <td>2011-01-04</td>\n",
       "      <td>Arthur Prichep</td>\n",
       "      <td>France</td>\n",
       "    </tr>\n",
       "    <tr>\n",
       "      <th>3</th>\n",
       "      <td>IT-2011-2942451</td>\n",
       "      <td>2011-01-04</td>\n",
       "      <td>Grant Thornton</td>\n",
       "      <td>United Kingdom</td>\n",
       "    </tr>\n",
       "    <tr>\n",
       "      <th>4</th>\n",
       "      <td>ES-2011-3848439</td>\n",
       "      <td>2011-01-05</td>\n",
       "      <td>Michael Granlund</td>\n",
       "      <td>France</td>\n",
       "    </tr>\n",
       "  </tbody>\n",
       "</table>\n",
       "</div>"
      ],
      "text/plain": [
       "          Order ID  Order Date      Customer Name         Country\n",
       "0  IT-2011-3647632  2011-01-01       Eugene Moren          Sweden\n",
       "1  ES-2011-4869686  2011-01-03  Dorothy Dickinson  United Kingdom\n",
       "2  ES-2011-4939443  2011-01-04     Arthur Prichep          France\n",
       "3  IT-2011-2942451  2011-01-04     Grant Thornton  United Kingdom\n",
       "4  ES-2011-3848439  2011-01-05   Michael Granlund          France"
      ]
     },
     "execution_count": 85,
     "metadata": {},
     "output_type": "execute_result"
    }
   ],
   "source": [
    "orders.head()"
   ]
  },
  {
   "cell_type": "code",
   "execution_count": 86,
   "metadata": {
    "ExecuteTime": {
     "end_time": "2019-03-21T03:13:14.105960Z",
     "start_time": "2019-03-21T03:13:14.090003Z"
    },
    "id": "m88fsu3ChEEW",
    "outputId": "cda0ef93-c898-4a46-83a9-8abd8bacc7b8"
   },
   "outputs": [
    {
     "data": {
      "text/html": [
       "<div>\n",
       "<style scoped>\n",
       "    .dataframe tbody tr th:only-of-type {\n",
       "        vertical-align: middle;\n",
       "    }\n",
       "\n",
       "    .dataframe tbody tr th {\n",
       "        vertical-align: top;\n",
       "    }\n",
       "\n",
       "    .dataframe thead th {\n",
       "        text-align: right;\n",
       "    }\n",
       "</style>\n",
       "<table border=\"1\" class=\"dataframe\">\n",
       "  <thead>\n",
       "    <tr style=\"text-align: right;\">\n",
       "      <th></th>\n",
       "      <th>Order ID</th>\n",
       "      <th>Product Name</th>\n",
       "      <th>Discount</th>\n",
       "      <th>Sales</th>\n",
       "      <th>Quantity</th>\n",
       "      <th>Category</th>\n",
       "    </tr>\n",
       "  </thead>\n",
       "  <tbody>\n",
       "    <tr>\n",
       "      <th>0</th>\n",
       "      <td>IT-2011-3647632</td>\n",
       "      <td>Enermax Note Cards, Premium</td>\n",
       "      <td>0.5</td>\n",
       "      <td>45</td>\n",
       "      <td>3</td>\n",
       "      <td>Office Supplies</td>\n",
       "    </tr>\n",
       "    <tr>\n",
       "      <th>1</th>\n",
       "      <td>ES-2011-4869686</td>\n",
       "      <td>Dania Corner Shelving, Traditional</td>\n",
       "      <td>0.0</td>\n",
       "      <td>854</td>\n",
       "      <td>7</td>\n",
       "      <td>Furniture</td>\n",
       "    </tr>\n",
       "    <tr>\n",
       "      <th>2</th>\n",
       "      <td>ES-2011-4939443</td>\n",
       "      <td>Binney &amp; Smith Sketch Pad, Easy-Erase</td>\n",
       "      <td>0.0</td>\n",
       "      <td>140</td>\n",
       "      <td>3</td>\n",
       "      <td>Office Supplies</td>\n",
       "    </tr>\n",
       "    <tr>\n",
       "      <th>3</th>\n",
       "      <td>IT-2011-2942451</td>\n",
       "      <td>Boston Markers, Easy-Erase</td>\n",
       "      <td>0.5</td>\n",
       "      <td>27</td>\n",
       "      <td>2</td>\n",
       "      <td>Office Supplies</td>\n",
       "    </tr>\n",
       "    <tr>\n",
       "      <th>4</th>\n",
       "      <td>IT-2011-2942451</td>\n",
       "      <td>Eldon Folders, Single Width</td>\n",
       "      <td>0.5</td>\n",
       "      <td>17</td>\n",
       "      <td>2</td>\n",
       "      <td>Office Supplies</td>\n",
       "    </tr>\n",
       "  </tbody>\n",
       "</table>\n",
       "</div>"
      ],
      "text/plain": [
       "          Order ID                           Product Name  Discount  Sales  \\\n",
       "0  IT-2011-3647632            Enermax Note Cards, Premium       0.5     45   \n",
       "1  ES-2011-4869686     Dania Corner Shelving, Traditional       0.0    854   \n",
       "2  ES-2011-4939443  Binney & Smith Sketch Pad, Easy-Erase       0.0    140   \n",
       "3  IT-2011-2942451             Boston Markers, Easy-Erase       0.5     27   \n",
       "4  IT-2011-2942451            Eldon Folders, Single Width       0.5     17   \n",
       "\n",
       "   Quantity         Category  \n",
       "0         3  Office Supplies  \n",
       "1         7        Furniture  \n",
       "2         3  Office Supplies  \n",
       "3         2  Office Supplies  \n",
       "4         2  Office Supplies  "
      ]
     },
     "execution_count": 86,
     "metadata": {},
     "output_type": "execute_result"
    }
   ],
   "source": [
    "orders_break_down.head()"
   ]
  },
  {
   "cell_type": "markdown",
   "metadata": {
    "id": "lB9YvqpKhEEY"
   },
   "source": [
    "#### 2. Replace Space with Underscore in Column Names"
   ]
  },
  {
   "cell_type": "code",
   "execution_count": 88,
   "metadata": {
    "ExecuteTime": {
     "end_time": "2019-03-21T03:18:03.275638Z",
     "start_time": "2019-03-21T03:18:03.269624Z"
    },
    "id": "ICMk2oRAhEEZ"
   },
   "outputs": [
    {
     "data": {
      "text/html": [
       "<div>\n",
       "<style scoped>\n",
       "    .dataframe tbody tr th:only-of-type {\n",
       "        vertical-align: middle;\n",
       "    }\n",
       "\n",
       "    .dataframe tbody tr th {\n",
       "        vertical-align: top;\n",
       "    }\n",
       "\n",
       "    .dataframe thead th {\n",
       "        text-align: right;\n",
       "    }\n",
       "</style>\n",
       "<table border=\"1\" class=\"dataframe\">\n",
       "  <thead>\n",
       "    <tr style=\"text-align: right;\">\n",
       "      <th></th>\n",
       "      <th>order_id</th>\n",
       "      <th>order_date</th>\n",
       "      <th>customer_name</th>\n",
       "      <th>country</th>\n",
       "    </tr>\n",
       "  </thead>\n",
       "  <tbody>\n",
       "    <tr>\n",
       "      <th>0</th>\n",
       "      <td>IT-2011-3647632</td>\n",
       "      <td>2011-01-01</td>\n",
       "      <td>Eugene Moren</td>\n",
       "      <td>Sweden</td>\n",
       "    </tr>\n",
       "    <tr>\n",
       "      <th>1</th>\n",
       "      <td>ES-2011-4869686</td>\n",
       "      <td>2011-01-03</td>\n",
       "      <td>Dorothy Dickinson</td>\n",
       "      <td>United Kingdom</td>\n",
       "    </tr>\n",
       "    <tr>\n",
       "      <th>2</th>\n",
       "      <td>ES-2011-4939443</td>\n",
       "      <td>2011-01-04</td>\n",
       "      <td>Arthur Prichep</td>\n",
       "      <td>France</td>\n",
       "    </tr>\n",
       "  </tbody>\n",
       "</table>\n",
       "</div>"
      ],
      "text/plain": [
       "          order_id  order_date      customer_name         country\n",
       "0  IT-2011-3647632  2011-01-01       Eugene Moren          Sweden\n",
       "1  ES-2011-4869686  2011-01-03  Dorothy Dickinson  United Kingdom\n",
       "2  ES-2011-4939443  2011-01-04     Arthur Prichep          France"
      ]
     },
     "execution_count": 88,
     "metadata": {},
     "output_type": "execute_result"
    }
   ],
   "source": [
    "# ANSWER\n",
    "orders.columns = [o.replace(' ', '_') for o in orders.columns.str.lower()]\n",
    "orders.head(3)"
   ]
  },
  {
   "cell_type": "code",
   "execution_count": 89,
   "metadata": {
    "ExecuteTime": {
     "end_time": "2019-03-21T03:18:32.931223Z",
     "start_time": "2019-03-21T03:18:32.925208Z"
    },
    "id": "PZQ0WBbLhEEc"
   },
   "outputs": [
    {
     "data": {
      "text/html": [
       "<div>\n",
       "<style scoped>\n",
       "    .dataframe tbody tr th:only-of-type {\n",
       "        vertical-align: middle;\n",
       "    }\n",
       "\n",
       "    .dataframe tbody tr th {\n",
       "        vertical-align: top;\n",
       "    }\n",
       "\n",
       "    .dataframe thead th {\n",
       "        text-align: right;\n",
       "    }\n",
       "</style>\n",
       "<table border=\"1\" class=\"dataframe\">\n",
       "  <thead>\n",
       "    <tr style=\"text-align: right;\">\n",
       "      <th></th>\n",
       "      <th>order_id</th>\n",
       "      <th>product_name</th>\n",
       "      <th>discount</th>\n",
       "      <th>sales</th>\n",
       "      <th>quantity</th>\n",
       "      <th>category</th>\n",
       "    </tr>\n",
       "  </thead>\n",
       "  <tbody>\n",
       "    <tr>\n",
       "      <th>0</th>\n",
       "      <td>IT-2011-3647632</td>\n",
       "      <td>Enermax Note Cards, Premium</td>\n",
       "      <td>0.5</td>\n",
       "      <td>45</td>\n",
       "      <td>3</td>\n",
       "      <td>Office Supplies</td>\n",
       "    </tr>\n",
       "    <tr>\n",
       "      <th>1</th>\n",
       "      <td>ES-2011-4869686</td>\n",
       "      <td>Dania Corner Shelving, Traditional</td>\n",
       "      <td>0.0</td>\n",
       "      <td>854</td>\n",
       "      <td>7</td>\n",
       "      <td>Furniture</td>\n",
       "    </tr>\n",
       "    <tr>\n",
       "      <th>2</th>\n",
       "      <td>ES-2011-4939443</td>\n",
       "      <td>Binney &amp; Smith Sketch Pad, Easy-Erase</td>\n",
       "      <td>0.0</td>\n",
       "      <td>140</td>\n",
       "      <td>3</td>\n",
       "      <td>Office Supplies</td>\n",
       "    </tr>\n",
       "  </tbody>\n",
       "</table>\n",
       "</div>"
      ],
      "text/plain": [
       "          order_id                           product_name  discount  sales  \\\n",
       "0  IT-2011-3647632            Enermax Note Cards, Premium       0.5     45   \n",
       "1  ES-2011-4869686     Dania Corner Shelving, Traditional       0.0    854   \n",
       "2  ES-2011-4939443  Binney & Smith Sketch Pad, Easy-Erase       0.0    140   \n",
       "\n",
       "   quantity         category  \n",
       "0         3  Office Supplies  \n",
       "1         7        Furniture  \n",
       "2         3  Office Supplies  "
      ]
     },
     "execution_count": 89,
     "metadata": {},
     "output_type": "execute_result"
    }
   ],
   "source": [
    "# ANSWER\n",
    "orders_break_down.columns = [o.replace(' ', '_') for o in orders_break_down.columns.str.lower()]\n",
    "orders_break_down.head(3)"
   ]
  },
  {
   "cell_type": "markdown",
   "metadata": {
    "id": "u11trn6HhEEg"
   },
   "source": [
    "#### 3. Check DataTypes "
   ]
  },
  {
   "cell_type": "code",
   "execution_count": 90,
   "metadata": {
    "ExecuteTime": {
     "end_time": "2019-03-21T03:20:00.147608Z",
     "start_time": "2019-03-21T03:20:00.140627Z"
    },
    "id": "1XvSDzIqhEEh",
    "outputId": "3970ec4b-52e8-4075-a450-7ac2d1cf62a5"
   },
   "outputs": [
    {
     "data": {
      "text/plain": [
       "order_id         object\n",
       "order_date       object\n",
       "customer_name    object\n",
       "country          object\n",
       "dtype: object"
      ]
     },
     "execution_count": 90,
     "metadata": {},
     "output_type": "execute_result"
    }
   ],
   "source": [
    "# ANSWER\n",
    "orders.dtypes"
   ]
  },
  {
   "cell_type": "code",
   "execution_count": 91,
   "metadata": {
    "ExecuteTime": {
     "end_time": "2019-03-21T03:20:17.053453Z",
     "start_time": "2019-03-21T03:20:17.041477Z"
    },
    "id": "nqNNnTiUhEEj",
    "outputId": "5afac8cc-78e5-4f57-9d96-6d5aa4d122b4"
   },
   "outputs": [
    {
     "data": {
      "text/plain": [
       "order_id         object\n",
       "product_name     object\n",
       "discount        float64\n",
       "sales             int64\n",
       "quantity          int64\n",
       "category         object\n",
       "dtype: object"
      ]
     },
     "execution_count": 91,
     "metadata": {},
     "output_type": "execute_result"
    }
   ],
   "source": [
    "# ANSWER\n",
    "orders_break_down.dtypes"
   ]
  },
  {
   "cell_type": "markdown",
   "metadata": {
    "id": "wmw7wdLxhEEn"
   },
   "source": [
    "#### 4. Save these two dataframes as a table in sqlite"
   ]
  },
  {
   "cell_type": "code",
   "execution_count": 96,
   "metadata": {
    "ExecuteTime": {
     "end_time": "2019-03-21T03:23:22.310290Z",
     "start_time": "2019-03-21T03:23:22.212386Z"
    },
    "id": "IeFCwG7hhEEo"
   },
   "outputs": [
    {
     "data": {
      "text/plain": [
       "8047"
      ]
     },
     "execution_count": 96,
     "metadata": {},
     "output_type": "execute_result"
    }
   ],
   "source": [
    "# Establishing Local DB connection\n",
    "db_connection = sqlite3.connect(r'D:\\IOD\\Data\\eshop.db.sqlite')\n",
    "\n",
    "# Save these two dataframes as a table in sqlite\n",
    "orders.to_sql('orders', con = db_connection, if_exists = 'replace', index = False)\n",
    "orders_break_down.to_sql('orders_break_down', con = db_connection, if_exists = 'replace', index = False)"
   ]
  },
  {
   "cell_type": "markdown",
   "metadata": {
    "id": "5UoZC5cOhEEr"
   },
   "source": [
    "#### 5. Select Number of Orders for Each Customer"
   ]
  },
  {
   "cell_type": "markdown",
   "metadata": {
    "id": "vs59fH_4jw1d"
   },
   "source": [
    "We can use the `sql` function in `pandas.io` to run SQL queries to the database with the `.read_sql()` method. Here's an example:"
   ]
  },
  {
   "cell_type": "code",
   "execution_count": 97,
   "metadata": {
    "id": "ofIXqXaljw1d"
   },
   "outputs": [
    {
     "data": {
      "text/html": [
       "<div>\n",
       "<style scoped>\n",
       "    .dataframe tbody tr th:only-of-type {\n",
       "        vertical-align: middle;\n",
       "    }\n",
       "\n",
       "    .dataframe tbody tr th {\n",
       "        vertical-align: top;\n",
       "    }\n",
       "\n",
       "    .dataframe thead th {\n",
       "        text-align: right;\n",
       "    }\n",
       "</style>\n",
       "<table border=\"1\" class=\"dataframe\">\n",
       "  <thead>\n",
       "    <tr style=\"text-align: right;\">\n",
       "      <th></th>\n",
       "      <th>order_id</th>\n",
       "      <th>order_date</th>\n",
       "      <th>customer_name</th>\n",
       "      <th>country</th>\n",
       "    </tr>\n",
       "  </thead>\n",
       "  <tbody>\n",
       "    <tr>\n",
       "      <th>0</th>\n",
       "      <td>IT-2011-3647632</td>\n",
       "      <td>2011-01-01</td>\n",
       "      <td>Eugene Moren</td>\n",
       "      <td>Sweden</td>\n",
       "    </tr>\n",
       "    <tr>\n",
       "      <th>1</th>\n",
       "      <td>ES-2011-4869686</td>\n",
       "      <td>2011-01-03</td>\n",
       "      <td>Dorothy Dickinson</td>\n",
       "      <td>United Kingdom</td>\n",
       "    </tr>\n",
       "    <tr>\n",
       "      <th>2</th>\n",
       "      <td>ES-2011-4939443</td>\n",
       "      <td>2011-01-04</td>\n",
       "      <td>Arthur Prichep</td>\n",
       "      <td>France</td>\n",
       "    </tr>\n",
       "    <tr>\n",
       "      <th>3</th>\n",
       "      <td>IT-2011-2942451</td>\n",
       "      <td>2011-01-04</td>\n",
       "      <td>Grant Thornton</td>\n",
       "      <td>United Kingdom</td>\n",
       "    </tr>\n",
       "    <tr>\n",
       "      <th>4</th>\n",
       "      <td>ES-2011-3848439</td>\n",
       "      <td>2011-01-05</td>\n",
       "      <td>Michael Granlund</td>\n",
       "      <td>France</td>\n",
       "    </tr>\n",
       "    <tr>\n",
       "      <th>5</th>\n",
       "      <td>ES-2011-5433855</td>\n",
       "      <td>2011-01-07</td>\n",
       "      <td>Dave Poirier</td>\n",
       "      <td>France</td>\n",
       "    </tr>\n",
       "    <tr>\n",
       "      <th>6</th>\n",
       "      <td>IT-2011-4546695</td>\n",
       "      <td>2011-01-08</td>\n",
       "      <td>Darren Powers</td>\n",
       "      <td>France</td>\n",
       "    </tr>\n",
       "    <tr>\n",
       "      <th>7</th>\n",
       "      <td>ES-2011-1138719</td>\n",
       "      <td>2011-01-11</td>\n",
       "      <td>Eric Murdock</td>\n",
       "      <td>Italy</td>\n",
       "    </tr>\n",
       "    <tr>\n",
       "      <th>8</th>\n",
       "      <td>ES-2011-1466305</td>\n",
       "      <td>2011-01-11</td>\n",
       "      <td>Mick Brown</td>\n",
       "      <td>Austria</td>\n",
       "    </tr>\n",
       "    <tr>\n",
       "      <th>9</th>\n",
       "      <td>ES-2011-4359424</td>\n",
       "      <td>2011-01-11</td>\n",
       "      <td>Dorothy Dickinson</td>\n",
       "      <td>Spain</td>\n",
       "    </tr>\n",
       "  </tbody>\n",
       "</table>\n",
       "</div>"
      ],
      "text/plain": [
       "          order_id  order_date      customer_name         country\n",
       "0  IT-2011-3647632  2011-01-01       Eugene Moren          Sweden\n",
       "1  ES-2011-4869686  2011-01-03  Dorothy Dickinson  United Kingdom\n",
       "2  ES-2011-4939443  2011-01-04     Arthur Prichep          France\n",
       "3  IT-2011-2942451  2011-01-04     Grant Thornton  United Kingdom\n",
       "4  ES-2011-3848439  2011-01-05   Michael Granlund          France\n",
       "5  ES-2011-5433855  2011-01-07       Dave Poirier          France\n",
       "6  IT-2011-4546695  2011-01-08      Darren Powers          France\n",
       "7  ES-2011-1138719  2011-01-11       Eric Murdock           Italy\n",
       "8  ES-2011-1466305  2011-01-11         Mick Brown         Austria\n",
       "9  ES-2011-4359424  2011-01-11  Dorothy Dickinson           Spain"
      ]
     },
     "execution_count": 97,
     "metadata": {},
     "output_type": "execute_result"
    }
   ],
   "source": [
    "# Select first 10 rows of all columns in orders table\n",
    "\n",
    "query = \"\"\"\n",
    "        SELECT * \n",
    "        FROM orders \n",
    "        LIMIT 10;\n",
    "        \"\"\"\n",
    "\n",
    "orders_head_10 = sql.read_sql(query, con=db_connection)\n",
    "orders_head_10"
   ]
  },
  {
   "cell_type": "code",
   "execution_count": 101,
   "metadata": {
    "ExecuteTime": {
     "end_time": "2019-03-21T03:31:48.381069Z",
     "start_time": "2019-03-21T03:31:48.359128Z"
    },
    "collapsed": true,
    "id": "aIqdAoTnhEEr",
    "jupyter": {
     "outputs_hidden": true
    },
    "tags": []
   },
   "outputs": [
    {
     "data": {
      "text/html": [
       "<div>\n",
       "<style scoped>\n",
       "    .dataframe tbody tr th:only-of-type {\n",
       "        vertical-align: middle;\n",
       "    }\n",
       "\n",
       "    .dataframe tbody tr th {\n",
       "        vertical-align: top;\n",
       "    }\n",
       "\n",
       "    .dataframe thead th {\n",
       "        text-align: right;\n",
       "    }\n",
       "</style>\n",
       "<table border=\"1\" class=\"dataframe\">\n",
       "  <thead>\n",
       "    <tr style=\"text-align: right;\">\n",
       "      <th></th>\n",
       "      <th>COUNT(order_id)</th>\n",
       "      <th>customer_name</th>\n",
       "    </tr>\n",
       "  </thead>\n",
       "  <tbody>\n",
       "    <tr>\n",
       "      <th>0</th>\n",
       "      <td>11</td>\n",
       "      <td>Aaron Bergman</td>\n",
       "    </tr>\n",
       "    <tr>\n",
       "      <th>1</th>\n",
       "      <td>7</td>\n",
       "      <td>Aaron Hawkins</td>\n",
       "    </tr>\n",
       "    <tr>\n",
       "      <th>2</th>\n",
       "      <td>12</td>\n",
       "      <td>Aaron Smayling</td>\n",
       "    </tr>\n",
       "    <tr>\n",
       "      <th>3</th>\n",
       "      <td>4</td>\n",
       "      <td>Adam Bellavance</td>\n",
       "    </tr>\n",
       "    <tr>\n",
       "      <th>4</th>\n",
       "      <td>8</td>\n",
       "      <td>Adam Hart</td>\n",
       "    </tr>\n",
       "    <tr>\n",
       "      <th>...</th>\n",
       "      <td>...</td>\n",
       "      <td>...</td>\n",
       "    </tr>\n",
       "    <tr>\n",
       "      <th>787</th>\n",
       "      <td>2</td>\n",
       "      <td>Xylona Preis</td>\n",
       "    </tr>\n",
       "    <tr>\n",
       "      <th>788</th>\n",
       "      <td>5</td>\n",
       "      <td>Yana Sorensen</td>\n",
       "    </tr>\n",
       "    <tr>\n",
       "      <th>789</th>\n",
       "      <td>11</td>\n",
       "      <td>Yoseph Carroll</td>\n",
       "    </tr>\n",
       "    <tr>\n",
       "      <th>790</th>\n",
       "      <td>9</td>\n",
       "      <td>Zuschuss Carroll</td>\n",
       "    </tr>\n",
       "    <tr>\n",
       "      <th>791</th>\n",
       "      <td>6</td>\n",
       "      <td>Zuschuss Donatelli</td>\n",
       "    </tr>\n",
       "  </tbody>\n",
       "</table>\n",
       "<p>792 rows × 2 columns</p>\n",
       "</div>"
      ],
      "text/plain": [
       "     COUNT(order_id)       customer_name\n",
       "0                 11       Aaron Bergman\n",
       "1                  7       Aaron Hawkins\n",
       "2                 12      Aaron Smayling\n",
       "3                  4     Adam Bellavance\n",
       "4                  8           Adam Hart\n",
       "..               ...                 ...\n",
       "787                2        Xylona Preis\n",
       "788                5       Yana Sorensen\n",
       "789               11      Yoseph Carroll\n",
       "790                9    Zuschuss Carroll\n",
       "791                6  Zuschuss Donatelli\n",
       "\n",
       "[792 rows x 2 columns]"
      ]
     },
     "execution_count": 101,
     "metadata": {},
     "output_type": "execute_result"
    }
   ],
   "source": [
    "# Select Number of Orders for Each Customer\n",
    "query = \"\"\"\n",
    "        SELECT COUNT(order_id), customer_name\n",
    "        FROM orders \n",
    "        GROUP BY customer_name;\n",
    "        \"\"\"\n",
    "\n",
    "result = sql.read_sql(query, con=db_connection)\n",
    "result"
   ]
  },
  {
   "cell_type": "markdown",
   "metadata": {
    "id": "GE91fL7thEE2"
   },
   "source": [
    "#### 6. Select Number of Customers for Each Country"
   ]
  },
  {
   "cell_type": "code",
   "execution_count": 102,
   "metadata": {
    "ExecuteTime": {
     "end_time": "2019-03-21T03:34:57.019169Z",
     "start_time": "2019-03-21T03:34:57.000244Z"
    },
    "collapsed": true,
    "id": "ZIfcGHCJhEE2",
    "jupyter": {
     "outputs_hidden": true
    },
    "tags": []
   },
   "outputs": [
    {
     "data": {
      "text/html": [
       "<div>\n",
       "<style scoped>\n",
       "    .dataframe tbody tr th:only-of-type {\n",
       "        vertical-align: middle;\n",
       "    }\n",
       "\n",
       "    .dataframe tbody tr th {\n",
       "        vertical-align: top;\n",
       "    }\n",
       "\n",
       "    .dataframe thead th {\n",
       "        text-align: right;\n",
       "    }\n",
       "</style>\n",
       "<table border=\"1\" class=\"dataframe\">\n",
       "  <thead>\n",
       "    <tr style=\"text-align: right;\">\n",
       "      <th></th>\n",
       "      <th>COUNT(customer_name)</th>\n",
       "      <th>country</th>\n",
       "    </tr>\n",
       "  </thead>\n",
       "  <tbody>\n",
       "    <tr>\n",
       "      <th>0</th>\n",
       "      <td>135</td>\n",
       "      <td>Austria</td>\n",
       "    </tr>\n",
       "    <tr>\n",
       "      <th>1</th>\n",
       "      <td>68</td>\n",
       "      <td>Belgium</td>\n",
       "    </tr>\n",
       "    <tr>\n",
       "      <th>2</th>\n",
       "      <td>29</td>\n",
       "      <td>Denmark</td>\n",
       "    </tr>\n",
       "    <tr>\n",
       "      <th>3</th>\n",
       "      <td>34</td>\n",
       "      <td>Finland</td>\n",
       "    </tr>\n",
       "    <tr>\n",
       "      <th>4</th>\n",
       "      <td>991</td>\n",
       "      <td>France</td>\n",
       "    </tr>\n",
       "    <tr>\n",
       "      <th>5</th>\n",
       "      <td>806</td>\n",
       "      <td>Germany</td>\n",
       "    </tr>\n",
       "    <tr>\n",
       "      <th>6</th>\n",
       "      <td>50</td>\n",
       "      <td>Ireland</td>\n",
       "    </tr>\n",
       "    <tr>\n",
       "      <th>7</th>\n",
       "      <td>493</td>\n",
       "      <td>Italy</td>\n",
       "    </tr>\n",
       "    <tr>\n",
       "      <th>8</th>\n",
       "      <td>194</td>\n",
       "      <td>Netherlands</td>\n",
       "    </tr>\n",
       "    <tr>\n",
       "      <th>9</th>\n",
       "      <td>37</td>\n",
       "      <td>Norway</td>\n",
       "    </tr>\n",
       "    <tr>\n",
       "      <th>10</th>\n",
       "      <td>37</td>\n",
       "      <td>Portugal</td>\n",
       "    </tr>\n",
       "    <tr>\n",
       "      <th>11</th>\n",
       "      <td>403</td>\n",
       "      <td>Spain</td>\n",
       "    </tr>\n",
       "    <tr>\n",
       "      <th>12</th>\n",
       "      <td>100</td>\n",
       "      <td>Sweden</td>\n",
       "    </tr>\n",
       "    <tr>\n",
       "      <th>13</th>\n",
       "      <td>40</td>\n",
       "      <td>Switzerland</td>\n",
       "    </tr>\n",
       "    <tr>\n",
       "      <th>14</th>\n",
       "      <td>700</td>\n",
       "      <td>United Kingdom</td>\n",
       "    </tr>\n",
       "  </tbody>\n",
       "</table>\n",
       "</div>"
      ],
      "text/plain": [
       "    COUNT(customer_name)         country\n",
       "0                    135         Austria\n",
       "1                     68         Belgium\n",
       "2                     29         Denmark\n",
       "3                     34         Finland\n",
       "4                    991          France\n",
       "5                    806         Germany\n",
       "6                     50         Ireland\n",
       "7                    493           Italy\n",
       "8                    194     Netherlands\n",
       "9                     37          Norway\n",
       "10                    37        Portugal\n",
       "11                   403           Spain\n",
       "12                   100          Sweden\n",
       "13                    40     Switzerland\n",
       "14                   700  United Kingdom"
      ]
     },
     "execution_count": 102,
     "metadata": {},
     "output_type": "execute_result"
    }
   ],
   "source": [
    "# Select Number of Customers for Each Country\n",
    "query = \"\"\"\n",
    "        SELECT COUNT(customer_name),country \n",
    "        FROM orders \n",
    "        GROUP BY country;\n",
    "        \"\"\"\n",
    "\n",
    "result = sql.read_sql(query, con=db_connection)\n",
    "result"
   ]
  },
  {
   "cell_type": "markdown",
   "metadata": {
    "id": "fIBpY4KjhEE5"
   },
   "source": [
    "#### 7.A Select discount, sales, quantity for Each Order from orders_break_down Table"
   ]
  },
  {
   "cell_type": "code",
   "execution_count": 103,
   "metadata": {
    "ExecuteTime": {
     "end_time": "2019-03-21T03:37:54.802697Z",
     "start_time": "2019-03-21T03:37:54.774773Z"
    },
    "collapsed": true,
    "id": "L_HKwM5BhEE6",
    "jupyter": {
     "outputs_hidden": true
    },
    "tags": []
   },
   "outputs": [
    {
     "data": {
      "text/html": [
       "<div>\n",
       "<style scoped>\n",
       "    .dataframe tbody tr th:only-of-type {\n",
       "        vertical-align: middle;\n",
       "    }\n",
       "\n",
       "    .dataframe tbody tr th {\n",
       "        vertical-align: top;\n",
       "    }\n",
       "\n",
       "    .dataframe thead th {\n",
       "        text-align: right;\n",
       "    }\n",
       "</style>\n",
       "<table border=\"1\" class=\"dataframe\">\n",
       "  <thead>\n",
       "    <tr style=\"text-align: right;\">\n",
       "      <th></th>\n",
       "      <th>discount</th>\n",
       "      <th>sales</th>\n",
       "      <th>quantity</th>\n",
       "    </tr>\n",
       "  </thead>\n",
       "  <tbody>\n",
       "    <tr>\n",
       "      <th>0</th>\n",
       "      <td>0.5</td>\n",
       "      <td>45</td>\n",
       "      <td>3</td>\n",
       "    </tr>\n",
       "    <tr>\n",
       "      <th>1</th>\n",
       "      <td>0.0</td>\n",
       "      <td>854</td>\n",
       "      <td>7</td>\n",
       "    </tr>\n",
       "    <tr>\n",
       "      <th>2</th>\n",
       "      <td>0.0</td>\n",
       "      <td>140</td>\n",
       "      <td>3</td>\n",
       "    </tr>\n",
       "    <tr>\n",
       "      <th>3</th>\n",
       "      <td>0.5</td>\n",
       "      <td>27</td>\n",
       "      <td>2</td>\n",
       "    </tr>\n",
       "    <tr>\n",
       "      <th>4</th>\n",
       "      <td>0.5</td>\n",
       "      <td>17</td>\n",
       "      <td>2</td>\n",
       "    </tr>\n",
       "    <tr>\n",
       "      <th>...</th>\n",
       "      <td>...</td>\n",
       "      <td>...</td>\n",
       "      <td>...</td>\n",
       "    </tr>\n",
       "    <tr>\n",
       "      <th>8042</th>\n",
       "      <td>0.0</td>\n",
       "      <td>245</td>\n",
       "      <td>2</td>\n",
       "    </tr>\n",
       "    <tr>\n",
       "      <th>8043</th>\n",
       "      <td>0.5</td>\n",
       "      <td>30</td>\n",
       "      <td>2</td>\n",
       "    </tr>\n",
       "    <tr>\n",
       "      <th>8044</th>\n",
       "      <td>0.5</td>\n",
       "      <td>23</td>\n",
       "      <td>4</td>\n",
       "    </tr>\n",
       "    <tr>\n",
       "      <th>8045</th>\n",
       "      <td>0.5</td>\n",
       "      <td>108</td>\n",
       "      <td>3</td>\n",
       "    </tr>\n",
       "    <tr>\n",
       "      <th>8046</th>\n",
       "      <td>0.0</td>\n",
       "      <td>867</td>\n",
       "      <td>5</td>\n",
       "    </tr>\n",
       "  </tbody>\n",
       "</table>\n",
       "<p>8047 rows × 3 columns</p>\n",
       "</div>"
      ],
      "text/plain": [
       "      discount  sales  quantity\n",
       "0          0.5     45         3\n",
       "1          0.0    854         7\n",
       "2          0.0    140         3\n",
       "3          0.5     27         2\n",
       "4          0.5     17         2\n",
       "...        ...    ...       ...\n",
       "8042       0.0    245         2\n",
       "8043       0.5     30         2\n",
       "8044       0.5     23         4\n",
       "8045       0.5    108         3\n",
       "8046       0.0    867         5\n",
       "\n",
       "[8047 rows x 3 columns]"
      ]
     },
     "execution_count": 103,
     "metadata": {},
     "output_type": "execute_result"
    }
   ],
   "source": [
    "#  Select discount, sales, quantity for Each Order from orders_break_down Table\n",
    "query = \"\"\"\n",
    "        SELECT discount, sales, quantity\n",
    "        FROM orders_break_down;\n",
    "        \"\"\"\n",
    "\n",
    "result = sql.read_sql(query, con=db_connection)\n",
    "result"
   ]
  },
  {
   "cell_type": "markdown",
   "metadata": {
    "id": "-R-ObbBfhEE_"
   },
   "source": [
    "#### 7.B Select discount, sales, quantity, total price for Each Order from orders_break_down Table\n",
    "\n",
    "> Total Price = sales * quantity - discount"
   ]
  },
  {
   "cell_type": "code",
   "execution_count": 107,
   "metadata": {
    "ExecuteTime": {
     "end_time": "2019-03-21T03:39:34.392179Z",
     "start_time": "2019-03-21T03:39:34.349294Z"
    },
    "collapsed": true,
    "id": "J9KbOXChhEE_",
    "jupyter": {
     "outputs_hidden": true
    },
    "tags": []
   },
   "outputs": [
    {
     "data": {
      "text/html": [
       "<div>\n",
       "<style scoped>\n",
       "    .dataframe tbody tr th:only-of-type {\n",
       "        vertical-align: middle;\n",
       "    }\n",
       "\n",
       "    .dataframe tbody tr th {\n",
       "        vertical-align: top;\n",
       "    }\n",
       "\n",
       "    .dataframe thead th {\n",
       "        text-align: right;\n",
       "    }\n",
       "</style>\n",
       "<table border=\"1\" class=\"dataframe\">\n",
       "  <thead>\n",
       "    <tr style=\"text-align: right;\">\n",
       "      <th></th>\n",
       "      <th>order_id</th>\n",
       "      <th>product_name</th>\n",
       "      <th>discount</th>\n",
       "      <th>sales</th>\n",
       "      <th>quantity</th>\n",
       "      <th>category</th>\n",
       "      <th>total_price</th>\n",
       "    </tr>\n",
       "  </thead>\n",
       "  <tbody>\n",
       "    <tr>\n",
       "      <th>0</th>\n",
       "      <td>IT-2011-3647632</td>\n",
       "      <td>Enermax Note Cards, Premium</td>\n",
       "      <td>0.5</td>\n",
       "      <td>45</td>\n",
       "      <td>3</td>\n",
       "      <td>Office Supplies</td>\n",
       "      <td>134.5</td>\n",
       "    </tr>\n",
       "    <tr>\n",
       "      <th>1</th>\n",
       "      <td>ES-2011-4869686</td>\n",
       "      <td>Dania Corner Shelving, Traditional</td>\n",
       "      <td>0.0</td>\n",
       "      <td>854</td>\n",
       "      <td>7</td>\n",
       "      <td>Furniture</td>\n",
       "      <td>5978.0</td>\n",
       "    </tr>\n",
       "    <tr>\n",
       "      <th>2</th>\n",
       "      <td>ES-2011-4939443</td>\n",
       "      <td>Binney &amp; Smith Sketch Pad, Easy-Erase</td>\n",
       "      <td>0.0</td>\n",
       "      <td>140</td>\n",
       "      <td>3</td>\n",
       "      <td>Office Supplies</td>\n",
       "      <td>420.0</td>\n",
       "    </tr>\n",
       "    <tr>\n",
       "      <th>3</th>\n",
       "      <td>IT-2011-2942451</td>\n",
       "      <td>Boston Markers, Easy-Erase</td>\n",
       "      <td>0.5</td>\n",
       "      <td>27</td>\n",
       "      <td>2</td>\n",
       "      <td>Office Supplies</td>\n",
       "      <td>53.5</td>\n",
       "    </tr>\n",
       "    <tr>\n",
       "      <th>4</th>\n",
       "      <td>IT-2011-2942451</td>\n",
       "      <td>Eldon Folders, Single Width</td>\n",
       "      <td>0.5</td>\n",
       "      <td>17</td>\n",
       "      <td>2</td>\n",
       "      <td>Office Supplies</td>\n",
       "      <td>33.5</td>\n",
       "    </tr>\n",
       "    <tr>\n",
       "      <th>...</th>\n",
       "      <td>...</td>\n",
       "      <td>...</td>\n",
       "      <td>...</td>\n",
       "      <td>...</td>\n",
       "      <td>...</td>\n",
       "      <td>...</td>\n",
       "      <td>...</td>\n",
       "    </tr>\n",
       "    <tr>\n",
       "      <th>8042</th>\n",
       "      <td>ES-2014-3458802</td>\n",
       "      <td>Ikea Stackable Bookrack, Traditional</td>\n",
       "      <td>0.0</td>\n",
       "      <td>245</td>\n",
       "      <td>2</td>\n",
       "      <td>Furniture</td>\n",
       "      <td>490.0</td>\n",
       "    </tr>\n",
       "    <tr>\n",
       "      <th>8043</th>\n",
       "      <td>IT-2014-3715679</td>\n",
       "      <td>BIC Pencil Sharpener, Fluorescent</td>\n",
       "      <td>0.5</td>\n",
       "      <td>30</td>\n",
       "      <td>2</td>\n",
       "      <td>Office Supplies</td>\n",
       "      <td>59.5</td>\n",
       "    </tr>\n",
       "    <tr>\n",
       "      <th>8044</th>\n",
       "      <td>IT-2014-3715679</td>\n",
       "      <td>Avery Binder Covers, Recycled</td>\n",
       "      <td>0.5</td>\n",
       "      <td>23</td>\n",
       "      <td>4</td>\n",
       "      <td>Office Supplies</td>\n",
       "      <td>91.5</td>\n",
       "    </tr>\n",
       "    <tr>\n",
       "      <th>8045</th>\n",
       "      <td>IT-2014-3715679</td>\n",
       "      <td>StarTech Phone, Red</td>\n",
       "      <td>0.5</td>\n",
       "      <td>108</td>\n",
       "      <td>3</td>\n",
       "      <td>Technology</td>\n",
       "      <td>323.5</td>\n",
       "    </tr>\n",
       "    <tr>\n",
       "      <th>8046</th>\n",
       "      <td>ES-2014-3458802</td>\n",
       "      <td>Motorola Audio Dock, VoIP</td>\n",
       "      <td>0.0</td>\n",
       "      <td>867</td>\n",
       "      <td>5</td>\n",
       "      <td>Technology</td>\n",
       "      <td>4335.0</td>\n",
       "    </tr>\n",
       "  </tbody>\n",
       "</table>\n",
       "<p>8047 rows × 7 columns</p>\n",
       "</div>"
      ],
      "text/plain": [
       "             order_id                           product_name  discount  sales  \\\n",
       "0     IT-2011-3647632            Enermax Note Cards, Premium       0.5     45   \n",
       "1     ES-2011-4869686     Dania Corner Shelving, Traditional       0.0    854   \n",
       "2     ES-2011-4939443  Binney & Smith Sketch Pad, Easy-Erase       0.0    140   \n",
       "3     IT-2011-2942451             Boston Markers, Easy-Erase       0.5     27   \n",
       "4     IT-2011-2942451            Eldon Folders, Single Width       0.5     17   \n",
       "...               ...                                    ...       ...    ...   \n",
       "8042  ES-2014-3458802   Ikea Stackable Bookrack, Traditional       0.0    245   \n",
       "8043  IT-2014-3715679      BIC Pencil Sharpener, Fluorescent       0.5     30   \n",
       "8044  IT-2014-3715679          Avery Binder Covers, Recycled       0.5     23   \n",
       "8045  IT-2014-3715679                    StarTech Phone, Red       0.5    108   \n",
       "8046  ES-2014-3458802              Motorola Audio Dock, VoIP       0.0    867   \n",
       "\n",
       "      quantity         category  total_price  \n",
       "0            3  Office Supplies        134.5  \n",
       "1            7        Furniture       5978.0  \n",
       "2            3  Office Supplies        420.0  \n",
       "3            2  Office Supplies         53.5  \n",
       "4            2  Office Supplies         33.5  \n",
       "...        ...              ...          ...  \n",
       "8042         2        Furniture        490.0  \n",
       "8043         2  Office Supplies         59.5  \n",
       "8044         4  Office Supplies         91.5  \n",
       "8045         3       Technology        323.5  \n",
       "8046         5       Technology       4335.0  \n",
       "\n",
       "[8047 rows x 7 columns]"
      ]
     },
     "execution_count": 107,
     "metadata": {},
     "output_type": "execute_result"
    }
   ],
   "source": [
    "# Select discount, sales, quantity, total price for Each Order from orders_break_down Table\n",
    "query = \"\"\"\n",
    "        SELECT *, (sales * quantity - discount) AS total_price\n",
    "        FROM orders_break_down;\n",
    "        \"\"\"\n",
    "\n",
    "result = sql.read_sql(query, con=db_connection)\n",
    "result"
   ]
  },
  {
   "cell_type": "markdown",
   "metadata": {
    "ExecuteTime": {
     "end_time": "2019-03-21T03:42:08.012935Z",
     "start_time": "2019-03-21T03:42:08.008947Z"
    },
    "id": "2hM2p7HChEFB"
   },
   "source": [
    "#### 7.C Select All Orders from orders_break_down Table Where Total Price Greater Than 100"
   ]
  },
  {
   "cell_type": "code",
   "execution_count": 109,
   "metadata": {
    "ExecuteTime": {
     "end_time": "2019-03-21T03:42:42.744917Z",
     "start_time": "2019-03-21T03:42:42.709011Z"
    },
    "id": "8aj0ZZrthEFC"
   },
   "outputs": [
    {
     "data": {
      "text/html": [
       "<div>\n",
       "<style scoped>\n",
       "    .dataframe tbody tr th:only-of-type {\n",
       "        vertical-align: middle;\n",
       "    }\n",
       "\n",
       "    .dataframe tbody tr th {\n",
       "        vertical-align: top;\n",
       "    }\n",
       "\n",
       "    .dataframe thead th {\n",
       "        text-align: right;\n",
       "    }\n",
       "</style>\n",
       "<table border=\"1\" class=\"dataframe\">\n",
       "  <thead>\n",
       "    <tr style=\"text-align: right;\">\n",
       "      <th></th>\n",
       "      <th>order_id</th>\n",
       "      <th>product_name</th>\n",
       "      <th>discount</th>\n",
       "      <th>sales</th>\n",
       "      <th>quantity</th>\n",
       "      <th>category</th>\n",
       "      <th>total_price</th>\n",
       "    </tr>\n",
       "  </thead>\n",
       "  <tbody>\n",
       "    <tr>\n",
       "      <th>0</th>\n",
       "      <td>IT-2011-3647632</td>\n",
       "      <td>Enermax Note Cards, Premium</td>\n",
       "      <td>0.5</td>\n",
       "      <td>45</td>\n",
       "      <td>3</td>\n",
       "      <td>Office Supplies</td>\n",
       "      <td>134.5</td>\n",
       "    </tr>\n",
       "    <tr>\n",
       "      <th>1</th>\n",
       "      <td>ES-2011-4869686</td>\n",
       "      <td>Dania Corner Shelving, Traditional</td>\n",
       "      <td>0.0</td>\n",
       "      <td>854</td>\n",
       "      <td>7</td>\n",
       "      <td>Furniture</td>\n",
       "      <td>5978.0</td>\n",
       "    </tr>\n",
       "    <tr>\n",
       "      <th>2</th>\n",
       "      <td>ES-2011-4939443</td>\n",
       "      <td>Binney &amp; Smith Sketch Pad, Easy-Erase</td>\n",
       "      <td>0.0</td>\n",
       "      <td>140</td>\n",
       "      <td>3</td>\n",
       "      <td>Office Supplies</td>\n",
       "      <td>420.0</td>\n",
       "    </tr>\n",
       "    <tr>\n",
       "      <th>3</th>\n",
       "      <td>ES-2011-3848439</td>\n",
       "      <td>Binney &amp; Smith Pencil Sharpener, Water Color</td>\n",
       "      <td>0.0</td>\n",
       "      <td>90</td>\n",
       "      <td>3</td>\n",
       "      <td>Office Supplies</td>\n",
       "      <td>270.0</td>\n",
       "    </tr>\n",
       "    <tr>\n",
       "      <th>4</th>\n",
       "      <td>ES-2011-3848439</td>\n",
       "      <td>Sanford Canvas, Fluorescent</td>\n",
       "      <td>0.0</td>\n",
       "      <td>207</td>\n",
       "      <td>4</td>\n",
       "      <td>Office Supplies</td>\n",
       "      <td>828.0</td>\n",
       "    </tr>\n",
       "    <tr>\n",
       "      <th>...</th>\n",
       "      <td>...</td>\n",
       "      <td>...</td>\n",
       "      <td>...</td>\n",
       "      <td>...</td>\n",
       "      <td>...</td>\n",
       "      <td>...</td>\n",
       "      <td>...</td>\n",
       "    </tr>\n",
       "    <tr>\n",
       "      <th>6461</th>\n",
       "      <td>ES-2014-2815584</td>\n",
       "      <td>Kleencut Shears, Serrated</td>\n",
       "      <td>0.0</td>\n",
       "      <td>261</td>\n",
       "      <td>6</td>\n",
       "      <td>Office Supplies</td>\n",
       "      <td>1566.0</td>\n",
       "    </tr>\n",
       "    <tr>\n",
       "      <th>6462</th>\n",
       "      <td>ES-2014-4785777</td>\n",
       "      <td>Wilson Jones Index Tab, Economy</td>\n",
       "      <td>0.0</td>\n",
       "      <td>32</td>\n",
       "      <td>5</td>\n",
       "      <td>Office Supplies</td>\n",
       "      <td>160.0</td>\n",
       "    </tr>\n",
       "    <tr>\n",
       "      <th>6463</th>\n",
       "      <td>ES-2014-3458802</td>\n",
       "      <td>Ikea Stackable Bookrack, Traditional</td>\n",
       "      <td>0.0</td>\n",
       "      <td>245</td>\n",
       "      <td>2</td>\n",
       "      <td>Furniture</td>\n",
       "      <td>490.0</td>\n",
       "    </tr>\n",
       "    <tr>\n",
       "      <th>6464</th>\n",
       "      <td>IT-2014-3715679</td>\n",
       "      <td>StarTech Phone, Red</td>\n",
       "      <td>0.5</td>\n",
       "      <td>108</td>\n",
       "      <td>3</td>\n",
       "      <td>Technology</td>\n",
       "      <td>323.5</td>\n",
       "    </tr>\n",
       "    <tr>\n",
       "      <th>6465</th>\n",
       "      <td>ES-2014-3458802</td>\n",
       "      <td>Motorola Audio Dock, VoIP</td>\n",
       "      <td>0.0</td>\n",
       "      <td>867</td>\n",
       "      <td>5</td>\n",
       "      <td>Technology</td>\n",
       "      <td>4335.0</td>\n",
       "    </tr>\n",
       "  </tbody>\n",
       "</table>\n",
       "<p>6466 rows × 7 columns</p>\n",
       "</div>"
      ],
      "text/plain": [
       "             order_id                                  product_name  discount  \\\n",
       "0     IT-2011-3647632                   Enermax Note Cards, Premium       0.5   \n",
       "1     ES-2011-4869686            Dania Corner Shelving, Traditional       0.0   \n",
       "2     ES-2011-4939443         Binney & Smith Sketch Pad, Easy-Erase       0.0   \n",
       "3     ES-2011-3848439  Binney & Smith Pencil Sharpener, Water Color       0.0   \n",
       "4     ES-2011-3848439                   Sanford Canvas, Fluorescent       0.0   \n",
       "...               ...                                           ...       ...   \n",
       "6461  ES-2014-2815584                     Kleencut Shears, Serrated       0.0   \n",
       "6462  ES-2014-4785777               Wilson Jones Index Tab, Economy       0.0   \n",
       "6463  ES-2014-3458802          Ikea Stackable Bookrack, Traditional       0.0   \n",
       "6464  IT-2014-3715679                           StarTech Phone, Red       0.5   \n",
       "6465  ES-2014-3458802                     Motorola Audio Dock, VoIP       0.0   \n",
       "\n",
       "      sales  quantity         category  total_price  \n",
       "0        45         3  Office Supplies        134.5  \n",
       "1       854         7        Furniture       5978.0  \n",
       "2       140         3  Office Supplies        420.0  \n",
       "3        90         3  Office Supplies        270.0  \n",
       "4       207         4  Office Supplies        828.0  \n",
       "...     ...       ...              ...          ...  \n",
       "6461    261         6  Office Supplies       1566.0  \n",
       "6462     32         5  Office Supplies        160.0  \n",
       "6463    245         2        Furniture        490.0  \n",
       "6464    108         3       Technology        323.5  \n",
       "6465    867         5       Technology       4335.0  \n",
       "\n",
       "[6466 rows x 7 columns]"
      ]
     },
     "execution_count": 109,
     "metadata": {},
     "output_type": "execute_result"
    }
   ],
   "source": [
    "# Select All Orders from orders_break_down Table Where Total Price Greater Than 100\n",
    "query = \"\"\"\n",
    "        SELECT *, (sales * quantity - discount) AS total_price\n",
    "        FROM orders_break_down\n",
    "        WHERE total_price > 100;\n",
    "        \"\"\"\n",
    "\n",
    "result = sql.read_sql(query, con=db_connection)\n",
    "result"
   ]
  },
  {
   "cell_type": "markdown",
   "metadata": {
    "id": "qAgJAmudhEFF"
   },
   "source": [
    "#### 8. Select All Customer And The Product They Have Bought"
   ]
  },
  {
   "cell_type": "code",
   "execution_count": 110,
   "metadata": {},
   "outputs": [
    {
     "data": {
      "text/html": [
       "<div>\n",
       "<style scoped>\n",
       "    .dataframe tbody tr th:only-of-type {\n",
       "        vertical-align: middle;\n",
       "    }\n",
       "\n",
       "    .dataframe tbody tr th {\n",
       "        vertical-align: top;\n",
       "    }\n",
       "\n",
       "    .dataframe thead th {\n",
       "        text-align: right;\n",
       "    }\n",
       "</style>\n",
       "<table border=\"1\" class=\"dataframe\">\n",
       "  <thead>\n",
       "    <tr style=\"text-align: right;\">\n",
       "      <th></th>\n",
       "      <th>order_id</th>\n",
       "      <th>product_name</th>\n",
       "      <th>discount</th>\n",
       "      <th>sales</th>\n",
       "      <th>quantity</th>\n",
       "      <th>category</th>\n",
       "    </tr>\n",
       "  </thead>\n",
       "  <tbody>\n",
       "    <tr>\n",
       "      <th>0</th>\n",
       "      <td>IT-2011-3647632</td>\n",
       "      <td>Enermax Note Cards, Premium</td>\n",
       "      <td>0.5</td>\n",
       "      <td>45</td>\n",
       "      <td>3</td>\n",
       "      <td>Office Supplies</td>\n",
       "    </tr>\n",
       "    <tr>\n",
       "      <th>1</th>\n",
       "      <td>ES-2011-4869686</td>\n",
       "      <td>Dania Corner Shelving, Traditional</td>\n",
       "      <td>0.0</td>\n",
       "      <td>854</td>\n",
       "      <td>7</td>\n",
       "      <td>Furniture</td>\n",
       "    </tr>\n",
       "  </tbody>\n",
       "</table>\n",
       "</div>"
      ],
      "text/plain": [
       "          order_id                        product_name  discount  sales  \\\n",
       "0  IT-2011-3647632         Enermax Note Cards, Premium       0.5     45   \n",
       "1  ES-2011-4869686  Dania Corner Shelving, Traditional       0.0    854   \n",
       "\n",
       "   quantity         category  \n",
       "0         3  Office Supplies  \n",
       "1         7        Furniture  "
      ]
     },
     "execution_count": 110,
     "metadata": {},
     "output_type": "execute_result"
    }
   ],
   "source": [
    "orders_break_down.head(2)"
   ]
  },
  {
   "cell_type": "code",
   "execution_count": 111,
   "metadata": {},
   "outputs": [
    {
     "data": {
      "text/html": [
       "<div>\n",
       "<style scoped>\n",
       "    .dataframe tbody tr th:only-of-type {\n",
       "        vertical-align: middle;\n",
       "    }\n",
       "\n",
       "    .dataframe tbody tr th {\n",
       "        vertical-align: top;\n",
       "    }\n",
       "\n",
       "    .dataframe thead th {\n",
       "        text-align: right;\n",
       "    }\n",
       "</style>\n",
       "<table border=\"1\" class=\"dataframe\">\n",
       "  <thead>\n",
       "    <tr style=\"text-align: right;\">\n",
       "      <th></th>\n",
       "      <th>order_id</th>\n",
       "      <th>order_date</th>\n",
       "      <th>customer_name</th>\n",
       "      <th>country</th>\n",
       "    </tr>\n",
       "  </thead>\n",
       "  <tbody>\n",
       "    <tr>\n",
       "      <th>0</th>\n",
       "      <td>IT-2011-3647632</td>\n",
       "      <td>2011-01-01</td>\n",
       "      <td>Eugene Moren</td>\n",
       "      <td>Sweden</td>\n",
       "    </tr>\n",
       "    <tr>\n",
       "      <th>1</th>\n",
       "      <td>ES-2011-4869686</td>\n",
       "      <td>2011-01-03</td>\n",
       "      <td>Dorothy Dickinson</td>\n",
       "      <td>United Kingdom</td>\n",
       "    </tr>\n",
       "  </tbody>\n",
       "</table>\n",
       "</div>"
      ],
      "text/plain": [
       "          order_id  order_date      customer_name         country\n",
       "0  IT-2011-3647632  2011-01-01       Eugene Moren          Sweden\n",
       "1  ES-2011-4869686  2011-01-03  Dorothy Dickinson  United Kingdom"
      ]
     },
     "execution_count": 111,
     "metadata": {},
     "output_type": "execute_result"
    }
   ],
   "source": [
    "orders.head(2)"
   ]
  },
  {
   "cell_type": "code",
   "execution_count": 113,
   "metadata": {
    "ExecuteTime": {
     "end_time": "2019-03-21T03:48:23.774361Z",
     "start_time": "2019-03-21T03:48:23.719474Z"
    },
    "collapsed": true,
    "id": "HzKZ71SmhEFG",
    "jupyter": {
     "outputs_hidden": true
    },
    "tags": []
   },
   "outputs": [
    {
     "data": {
      "text/html": [
       "<div>\n",
       "<style scoped>\n",
       "    .dataframe tbody tr th:only-of-type {\n",
       "        vertical-align: middle;\n",
       "    }\n",
       "\n",
       "    .dataframe tbody tr th {\n",
       "        vertical-align: top;\n",
       "    }\n",
       "\n",
       "    .dataframe thead th {\n",
       "        text-align: right;\n",
       "    }\n",
       "</style>\n",
       "<table border=\"1\" class=\"dataframe\">\n",
       "  <thead>\n",
       "    <tr style=\"text-align: right;\">\n",
       "      <th></th>\n",
       "      <th>customer_name</th>\n",
       "      <th>product_name</th>\n",
       "    </tr>\n",
       "  </thead>\n",
       "  <tbody>\n",
       "    <tr>\n",
       "      <th>0</th>\n",
       "      <td>Eugene Moren</td>\n",
       "      <td>Enermax Note Cards, Premium</td>\n",
       "    </tr>\n",
       "    <tr>\n",
       "      <th>1</th>\n",
       "      <td>Dorothy Dickinson</td>\n",
       "      <td>Dania Corner Shelving, Traditional</td>\n",
       "    </tr>\n",
       "    <tr>\n",
       "      <th>2</th>\n",
       "      <td>Arthur Prichep</td>\n",
       "      <td>Binney &amp; Smith Sketch Pad, Easy-Erase</td>\n",
       "    </tr>\n",
       "    <tr>\n",
       "      <th>3</th>\n",
       "      <td>Grant Thornton</td>\n",
       "      <td>Boston Markers, Easy-Erase</td>\n",
       "    </tr>\n",
       "    <tr>\n",
       "      <th>4</th>\n",
       "      <td>Grant Thornton</td>\n",
       "      <td>Eldon Folders, Single Width</td>\n",
       "    </tr>\n",
       "    <tr>\n",
       "      <th>...</th>\n",
       "      <td>...</td>\n",
       "      <td>...</td>\n",
       "    </tr>\n",
       "    <tr>\n",
       "      <th>8042</th>\n",
       "      <td>Susan Vittorini</td>\n",
       "      <td>Fellowes Shelving, Single Width</td>\n",
       "    </tr>\n",
       "    <tr>\n",
       "      <th>8043</th>\n",
       "      <td>Dennis Pardue</td>\n",
       "      <td>Wilson Jones Index Tab, Economy</td>\n",
       "    </tr>\n",
       "    <tr>\n",
       "      <th>8044</th>\n",
       "      <td>Jim Kriz</td>\n",
       "      <td>Avery Binder Covers, Recycled</td>\n",
       "    </tr>\n",
       "    <tr>\n",
       "      <th>8045</th>\n",
       "      <td>Jim Kriz</td>\n",
       "      <td>BIC Pencil Sharpener, Fluorescent</td>\n",
       "    </tr>\n",
       "    <tr>\n",
       "      <th>8046</th>\n",
       "      <td>Jim Kriz</td>\n",
       "      <td>StarTech Phone, Red</td>\n",
       "    </tr>\n",
       "  </tbody>\n",
       "</table>\n",
       "<p>8047 rows × 2 columns</p>\n",
       "</div>"
      ],
      "text/plain": [
       "          customer_name                           product_name\n",
       "0          Eugene Moren            Enermax Note Cards, Premium\n",
       "1     Dorothy Dickinson     Dania Corner Shelving, Traditional\n",
       "2        Arthur Prichep  Binney & Smith Sketch Pad, Easy-Erase\n",
       "3        Grant Thornton             Boston Markers, Easy-Erase\n",
       "4        Grant Thornton            Eldon Folders, Single Width\n",
       "...                 ...                                    ...\n",
       "8042    Susan Vittorini        Fellowes Shelving, Single Width\n",
       "8043      Dennis Pardue        Wilson Jones Index Tab, Economy\n",
       "8044           Jim Kriz          Avery Binder Covers, Recycled\n",
       "8045           Jim Kriz      BIC Pencil Sharpener, Fluorescent\n",
       "8046           Jim Kriz                    StarTech Phone, Red\n",
       "\n",
       "[8047 rows x 2 columns]"
      ]
     },
     "execution_count": 113,
     "metadata": {},
     "output_type": "execute_result"
    }
   ],
   "source": [
    "# Select All Customer And The Product They Have Bought\n",
    "query = \"\"\"\n",
    "        SELECT customer_name, product_name\n",
    "        FROM orders\n",
    "        LEFT JOIN orders_break_down\n",
    "        ON orders.order_id = orders_break_down.order_id\n",
    "        \"\"\"\n",
    "\n",
    "result = sql.read_sql(query, con=db_connection)\n",
    "result"
   ]
  },
  {
   "cell_type": "markdown",
   "metadata": {
    "ExecuteTime": {
     "end_time": "2019-03-21T03:50:32.122897Z",
     "start_time": "2019-03-21T03:50:32.116914Z"
    },
    "id": "fWIg7LjUhEFK"
   },
   "source": [
    "#### 9.A Select Number of 'Furniture' Orders For Each Country "
   ]
  },
  {
   "cell_type": "code",
   "execution_count": 115,
   "metadata": {},
   "outputs": [
    {
     "data": {
      "text/html": [
       "<div>\n",
       "<style scoped>\n",
       "    .dataframe tbody tr th:only-of-type {\n",
       "        vertical-align: middle;\n",
       "    }\n",
       "\n",
       "    .dataframe tbody tr th {\n",
       "        vertical-align: top;\n",
       "    }\n",
       "\n",
       "    .dataframe thead th {\n",
       "        text-align: right;\n",
       "    }\n",
       "</style>\n",
       "<table border=\"1\" class=\"dataframe\">\n",
       "  <thead>\n",
       "    <tr style=\"text-align: right;\">\n",
       "      <th></th>\n",
       "      <th>order_id</th>\n",
       "      <th>product_name</th>\n",
       "      <th>discount</th>\n",
       "      <th>sales</th>\n",
       "      <th>quantity</th>\n",
       "      <th>category</th>\n",
       "    </tr>\n",
       "  </thead>\n",
       "  <tbody>\n",
       "    <tr>\n",
       "      <th>0</th>\n",
       "      <td>IT-2011-3647632</td>\n",
       "      <td>Enermax Note Cards, Premium</td>\n",
       "      <td>0.5</td>\n",
       "      <td>45</td>\n",
       "      <td>3</td>\n",
       "      <td>Office Supplies</td>\n",
       "    </tr>\n",
       "    <tr>\n",
       "      <th>1</th>\n",
       "      <td>ES-2011-4869686</td>\n",
       "      <td>Dania Corner Shelving, Traditional</td>\n",
       "      <td>0.0</td>\n",
       "      <td>854</td>\n",
       "      <td>7</td>\n",
       "      <td>Furniture</td>\n",
       "    </tr>\n",
       "  </tbody>\n",
       "</table>\n",
       "</div>"
      ],
      "text/plain": [
       "          order_id                        product_name  discount  sales  \\\n",
       "0  IT-2011-3647632         Enermax Note Cards, Premium       0.5     45   \n",
       "1  ES-2011-4869686  Dania Corner Shelving, Traditional       0.0    854   \n",
       "\n",
       "   quantity         category  \n",
       "0         3  Office Supplies  \n",
       "1         7        Furniture  "
      ]
     },
     "execution_count": 115,
     "metadata": {},
     "output_type": "execute_result"
    }
   ],
   "source": [
    "orders_break_down.head(2)"
   ]
  },
  {
   "cell_type": "code",
   "execution_count": 116,
   "metadata": {},
   "outputs": [
    {
     "data": {
      "text/html": [
       "<div>\n",
       "<style scoped>\n",
       "    .dataframe tbody tr th:only-of-type {\n",
       "        vertical-align: middle;\n",
       "    }\n",
       "\n",
       "    .dataframe tbody tr th {\n",
       "        vertical-align: top;\n",
       "    }\n",
       "\n",
       "    .dataframe thead th {\n",
       "        text-align: right;\n",
       "    }\n",
       "</style>\n",
       "<table border=\"1\" class=\"dataframe\">\n",
       "  <thead>\n",
       "    <tr style=\"text-align: right;\">\n",
       "      <th></th>\n",
       "      <th>order_id</th>\n",
       "      <th>order_date</th>\n",
       "      <th>customer_name</th>\n",
       "      <th>country</th>\n",
       "    </tr>\n",
       "  </thead>\n",
       "  <tbody>\n",
       "    <tr>\n",
       "      <th>0</th>\n",
       "      <td>IT-2011-3647632</td>\n",
       "      <td>2011-01-01</td>\n",
       "      <td>Eugene Moren</td>\n",
       "      <td>Sweden</td>\n",
       "    </tr>\n",
       "    <tr>\n",
       "      <th>1</th>\n",
       "      <td>ES-2011-4869686</td>\n",
       "      <td>2011-01-03</td>\n",
       "      <td>Dorothy Dickinson</td>\n",
       "      <td>United Kingdom</td>\n",
       "    </tr>\n",
       "  </tbody>\n",
       "</table>\n",
       "</div>"
      ],
      "text/plain": [
       "          order_id  order_date      customer_name         country\n",
       "0  IT-2011-3647632  2011-01-01       Eugene Moren          Sweden\n",
       "1  ES-2011-4869686  2011-01-03  Dorothy Dickinson  United Kingdom"
      ]
     },
     "execution_count": 116,
     "metadata": {},
     "output_type": "execute_result"
    }
   ],
   "source": [
    "orders.head(2)"
   ]
  },
  {
   "cell_type": "code",
   "execution_count": 119,
   "metadata": {
    "ExecuteTime": {
     "end_time": "2019-03-21T03:56:42.800404Z",
     "start_time": "2019-03-21T03:56:42.759513Z"
    },
    "collapsed": true,
    "id": "061N5XX9hEFK",
    "jupyter": {
     "outputs_hidden": true
    },
    "tags": []
   },
   "outputs": [
    {
     "data": {
      "text/html": [
       "<div>\n",
       "<style scoped>\n",
       "    .dataframe tbody tr th:only-of-type {\n",
       "        vertical-align: middle;\n",
       "    }\n",
       "\n",
       "    .dataframe tbody tr th {\n",
       "        vertical-align: top;\n",
       "    }\n",
       "\n",
       "    .dataframe thead th {\n",
       "        text-align: right;\n",
       "    }\n",
       "</style>\n",
       "<table border=\"1\" class=\"dataframe\">\n",
       "  <thead>\n",
       "    <tr style=\"text-align: right;\">\n",
       "      <th></th>\n",
       "      <th>order_id</th>\n",
       "      <th>order_date</th>\n",
       "      <th>customer_name</th>\n",
       "      <th>country</th>\n",
       "      <th>order_id</th>\n",
       "      <th>product_name</th>\n",
       "      <th>discount</th>\n",
       "      <th>sales</th>\n",
       "      <th>quantity</th>\n",
       "      <th>category</th>\n",
       "    </tr>\n",
       "  </thead>\n",
       "  <tbody>\n",
       "    <tr>\n",
       "      <th>0</th>\n",
       "      <td>ES-2011-4869686</td>\n",
       "      <td>2011-01-03</td>\n",
       "      <td>Dorothy Dickinson</td>\n",
       "      <td>United Kingdom</td>\n",
       "      <td>ES-2011-4869686</td>\n",
       "      <td>Dania Corner Shelving, Traditional</td>\n",
       "      <td>0.00</td>\n",
       "      <td>854</td>\n",
       "      <td>7</td>\n",
       "      <td>Furniture</td>\n",
       "    </tr>\n",
       "    <tr>\n",
       "      <th>1</th>\n",
       "      <td>ES-2011-5433855</td>\n",
       "      <td>2011-01-07</td>\n",
       "      <td>Dave Poirier</td>\n",
       "      <td>France</td>\n",
       "      <td>ES-2011-5433855</td>\n",
       "      <td>Bush Floating Shelf Set, Pine</td>\n",
       "      <td>0.10</td>\n",
       "      <td>155</td>\n",
       "      <td>1</td>\n",
       "      <td>Furniture</td>\n",
       "    </tr>\n",
       "    <tr>\n",
       "      <th>2</th>\n",
       "      <td>IT-2011-4546695</td>\n",
       "      <td>2011-01-08</td>\n",
       "      <td>Darren Powers</td>\n",
       "      <td>France</td>\n",
       "      <td>IT-2011-4546695</td>\n",
       "      <td>Ikea Classic Bookcase, Metal</td>\n",
       "      <td>0.60</td>\n",
       "      <td>987</td>\n",
       "      <td>6</td>\n",
       "      <td>Furniture</td>\n",
       "    </tr>\n",
       "    <tr>\n",
       "      <th>3</th>\n",
       "      <td>ES-2011-5158390</td>\n",
       "      <td>2011-01-11</td>\n",
       "      <td>Roy Collins</td>\n",
       "      <td>United Kingdom</td>\n",
       "      <td>ES-2011-5158390</td>\n",
       "      <td>SAFCO Executive Leather Armchair, Red</td>\n",
       "      <td>0.00</td>\n",
       "      <td>1384</td>\n",
       "      <td>3</td>\n",
       "      <td>Furniture</td>\n",
       "    </tr>\n",
       "    <tr>\n",
       "      <th>4</th>\n",
       "      <td>ES-2011-4359424</td>\n",
       "      <td>2011-01-11</td>\n",
       "      <td>Dorothy Dickinson</td>\n",
       "      <td>Spain</td>\n",
       "      <td>ES-2011-4359424</td>\n",
       "      <td>Bevis Training Table, with Bottom Storage</td>\n",
       "      <td>0.60</td>\n",
       "      <td>268</td>\n",
       "      <td>2</td>\n",
       "      <td>Furniture</td>\n",
       "    </tr>\n",
       "    <tr>\n",
       "      <th>...</th>\n",
       "      <td>...</td>\n",
       "      <td>...</td>\n",
       "      <td>...</td>\n",
       "      <td>...</td>\n",
       "      <td>...</td>\n",
       "      <td>...</td>\n",
       "      <td>...</td>\n",
       "      <td>...</td>\n",
       "      <td>...</td>\n",
       "      <td>...</td>\n",
       "    </tr>\n",
       "    <tr>\n",
       "      <th>1233</th>\n",
       "      <td>ES-2014-4107155</td>\n",
       "      <td>2014-12-29</td>\n",
       "      <td>Carlos Daly</td>\n",
       "      <td>France</td>\n",
       "      <td>ES-2014-4107155</td>\n",
       "      <td>Lesro Round Table, Rectangular</td>\n",
       "      <td>0.35</td>\n",
       "      <td>1461</td>\n",
       "      <td>5</td>\n",
       "      <td>Furniture</td>\n",
       "    </tr>\n",
       "    <tr>\n",
       "      <th>1234</th>\n",
       "      <td>ES-2014-5861616</td>\n",
       "      <td>2014-12-29</td>\n",
       "      <td>Paul Gonzalez</td>\n",
       "      <td>France</td>\n",
       "      <td>ES-2014-5861616</td>\n",
       "      <td>Deflect-O Clock, Durable</td>\n",
       "      <td>0.00</td>\n",
       "      <td>189</td>\n",
       "      <td>4</td>\n",
       "      <td>Furniture</td>\n",
       "    </tr>\n",
       "    <tr>\n",
       "      <th>1235</th>\n",
       "      <td>ES-2014-3776783</td>\n",
       "      <td>2014-12-30</td>\n",
       "      <td>Tony Chapman</td>\n",
       "      <td>Germany</td>\n",
       "      <td>ES-2014-3776783</td>\n",
       "      <td>Rubbermaid Door Stop, Ergonomic</td>\n",
       "      <td>0.00</td>\n",
       "      <td>85</td>\n",
       "      <td>2</td>\n",
       "      <td>Furniture</td>\n",
       "    </tr>\n",
       "    <tr>\n",
       "      <th>1236</th>\n",
       "      <td>ES-2014-4134163</td>\n",
       "      <td>2014-12-30</td>\n",
       "      <td>Max Ludwig</td>\n",
       "      <td>United Kingdom</td>\n",
       "      <td>ES-2014-4134163</td>\n",
       "      <td>Office Star Chairmat, Adjustable</td>\n",
       "      <td>0.00</td>\n",
       "      <td>68</td>\n",
       "      <td>1</td>\n",
       "      <td>Furniture</td>\n",
       "    </tr>\n",
       "    <tr>\n",
       "      <th>1237</th>\n",
       "      <td>ES-2014-3458802</td>\n",
       "      <td>2014-12-31</td>\n",
       "      <td>John Grady</td>\n",
       "      <td>United Kingdom</td>\n",
       "      <td>ES-2014-3458802</td>\n",
       "      <td>Ikea Stackable Bookrack, Traditional</td>\n",
       "      <td>0.00</td>\n",
       "      <td>245</td>\n",
       "      <td>2</td>\n",
       "      <td>Furniture</td>\n",
       "    </tr>\n",
       "  </tbody>\n",
       "</table>\n",
       "<p>1238 rows × 10 columns</p>\n",
       "</div>"
      ],
      "text/plain": [
       "             order_id  order_date      customer_name         country  \\\n",
       "0     ES-2011-4869686  2011-01-03  Dorothy Dickinson  United Kingdom   \n",
       "1     ES-2011-5433855  2011-01-07       Dave Poirier          France   \n",
       "2     IT-2011-4546695  2011-01-08      Darren Powers          France   \n",
       "3     ES-2011-5158390  2011-01-11        Roy Collins  United Kingdom   \n",
       "4     ES-2011-4359424  2011-01-11  Dorothy Dickinson           Spain   \n",
       "...               ...         ...                ...             ...   \n",
       "1233  ES-2014-4107155  2014-12-29        Carlos Daly          France   \n",
       "1234  ES-2014-5861616  2014-12-29      Paul Gonzalez          France   \n",
       "1235  ES-2014-3776783  2014-12-30       Tony Chapman         Germany   \n",
       "1236  ES-2014-4134163  2014-12-30         Max Ludwig  United Kingdom   \n",
       "1237  ES-2014-3458802  2014-12-31         John Grady  United Kingdom   \n",
       "\n",
       "             order_id                               product_name  discount  \\\n",
       "0     ES-2011-4869686         Dania Corner Shelving, Traditional      0.00   \n",
       "1     ES-2011-5433855              Bush Floating Shelf Set, Pine      0.10   \n",
       "2     IT-2011-4546695               Ikea Classic Bookcase, Metal      0.60   \n",
       "3     ES-2011-5158390      SAFCO Executive Leather Armchair, Red      0.00   \n",
       "4     ES-2011-4359424  Bevis Training Table, with Bottom Storage      0.60   \n",
       "...               ...                                        ...       ...   \n",
       "1233  ES-2014-4107155             Lesro Round Table, Rectangular      0.35   \n",
       "1234  ES-2014-5861616                   Deflect-O Clock, Durable      0.00   \n",
       "1235  ES-2014-3776783            Rubbermaid Door Stop, Ergonomic      0.00   \n",
       "1236  ES-2014-4134163           Office Star Chairmat, Adjustable      0.00   \n",
       "1237  ES-2014-3458802       Ikea Stackable Bookrack, Traditional      0.00   \n",
       "\n",
       "      sales  quantity   category  \n",
       "0       854         7  Furniture  \n",
       "1       155         1  Furniture  \n",
       "2       987         6  Furniture  \n",
       "3      1384         3  Furniture  \n",
       "4       268         2  Furniture  \n",
       "...     ...       ...        ...  \n",
       "1233   1461         5  Furniture  \n",
       "1234    189         4  Furniture  \n",
       "1235     85         2  Furniture  \n",
       "1236     68         1  Furniture  \n",
       "1237    245         2  Furniture  \n",
       "\n",
       "[1238 rows x 10 columns]"
      ]
     },
     "execution_count": 119,
     "metadata": {},
     "output_type": "execute_result"
    }
   ],
   "source": [
    "# Select Number of 'Furniture' Orders For Each Country\n",
    "query = \"\"\"\n",
    "        SELECT *\n",
    "        FROM orders\n",
    "        LEFT JOIN orders_break_down\n",
    "        ON orders.order_id = orders_break_down.order_id\n",
    "        WHERE category = 'Furniture';\n",
    "        \"\"\"\n",
    "\n",
    "result = sql.read_sql(query, con=db_connection)\n",
    "result"
   ]
  },
  {
   "cell_type": "markdown",
   "metadata": {
    "id": "0jvgrcyGhEFO"
   },
   "source": [
    "#### 9.B Select Number of 'Furniture' Orders For The Country Denmark"
   ]
  },
  {
   "cell_type": "code",
   "execution_count": 127,
   "metadata": {
    "ExecuteTime": {
     "end_time": "2019-03-21T03:58:15.794528Z",
     "start_time": "2019-03-21T03:58:15.757627Z"
    },
    "collapsed": true,
    "id": "BjUN6GphhEFP",
    "jupyter": {
     "outputs_hidden": true
    },
    "tags": []
   },
   "outputs": [
    {
     "data": {
      "text/html": [
       "<div>\n",
       "<style scoped>\n",
       "    .dataframe tbody tr th:only-of-type {\n",
       "        vertical-align: middle;\n",
       "    }\n",
       "\n",
       "    .dataframe tbody tr th {\n",
       "        vertical-align: top;\n",
       "    }\n",
       "\n",
       "    .dataframe thead th {\n",
       "        text-align: right;\n",
       "    }\n",
       "</style>\n",
       "<table border=\"1\" class=\"dataframe\">\n",
       "  <thead>\n",
       "    <tr style=\"text-align: right;\">\n",
       "      <th></th>\n",
       "      <th>order_id</th>\n",
       "      <th>order_date</th>\n",
       "      <th>customer_name</th>\n",
       "      <th>country</th>\n",
       "      <th>order_id</th>\n",
       "      <th>product_name</th>\n",
       "      <th>discount</th>\n",
       "      <th>sales</th>\n",
       "      <th>quantity</th>\n",
       "      <th>category</th>\n",
       "      <th>category</th>\n",
       "    </tr>\n",
       "  </thead>\n",
       "  <tbody>\n",
       "    <tr>\n",
       "      <th>0</th>\n",
       "      <td>ES-2011-1586186</td>\n",
       "      <td>2011-06-16</td>\n",
       "      <td>Vivek Grady</td>\n",
       "      <td>Denmark</td>\n",
       "      <td>ES-2011-1586186</td>\n",
       "      <td>Office Star Bag Chairs, Set of Two</td>\n",
       "      <td>0.5</td>\n",
       "      <td>87</td>\n",
       "      <td>3</td>\n",
       "      <td>Furniture</td>\n",
       "      <td>Furniture</td>\n",
       "    </tr>\n",
       "    <tr>\n",
       "      <th>1</th>\n",
       "      <td>IT-2012-4084224</td>\n",
       "      <td>2012-02-15</td>\n",
       "      <td>Mick Brown</td>\n",
       "      <td>Denmark</td>\n",
       "      <td>IT-2012-4084224</td>\n",
       "      <td>Rubbermaid Door Stop, Ergonomic</td>\n",
       "      <td>0.6</td>\n",
       "      <td>17</td>\n",
       "      <td>1</td>\n",
       "      <td>Furniture</td>\n",
       "      <td>Furniture</td>\n",
       "    </tr>\n",
       "    <tr>\n",
       "      <th>2</th>\n",
       "      <td>IT-2013-4649004</td>\n",
       "      <td>2013-05-31</td>\n",
       "      <td>Bart Folk</td>\n",
       "      <td>Denmark</td>\n",
       "      <td>IT-2013-4649004</td>\n",
       "      <td>Novimex Executive Leather Armchair, Red</td>\n",
       "      <td>0.5</td>\n",
       "      <td>920</td>\n",
       "      <td>4</td>\n",
       "      <td>Furniture</td>\n",
       "      <td>Furniture</td>\n",
       "    </tr>\n",
       "    <tr>\n",
       "      <th>3</th>\n",
       "      <td>ES-2013-3422294</td>\n",
       "      <td>2013-09-07</td>\n",
       "      <td>Dave Brooks</td>\n",
       "      <td>Denmark</td>\n",
       "      <td>ES-2013-3422294</td>\n",
       "      <td>Advantus Door Stop, Duo Pack</td>\n",
       "      <td>0.6</td>\n",
       "      <td>36</td>\n",
       "      <td>2</td>\n",
       "      <td>Furniture</td>\n",
       "      <td>Furniture</td>\n",
       "    </tr>\n",
       "    <tr>\n",
       "      <th>4</th>\n",
       "      <td>ES-2014-3653593</td>\n",
       "      <td>2014-02-10</td>\n",
       "      <td>Ivan Liston</td>\n",
       "      <td>Denmark</td>\n",
       "      <td>ES-2014-3653593</td>\n",
       "      <td>Deflect-O Clock, Black</td>\n",
       "      <td>0.6</td>\n",
       "      <td>161</td>\n",
       "      <td>8</td>\n",
       "      <td>Furniture</td>\n",
       "      <td>Furniture</td>\n",
       "    </tr>\n",
       "    <tr>\n",
       "      <th>5</th>\n",
       "      <td>ES-2014-3653593</td>\n",
       "      <td>2014-02-10</td>\n",
       "      <td>Ivan Liston</td>\n",
       "      <td>Denmark</td>\n",
       "      <td>ES-2014-3653593</td>\n",
       "      <td>Harbour Creations Bag Chairs, Set of Two</td>\n",
       "      <td>0.5</td>\n",
       "      <td>32</td>\n",
       "      <td>1</td>\n",
       "      <td>Furniture</td>\n",
       "      <td>Furniture</td>\n",
       "    </tr>\n",
       "    <tr>\n",
       "      <th>6</th>\n",
       "      <td>ES-2014-1415600</td>\n",
       "      <td>2014-07-07</td>\n",
       "      <td>Damala Kotsonis</td>\n",
       "      <td>Denmark</td>\n",
       "      <td>ES-2014-1415600</td>\n",
       "      <td>Deflect-O Door Stop, Duo Pack</td>\n",
       "      <td>0.6</td>\n",
       "      <td>70</td>\n",
       "      <td>4</td>\n",
       "      <td>Furniture</td>\n",
       "      <td>Furniture</td>\n",
       "    </tr>\n",
       "    <tr>\n",
       "      <th>7</th>\n",
       "      <td>IT-2014-1978058</td>\n",
       "      <td>2014-11-13</td>\n",
       "      <td>Anthony Jacobs</td>\n",
       "      <td>Denmark</td>\n",
       "      <td>IT-2014-1978058</td>\n",
       "      <td>Harbour Creations Steel Folding Chair, Red</td>\n",
       "      <td>0.5</td>\n",
       "      <td>98</td>\n",
       "      <td>2</td>\n",
       "      <td>Furniture</td>\n",
       "      <td>Furniture</td>\n",
       "    </tr>\n",
       "    <tr>\n",
       "      <th>8</th>\n",
       "      <td>ES-2014-5784412</td>\n",
       "      <td>2014-11-25</td>\n",
       "      <td>Pete Kriz</td>\n",
       "      <td>Denmark</td>\n",
       "      <td>ES-2014-5784412</td>\n",
       "      <td>Eldon Light Bulb, Black</td>\n",
       "      <td>0.6</td>\n",
       "      <td>50</td>\n",
       "      <td>5</td>\n",
       "      <td>Furniture</td>\n",
       "      <td>Furniture</td>\n",
       "    </tr>\n",
       "  </tbody>\n",
       "</table>\n",
       "</div>"
      ],
      "text/plain": [
       "          order_id  order_date    customer_name  country         order_id  \\\n",
       "0  ES-2011-1586186  2011-06-16      Vivek Grady  Denmark  ES-2011-1586186   \n",
       "1  IT-2012-4084224  2012-02-15       Mick Brown  Denmark  IT-2012-4084224   \n",
       "2  IT-2013-4649004  2013-05-31        Bart Folk  Denmark  IT-2013-4649004   \n",
       "3  ES-2013-3422294  2013-09-07      Dave Brooks  Denmark  ES-2013-3422294   \n",
       "4  ES-2014-3653593  2014-02-10      Ivan Liston  Denmark  ES-2014-3653593   \n",
       "5  ES-2014-3653593  2014-02-10      Ivan Liston  Denmark  ES-2014-3653593   \n",
       "6  ES-2014-1415600  2014-07-07  Damala Kotsonis  Denmark  ES-2014-1415600   \n",
       "7  IT-2014-1978058  2014-11-13   Anthony Jacobs  Denmark  IT-2014-1978058   \n",
       "8  ES-2014-5784412  2014-11-25        Pete Kriz  Denmark  ES-2014-5784412   \n",
       "\n",
       "                                 product_name  discount  sales  quantity  \\\n",
       "0          Office Star Bag Chairs, Set of Two       0.5     87         3   \n",
       "1             Rubbermaid Door Stop, Ergonomic       0.6     17         1   \n",
       "2     Novimex Executive Leather Armchair, Red       0.5    920         4   \n",
       "3                Advantus Door Stop, Duo Pack       0.6     36         2   \n",
       "4                      Deflect-O Clock, Black       0.6    161         8   \n",
       "5    Harbour Creations Bag Chairs, Set of Two       0.5     32         1   \n",
       "6               Deflect-O Door Stop, Duo Pack       0.6     70         4   \n",
       "7  Harbour Creations Steel Folding Chair, Red       0.5     98         2   \n",
       "8                     Eldon Light Bulb, Black       0.6     50         5   \n",
       "\n",
       "    category   category  \n",
       "0  Furniture  Furniture  \n",
       "1  Furniture  Furniture  \n",
       "2  Furniture  Furniture  \n",
       "3  Furniture  Furniture  \n",
       "4  Furniture  Furniture  \n",
       "5  Furniture  Furniture  \n",
       "6  Furniture  Furniture  \n",
       "7  Furniture  Furniture  \n",
       "8  Furniture  Furniture  "
      ]
     },
     "execution_count": 127,
     "metadata": {},
     "output_type": "execute_result"
    }
   ],
   "source": [
    "# Select Number of 'Furniture' Orders For The Country Denmark\n",
    "query = \"\"\"\n",
    "        SELECT *, orders_break_down.category\n",
    "        FROM orders\n",
    "        LEFT JOIN orders_break_down\n",
    "        ON orders.order_id = orders_break_down.order_id\n",
    "        WHERE category = 'Furniture' AND country = 'Denmark';\n",
    "        \"\"\"\n",
    "\n",
    "result = sql.read_sql(query, con=db_connection)\n",
    "result"
   ]
  },
  {
   "cell_type": "markdown",
   "metadata": {
    "id": "DvDJGO8ghEFU"
   },
   "source": [
    "#### 10. Select Total Sales With Discount and Without Discount for Each Country"
   ]
  },
  {
   "cell_type": "code",
   "execution_count": 129,
   "metadata": {},
   "outputs": [
    {
     "data": {
      "text/html": [
       "<div>\n",
       "<style scoped>\n",
       "    .dataframe tbody tr th:only-of-type {\n",
       "        vertical-align: middle;\n",
       "    }\n",
       "\n",
       "    .dataframe tbody tr th {\n",
       "        vertical-align: top;\n",
       "    }\n",
       "\n",
       "    .dataframe thead th {\n",
       "        text-align: right;\n",
       "    }\n",
       "</style>\n",
       "<table border=\"1\" class=\"dataframe\">\n",
       "  <thead>\n",
       "    <tr style=\"text-align: right;\">\n",
       "      <th></th>\n",
       "      <th>order_id</th>\n",
       "      <th>product_name</th>\n",
       "      <th>discount</th>\n",
       "      <th>sales</th>\n",
       "      <th>quantity</th>\n",
       "      <th>category</th>\n",
       "    </tr>\n",
       "  </thead>\n",
       "  <tbody>\n",
       "    <tr>\n",
       "      <th>0</th>\n",
       "      <td>IT-2011-3647632</td>\n",
       "      <td>Enermax Note Cards, Premium</td>\n",
       "      <td>0.5</td>\n",
       "      <td>45</td>\n",
       "      <td>3</td>\n",
       "      <td>Office Supplies</td>\n",
       "    </tr>\n",
       "    <tr>\n",
       "      <th>1</th>\n",
       "      <td>ES-2011-4869686</td>\n",
       "      <td>Dania Corner Shelving, Traditional</td>\n",
       "      <td>0.0</td>\n",
       "      <td>854</td>\n",
       "      <td>7</td>\n",
       "      <td>Furniture</td>\n",
       "    </tr>\n",
       "  </tbody>\n",
       "</table>\n",
       "</div>"
      ],
      "text/plain": [
       "          order_id                        product_name  discount  sales  \\\n",
       "0  IT-2011-3647632         Enermax Note Cards, Premium       0.5     45   \n",
       "1  ES-2011-4869686  Dania Corner Shelving, Traditional       0.0    854   \n",
       "\n",
       "   quantity         category  \n",
       "0         3  Office Supplies  \n",
       "1         7        Furniture  "
      ]
     },
     "execution_count": 129,
     "metadata": {},
     "output_type": "execute_result"
    }
   ],
   "source": [
    "orders_break_down.head(2)"
   ]
  },
  {
   "cell_type": "code",
   "execution_count": 128,
   "metadata": {},
   "outputs": [
    {
     "data": {
      "text/html": [
       "<div>\n",
       "<style scoped>\n",
       "    .dataframe tbody tr th:only-of-type {\n",
       "        vertical-align: middle;\n",
       "    }\n",
       "\n",
       "    .dataframe tbody tr th {\n",
       "        vertical-align: top;\n",
       "    }\n",
       "\n",
       "    .dataframe thead th {\n",
       "        text-align: right;\n",
       "    }\n",
       "</style>\n",
       "<table border=\"1\" class=\"dataframe\">\n",
       "  <thead>\n",
       "    <tr style=\"text-align: right;\">\n",
       "      <th></th>\n",
       "      <th>order_id</th>\n",
       "      <th>order_date</th>\n",
       "      <th>customer_name</th>\n",
       "      <th>country</th>\n",
       "    </tr>\n",
       "  </thead>\n",
       "  <tbody>\n",
       "    <tr>\n",
       "      <th>0</th>\n",
       "      <td>IT-2011-3647632</td>\n",
       "      <td>2011-01-01</td>\n",
       "      <td>Eugene Moren</td>\n",
       "      <td>Sweden</td>\n",
       "    </tr>\n",
       "    <tr>\n",
       "      <th>1</th>\n",
       "      <td>ES-2011-4869686</td>\n",
       "      <td>2011-01-03</td>\n",
       "      <td>Dorothy Dickinson</td>\n",
       "      <td>United Kingdom</td>\n",
       "    </tr>\n",
       "  </tbody>\n",
       "</table>\n",
       "</div>"
      ],
      "text/plain": [
       "          order_id  order_date      customer_name         country\n",
       "0  IT-2011-3647632  2011-01-01       Eugene Moren          Sweden\n",
       "1  ES-2011-4869686  2011-01-03  Dorothy Dickinson  United Kingdom"
      ]
     },
     "execution_count": 128,
     "metadata": {},
     "output_type": "execute_result"
    }
   ],
   "source": [
    "orders.head(2)"
   ]
  },
  {
   "cell_type": "code",
   "execution_count": 136,
   "metadata": {
    "ExecuteTime": {
     "end_time": "2019-03-21T04:06:53.787002Z",
     "start_time": "2019-03-21T04:06:53.744143Z"
    },
    "collapsed": true,
    "id": "M6FiccIGhEFU",
    "jupyter": {
     "outputs_hidden": true
    },
    "tags": []
   },
   "outputs": [
    {
     "data": {
      "text/html": [
       "<div>\n",
       "<style scoped>\n",
       "    .dataframe tbody tr th:only-of-type {\n",
       "        vertical-align: middle;\n",
       "    }\n",
       "\n",
       "    .dataframe tbody tr th {\n",
       "        vertical-align: top;\n",
       "    }\n",
       "\n",
       "    .dataframe thead th {\n",
       "        text-align: right;\n",
       "    }\n",
       "</style>\n",
       "<table border=\"1\" class=\"dataframe\">\n",
       "  <thead>\n",
       "    <tr style=\"text-align: right;\">\n",
       "      <th></th>\n",
       "      <th>country</th>\n",
       "      <th>total_sales</th>\n",
       "      <th>discount</th>\n",
       "    </tr>\n",
       "  </thead>\n",
       "  <tbody>\n",
       "    <tr>\n",
       "      <th>0</th>\n",
       "      <td>Austria</td>\n",
       "      <td>79382</td>\n",
       "      <td>0.00</td>\n",
       "    </tr>\n",
       "    <tr>\n",
       "      <th>1</th>\n",
       "      <td>Belgium</td>\n",
       "      <td>42320</td>\n",
       "      <td>0.00</td>\n",
       "    </tr>\n",
       "    <tr>\n",
       "      <th>2</th>\n",
       "      <td>Denmark</td>\n",
       "      <td>7429</td>\n",
       "      <td>0.50</td>\n",
       "    </tr>\n",
       "    <tr>\n",
       "      <th>3</th>\n",
       "      <td>Denmark</td>\n",
       "      <td>334</td>\n",
       "      <td>0.60</td>\n",
       "    </tr>\n",
       "    <tr>\n",
       "      <th>4</th>\n",
       "      <td>Finland</td>\n",
       "      <td>20702</td>\n",
       "      <td>0.00</td>\n",
       "    </tr>\n",
       "    <tr>\n",
       "      <th>5</th>\n",
       "      <td>France</td>\n",
       "      <td>129791</td>\n",
       "      <td>0.00</td>\n",
       "    </tr>\n",
       "    <tr>\n",
       "      <th>6</th>\n",
       "      <td>France</td>\n",
       "      <td>242038</td>\n",
       "      <td>0.10</td>\n",
       "    </tr>\n",
       "    <tr>\n",
       "      <th>7</th>\n",
       "      <td>France</td>\n",
       "      <td>191864</td>\n",
       "      <td>0.15</td>\n",
       "    </tr>\n",
       "    <tr>\n",
       "      <th>8</th>\n",
       "      <td>France</td>\n",
       "      <td>29092</td>\n",
       "      <td>0.35</td>\n",
       "    </tr>\n",
       "    <tr>\n",
       "      <th>9</th>\n",
       "      <td>France</td>\n",
       "      <td>4375</td>\n",
       "      <td>0.50</td>\n",
       "    </tr>\n",
       "    <tr>\n",
       "      <th>10</th>\n",
       "      <td>France</td>\n",
       "      <td>7065</td>\n",
       "      <td>0.60</td>\n",
       "    </tr>\n",
       "    <tr>\n",
       "      <th>11</th>\n",
       "      <td>France</td>\n",
       "      <td>5458</td>\n",
       "      <td>0.65</td>\n",
       "    </tr>\n",
       "    <tr>\n",
       "      <th>12</th>\n",
       "      <td>Germany</td>\n",
       "      <td>245424</td>\n",
       "      <td>0.00</td>\n",
       "    </tr>\n",
       "    <tr>\n",
       "      <th>13</th>\n",
       "      <td>Germany</td>\n",
       "      <td>194834</td>\n",
       "      <td>0.10</td>\n",
       "    </tr>\n",
       "    <tr>\n",
       "      <th>14</th>\n",
       "      <td>Germany</td>\n",
       "      <td>19485</td>\n",
       "      <td>0.20</td>\n",
       "    </tr>\n",
       "    <tr>\n",
       "      <th>15</th>\n",
       "      <td>Germany</td>\n",
       "      <td>17902</td>\n",
       "      <td>0.35</td>\n",
       "    </tr>\n",
       "    <tr>\n",
       "      <th>16</th>\n",
       "      <td>Germany</td>\n",
       "      <td>2547</td>\n",
       "      <td>0.45</td>\n",
       "    </tr>\n",
       "    <tr>\n",
       "      <th>17</th>\n",
       "      <td>Germany</td>\n",
       "      <td>7140</td>\n",
       "      <td>0.50</td>\n",
       "    </tr>\n",
       "    <tr>\n",
       "      <th>18</th>\n",
       "      <td>Germany</td>\n",
       "      <td>794</td>\n",
       "      <td>0.60</td>\n",
       "    </tr>\n",
       "    <tr>\n",
       "      <th>19</th>\n",
       "      <td>Germany</td>\n",
       "      <td>555</td>\n",
       "      <td>0.85</td>\n",
       "    </tr>\n",
       "    <tr>\n",
       "      <th>20</th>\n",
       "      <td>Ireland</td>\n",
       "      <td>15781</td>\n",
       "      <td>0.50</td>\n",
       "    </tr>\n",
       "    <tr>\n",
       "      <th>21</th>\n",
       "      <td>Ireland</td>\n",
       "      <td>217</td>\n",
       "      <td>0.60</td>\n",
       "    </tr>\n",
       "    <tr>\n",
       "      <th>22</th>\n",
       "      <td>Italy</td>\n",
       "      <td>174097</td>\n",
       "      <td>0.00</td>\n",
       "    </tr>\n",
       "    <tr>\n",
       "      <th>23</th>\n",
       "      <td>Italy</td>\n",
       "      <td>63419</td>\n",
       "      <td>0.40</td>\n",
       "    </tr>\n",
       "    <tr>\n",
       "      <th>24</th>\n",
       "      <td>Italy</td>\n",
       "      <td>8897</td>\n",
       "      <td>0.50</td>\n",
       "    </tr>\n",
       "    <tr>\n",
       "      <th>25</th>\n",
       "      <td>Italy</td>\n",
       "      <td>6329</td>\n",
       "      <td>0.60</td>\n",
       "    </tr>\n",
       "    <tr>\n",
       "      <th>26</th>\n",
       "      <td>Netherlands</td>\n",
       "      <td>4348</td>\n",
       "      <td>0.20</td>\n",
       "    </tr>\n",
       "    <tr>\n",
       "      <th>27</th>\n",
       "      <td>Netherlands</td>\n",
       "      <td>64625</td>\n",
       "      <td>0.50</td>\n",
       "    </tr>\n",
       "    <tr>\n",
       "      <th>28</th>\n",
       "      <td>Netherlands</td>\n",
       "      <td>1340</td>\n",
       "      <td>0.70</td>\n",
       "    </tr>\n",
       "    <tr>\n",
       "      <th>29</th>\n",
       "      <td>Norway</td>\n",
       "      <td>20529</td>\n",
       "      <td>0.00</td>\n",
       "    </tr>\n",
       "    <tr>\n",
       "      <th>30</th>\n",
       "      <td>Portugal</td>\n",
       "      <td>15106</td>\n",
       "      <td>0.50</td>\n",
       "    </tr>\n",
       "    <tr>\n",
       "      <th>31</th>\n",
       "      <td>Spain</td>\n",
       "      <td>164895</td>\n",
       "      <td>0.00</td>\n",
       "    </tr>\n",
       "    <tr>\n",
       "      <th>32</th>\n",
       "      <td>Spain</td>\n",
       "      <td>67122</td>\n",
       "      <td>0.10</td>\n",
       "    </tr>\n",
       "    <tr>\n",
       "      <th>33</th>\n",
       "      <td>Spain</td>\n",
       "      <td>13009</td>\n",
       "      <td>0.20</td>\n",
       "    </tr>\n",
       "    <tr>\n",
       "      <th>34</th>\n",
       "      <td>Spain</td>\n",
       "      <td>4376</td>\n",
       "      <td>0.60</td>\n",
       "    </tr>\n",
       "    <tr>\n",
       "      <th>35</th>\n",
       "      <td>Sweden</td>\n",
       "      <td>27438</td>\n",
       "      <td>0.50</td>\n",
       "    </tr>\n",
       "    <tr>\n",
       "      <th>36</th>\n",
       "      <td>Sweden</td>\n",
       "      <td>734</td>\n",
       "      <td>0.60</td>\n",
       "    </tr>\n",
       "    <tr>\n",
       "      <th>37</th>\n",
       "      <td>Sweden</td>\n",
       "      <td>2318</td>\n",
       "      <td>0.70</td>\n",
       "    </tr>\n",
       "    <tr>\n",
       "      <th>38</th>\n",
       "      <td>Switzerland</td>\n",
       "      <td>24874</td>\n",
       "      <td>0.00</td>\n",
       "    </tr>\n",
       "    <tr>\n",
       "      <th>39</th>\n",
       "      <td>United Kingdom</td>\n",
       "      <td>330854</td>\n",
       "      <td>0.00</td>\n",
       "    </tr>\n",
       "    <tr>\n",
       "      <th>40</th>\n",
       "      <td>United Kingdom</td>\n",
       "      <td>68663</td>\n",
       "      <td>0.10</td>\n",
       "    </tr>\n",
       "    <tr>\n",
       "      <th>41</th>\n",
       "      <td>United Kingdom</td>\n",
       "      <td>4952</td>\n",
       "      <td>0.30</td>\n",
       "    </tr>\n",
       "    <tr>\n",
       "      <th>42</th>\n",
       "      <td>United Kingdom</td>\n",
       "      <td>567</td>\n",
       "      <td>0.40</td>\n",
       "    </tr>\n",
       "    <tr>\n",
       "      <th>43</th>\n",
       "      <td>United Kingdom</td>\n",
       "      <td>15322</td>\n",
       "      <td>0.50</td>\n",
       "    </tr>\n",
       "    <tr>\n",
       "      <th>44</th>\n",
       "      <td>United Kingdom</td>\n",
       "      <td>139</td>\n",
       "      <td>0.80</td>\n",
       "    </tr>\n",
       "  </tbody>\n",
       "</table>\n",
       "</div>"
      ],
      "text/plain": [
       "           country  total_sales  discount\n",
       "0          Austria        79382      0.00\n",
       "1          Belgium        42320      0.00\n",
       "2          Denmark         7429      0.50\n",
       "3          Denmark          334      0.60\n",
       "4          Finland        20702      0.00\n",
       "5           France       129791      0.00\n",
       "6           France       242038      0.10\n",
       "7           France       191864      0.15\n",
       "8           France        29092      0.35\n",
       "9           France         4375      0.50\n",
       "10          France         7065      0.60\n",
       "11          France         5458      0.65\n",
       "12         Germany       245424      0.00\n",
       "13         Germany       194834      0.10\n",
       "14         Germany        19485      0.20\n",
       "15         Germany        17902      0.35\n",
       "16         Germany         2547      0.45\n",
       "17         Germany         7140      0.50\n",
       "18         Germany          794      0.60\n",
       "19         Germany          555      0.85\n",
       "20         Ireland        15781      0.50\n",
       "21         Ireland          217      0.60\n",
       "22           Italy       174097      0.00\n",
       "23           Italy        63419      0.40\n",
       "24           Italy         8897      0.50\n",
       "25           Italy         6329      0.60\n",
       "26     Netherlands         4348      0.20\n",
       "27     Netherlands        64625      0.50\n",
       "28     Netherlands         1340      0.70\n",
       "29          Norway        20529      0.00\n",
       "30        Portugal        15106      0.50\n",
       "31           Spain       164895      0.00\n",
       "32           Spain        67122      0.10\n",
       "33           Spain        13009      0.20\n",
       "34           Spain         4376      0.60\n",
       "35          Sweden        27438      0.50\n",
       "36          Sweden          734      0.60\n",
       "37          Sweden         2318      0.70\n",
       "38     Switzerland        24874      0.00\n",
       "39  United Kingdom       330854      0.00\n",
       "40  United Kingdom        68663      0.10\n",
       "41  United Kingdom         4952      0.30\n",
       "42  United Kingdom          567      0.40\n",
       "43  United Kingdom        15322      0.50\n",
       "44  United Kingdom          139      0.80"
      ]
     },
     "execution_count": 136,
     "metadata": {},
     "output_type": "execute_result"
    }
   ],
   "source": [
    "# Select Total Sales With Discount and Without Discount for Each Country\n",
    "query = \"\"\"\n",
    "        SELECT country,SUM(orders_break_down.sales) as total_sales, orders_break_down.discount\n",
    "        FROM orders\n",
    "        LEFT JOIN orders_break_down\n",
    "        ON orders.order_id = orders_break_down.order_id\n",
    "        GROUP BY country, discount;\n",
    "        \"\"\"\n",
    "\n",
    "result = sql.read_sql(query, con=db_connection)\n",
    "result"
   ]
  },
  {
   "cell_type": "markdown",
   "metadata": {
    "id": "72ARIXw2hEFb"
   },
   "source": [
    "#### 11.A Select Total Quantity, Total Sales for Each Country"
   ]
  },
  {
   "cell_type": "code",
   "execution_count": 138,
   "metadata": {
    "ExecuteTime": {
     "end_time": "2019-03-21T04:08:01.475925Z",
     "start_time": "2019-03-21T04:08:01.427057Z"
    },
    "collapsed": true,
    "id": "Fik5zcqJhEFe",
    "jupyter": {
     "outputs_hidden": true
    },
    "tags": []
   },
   "outputs": [
    {
     "data": {
      "text/html": [
       "<div>\n",
       "<style scoped>\n",
       "    .dataframe tbody tr th:only-of-type {\n",
       "        vertical-align: middle;\n",
       "    }\n",
       "\n",
       "    .dataframe tbody tr th {\n",
       "        vertical-align: top;\n",
       "    }\n",
       "\n",
       "    .dataframe thead th {\n",
       "        text-align: right;\n",
       "    }\n",
       "</style>\n",
       "<table border=\"1\" class=\"dataframe\">\n",
       "  <thead>\n",
       "    <tr style=\"text-align: right;\">\n",
       "      <th></th>\n",
       "      <th>country</th>\n",
       "      <th>total_sales</th>\n",
       "      <th>total_quantity</th>\n",
       "    </tr>\n",
       "  </thead>\n",
       "  <tbody>\n",
       "    <tr>\n",
       "      <th>0</th>\n",
       "      <td>Austria</td>\n",
       "      <td>79382</td>\n",
       "      <td>973</td>\n",
       "    </tr>\n",
       "    <tr>\n",
       "      <th>1</th>\n",
       "      <td>Belgium</td>\n",
       "      <td>42320</td>\n",
       "      <td>532</td>\n",
       "    </tr>\n",
       "    <tr>\n",
       "      <th>2</th>\n",
       "      <td>Denmark</td>\n",
       "      <td>7763</td>\n",
       "      <td>204</td>\n",
       "    </tr>\n",
       "    <tr>\n",
       "      <th>3</th>\n",
       "      <td>Finland</td>\n",
       "      <td>20702</td>\n",
       "      <td>201</td>\n",
       "    </tr>\n",
       "    <tr>\n",
       "      <th>4</th>\n",
       "      <td>France</td>\n",
       "      <td>609683</td>\n",
       "      <td>7329</td>\n",
       "    </tr>\n",
       "    <tr>\n",
       "      <th>5</th>\n",
       "      <td>Germany</td>\n",
       "      <td>488681</td>\n",
       "      <td>6179</td>\n",
       "    </tr>\n",
       "    <tr>\n",
       "      <th>6</th>\n",
       "      <td>Ireland</td>\n",
       "      <td>15998</td>\n",
       "      <td>392</td>\n",
       "    </tr>\n",
       "    <tr>\n",
       "      <th>7</th>\n",
       "      <td>Italy</td>\n",
       "      <td>252742</td>\n",
       "      <td>3612</td>\n",
       "    </tr>\n",
       "    <tr>\n",
       "      <th>8</th>\n",
       "      <td>Netherlands</td>\n",
       "      <td>70313</td>\n",
       "      <td>1526</td>\n",
       "    </tr>\n",
       "    <tr>\n",
       "      <th>9</th>\n",
       "      <td>Norway</td>\n",
       "      <td>20529</td>\n",
       "      <td>261</td>\n",
       "    </tr>\n",
       "    <tr>\n",
       "      <th>10</th>\n",
       "      <td>Portugal</td>\n",
       "      <td>15106</td>\n",
       "      <td>286</td>\n",
       "    </tr>\n",
       "    <tr>\n",
       "      <th>11</th>\n",
       "      <td>Spain</td>\n",
       "      <td>249402</td>\n",
       "      <td>2881</td>\n",
       "    </tr>\n",
       "    <tr>\n",
       "      <th>12</th>\n",
       "      <td>Sweden</td>\n",
       "      <td>30490</td>\n",
       "      <td>753</td>\n",
       "    </tr>\n",
       "    <tr>\n",
       "      <th>13</th>\n",
       "      <td>Switzerland</td>\n",
       "      <td>24874</td>\n",
       "      <td>308</td>\n",
       "    </tr>\n",
       "    <tr>\n",
       "      <th>14</th>\n",
       "      <td>United Kingdom</td>\n",
       "      <td>420497</td>\n",
       "      <td>4917</td>\n",
       "    </tr>\n",
       "  </tbody>\n",
       "</table>\n",
       "</div>"
      ],
      "text/plain": [
       "           country  total_sales  total_quantity\n",
       "0          Austria        79382             973\n",
       "1          Belgium        42320             532\n",
       "2          Denmark         7763             204\n",
       "3          Finland        20702             201\n",
       "4           France       609683            7329\n",
       "5          Germany       488681            6179\n",
       "6          Ireland        15998             392\n",
       "7            Italy       252742            3612\n",
       "8      Netherlands        70313            1526\n",
       "9           Norway        20529             261\n",
       "10        Portugal        15106             286\n",
       "11           Spain       249402            2881\n",
       "12          Sweden        30490             753\n",
       "13     Switzerland        24874             308\n",
       "14  United Kingdom       420497            4917"
      ]
     },
     "execution_count": 138,
     "metadata": {},
     "output_type": "execute_result"
    }
   ],
   "source": [
    "# Select Total Quantity, Total Sales for Each Country\n",
    "query = \"\"\"\n",
    "        SELECT country,SUM(orders_break_down.sales) as total_sales, SUM(orders_break_down.quantity) as total_quantity\n",
    "        FROM orders\n",
    "        LEFT JOIN orders_break_down\n",
    "        ON orders.order_id = orders_break_down.order_id\n",
    "        GROUP BY country;\n",
    "        \"\"\"\n",
    "\n",
    "result = sql.read_sql(query, con=db_connection)\n",
    "result"
   ]
  },
  {
   "cell_type": "markdown",
   "metadata": {
    "ExecuteTime": {
     "end_time": "2019-03-21T04:09:40.290543Z",
     "start_time": "2019-03-21T04:09:40.284556Z"
    },
    "id": "tldREt1phEFh"
   },
   "source": [
    "#### 11.B Select Top 3 Country Based on Sales"
   ]
  },
  {
   "cell_type": "code",
   "execution_count": 145,
   "metadata": {
    "ExecuteTime": {
     "end_time": "2019-03-21T04:11:24.632174Z",
     "start_time": "2019-03-21T04:11:24.619209Z"
    },
    "id": "T0TJjtLBhEFi"
   },
   "outputs": [
    {
     "data": {
      "text/html": [
       "<div>\n",
       "<style scoped>\n",
       "    .dataframe tbody tr th:only-of-type {\n",
       "        vertical-align: middle;\n",
       "    }\n",
       "\n",
       "    .dataframe tbody tr th {\n",
       "        vertical-align: top;\n",
       "    }\n",
       "\n",
       "    .dataframe thead th {\n",
       "        text-align: right;\n",
       "    }\n",
       "</style>\n",
       "<table border=\"1\" class=\"dataframe\">\n",
       "  <thead>\n",
       "    <tr style=\"text-align: right;\">\n",
       "      <th></th>\n",
       "      <th>country</th>\n",
       "      <th>total_sales</th>\n",
       "    </tr>\n",
       "  </thead>\n",
       "  <tbody>\n",
       "    <tr>\n",
       "      <th>0</th>\n",
       "      <td>France</td>\n",
       "      <td>609683</td>\n",
       "    </tr>\n",
       "    <tr>\n",
       "      <th>1</th>\n",
       "      <td>Germany</td>\n",
       "      <td>488681</td>\n",
       "    </tr>\n",
       "    <tr>\n",
       "      <th>2</th>\n",
       "      <td>United Kingdom</td>\n",
       "      <td>420497</td>\n",
       "    </tr>\n",
       "  </tbody>\n",
       "</table>\n",
       "</div>"
      ],
      "text/plain": [
       "          country  total_sales\n",
       "0          France       609683\n",
       "1         Germany       488681\n",
       "2  United Kingdom       420497"
      ]
     },
     "execution_count": 145,
     "metadata": {},
     "output_type": "execute_result"
    }
   ],
   "source": [
    "# Select Top 3 Country Based on Sales\n",
    "query = \"\"\"\n",
    "        SELECT country,SUM(orders_break_down.sales) as total_sales\n",
    "        FROM orders\n",
    "        LEFT JOIN orders_break_down\n",
    "        ON orders.order_id = orders_break_down.order_id\n",
    "        GROUP BY country\n",
    "        ORDER BY total_sales DESC\n",
    "        LIMIT 3;\n",
    "        \"\"\"\n",
    "\n",
    "result = sql.read_sql(query, con=db_connection)\n",
    "result"
   ]
  },
  {
   "cell_type": "markdown",
   "metadata": {
    "id": "M3zrxwdGhEFk"
   },
   "source": [
    "#### 11.C Select Bottom 3 Country Based On Quantities"
   ]
  },
  {
   "cell_type": "code",
   "execution_count": 146,
   "metadata": {},
   "outputs": [
    {
     "data": {
      "text/html": [
       "<div>\n",
       "<style scoped>\n",
       "    .dataframe tbody tr th:only-of-type {\n",
       "        vertical-align: middle;\n",
       "    }\n",
       "\n",
       "    .dataframe tbody tr th {\n",
       "        vertical-align: top;\n",
       "    }\n",
       "\n",
       "    .dataframe thead th {\n",
       "        text-align: right;\n",
       "    }\n",
       "</style>\n",
       "<table border=\"1\" class=\"dataframe\">\n",
       "  <thead>\n",
       "    <tr style=\"text-align: right;\">\n",
       "      <th></th>\n",
       "      <th>order_id</th>\n",
       "      <th>product_name</th>\n",
       "      <th>discount</th>\n",
       "      <th>sales</th>\n",
       "      <th>quantity</th>\n",
       "      <th>category</th>\n",
       "    </tr>\n",
       "  </thead>\n",
       "  <tbody>\n",
       "    <tr>\n",
       "      <th>0</th>\n",
       "      <td>IT-2011-3647632</td>\n",
       "      <td>Enermax Note Cards, Premium</td>\n",
       "      <td>0.5</td>\n",
       "      <td>45</td>\n",
       "      <td>3</td>\n",
       "      <td>Office Supplies</td>\n",
       "    </tr>\n",
       "    <tr>\n",
       "      <th>1</th>\n",
       "      <td>ES-2011-4869686</td>\n",
       "      <td>Dania Corner Shelving, Traditional</td>\n",
       "      <td>0.0</td>\n",
       "      <td>854</td>\n",
       "      <td>7</td>\n",
       "      <td>Furniture</td>\n",
       "    </tr>\n",
       "  </tbody>\n",
       "</table>\n",
       "</div>"
      ],
      "text/plain": [
       "          order_id                        product_name  discount  sales  \\\n",
       "0  IT-2011-3647632         Enermax Note Cards, Premium       0.5     45   \n",
       "1  ES-2011-4869686  Dania Corner Shelving, Traditional       0.0    854   \n",
       "\n",
       "   quantity         category  \n",
       "0         3  Office Supplies  \n",
       "1         7        Furniture  "
      ]
     },
     "execution_count": 146,
     "metadata": {},
     "output_type": "execute_result"
    }
   ],
   "source": [
    "orders_break_down.head(2)"
   ]
  },
  {
   "cell_type": "code",
   "execution_count": 147,
   "metadata": {},
   "outputs": [
    {
     "data": {
      "text/html": [
       "<div>\n",
       "<style scoped>\n",
       "    .dataframe tbody tr th:only-of-type {\n",
       "        vertical-align: middle;\n",
       "    }\n",
       "\n",
       "    .dataframe tbody tr th {\n",
       "        vertical-align: top;\n",
       "    }\n",
       "\n",
       "    .dataframe thead th {\n",
       "        text-align: right;\n",
       "    }\n",
       "</style>\n",
       "<table border=\"1\" class=\"dataframe\">\n",
       "  <thead>\n",
       "    <tr style=\"text-align: right;\">\n",
       "      <th></th>\n",
       "      <th>order_id</th>\n",
       "      <th>order_date</th>\n",
       "      <th>customer_name</th>\n",
       "      <th>country</th>\n",
       "    </tr>\n",
       "  </thead>\n",
       "  <tbody>\n",
       "    <tr>\n",
       "      <th>0</th>\n",
       "      <td>IT-2011-3647632</td>\n",
       "      <td>2011-01-01</td>\n",
       "      <td>Eugene Moren</td>\n",
       "      <td>Sweden</td>\n",
       "    </tr>\n",
       "    <tr>\n",
       "      <th>1</th>\n",
       "      <td>ES-2011-4869686</td>\n",
       "      <td>2011-01-03</td>\n",
       "      <td>Dorothy Dickinson</td>\n",
       "      <td>United Kingdom</td>\n",
       "    </tr>\n",
       "  </tbody>\n",
       "</table>\n",
       "</div>"
      ],
      "text/plain": [
       "          order_id  order_date      customer_name         country\n",
       "0  IT-2011-3647632  2011-01-01       Eugene Moren          Sweden\n",
       "1  ES-2011-4869686  2011-01-03  Dorothy Dickinson  United Kingdom"
      ]
     },
     "execution_count": 147,
     "metadata": {},
     "output_type": "execute_result"
    }
   ],
   "source": [
    "orders.head(2)"
   ]
  },
  {
   "cell_type": "code",
   "execution_count": 149,
   "metadata": {
    "ExecuteTime": {
     "end_time": "2019-03-21T04:12:43.968759Z",
     "start_time": "2019-03-21T04:12:43.953799Z"
    },
    "id": "XzSLPcv6hEFl"
   },
   "outputs": [
    {
     "data": {
      "text/html": [
       "<div>\n",
       "<style scoped>\n",
       "    .dataframe tbody tr th:only-of-type {\n",
       "        vertical-align: middle;\n",
       "    }\n",
       "\n",
       "    .dataframe tbody tr th {\n",
       "        vertical-align: top;\n",
       "    }\n",
       "\n",
       "    .dataframe thead th {\n",
       "        text-align: right;\n",
       "    }\n",
       "</style>\n",
       "<table border=\"1\" class=\"dataframe\">\n",
       "  <thead>\n",
       "    <tr style=\"text-align: right;\">\n",
       "      <th></th>\n",
       "      <th>country</th>\n",
       "      <th>total_quantity</th>\n",
       "    </tr>\n",
       "  </thead>\n",
       "  <tbody>\n",
       "    <tr>\n",
       "      <th>0</th>\n",
       "      <td>Finland</td>\n",
       "      <td>201</td>\n",
       "    </tr>\n",
       "    <tr>\n",
       "      <th>1</th>\n",
       "      <td>Denmark</td>\n",
       "      <td>204</td>\n",
       "    </tr>\n",
       "    <tr>\n",
       "      <th>2</th>\n",
       "      <td>Norway</td>\n",
       "      <td>261</td>\n",
       "    </tr>\n",
       "  </tbody>\n",
       "</table>\n",
       "</div>"
      ],
      "text/plain": [
       "   country  total_quantity\n",
       "0  Finland             201\n",
       "1  Denmark             204\n",
       "2   Norway             261"
      ]
     },
     "execution_count": 149,
     "metadata": {},
     "output_type": "execute_result"
    }
   ],
   "source": [
    "# Select Bottom 3 Country Based On Quantities\n",
    "query = \"\"\"\n",
    "        SELECT country,SUM(orders_break_down.quantity) as total_quantity\n",
    "        FROM orders\n",
    "        LEFT JOIN orders_break_down\n",
    "        ON orders.order_id = orders_break_down.order_id\n",
    "        GROUP BY country\n",
    "        ORDER BY total_quantity ASC\n",
    "        LIMIT 3;\n",
    "        \"\"\"\n",
    "\n",
    "result = sql.read_sql(query, con=db_connection)\n",
    "result"
   ]
  },
  {
   "cell_type": "markdown",
   "metadata": {
    "ExecuteTime": {
     "end_time": "2019-03-21T04:15:46.751912Z",
     "start_time": "2019-03-21T04:15:46.745926Z"
    },
    "id": "45ondjLLhEFo"
   },
   "source": [
    "#### 12. Select Average Sales By Categroy For The Country 'France'"
   ]
  },
  {
   "cell_type": "code",
   "execution_count": 164,
   "metadata": {
    "ExecuteTime": {
     "end_time": "2019-03-21T04:19:05.858570Z",
     "start_time": "2019-03-21T04:19:05.813681Z"
    },
    "id": "BwiyYRSThEFp"
   },
   "outputs": [
    {
     "data": {
      "text/html": [
       "<div>\n",
       "<style scoped>\n",
       "    .dataframe tbody tr th:only-of-type {\n",
       "        vertical-align: middle;\n",
       "    }\n",
       "\n",
       "    .dataframe tbody tr th {\n",
       "        vertical-align: top;\n",
       "    }\n",
       "\n",
       "    .dataframe thead th {\n",
       "        text-align: right;\n",
       "    }\n",
       "</style>\n",
       "<table border=\"1\" class=\"dataframe\">\n",
       "  <thead>\n",
       "    <tr style=\"text-align: right;\">\n",
       "      <th></th>\n",
       "      <th>country</th>\n",
       "      <th>category</th>\n",
       "      <th>avg_sales</th>\n",
       "    </tr>\n",
       "  </thead>\n",
       "  <tbody>\n",
       "    <tr>\n",
       "      <th>0</th>\n",
       "      <td>France</td>\n",
       "      <td>Office Supplies</td>\n",
       "      <td>318.206159</td>\n",
       "    </tr>\n",
       "  </tbody>\n",
       "</table>\n",
       "</div>"
      ],
      "text/plain": [
       "  country         category   avg_sales\n",
       "0  France  Office Supplies  318.206159"
      ]
     },
     "execution_count": 164,
     "metadata": {},
     "output_type": "execute_result"
    }
   ],
   "source": [
    "# Select Average Sales By Categroy For The Country 'France'\n",
    "query = \"\"\"\n",
    "        SELECT country,orders_break_down.category, AVG(orders_break_down.sales) as avg_sales\n",
    "        FROM orders\n",
    "        LEFT JOIN orders_break_down\n",
    "        ON orders.order_id = orders_break_down.order_id\n",
    "        WHERE country = 'France'\n",
    "        ORDER BY category;\n",
    "        \"\"\"\n",
    "\n",
    "result = sql.read_sql(query, con=db_connection)\n",
    "result"
   ]
  },
  {
   "cell_type": "code",
   "execution_count": 166,
   "metadata": {},
   "outputs": [
    {
     "data": {
      "text/html": [
       "<div>\n",
       "<style scoped>\n",
       "    .dataframe tbody tr th:only-of-type {\n",
       "        vertical-align: middle;\n",
       "    }\n",
       "\n",
       "    .dataframe tbody tr th {\n",
       "        vertical-align: top;\n",
       "    }\n",
       "\n",
       "    .dataframe thead th {\n",
       "        text-align: right;\n",
       "    }\n",
       "</style>\n",
       "<table border=\"1\" class=\"dataframe\">\n",
       "  <thead>\n",
       "    <tr style=\"text-align: right;\">\n",
       "      <th></th>\n",
       "      <th>country</th>\n",
       "      <th>category</th>\n",
       "      <th>avg_sales</th>\n",
       "    </tr>\n",
       "  </thead>\n",
       "  <tbody>\n",
       "    <tr>\n",
       "      <th>0</th>\n",
       "      <td>France</td>\n",
       "      <td>Office Supplies</td>\n",
       "      <td>318.206159</td>\n",
       "    </tr>\n",
       "  </tbody>\n",
       "</table>\n",
       "</div>"
      ],
      "text/plain": [
       "  country         category   avg_sales\n",
       "0  France  Office Supplies  318.206159"
      ]
     },
     "execution_count": 166,
     "metadata": {},
     "output_type": "execute_result"
    }
   ],
   "source": [
    "query = \"\"\"\n",
    "        SELECT\n",
    "            country,\n",
    "            orders_break_down.category,\n",
    "            AVG(orders_break_down.sales) as avg_sales\n",
    "        FROM orders\n",
    "        LEFT JOIN orders_break_down\n",
    "        ON orders.order_id = orders_break_down.order_id\n",
    "        WHERE country = 'France'\n",
    "        ORDER BY category;\n",
    "        \"\"\"\n",
    "\n",
    "result = sql.read_sql(query, con=db_connection)\n",
    "result"
   ]
  },
  {
   "cell_type": "code",
   "execution_count": 169,
   "metadata": {},
   "outputs": [
    {
     "data": {
      "text/html": [
       "<div>\n",
       "<style scoped>\n",
       "    .dataframe tbody tr th:only-of-type {\n",
       "        vertical-align: middle;\n",
       "    }\n",
       "\n",
       "    .dataframe tbody tr th {\n",
       "        vertical-align: top;\n",
       "    }\n",
       "\n",
       "    .dataframe thead th {\n",
       "        text-align: right;\n",
       "    }\n",
       "</style>\n",
       "<table border=\"1\" class=\"dataframe\">\n",
       "  <thead>\n",
       "    <tr style=\"text-align: right;\">\n",
       "      <th></th>\n",
       "      <th>country</th>\n",
       "      <th>category</th>\n",
       "      <th>avg_sales</th>\n",
       "    </tr>\n",
       "  </thead>\n",
       "  <tbody>\n",
       "    <tr>\n",
       "      <th>0</th>\n",
       "      <td>France</td>\n",
       "      <td>Technology</td>\n",
       "      <td>595.145078</td>\n",
       "    </tr>\n",
       "    <tr>\n",
       "      <th>1</th>\n",
       "      <td>France</td>\n",
       "      <td>Furniture</td>\n",
       "      <td>582.314381</td>\n",
       "    </tr>\n",
       "    <tr>\n",
       "      <th>2</th>\n",
       "      <td>France</td>\n",
       "      <td>Office Supplies</td>\n",
       "      <td>167.217709</td>\n",
       "    </tr>\n",
       "  </tbody>\n",
       "</table>\n",
       "</div>"
      ],
      "text/plain": [
       "  country         category   avg_sales\n",
       "0  France       Technology  595.145078\n",
       "1  France        Furniture  582.314381\n",
       "2  France  Office Supplies  167.217709"
      ]
     },
     "execution_count": 169,
     "metadata": {},
     "output_type": "execute_result"
    }
   ],
   "source": [
    "# orders as o, orders_break_dow as obd\n",
    "query = \"\"\"\n",
    "        SELECT\n",
    "            o.country,\n",
    "            obd.category,\n",
    "            AVG(obd.sales) as avg_sales\n",
    "        FROM orders o\n",
    "        LEFT JOIN orders_break_down obd\n",
    "        ON o.order_id = obd.order_id\n",
    "        WHERE country = 'France'\n",
    "        GROUP BY country, category\n",
    "        ORDER BY avg_sales DESC;\n",
    "        \"\"\"\n",
    "\n",
    "result = sql.read_sql(query, con=db_connection)\n",
    "result"
   ]
  },
  {
   "cell_type": "markdown",
   "metadata": {
    "id": "Nsk-d3DyhEFs"
   },
   "source": [
    "#### 13. Select Country, Category and Total Sales Where Average Total Sales is The Highest"
   ]
  },
  {
   "cell_type": "code",
   "execution_count": 163,
   "metadata": {
    "ExecuteTime": {
     "end_time": "2019-03-21T04:21:04.081648Z",
     "start_time": "2019-03-21T04:21:04.038731Z"
    },
    "id": "yRK9ccVLhEFs"
   },
   "outputs": [
    {
     "data": {
      "text/html": [
       "<div>\n",
       "<style scoped>\n",
       "    .dataframe tbody tr th:only-of-type {\n",
       "        vertical-align: middle;\n",
       "    }\n",
       "\n",
       "    .dataframe tbody tr th {\n",
       "        vertical-align: top;\n",
       "    }\n",
       "\n",
       "    .dataframe thead th {\n",
       "        text-align: right;\n",
       "    }\n",
       "</style>\n",
       "<table border=\"1\" class=\"dataframe\">\n",
       "  <thead>\n",
       "    <tr style=\"text-align: right;\">\n",
       "      <th></th>\n",
       "      <th>country</th>\n",
       "      <th>category</th>\n",
       "      <th>avg_sales</th>\n",
       "    </tr>\n",
       "  </thead>\n",
       "  <tbody>\n",
       "    <tr>\n",
       "      <th>0</th>\n",
       "      <td>Switzerland</td>\n",
       "      <td>Technology</td>\n",
       "      <td>902.846154</td>\n",
       "    </tr>\n",
       "  </tbody>\n",
       "</table>\n",
       "</div>"
      ],
      "text/plain": [
       "       country    category   avg_sales\n",
       "0  Switzerland  Technology  902.846154"
      ]
     },
     "execution_count": 163,
     "metadata": {},
     "output_type": "execute_result"
    }
   ],
   "source": [
    "# Select Country, Category and Total Sales Where Average Total Sales is The Highest\n",
    "query = \"\"\"\n",
    "        SELECT country,orders_break_down.category,AVG(orders_break_down.sales) as avg_sales\n",
    "        FROM orders\n",
    "        LEFT JOIN orders_break_down\n",
    "        ON orders.order_id = orders_break_down.order_id\n",
    "        GROUP BY country, category\n",
    "        ORDER BY avg_sales DESC\n",
    "        LIMIT 1;\n",
    "        \"\"\"\n",
    "\n",
    "result = sql.read_sql(query, con=db_connection)\n",
    "result"
   ]
  },
  {
   "cell_type": "markdown",
   "metadata": {
    "heading_collapsed": true,
    "id": "yNowUy0BlJQu"
   },
   "source": [
    "### JOINS\n",
    "\n",
    "Below is a link to a handy reference for SQL joins. In this chart joins are represented in terms of sets and venn diagrams. \n",
    "https://www.codeproject.com/Articles/33052/Visual-Representation-of-SQL-Joins\n",
    "\n",
    "Alternatively, remember the merge functionality of pandas.\n",
    "https://github.com/pandas-dev/pandas/blob/master/doc/cheatsheet/Pandas_Cheat_Sheet.pdf"
   ]
  },
  {
   "cell_type": "markdown",
   "metadata": {
    "id": "Jp0fdXBelJQv"
   },
   "source": [
    "### ADDITIONAL RESOURCES\n",
    "\n",
    "- [sqlite3 home](http://www.sqlite.org)  \n",
    "- [sqlite3 Python documentation](https://docs.python.org/3/library/sqlite3.html)\n",
    "- [SQLite Python tutorial](http://sebastianraschka.com/Articles/2014_sqlite_in_python_tutorial.html)  \n",
    "- [SQL zoo](http://www.sqlzoo.net)  Great for learning syntax"
   ]
  },
  {
   "cell_type": "markdown",
   "metadata": {
    "id": "H6EyH-b4wGV5"
   },
   "source": [
    "\n",
    "\n",
    "---\n",
    "\n",
    "\n",
    "\n",
    "---\n",
    "\n",
    "\n",
    "\n",
    "> > > > > > > > > © 2022 Institute of Data\n",
    "\n",
    "\n",
    "---\n",
    "\n",
    "\n",
    "\n",
    "---\n",
    "\n",
    "\n",
    "\n"
   ]
  }
 ],
 "metadata": {
  "colab": {
   "collapsed_sections": [],
   "name": "IOD_Lab 3.1.3.ipynb",
   "provenance": []
  },
  "kernelspec": {
   "display_name": "Python 3 (ipykernel)",
   "language": "python",
   "name": "python3"
  },
  "language_info": {
   "codemirror_mode": {
    "name": "ipython",
    "version": 3
   },
   "file_extension": ".py",
   "mimetype": "text/x-python",
   "name": "python",
   "nbconvert_exporter": "python",
   "pygments_lexer": "ipython3",
   "version": "3.8.13"
  }
 },
 "nbformat": 4,
 "nbformat_minor": 4
}
