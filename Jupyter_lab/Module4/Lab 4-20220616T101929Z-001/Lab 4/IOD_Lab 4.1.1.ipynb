{
 "cells": [
  {
   "cell_type": "markdown",
   "metadata": {
    "id": "jZSSKjAWXd3j"
   },
   "source": [
    "<div>\n",
    "<img src=https://www.institutedata.com/wp-content/uploads/2019/10/iod_h_tp_primary_c.svg width=\"300\">\n",
    "</div>"
   ]
  },
  {
   "cell_type": "markdown",
   "metadata": {
    "id": "2Ms9riXMXd3k"
   },
   "source": [
    "# Lab 4.1.1 Linear Regression"
   ]
  },
  {
   "cell_type": "markdown",
   "metadata": {
    "id": "twocr7v8Xd3l"
   },
   "source": [
    "## Prediction of House Price Using Linear Regression"
   ]
  },
  {
   "cell_type": "markdown",
   "metadata": {
    "id": "0j3ZiTCPXd3m"
   },
   "source": [
    "### Data\n",
    "\n",
    "The Sacramento real estate transactions file is a list of 985 real estate transactions in the Sacramento area reported over a five-day period, as reported by the Sacramento Bee."
   ]
  },
  {
   "cell_type": "code",
   "execution_count": 1,
   "metadata": {
    "id": "hejYh49cXd3n"
   },
   "outputs": [],
   "source": [
    "import pandas as pd\n",
    "import numpy as np\n",
    "import pandas as pd\n",
    "import seaborn as sns\n",
    "\n",
    "from scipy import stats\n",
    "from matplotlib import pyplot as plt\n",
    "\n",
    "\n",
    "%matplotlib inline"
   ]
  },
  {
   "cell_type": "markdown",
   "metadata": {
    "id": "BlumKNPDXd3q"
   },
   "source": [
    "### 1. Explore Data"
   ]
  },
  {
   "cell_type": "markdown",
   "metadata": {
    "id": "h1FUHCAnXd3r"
   },
   "source": [
    "Perform EDA on this dataset. Use what you have learned so far. Be creative. List all your findings."
   ]
  },
  {
   "cell_type": "code",
   "execution_count": 2,
   "metadata": {
    "id": "C8BX-oTKXd3s"
   },
   "outputs": [],
   "source": [
    "# Read CSV\n",
    "house_csv = r\"D:\\IOD\\Data\\Datasets 2\\Sacramento_transactions.csv\"\n",
    "house = pd.read_csv(house_csv)"
   ]
  },
  {
   "cell_type": "code",
   "execution_count": 76,
   "metadata": {},
   "outputs": [
    {
     "data": {
      "text/html": [
       "<div>\n",
       "<style scoped>\n",
       "    .dataframe tbody tr th:only-of-type {\n",
       "        vertical-align: middle;\n",
       "    }\n",
       "\n",
       "    .dataframe tbody tr th {\n",
       "        vertical-align: top;\n",
       "    }\n",
       "\n",
       "    .dataframe thead th {\n",
       "        text-align: right;\n",
       "    }\n",
       "</style>\n",
       "<table border=\"1\" class=\"dataframe\">\n",
       "  <thead>\n",
       "    <tr style=\"text-align: right;\">\n",
       "      <th></th>\n",
       "      <th>street</th>\n",
       "      <th>city</th>\n",
       "      <th>zip</th>\n",
       "      <th>state</th>\n",
       "      <th>beds</th>\n",
       "      <th>baths</th>\n",
       "      <th>sq__ft</th>\n",
       "      <th>type</th>\n",
       "      <th>sale_date</th>\n",
       "      <th>price</th>\n",
       "      <th>latitude</th>\n",
       "      <th>longitude</th>\n",
       "    </tr>\n",
       "  </thead>\n",
       "  <tbody>\n",
       "    <tr>\n",
       "      <th>0</th>\n",
       "      <td>3526 HIGH ST</td>\n",
       "      <td>SACRAMENTO</td>\n",
       "      <td>95838</td>\n",
       "      <td>CA</td>\n",
       "      <td>2</td>\n",
       "      <td>1</td>\n",
       "      <td>836</td>\n",
       "      <td>Residential</td>\n",
       "      <td>Wed May 21 00:00:00 EDT 2008</td>\n",
       "      <td>59222</td>\n",
       "      <td>38.631913</td>\n",
       "      <td>-121.434879</td>\n",
       "    </tr>\n",
       "    <tr>\n",
       "      <th>1</th>\n",
       "      <td>51 OMAHA CT</td>\n",
       "      <td>SACRAMENTO</td>\n",
       "      <td>95823</td>\n",
       "      <td>CA</td>\n",
       "      <td>3</td>\n",
       "      <td>1</td>\n",
       "      <td>1167</td>\n",
       "      <td>Residential</td>\n",
       "      <td>Wed May 21 00:00:00 EDT 2008</td>\n",
       "      <td>68212</td>\n",
       "      <td>38.478902</td>\n",
       "      <td>-121.431028</td>\n",
       "    </tr>\n",
       "    <tr>\n",
       "      <th>2</th>\n",
       "      <td>2796 BRANCH ST</td>\n",
       "      <td>SACRAMENTO</td>\n",
       "      <td>95815</td>\n",
       "      <td>CA</td>\n",
       "      <td>2</td>\n",
       "      <td>1</td>\n",
       "      <td>796</td>\n",
       "      <td>Residential</td>\n",
       "      <td>Wed May 21 00:00:00 EDT 2008</td>\n",
       "      <td>68880</td>\n",
       "      <td>38.618305</td>\n",
       "      <td>-121.443839</td>\n",
       "    </tr>\n",
       "    <tr>\n",
       "      <th>3</th>\n",
       "      <td>2805 JANETTE WAY</td>\n",
       "      <td>SACRAMENTO</td>\n",
       "      <td>95815</td>\n",
       "      <td>CA</td>\n",
       "      <td>2</td>\n",
       "      <td>1</td>\n",
       "      <td>852</td>\n",
       "      <td>Residential</td>\n",
       "      <td>Wed May 21 00:00:00 EDT 2008</td>\n",
       "      <td>69307</td>\n",
       "      <td>38.616835</td>\n",
       "      <td>-121.439146</td>\n",
       "    </tr>\n",
       "    <tr>\n",
       "      <th>4</th>\n",
       "      <td>6001 MCMAHON DR</td>\n",
       "      <td>SACRAMENTO</td>\n",
       "      <td>95824</td>\n",
       "      <td>CA</td>\n",
       "      <td>2</td>\n",
       "      <td>1</td>\n",
       "      <td>797</td>\n",
       "      <td>Residential</td>\n",
       "      <td>Wed May 21 00:00:00 EDT 2008</td>\n",
       "      <td>81900</td>\n",
       "      <td>38.519470</td>\n",
       "      <td>-121.435768</td>\n",
       "    </tr>\n",
       "  </tbody>\n",
       "</table>\n",
       "</div>"
      ],
      "text/plain": [
       "             street        city    zip state  beds  baths  sq__ft  \\\n",
       "0      3526 HIGH ST  SACRAMENTO  95838    CA     2      1     836   \n",
       "1       51 OMAHA CT  SACRAMENTO  95823    CA     3      1    1167   \n",
       "2    2796 BRANCH ST  SACRAMENTO  95815    CA     2      1     796   \n",
       "3  2805 JANETTE WAY  SACRAMENTO  95815    CA     2      1     852   \n",
       "4   6001 MCMAHON DR  SACRAMENTO  95824    CA     2      1     797   \n",
       "\n",
       "          type                     sale_date  price   latitude   longitude  \n",
       "0  Residential  Wed May 21 00:00:00 EDT 2008  59222  38.631913 -121.434879  \n",
       "1  Residential  Wed May 21 00:00:00 EDT 2008  68212  38.478902 -121.431028  \n",
       "2  Residential  Wed May 21 00:00:00 EDT 2008  68880  38.618305 -121.443839  \n",
       "3  Residential  Wed May 21 00:00:00 EDT 2008  69307  38.616835 -121.439146  \n",
       "4  Residential  Wed May 21 00:00:00 EDT 2008  81900  38.519470 -121.435768  "
      ]
     },
     "execution_count": 76,
     "metadata": {},
     "output_type": "execute_result"
    }
   ],
   "source": [
    "house.head()"
   ]
  },
  {
   "cell_type": "code",
   "execution_count": 77,
   "metadata": {},
   "outputs": [
    {
     "name": "stdout",
     "output_type": "stream",
     "text": [
      "<class 'pandas.core.frame.DataFrame'>\n",
      "RangeIndex: 985 entries, 0 to 984\n",
      "Data columns (total 12 columns):\n",
      " #   Column     Non-Null Count  Dtype  \n",
      "---  ------     --------------  -----  \n",
      " 0   street     985 non-null    object \n",
      " 1   city       985 non-null    object \n",
      " 2   zip        985 non-null    int64  \n",
      " 3   state      985 non-null    object \n",
      " 4   beds       985 non-null    int64  \n",
      " 5   baths      985 non-null    int64  \n",
      " 6   sq__ft     985 non-null    int64  \n",
      " 7   type       985 non-null    object \n",
      " 8   sale_date  985 non-null    object \n",
      " 9   price      985 non-null    int64  \n",
      " 10  latitude   985 non-null    float64\n",
      " 11  longitude  985 non-null    float64\n",
      "dtypes: float64(2), int64(5), object(5)\n",
      "memory usage: 92.5+ KB\n"
     ]
    }
   ],
   "source": [
    "house.info()"
   ]
  },
  {
   "cell_type": "code",
   "execution_count": 78,
   "metadata": {
    "tags": []
   },
   "outputs": [
    {
     "data": {
      "text/html": [
       "<div>\n",
       "<style scoped>\n",
       "    .dataframe tbody tr th:only-of-type {\n",
       "        vertical-align: middle;\n",
       "    }\n",
       "\n",
       "    .dataframe tbody tr th {\n",
       "        vertical-align: top;\n",
       "    }\n",
       "\n",
       "    .dataframe thead th {\n",
       "        text-align: right;\n",
       "    }\n",
       "</style>\n",
       "<table border=\"1\" class=\"dataframe\">\n",
       "  <thead>\n",
       "    <tr style=\"text-align: right;\">\n",
       "      <th></th>\n",
       "      <th>zip</th>\n",
       "      <th>beds</th>\n",
       "      <th>baths</th>\n",
       "      <th>sq__ft</th>\n",
       "      <th>price</th>\n",
       "      <th>latitude</th>\n",
       "      <th>longitude</th>\n",
       "    </tr>\n",
       "  </thead>\n",
       "  <tbody>\n",
       "    <tr>\n",
       "      <th>count</th>\n",
       "      <td>985.000000</td>\n",
       "      <td>985.000000</td>\n",
       "      <td>985.000000</td>\n",
       "      <td>985.000000</td>\n",
       "      <td>985.000000</td>\n",
       "      <td>985.000000</td>\n",
       "      <td>985.000000</td>\n",
       "    </tr>\n",
       "    <tr>\n",
       "      <th>mean</th>\n",
       "      <td>95750.697462</td>\n",
       "      <td>2.911675</td>\n",
       "      <td>1.776650</td>\n",
       "      <td>1314.916751</td>\n",
       "      <td>234144.263959</td>\n",
       "      <td>38.607732</td>\n",
       "      <td>-121.355982</td>\n",
       "    </tr>\n",
       "    <tr>\n",
       "      <th>std</th>\n",
       "      <td>85.176072</td>\n",
       "      <td>1.307932</td>\n",
       "      <td>0.895371</td>\n",
       "      <td>853.048243</td>\n",
       "      <td>138365.839085</td>\n",
       "      <td>0.145433</td>\n",
       "      <td>0.138278</td>\n",
       "    </tr>\n",
       "    <tr>\n",
       "      <th>min</th>\n",
       "      <td>95603.000000</td>\n",
       "      <td>0.000000</td>\n",
       "      <td>0.000000</td>\n",
       "      <td>0.000000</td>\n",
       "      <td>1551.000000</td>\n",
       "      <td>38.241514</td>\n",
       "      <td>-121.551704</td>\n",
       "    </tr>\n",
       "    <tr>\n",
       "      <th>25%</th>\n",
       "      <td>95660.000000</td>\n",
       "      <td>2.000000</td>\n",
       "      <td>1.000000</td>\n",
       "      <td>952.000000</td>\n",
       "      <td>145000.000000</td>\n",
       "      <td>38.482717</td>\n",
       "      <td>-121.446127</td>\n",
       "    </tr>\n",
       "    <tr>\n",
       "      <th>50%</th>\n",
       "      <td>95762.000000</td>\n",
       "      <td>3.000000</td>\n",
       "      <td>2.000000</td>\n",
       "      <td>1304.000000</td>\n",
       "      <td>213750.000000</td>\n",
       "      <td>38.626582</td>\n",
       "      <td>-121.376220</td>\n",
       "    </tr>\n",
       "    <tr>\n",
       "      <th>75%</th>\n",
       "      <td>95828.000000</td>\n",
       "      <td>4.000000</td>\n",
       "      <td>2.000000</td>\n",
       "      <td>1718.000000</td>\n",
       "      <td>300000.000000</td>\n",
       "      <td>38.695589</td>\n",
       "      <td>-121.295778</td>\n",
       "    </tr>\n",
       "    <tr>\n",
       "      <th>max</th>\n",
       "      <td>95864.000000</td>\n",
       "      <td>8.000000</td>\n",
       "      <td>5.000000</td>\n",
       "      <td>5822.000000</td>\n",
       "      <td>884790.000000</td>\n",
       "      <td>39.020808</td>\n",
       "      <td>-120.597599</td>\n",
       "    </tr>\n",
       "  </tbody>\n",
       "</table>\n",
       "</div>"
      ],
      "text/plain": [
       "                zip        beds       baths       sq__ft          price  \\\n",
       "count    985.000000  985.000000  985.000000   985.000000     985.000000   \n",
       "mean   95750.697462    2.911675    1.776650  1314.916751  234144.263959   \n",
       "std       85.176072    1.307932    0.895371   853.048243  138365.839085   \n",
       "min    95603.000000    0.000000    0.000000     0.000000    1551.000000   \n",
       "25%    95660.000000    2.000000    1.000000   952.000000  145000.000000   \n",
       "50%    95762.000000    3.000000    2.000000  1304.000000  213750.000000   \n",
       "75%    95828.000000    4.000000    2.000000  1718.000000  300000.000000   \n",
       "max    95864.000000    8.000000    5.000000  5822.000000  884790.000000   \n",
       "\n",
       "         latitude   longitude  \n",
       "count  985.000000  985.000000  \n",
       "mean    38.607732 -121.355982  \n",
       "std      0.145433    0.138278  \n",
       "min     38.241514 -121.551704  \n",
       "25%     38.482717 -121.446127  \n",
       "50%     38.626582 -121.376220  \n",
       "75%     38.695589 -121.295778  \n",
       "max     39.020808 -120.597599  "
      ]
     },
     "execution_count": 78,
     "metadata": {},
     "output_type": "execute_result"
    }
   ],
   "source": [
    "house.describe()"
   ]
  },
  {
   "cell_type": "code",
   "execution_count": 79,
   "metadata": {},
   "outputs": [
    {
     "name": "stdout",
     "output_type": "stream",
     "text": [
      "<class 'pandas.core.frame.DataFrame'>\n",
      "RangeIndex: 985 entries, 0 to 984\n",
      "Data columns (total 12 columns):\n",
      " #   Column     Non-Null Count  Dtype  \n",
      "---  ------     --------------  -----  \n",
      " 0   street     985 non-null    object \n",
      " 1   city       985 non-null    object \n",
      " 2   zip        985 non-null    object \n",
      " 3   state      985 non-null    object \n",
      " 4   beds       985 non-null    int64  \n",
      " 5   baths      985 non-null    int64  \n",
      " 6   sq__ft     985 non-null    int64  \n",
      " 7   type       985 non-null    object \n",
      " 8   sale_date  985 non-null    object \n",
      " 9   price      985 non-null    int64  \n",
      " 10  latitude   985 non-null    float64\n",
      " 11  longitude  985 non-null    float64\n",
      "dtypes: float64(2), int64(4), object(6)\n",
      "memory usage: 92.5+ KB\n"
     ]
    }
   ],
   "source": [
    "# change type of data\n",
    "#zip\n",
    "house['zip'] = house['zip'].astype(str)\n",
    "house.info()"
   ]
  },
  {
   "cell_type": "code",
   "execution_count": 80,
   "metadata": {},
   "outputs": [
    {
     "data": {
      "text/html": [
       "<div>\n",
       "<style scoped>\n",
       "    .dataframe tbody tr th:only-of-type {\n",
       "        vertical-align: middle;\n",
       "    }\n",
       "\n",
       "    .dataframe tbody tr th {\n",
       "        vertical-align: top;\n",
       "    }\n",
       "\n",
       "    .dataframe thead th {\n",
       "        text-align: right;\n",
       "    }\n",
       "</style>\n",
       "<table border=\"1\" class=\"dataframe\">\n",
       "  <thead>\n",
       "    <tr style=\"text-align: right;\">\n",
       "      <th></th>\n",
       "      <th>street</th>\n",
       "      <th>city</th>\n",
       "      <th>zip</th>\n",
       "      <th>state</th>\n",
       "      <th>beds</th>\n",
       "      <th>baths</th>\n",
       "      <th>sq__ft</th>\n",
       "      <th>type</th>\n",
       "      <th>sale_date</th>\n",
       "      <th>price</th>\n",
       "      <th>latitude</th>\n",
       "      <th>longitude</th>\n",
       "    </tr>\n",
       "  </thead>\n",
       "  <tbody>\n",
       "    <tr>\n",
       "      <th>0</th>\n",
       "      <td>3526 HIGH ST</td>\n",
       "      <td>SACRAMENTO</td>\n",
       "      <td>95838</td>\n",
       "      <td>CA</td>\n",
       "      <td>2</td>\n",
       "      <td>1</td>\n",
       "      <td>836</td>\n",
       "      <td>Residential</td>\n",
       "      <td>Wed May 21 00:00:00 UTC+4 2008</td>\n",
       "      <td>59222</td>\n",
       "      <td>38.631913</td>\n",
       "      <td>-121.434879</td>\n",
       "    </tr>\n",
       "    <tr>\n",
       "      <th>1</th>\n",
       "      <td>51 OMAHA CT</td>\n",
       "      <td>SACRAMENTO</td>\n",
       "      <td>95823</td>\n",
       "      <td>CA</td>\n",
       "      <td>3</td>\n",
       "      <td>1</td>\n",
       "      <td>1167</td>\n",
       "      <td>Residential</td>\n",
       "      <td>Wed May 21 00:00:00 UTC+4 2008</td>\n",
       "      <td>68212</td>\n",
       "      <td>38.478902</td>\n",
       "      <td>-121.431028</td>\n",
       "    </tr>\n",
       "  </tbody>\n",
       "</table>\n",
       "</div>"
      ],
      "text/plain": [
       "         street        city    zip state  beds  baths  sq__ft         type  \\\n",
       "0  3526 HIGH ST  SACRAMENTO  95838    CA     2      1     836  Residential   \n",
       "1   51 OMAHA CT  SACRAMENTO  95823    CA     3      1    1167  Residential   \n",
       "\n",
       "                        sale_date  price   latitude   longitude  \n",
       "0  Wed May 21 00:00:00 UTC+4 2008  59222  38.631913 -121.434879  \n",
       "1  Wed May 21 00:00:00 UTC+4 2008  68212  38.478902 -121.431028  "
      ]
     },
     "execution_count": 80,
     "metadata": {},
     "output_type": "execute_result"
    }
   ],
   "source": [
    "# sale_Date\n",
    "house['sale_date'] = house['sale_date'].str.replace('EDT', 'UTC+4')\n",
    "house.head(2)"
   ]
  },
  {
   "cell_type": "code",
   "execution_count": 81,
   "metadata": {},
   "outputs": [
    {
     "data": {
      "text/plain": [
       "street       0\n",
       "city         0\n",
       "zip          0\n",
       "state        0\n",
       "beds         0\n",
       "baths        0\n",
       "sq__ft       0\n",
       "type         0\n",
       "sale_date    0\n",
       "price        0\n",
       "latitude     0\n",
       "longitude    0\n",
       "dtype: int64"
      ]
     },
     "execution_count": 81,
     "metadata": {},
     "output_type": "execute_result"
    }
   ],
   "source": [
    "house['sale_date'] = pd.to_datetime(house['sale_date'])\n",
    "house.isnull().sum()"
   ]
  },
  {
   "cell_type": "code",
   "execution_count": 82,
   "metadata": {},
   "outputs": [
    {
     "data": {
      "text/html": [
       "<div>\n",
       "<style scoped>\n",
       "    .dataframe tbody tr th:only-of-type {\n",
       "        vertical-align: middle;\n",
       "    }\n",
       "\n",
       "    .dataframe tbody tr th {\n",
       "        vertical-align: top;\n",
       "    }\n",
       "\n",
       "    .dataframe thead th {\n",
       "        text-align: right;\n",
       "    }\n",
       "</style>\n",
       "<table border=\"1\" class=\"dataframe\">\n",
       "  <thead>\n",
       "    <tr style=\"text-align: right;\">\n",
       "      <th></th>\n",
       "      <th>street</th>\n",
       "      <th>city</th>\n",
       "      <th>zip</th>\n",
       "      <th>state</th>\n",
       "      <th>beds</th>\n",
       "      <th>baths</th>\n",
       "      <th>sq__ft</th>\n",
       "      <th>type</th>\n",
       "      <th>sale_date</th>\n",
       "      <th>price</th>\n",
       "      <th>latitude</th>\n",
       "      <th>longitude</th>\n",
       "    </tr>\n",
       "  </thead>\n",
       "  <tbody>\n",
       "    <tr>\n",
       "      <th>0</th>\n",
       "      <td>3526 HIGH ST</td>\n",
       "      <td>SACRAMENTO</td>\n",
       "      <td>95838</td>\n",
       "      <td>CA</td>\n",
       "      <td>2</td>\n",
       "      <td>1</td>\n",
       "      <td>836</td>\n",
       "      <td>Residential</td>\n",
       "      <td>2008-05-21 00:00:00-04:00</td>\n",
       "      <td>59222</td>\n",
       "      <td>38.631913</td>\n",
       "      <td>-121.434879</td>\n",
       "    </tr>\n",
       "    <tr>\n",
       "      <th>1</th>\n",
       "      <td>51 OMAHA CT</td>\n",
       "      <td>SACRAMENTO</td>\n",
       "      <td>95823</td>\n",
       "      <td>CA</td>\n",
       "      <td>3</td>\n",
       "      <td>1</td>\n",
       "      <td>1167</td>\n",
       "      <td>Residential</td>\n",
       "      <td>2008-05-21 00:00:00-04:00</td>\n",
       "      <td>68212</td>\n",
       "      <td>38.478902</td>\n",
       "      <td>-121.431028</td>\n",
       "    </tr>\n",
       "    <tr>\n",
       "      <th>2</th>\n",
       "      <td>2796 BRANCH ST</td>\n",
       "      <td>SACRAMENTO</td>\n",
       "      <td>95815</td>\n",
       "      <td>CA</td>\n",
       "      <td>2</td>\n",
       "      <td>1</td>\n",
       "      <td>796</td>\n",
       "      <td>Residential</td>\n",
       "      <td>2008-05-21 00:00:00-04:00</td>\n",
       "      <td>68880</td>\n",
       "      <td>38.618305</td>\n",
       "      <td>-121.443839</td>\n",
       "    </tr>\n",
       "  </tbody>\n",
       "</table>\n",
       "</div>"
      ],
      "text/plain": [
       "           street        city    zip state  beds  baths  sq__ft         type  \\\n",
       "0    3526 HIGH ST  SACRAMENTO  95838    CA     2      1     836  Residential   \n",
       "1     51 OMAHA CT  SACRAMENTO  95823    CA     3      1    1167  Residential   \n",
       "2  2796 BRANCH ST  SACRAMENTO  95815    CA     2      1     796  Residential   \n",
       "\n",
       "                  sale_date  price   latitude   longitude  \n",
       "0 2008-05-21 00:00:00-04:00  59222  38.631913 -121.434879  \n",
       "1 2008-05-21 00:00:00-04:00  68212  38.478902 -121.431028  \n",
       "2 2008-05-21 00:00:00-04:00  68880  38.618305 -121.443839  "
      ]
     },
     "execution_count": 82,
     "metadata": {},
     "output_type": "execute_result"
    }
   ],
   "source": [
    "house.head(3)"
   ]
  },
  {
   "cell_type": "code",
   "execution_count": 155,
   "metadata": {},
   "outputs": [
    {
     "data": {
      "text/html": [
       "<div>\n",
       "<style scoped>\n",
       "    .dataframe tbody tr th:only-of-type {\n",
       "        vertical-align: middle;\n",
       "    }\n",
       "\n",
       "    .dataframe tbody tr th {\n",
       "        vertical-align: top;\n",
       "    }\n",
       "\n",
       "    .dataframe thead th {\n",
       "        text-align: right;\n",
       "    }\n",
       "</style>\n",
       "<table border=\"1\" class=\"dataframe\">\n",
       "  <thead>\n",
       "    <tr style=\"text-align: right;\">\n",
       "      <th></th>\n",
       "      <th>latitude</th>\n",
       "      <th>longitude</th>\n",
       "    </tr>\n",
       "  </thead>\n",
       "  <tbody>\n",
       "    <tr>\n",
       "      <th>0</th>\n",
       "      <td>38.631913</td>\n",
       "      <td>-121.434879</td>\n",
       "    </tr>\n",
       "    <tr>\n",
       "      <th>1</th>\n",
       "      <td>38.478902</td>\n",
       "      <td>-121.431028</td>\n",
       "    </tr>\n",
       "    <tr>\n",
       "      <th>2</th>\n",
       "      <td>38.618305</td>\n",
       "      <td>-121.443839</td>\n",
       "    </tr>\n",
       "    <tr>\n",
       "      <th>3</th>\n",
       "      <td>38.616835</td>\n",
       "      <td>-121.439146</td>\n",
       "    </tr>\n",
       "    <tr>\n",
       "      <th>4</th>\n",
       "      <td>38.519470</td>\n",
       "      <td>-121.435768</td>\n",
       "    </tr>\n",
       "  </tbody>\n",
       "</table>\n",
       "</div>"
      ],
      "text/plain": [
       "    latitude   longitude\n",
       "0  38.631913 -121.434879\n",
       "1  38.478902 -121.431028\n",
       "2  38.618305 -121.443839\n",
       "3  38.616835 -121.439146\n",
       "4  38.519470 -121.435768"
      ]
     },
     "execution_count": 155,
     "metadata": {},
     "output_type": "execute_result"
    }
   ],
   "source": [
    "import folium\n",
    "from folium.plugins import HeatMap\n",
    "\n",
    "map_base = folium.Map(location = [38.575764, -121.478851], zoom_start = 8)\n",
    "map_data = pd.DataFrame(data=house, columns=('latitude','longitude'))\n",
    "map_data.head()\n"
   ]
  },
  {
   "cell_type": "code",
   "execution_count": 156,
   "metadata": {},
   "outputs": [
    {
     "data": {
      "text/html": [
       "<div>\n",
       "<style scoped>\n",
       "    .dataframe tbody tr th:only-of-type {\n",
       "        vertical-align: middle;\n",
       "    }\n",
       "\n",
       "    .dataframe tbody tr th {\n",
       "        vertical-align: top;\n",
       "    }\n",
       "\n",
       "    .dataframe thead th {\n",
       "        text-align: right;\n",
       "    }\n",
       "</style>\n",
       "<table border=\"1\" class=\"dataframe\">\n",
       "  <thead>\n",
       "    <tr style=\"text-align: right;\">\n",
       "      <th></th>\n",
       "      <th>latitude</th>\n",
       "      <th>longitude</th>\n",
       "      <th>dimension</th>\n",
       "    </tr>\n",
       "  </thead>\n",
       "  <tbody>\n",
       "    <tr>\n",
       "      <th>0</th>\n",
       "      <td>38.631913</td>\n",
       "      <td>-121.434879</td>\n",
       "      <td>1</td>\n",
       "    </tr>\n",
       "    <tr>\n",
       "      <th>1</th>\n",
       "      <td>38.478902</td>\n",
       "      <td>-121.431028</td>\n",
       "      <td>1</td>\n",
       "    </tr>\n",
       "  </tbody>\n",
       "</table>\n",
       "</div>"
      ],
      "text/plain": [
       "    latitude   longitude  dimension\n",
       "0  38.631913 -121.434879          1\n",
       "1  38.478902 -121.431028          1"
      ]
     },
     "execution_count": 156,
     "metadata": {},
     "output_type": "execute_result"
    }
   ],
   "source": [
    "map_data['dimension'] = 1\n",
    "map_data.head(2)"
   ]
  },
  {
   "cell_type": "code",
   "execution_count": 157,
   "metadata": {},
   "outputs": [
    {
     "data": {
      "text/html": [
       "<div style=\"width:100%;\"><div style=\"position:relative;width:100%;height:0;padding-bottom:60%;\"><span style=\"color:#565656\">Make this Notebook Trusted to load map: File -> Trust Notebook</span><iframe srcdoc=\"&lt;!DOCTYPE html&gt;\n",
       "&lt;head&gt;    \n",
       "    &lt;meta http-equiv=&quot;content-type&quot; content=&quot;text/html; charset=UTF-8&quot; /&gt;\n",
       "    \n",
       "        &lt;script&gt;\n",
       "            L_NO_TOUCH = false;\n",
       "            L_DISABLE_3D = false;\n",
       "        &lt;/script&gt;\n",
       "    \n",
       "    &lt;style&gt;html, body {width: 100%;height: 100%;margin: 0;padding: 0;}&lt;/style&gt;\n",
       "    &lt;style&gt;#map {position:absolute;top:0;bottom:0;right:0;left:0;}&lt;/style&gt;\n",
       "    &lt;script src=&quot;https://cdn.jsdelivr.net/npm/leaflet@1.6.0/dist/leaflet.js&quot;&gt;&lt;/script&gt;\n",
       "    &lt;script src=&quot;https://code.jquery.com/jquery-1.12.4.min.js&quot;&gt;&lt;/script&gt;\n",
       "    &lt;script src=&quot;https://maxcdn.bootstrapcdn.com/bootstrap/3.2.0/js/bootstrap.min.js&quot;&gt;&lt;/script&gt;\n",
       "    &lt;script src=&quot;https://cdnjs.cloudflare.com/ajax/libs/Leaflet.awesome-markers/2.0.2/leaflet.awesome-markers.js&quot;&gt;&lt;/script&gt;\n",
       "    &lt;link rel=&quot;stylesheet&quot; href=&quot;https://cdn.jsdelivr.net/npm/leaflet@1.6.0/dist/leaflet.css&quot;/&gt;\n",
       "    &lt;link rel=&quot;stylesheet&quot; href=&quot;https://maxcdn.bootstrapcdn.com/bootstrap/3.2.0/css/bootstrap.min.css&quot;/&gt;\n",
       "    &lt;link rel=&quot;stylesheet&quot; href=&quot;https://maxcdn.bootstrapcdn.com/bootstrap/3.2.0/css/bootstrap-theme.min.css&quot;/&gt;\n",
       "    &lt;link rel=&quot;stylesheet&quot; href=&quot;https://maxcdn.bootstrapcdn.com/font-awesome/4.6.3/css/font-awesome.min.css&quot;/&gt;\n",
       "    &lt;link rel=&quot;stylesheet&quot; href=&quot;https://cdnjs.cloudflare.com/ajax/libs/Leaflet.awesome-markers/2.0.2/leaflet.awesome-markers.css&quot;/&gt;\n",
       "    &lt;link rel=&quot;stylesheet&quot; href=&quot;https://cdn.jsdelivr.net/gh/python-visualization/folium/folium/templates/leaflet.awesome.rotate.min.css&quot;/&gt;\n",
       "    \n",
       "            &lt;meta name=&quot;viewport&quot; content=&quot;width=device-width,\n",
       "                initial-scale=1.0, maximum-scale=1.0, user-scalable=no&quot; /&gt;\n",
       "            &lt;style&gt;\n",
       "                #map_3a5ce6070dc6a0c49a716e7b9f026e16 {\n",
       "                    position: relative;\n",
       "                    width: 100.0%;\n",
       "                    height: 100.0%;\n",
       "                    left: 0.0%;\n",
       "                    top: 0.0%;\n",
       "                }\n",
       "            &lt;/style&gt;\n",
       "        \n",
       "    &lt;script src=&quot;https://cdn.jsdelivr.net/gh/python-visualization/folium@master/folium/templates/leaflet_heat.min.js&quot;&gt;&lt;/script&gt;\n",
       "&lt;/head&gt;\n",
       "&lt;body&gt;    \n",
       "    \n",
       "            &lt;div class=&quot;folium-map&quot; id=&quot;map_3a5ce6070dc6a0c49a716e7b9f026e16&quot; &gt;&lt;/div&gt;\n",
       "        \n",
       "&lt;/body&gt;\n",
       "&lt;script&gt;    \n",
       "    \n",
       "            var map_3a5ce6070dc6a0c49a716e7b9f026e16 = L.map(\n",
       "                &quot;map_3a5ce6070dc6a0c49a716e7b9f026e16&quot;,\n",
       "                {\n",
       "                    center: [38.575764, -121.478851],\n",
       "                    crs: L.CRS.EPSG3857,\n",
       "                    zoom: 8,\n",
       "                    zoomControl: true,\n",
       "                    preferCanvas: false,\n",
       "                }\n",
       "            );\n",
       "\n",
       "            \n",
       "\n",
       "        \n",
       "    \n",
       "            var tile_layer_9efe320b479c7d5852b217f6f21f1490 = L.tileLayer(\n",
       "                &quot;https://{s}.tile.openstreetmap.org/{z}/{x}/{y}.png&quot;,\n",
       "                {&quot;attribution&quot;: &quot;Data by \\u0026copy; \\u003ca href=\\&quot;http://openstreetmap.org\\&quot;\\u003eOpenStreetMap\\u003c/a\\u003e, under \\u003ca href=\\&quot;http://www.openstreetmap.org/copyright\\&quot;\\u003eODbL\\u003c/a\\u003e.&quot;, &quot;detectRetina&quot;: false, &quot;maxNativeZoom&quot;: 18, &quot;maxZoom&quot;: 18, &quot;minZoom&quot;: 0, &quot;noWrap&quot;: false, &quot;opacity&quot;: 1, &quot;subdomains&quot;: &quot;abc&quot;, &quot;tms&quot;: false}\n",
       "            ).addTo(map_3a5ce6070dc6a0c49a716e7b9f026e16);\n",
       "        \n",
       "    \n",
       "            var heat_map_e0f3dc4bf658d2016efd7ba3406ee85b = L.heatLayer(\n",
       "                [[38.631913, -121.434879, 1.0], [38.478902, -121.431028, 1.0], [38.618305, -121.443839, 1.0], [38.616835, -121.439146, 1.0], [38.51947, -121.435768, 1.0], [38.662595, -121.327813, 1.0], [38.681659, -121.351705, 1.0], [38.535092, -121.481367, 1.0], [38.621188, -121.270555, 1.0], [38.700909, -121.442979, 1.0], [38.637663, -121.45152, 1.0], [38.470746, -121.458918, 1.0], [38.618698, -121.435833, 1.0], [38.482215, -121.492603, 1.0], [38.672914, -121.35934, 1.0], [38.700051, -121.351278, 1.0], [38.689591, -121.452239, 1.0], [38.679776, -121.314089, 1.0], [38.612099, -121.469095, 1.0], [38.689999, -121.46322, 1.0], [38.707851, -121.320707, 1.0], [38.468173, -121.444071, 1.0], [38.702792, -121.38221, 1.0], [38.628631, -121.488097, 1.0], [38.701499, -121.37622, 1.0], [38.70974, -121.37377, 1.0], [38.537526, -121.478315, 1.0], [38.476472, -121.501711, 1.0], [38.558423, -121.327948, 1.0], [38.472122, -121.404199, 1.0], [38.423251, -121.444489, 1.0], [38.691161, -121.37192, 1.0], [38.566663, -121.332644, 1.0], [38.713182, -121.411227, 1.0], [38.423251, -121.444489, 1.0], [38.48742, -121.462459, 1.0], [38.658246, -121.375469, 1.0], [38.479553, -121.463317, 1.0], [38.49857, -121.420925, 1.0], [38.58514, -121.403736, 1.0], [38.658812, -121.542345, 1.0], [38.493955, -121.48966, 1.0], [38.41653, -121.379653, 1.0], [38.72027, -121.331555, 1.0], [38.699251, -121.371414, 1.0], [38.613765, -121.488694, 1.0], [38.450543, -121.432538, 1.0], [38.489405, -121.452811, 1.0], [38.636748, -121.422159, 1.0], [38.499954, -121.454469, 1.0], [38.415518, -121.370527, 1.0], [38.473814, -121.4, 1.0], [38.477553, -121.419463, 1.0], [38.474853, -121.406326, 1.0], [38.465184, -121.434925, 1.0], [38.287789, -121.294715, 1.0], [38.665724, -121.358576, 1.0], [38.547011, -121.366217, 1.0], [38.662105, -121.313945, 1.0], [38.4473, -121.435218, 1.0], [38.714609, -121.347887, 1.0], [38.260443, -121.297864, 1.0], [38.664186, -121.217511, 1.0], [38.251808, -121.302493, 1.0], [38.459041, -121.424644, 1.0], [38.560767, -121.377471, 1.0], [38.422811, -121.423285, 1.0], [38.711279, -121.393449, 1.0], [38.48009, -121.415102, 1.0], [38.44004, -121.421012, 1.0], [38.44076, -121.385792, 1.0], [38.687742, -121.17104, 1.0], [38.664468, -121.32683, 1.0], [38.631481, -121.50188, 1.0], [38.653439, -121.535169, 1.0], [38.454349, -121.439239, 1.0], [38.427818, -121.424026, 1.0], [38.67307, -121.506373, 1.0], [38.435436, -121.394536, 1.0], [38.400676, -121.38101, 1.0], [38.491399, -121.443547, 1.0], [38.593699, -121.31089, 1.0], [38.702855, -121.31308, 1.0], [38.618457, -121.509439, 1.0], [38.463355, -121.358936, 1.0], [38.547991, -121.280483, 1.0], [38.693818, -121.441153, 1.0], [38.400974, -121.448424, 1.0], [38.478198, -121.412911, 1.0], [38.626671, -121.52597, 1.0], [38.502519, -121.420769, 1.0], [38.443832, -121.382087, 1.0], [38.665395, -121.293288, 1.0], [38.444909, -121.412345, 1.0], [38.637028, -121.312963, 1.0], [38.38692, -121.447349, 1.0], [38.653917, -121.34218, 1.0], [38.42568, -121.438062, 1.0], [38.656251, -121.547572, 1.0], [38.53151, -121.421089, 1.0], [38.553867, -121.219141, 1.0], [38.648879, -121.544023, 1.0], [38.708315, -120.603872, 1.0], [38.523947, -121.484946, 1.0], [38.472976, -121.318633, 1.0], [38.502194, -121.490795, 1.0], [38.75485, -120.60476, 1.0], [38.474099, -121.490711, 1.0], [38.559505, -121.364839, 1.0], [38.410992, -121.479043, 1.0], [38.4439, -121.37255, 1.0], [38.391538, -121.442596, 1.0], [38.556098, -121.490787, 1.0], [38.5703, -121.315735, 1.0], [38.442031, -121.410873, 1.0], [38.40154, -121.447649, 1.0], [38.62869, -121.261669, 1.0], [38.658182, -121.549521, 1.0], [38.442352, -121.389675, 1.0], [38.555993, -121.340352, 1.0], [38.545128, -121.224922, 1.0], [38.528575, -121.2286, 1.0], [38.550848, -121.370224, 1.0], [38.71147, -121.216214, 1.0], [38.398609, -121.450148, 1.0], [38.403492, -121.430224, 1.0], [38.602416, -121.542965, 1.0], [38.68479, -121.149199, 1.0], [38.41333, -121.404999, 1.0], [38.448507, -121.421346, 1.0], [38.380635, -121.425538, 1.0], [38.46534, -121.457519, 1.0], [38.691299, -121.081752, 1.0], [38.4772, -121.5215, 1.0], [38.4874, -121.075129, 1.0], [38.35062, -121.228349, 1.0], [38.4019, -121.420388, 1.0], [38.677126, -121.500519, 1.0], [38.509819, -121.519661, 1.0], [38.709873, -121.339472, 1.0], [38.58355, -121.487289, 1.0], [38.408351, -121.423925, 1.0], [38.945357, -120.908822, 1.0], [38.450829, -121.349928, 1.0], [38.487885, -121.545947, 1.0], [38.385638, -121.422616, 1.0], [38.550617, -121.23526, 1.0], [38.420338, -121.363757, 1.0], [38.646273, -121.175322, 1.0], [38.38253, -121.428007, 1.0], [38.406421, -121.422081, 1.0], [38.38253, -121.428038, 1.0], [38.655167, -121.090178, 1.0], [38.670947, -121.097727, 1.0], [38.672761, -121.050378, 1.0], [38.666807, -121.06483, 1.0], [38.591618, -121.370626, 1.0], [38.669931, -121.05958, 1.0], [38.680923, -121.313945, 1.0], [38.554967, -121.468046, 1.0], [38.40573, -121.369832, 1.0], [38.624678, -121.439203, 1.0], [38.518044, -121.443555, 1.0], [38.515125, -121.480416, 1.0], [38.623571, -121.454884, 1.0], [38.622953, -121.450142, 1.0], [38.518373, -121.411779, 1.0], [38.51055, -121.414768, 1.0], [38.53942, -121.446894, 1.0], [38.492287, -121.100032, 1.0], [38.621998, -121.442238, 1.0], [38.423251, -121.444489, 1.0], [38.588672, -121.373916, 1.0], [38.423251, -121.444489, 1.0], [38.241514, -121.312199, 1.0], [38.52712, -121.435348, 1.0], [38.67895, -121.379406, 1.0], [38.682279, -121.352817, 1.0], [38.587156, -121.295778, 1.0], [38.518942, -121.430158, 1.0], [38.636565, -121.460383, 1.0], [38.650445, -121.374861, 1.0], [38.514665, -121.480411, 1.0], [38.717976, -121.407684, 1.0], [38.66654, -121.378298, 1.0], [38.637678, -121.452476, 1.0], [38.658478, -121.450409, 1.0], [38.61779, -121.436765, 1.0], [38.623817, -121.477827, 1.0], [38.270617, -121.299205, 1.0], [38.662785, -121.276272, 1.0], [38.631056, -121.48508, 1.0], [38.423251, -121.444489, 1.0], [38.532727, -121.470783, 1.0], [38.488623, -121.410582, 1.0], [38.488611, -121.412808, 1.0], [38.692915, -121.367497, 1.0], [38.487444, -121.491366, 1.0], [38.473288, -121.3963, 1.0], [38.482876, -121.405912, 1.0], [38.484834, -121.449316, 1.0], [38.420138, -121.412179, 1.0], [38.693724, -121.307169, 1.0], [38.609982, -121.419263, 1.0], [38.41875, -121.370019, 1.0], [38.67273, -121.359645, 1.0], [38.720653, -121.302241, 1.0], [38.541965, -121.452132, 1.0], [38.715346, -121.388163, 1.0], [38.448288, -121.420719, 1.0], [38.69951, -121.359989, 1.0], [38.591477, -121.31534, 1.0], [38.457654, -121.431381, 1.0], [38.461283, -121.434322, 1.0], [38.710889, -121.358876, 1.0], [38.417649, -121.420294, 1.0], [38.417182, -121.397231, 1.0], [38.592383, -121.318669, 1.0], [38.435471, -121.441173, 1.0], [38.666564, -121.325717, 1.0], [38.718693, -121.303619, 1.0], [38.543697, -121.366683, 1.0], [38.704407, -121.36113, 1.0], [38.694052, -120.995589, 1.0], [38.879192, -121.309477, 1.0], [38.461296, -121.390858, 1.0], [38.655887, -121.446119, 1.0], [38.74458, -120.794254, 1.0], [38.443253, -121.431992, 1.0], [38.536741, -121.42115, 1.0], [38.69437, -120.996602, 1.0], [38.739774, -120.860243, 1.0], [38.696489, -121.328555, 1.0], [38.710388, -121.261096, 1.0], [38.626582, -121.52151, 1.0], [38.513066, -121.451909, 1.0], [38.588816, -121.408549, 1.0], [38.624762, -121.522775, 1.0], [38.606603, -121.394147, 1.0], [38.419214, -121.348533, 1.0], [38.55821, -121.355022, 1.0], [38.702893, -121.454949, 1.0], [39.008159, -121.03623, 1.0], [38.665644, -121.259969, 1.0], [38.390557, -121.449805, 1.0], [38.672495, -121.515251, 1.0], [38.661658, -121.540633, 1.0], [38.534596, -121.493121, 1.0], [38.6457, -121.1197, 1.0], [38.43742, -121.372876, 1.0], [38.699489, -121.361828, 1.0], [38.459711, -121.384283, 1.0], [38.562296, -121.467489, 1.0], [38.676658, -121.528128, 1.0], [38.669882, -121.213533, 1.0], [38.692199, -121.250975, 1.0], [38.725283, -121.297953, 1.0], [38.710221, -121.341651, 1.0], [38.682358, -121.272876, 1.0], [38.45967, -121.360461, 1.0], [38.409634, -121.410787, 1.0], [38.705849, -121.334701, 1.0], [38.879084, -121.298586, 1.0], [38.482704, -121.500433, 1.0], [38.717042, -121.35468, 1.0], [38.676937, -121.529244, 1.0], [38.671807, -121.498274, 1.0], [38.665704, -121.529096, 1.0], [38.647961, -121.543162, 1.0], [38.435288, -121.375703, 1.0], [38.411522, -121.481406, 1.0], [38.404934, -121.352405, 1.0], [38.660322, -121.230101, 1.0], [38.633028, -121.526755, 1.0], [38.752399, -121.330328, 1.0], [38.664552, -121.255937, 1.0], [38.776327, -121.284514, 1.0], [38.65783, -121.456842, 1.0], [38.864864, -121.313988, 1.0], [38.625289, -121.260286, 1.0], [38.700553, -121.452223, 1.0], [38.272942, -121.289148, 1.0], [38.694559, -120.848157, 1.0], [38.677454, -121.494791, 1.0], [38.628732, -121.261149, 1.0], [38.772771, -121.364877, 1.0], [38.668692, -121.54549, 1.0], [38.866409, -121.308485, 1.0], [38.447353, -121.434969, 1.0], [38.849924, -121.275729, 1.0], [38.667834, -121.168578, 1.0], [38.387014, -121.440967, 1.0], [38.542727, -121.442449, 1.0], [38.573488, -121.282809, 1.0], [38.563805, -121.436395, 1.0], [38.652002, -121.129504, 1.0], [38.279581, -121.300828, 1.0], [38.738141, -120.784145, 1.0], [38.782094, -121.297133, 1.0], [38.487409, -121.461413, 1.0], [38.591822, -121.478644, 1.0], [38.405224, -121.479275, 1.0], [38.778691, -121.204292, 1.0], [38.405527, -121.431746, 1.0], [38.664225, -121.007173, 1.0], [38.805749, -121.280931, 1.0], [38.390465, -121.443479, 1.0], [38.271646, -121.286848, 1.0], [38.527502, -121.233492, 1.0], [38.512602, -121.087233, 1.0], [38.650221, -121.551704, 1.0], [38.857635, -121.311375, 1.0], [38.679136, -121.034329, 1.0], [38.582604, -121.47576, 1.0], [38.676306, -121.09954, 1.0], [38.646374, -121.353658, 1.0], [38.668239, -121.064437, 1.0], [38.403609, -121.335541, 1.0], [38.665696, -121.549437, 1.0], [38.677225, -121.519687, 1.0], [38.801637, -121.278798, 1.0], [38.602754, -121.329326, 1.0], [38.787877, -120.816676, 1.0], [38.398488, -121.473424, 1.0], [38.770153, -121.300039, 1.0], [38.891935, -121.08434, 1.0], [38.628459, -121.055078, 1.0], [38.408841, -121.198039, 1.0], [38.47643, -121.309243, 1.0], [38.602461, -121.330979, 1.0], [38.735373, -121.227072, 1.0], [38.742118, -121.359909, 1.0], [38.64167, -121.262099, 1.0], [38.563244, -121.446876, 1.0], [38.813337, -121.133348, 1.0], [38.673678, -121.357471, 1.0], [38.582279, -121.401482, 1.0], [38.620685, -121.460539, 1.0], [38.546798, -121.460038, 1.0], [38.532718, -121.46747, 1.0], [38.638797, -121.435049, 1.0], [38.539447, -121.450858, 1.0], [38.539447, -121.450858, 1.0], [38.658739, -121.333561, 1.0], [38.669104, -121.359008, 1.0], [38.637337, -121.432835, 1.0], [38.53728, -121.463531, 1.0], [38.497237, -121.424187, 1.0], [38.484274, -121.488851, 1.0], [38.559144, -121.368387, 1.0], [38.630151, -121.442789, 1.0], [38.637704, -121.453946, 1.0], [38.663282, -121.359631, 1.0], [38.617718, -121.440089, 1.0], [38.544627, -121.35796, 1.0], [38.675893, -121.2963, 1.0], [38.622243, -121.457863, 1.0], [38.68972, -121.378399, 1.0], [38.623738, -121.41305, 1.0], [38.53361, -121.469308, 1.0], [38.659414, -121.45408, 1.0], [38.463929, -121.438667, 1.0], [38.71607, -121.364468, 1.0], [38.732429, -121.288069, 1.0], [38.470093, -121.468347, 1.0], [38.656131, -121.377265, 1.0], [38.490704, -121.410176, 1.0], [38.53105, -121.479574, 1.0], [38.647523, -121.523217, 1.0], [38.470187, -121.448149, 1.0], [38.454949, -121.440578, 1.0], [38.613103, -121.444085, 1.0], [38.24227, -121.31032, 1.0], [38.50372, -121.490657, 1.0], [38.598321, -121.39161, 1.0], [38.617173, -121.482541, 1.0], [38.705834, -121.43919, 1.0], [38.557045, -121.37167, 1.0], [38.749723, -121.27008, 1.0], [38.49069, -121.382619, 1.0], [38.699269, -121.376334, 1.0], [38.520941, -121.459355, 1.0], [38.691104, -121.451832, 1.0], [38.628563, -121.328297, 1.0], [38.71865, -121.407763, 1.0], [38.47807, -121.48114, 1.0], [38.484896, -121.486948, 1.0], [38.478502, -121.403517, 1.0], [38.479083, -121.400702, 1.0], [38.534508, -121.467907, 1.0], [38.795529, -121.328819, 1.0], [38.489759, -121.474754, 1.0], [38.457157, -121.433065, 1.0], [38.646677, -121.437573, 1.0], [38.646677, -121.437573, 1.0], [38.70166, -121.323249, 1.0], [38.697898, -121.377687, 1.0], [38.45356, -121.435959, 1.0], [38.734136, -121.299639, 1.0], [38.720868, -121.309855, 1.0], [38.687659, -121.4633, 1.0], [38.42465, -121.430137, 1.0], [38.283085, -121.302071, 1.0], [38.715781, -121.298519, 1.0], [38.715781, -121.298519, 1.0], [38.52774, -121.433669, 1.0], [38.695677, -121.36022, 1.0], [38.620687, -121.482619, 1.0], [38.564, -121.320023, 1.0], [38.260467, -121.302636, 1.0], [38.658734, -121.357196, 1.0], [38.447585, -121.426627, 1.0], [38.55992, -121.352539, 1.0], [38.466499, -121.381119, 1.0], [38.637396, -121.300055, 1.0], [38.72748, -121.256537, 1.0], [38.747878, -121.311279, 1.0], [38.657811, -121.465327, 1.0], [38.706152, -121.325399, 1.0], [38.544368, -121.369979, 1.0], [38.645689, -121.452766, 1.0], [38.681541, -121.355616, 1.0], [38.46452, -121.427606, 1.0], [38.581471, -121.38839, 1.0], [38.687943, -121.328883, 1.0], [38.468639, -121.403265, 1.0], [38.413947, -121.408276, 1.0], [38.698154, -121.298375, 1.0], [38.460492, -121.373379, 1.0], [38.423963, -121.428875, 1.0], [38.619675, -121.496903, 1.0], [38.573844, -121.462839, 1.0], [38.746794, -121.29971, 1.0], [38.756149, -121.306479, 1.0], [38.658466, -121.460661, 1.0], [38.48403, -121.507641, 1.0], [38.417026, -121.416821, 1.0], [38.398245, -121.380615, 1.0], [38.705753, -121.388917, 1.0], [38.282001, -121.295902, 1.0], [38.534827, -121.412545, 1.0], [38.62478, -121.523474, 1.0], [38.47547, -121.380055, 1.0], [38.657789, -121.354994, 1.0], [38.72286, -121.358939, 1.0], [38.49026, -121.550527, 1.0], [38.644406, -121.549049, 1.0], [38.523828, -121.481139, 1.0], [38.727657, -121.391028, 1.0], [38.48797, -121.530229, 1.0], [38.462981, -121.408288, 1.0], [38.603686, -121.277844, 1.0], [38.679626, -121.142609, 1.0], [38.665296, -121.531993, 1.0], [38.277177, -121.303747, 1.0], [38.725079, -121.387698, 1.0], [38.456939, -121.362965, 1.0], [38.63437, -121.510779, 1.0], [38.43461, -121.429316, 1.0], [38.46179, -121.445371, 1.0], [38.604969, -121.54255, 1.0], [38.489215, -121.419546, 1.0], [38.687021, -121.463151, 1.0], [38.683674, -121.435204, 1.0], [38.675506, -121.510987, 1.0], [38.691829, -121.249033, 1.0], [38.710221, -121.341707, 1.0], [38.451353, -121.358776, 1.0], [38.931671, -121.097862, 1.0], [38.416916, -121.407554, 1.0], [38.676172, -121.509761, 1.0], [38.681194, -121.537351, 1.0], [38.664347, -121.076529, 1.0], [38.551046, -121.239411, 1.0], [38.671995, -121.324339, 1.0], [38.395256, -121.438249, 1.0], [38.380089, -121.428186, 1.0], [38.805036, -121.293608, 1.0], [38.476932, -121.378349, 1.0], [38.666074, -121.509743, 1.0], [38.285611, -121.293063, 1.0], [38.582818, -121.489096, 1.0], [38.715853, -121.317095, 1.0], [38.786746, -121.209957, 1.0], [38.939802, -121.054575, 1.0], [38.64913, -121.310667, 1.0], [38.673285, -120.879176, 1.0], [38.473162, -121.491085, 1.0], [38.432848, -121.449237, 1.0], [38.579, -121.292627, 1.0], [38.464994, -121.386962, 1.0], [38.49254, -121.463316, 1.0], [38.847396, -121.259586, 1.0], [38.57727, -121.285591, 1.0], [38.773094, -121.365905, 1.0], [38.68237, -121.539147, 1.0], [38.47316, -121.403893, 1.0], [38.468185, -121.375694, 1.0], [38.439565, -121.436606, 1.0], [38.707705, -121.354153, 1.0], [38.709299, -121.353056, 1.0], [38.638764, -121.531827, 1.0], [38.406758, -121.431669, 1.0], [38.557293, -121.217611, 1.0], [38.606906, -121.54132, 1.0], [38.664765, -121.445006, 1.0], [38.475433, -121.372584, 1.0], [38.388129, -121.43117, 1.0], [38.2535, -121.31812, 1.0], [38.287785, -121.289903, 1.0], [38.68318, -121.53484, 1.0], [38.53805, -121.5047, 1.0], [38.672966, -121.502748, 1.0], [38.67342, -121.508542, 1.0], [38.553596, -121.459483, 1.0], [38.791617, -121.286147, 1.0], [38.796121, -121.319963, 1.0], [38.837006, -121.232024, 1.0], [38.733155, -120.748039, 1.0], [38.390328, -121.448022, 1.0], [38.381102, -121.42901, 1.0], [38.541735, -121.480098, 1.0], [38.551083, -121.237476, 1.0], [38.574894, -121.435806, 1.0], [38.69288, -121.073551, 1.0], [38.727649, -121.385656, 1.0], [38.837455, -121.289337, 1.0], [38.622359, -121.457582, 1.0], [38.675519, -121.015862, 1.0], [38.66695, -121.120729, 1.0], [38.687072, -121.004729, 1.0], [38.571943, -121.492106, 1.0], [38.82553, -121.254698, 1.0], [38.411258, -121.431348, 1.0], [38.399436, -121.444041, 1.0], [38.628955, -121.529269, 1.0], [38.73988, -121.248929, 1.0], [38.677015, -121.034083, 1.0], [38.693041, -121.23294, 1.0], [38.409689, -121.446059, 1.0], [38.647598, -121.077801, 1.0], [38.777585, -121.2036, 1.0], [38.69435, -121.177259, 1.0], [38.862708, -121.162092, 1.0], [38.861615, -121.26869, 1.0], [38.796683, -121.342555, 1.0], [38.629299, -121.249021, 1.0], [38.416809, -121.240628, 1.0], [38.684459, -121.145935, 1.0], [38.63558, -121.353639, 1.0], [38.723545, -121.216025, 1.0], [38.737452, -120.910963, 1.0], [38.413535, -121.188211, 1.0], [38.779435, -121.146676, 1.0], [38.885327, -121.289412, 1.0], [38.885132, -121.289405, 1.0], [38.884936, -121.289397, 1.0], [38.884741, -121.28939, 1.0], [38.884599, -121.289406, 1.0], [38.884535, -121.289619, 1.0], [38.88459, -121.289835, 1.0], [38.884667, -121.289896, 1.0], [38.88478, -121.289911, 1.0], [38.885236, -121.289928, 1.0], [38.88535, -121.289926, 1.0], [38.885464, -121.289922, 1.0], [38.885578, -121.289919, 1.0], [38.885692, -121.289915, 1.0], [38.885806, -121.289911, 1.0], [38.88592, -121.289908, 1.0], [38.886024, -121.289859, 1.0], [38.886091, -121.289744, 1.0], [38.88653, -121.289406, 1.0], [38.884692, -121.290288, 1.0], [38.884879, -121.290257, 1.0], [38.885017, -121.290262, 1.0], [38.885173, -121.29027, 1.0], [38.885328, -121.290275, 1.0], [38.885483, -121.290277, 1.0], [38.885638, -121.290279, 1.0], [38.885794, -121.290281, 1.0], [38.886104, -121.290285, 1.0], [38.885093, -121.289932, 1.0], [38.88653, -121.288952, 1.0], [38.886528, -121.288869, 1.0], [38.886525, -121.288787, 1.0], [38.886282, -121.289586, 1.0], [38.886282, -121.289646, 1.0], [38.886282, -121.289706, 1.0], [38.884865, -121.289922, 1.0], [38.884752, -121.289907, 1.0], [38.884638, -121.289893, 1.0], [38.884568, -121.289784, 1.0], [38.884546, -121.289562, 1.0], [38.884645, -121.289397, 1.0], [38.88479, -121.289392, 1.0], [38.884985, -121.289399, 1.0], [38.885181, -121.289406, 1.0], [38.885376, -121.289414, 1.0], [38.885571, -121.289421, 1.0], [38.885962, -121.289436, 1.0], [38.885962, -121.289436, 1.0], [38.886093, -121.289584, 1.0], [38.715322, -121.314787, 1.0], [38.687172, -121.463933, 1.0], [38.471646, -121.435158, 1.0], [38.672642, -121.380343, 1.0], [38.608085, -121.449651, 1.0], [38.636833, -121.44164, 1.0], [38.544162, -121.460652, 1.0], [38.493504, -121.475304, 1.0], [38.636877, -121.444948, 1.0], [38.521202, -121.428146, 1.0], [38.459002, -121.428794, 1.0], [38.6238, -121.439872, 1.0], [38.466938, -121.455631, 1.0], [38.62391, -121.439208, 1.0], [38.517029, -121.513809, 1.0], [38.679598, -121.356035, 1.0], [38.520319, -121.504727, 1.0], [38.635232, -121.460098, 1.0], [38.610852, -121.273278, 1.0], [38.658812, -121.542345, 1.0], [38.563402, -121.327747, 1.0], [38.660173, -121.440216, 1.0], [38.59368, -121.316054, 1.0], [38.492177, -121.503392, 1.0], [38.491991, -121.477636, 1.0], [38.481454, -121.446644, 1.0], [38.655554, -121.464275, 1.0], [38.69043, -121.361035, 1.0], [38.686061, -121.369949, 1.0], [38.482717, -121.499683, 1.0], [38.477297, -121.411513, 1.0], [38.659016, -121.370457, 1.0], [38.646541, -121.441139, 1.0], [38.623045, -121.486279, 1.0], [38.487297, -121.44295, 1.0], [38.619012, -121.415329, 1.0], [38.522015, -121.438713, 1.0], [38.47955, -121.410867, 1.0], [38.472117, -121.459589, 1.0], [38.559641, -121.32316, 1.0], [38.493484, -121.42035, 1.0], [38.68747, -121.349234, 1.0], [38.695863, -121.300814, 1.0], [38.554927, -121.35521, 1.0], [38.474854, -121.404726, 1.0], [38.465271, -121.40426, 1.0], [38.689239, -121.267737, 1.0], [38.70968, -121.382328, 1.0], [38.536751, -121.359154, 1.0], [38.282047, -121.295812, 1.0], [38.487864, -121.402476, 1.0], [38.467487, -121.377055, 1.0], [38.434075, -121.432623, 1.0], [38.677003, -121.354454, 1.0], [38.449153, -121.428272, 1.0], [38.71846, -121.370862, 1.0], [38.544374, -121.370874, 1.0], [38.71641, -121.306239, 1.0], [38.479343, -121.372553, 1.0], [38.466781, -121.450955, 1.0], [38.77491, -120.597599, 1.0], [38.553275, -121.346218, 1.0], [38.68271, -121.501697, 1.0], [38.70799, -121.302979, 1.0], [38.448452, -121.428536, 1.0], [38.60868, -121.27849, 1.0], [38.646206, -121.442767, 1.0], [38.734136, -121.299639, 1.0], [38.44617, -121.427824, 1.0], [38.68279, -121.453509, 1.0], [38.72446, -121.292829, 1.0], [38.48291, -121.491509, 1.0], [38.453839, -121.357919, 1.0], [38.565322, -121.374251, 1.0], [38.476048, -121.494961, 1.0], [38.609864, -121.492304, 1.0], [38.431239, -121.44001, 1.0], [38.659434, -121.455236, 1.0], [38.573917, -121.316916, 1.0], [38.727609, -121.226494, 1.0], [38.478239, -121.446326, 1.0], [38.589925, -121.299059, 1.0], [38.470494, -121.454162, 1.0], [39.020808, -120.821518, 1.0], [38.693071, -121.332365, 1.0], [38.676437, -121.279165, 1.0], [38.690504, -120.996245, 1.0], [38.611055, -121.369964, 1.0], [38.532725, -121.469078, 1.0], [38.618019, -121.510215, 1.0], [38.66424, -121.303675, 1.0], [38.622634, -121.330846, 1.0], [38.42139, -121.411339, 1.0], [38.724083, -121.3584, 1.0], [38.678758, -120.844118, 1.0], [38.641727, -121.412703, 1.0], [38.47723, -121.492568, 1.0], [38.71174, -121.342675, 1.0], [38.681952, -121.505009, 1.0], [38.640807, -121.533522, 1.0], [38.668433, -121.503471, 1.0], [38.793533, -121.289685, 1.0], [38.449651, -121.414704, 1.0], [38.410561, -121.404327, 1.0], [38.691215, -120.994949, 1.0], [38.736392, -121.2664, 1.0], [38.688255, -120.810235, 1.0], [38.593598, -121.403637, 1.0], [38.557433, -121.47034, 1.0], [38.556818, -121.490669, 1.0], [38.698058, -121.294893, 1.0], [38.404888, -121.443998, 1.0], [38.63173, -121.335286, 1.0], [38.585291, -121.406824, 1.0], [38.423913, -121.439115, 1.0], [38.3052, -121.4033, 1.0], [38.421713, -121.345191, 1.0], [38.638882, -121.531883, 1.0], [38.650729, -121.466483, 1.0], [38.459524, -121.3501, 1.0], [38.443184, -121.364388, 1.0], [38.798028, -121.235364, 1.0], [38.639891, -121.537603, 1.0], [38.59675, -121.312716, 1.0], [38.38751, -121.370276, 1.0], [38.671556, -121.520916, 1.0], [38.706209, -121.369509, 1.0], [38.420637, -121.375798, 1.0], [38.443305, -121.435296, 1.0], [38.625932, -121.271517, 1.0], [38.455753, -121.349273, 1.0], [38.674226, -121.525497, 1.0], [38.720767, -121.376678, 1.0], [38.70884, -121.359559, 1.0], [38.631139, -121.501879, 1.0], [38.657267, -121.310352, 1.0], [38.708966, -121.32467, 1.0], [38.422241, -121.458022, 1.0], [38.428852, -121.415628, 1.0], [38.627698, -121.369698, 1.0], [38.804993, -121.293609, 1.0], [38.555633, -121.350691, 1.0], [38.442845, -121.373272, 1.0], [38.599449, -121.400305, 1.0], [38.776649, -121.339589, 1.0], [38.675594, -121.515878, 1.0], [38.679409, -121.219107, 1.0], [38.89918, -121.322514, 1.0], [38.679191, -121.537622, 1.0], [38.387708, -121.436522, 1.0], [38.88156, -121.301343, 1.0], [38.813546, -120.809254, 1.0], [38.770835, -121.366996, 1.0], [38.695801, -121.079216, 1.0], [38.64347, -120.888183, 1.0], [38.397455, -121.468391, 1.0], [38.663728, -121.525833, 1.0], [38.844116, -121.274806, 1.0], [38.258976, -121.321266, 1.0], [38.667332, -121.528276, 1.0], [38.66266, -121.316858, 1.0], [38.691393, -121.305215, 1.0], [38.397923, -121.450219, 1.0], [38.417191, -121.473897, 1.0], [38.391085, -121.347231, 1.0], [38.567865, -121.410699, 1.0], [38.704554, -121.354753, 1.0], [38.644927, -121.43054, 1.0], [38.729993, -120.802458, 1.0], [38.450548, -121.363002, 1.0], [38.825096, -121.198432, 1.0], [38.446286, -121.400817, 1.0], [38.422221, -121.375799, 1.0], [38.556844, -121.490769, 1.0], [38.567795, -121.410703, 1.0], [38.905927, -120.975169, 1.0], [38.404505, -121.346938, 1.0], [38.800539, -121.260979, 1.0], [38.38912, -121.434389, 1.0], [38.715493, -121.26293, 1.0], [38.865017, -121.32302, 1.0], [38.618369, -121.326187, 1.0], [38.651617, -121.131674, 1.0], [38.76349, -121.275881, 1.0], [38.490408, -121.547664, 1.0], [38.844144, -121.274174, 1.0], [38.529181, -121.224755, 1.0], [38.668289, -121.192316, 1.0], [38.775872, -121.298864, 1.0], [38.711927, -121.343608, 1.0], [38.606569, -121.368424, 1.0], [38.815493, -121.262908, 1.0], [38.525115, -121.518689, 1.0], [38.64977, -121.53448, 1.0], [38.82273, -121.26424, 1.0], [38.772821, -121.364821, 1.0], [38.771917, -121.304439, 1.0], [38.290119, -121.286023, 1.0], [38.861864, -121.267478, 1.0], [38.580545, -121.279016, 1.0], [38.56803, -121.309966, 1.0], [38.6354, -121.53499, 1.0], [38.674864, -121.4958, 1.0], [38.667703, -121.209456, 1.0], [38.66841, -121.494639, 1.0], [38.807816, -121.270008, 1.0], [38.79218, -121.28595, 1.0], [38.386239, -121.448159, 1.0], [38.709513, -121.359357, 1.0], [38.853869, -121.271742, 1.0], [38.792461, -121.275711, 1.0], [38.762153, -121.283451, 1.0], [38.483212, -121.54019, 1.0], [38.686067, -121.073413, 1.0], [38.733985, -121.236766, 1.0], [38.792493, -121.331899, 1.0], [38.778561, -121.362008, 1.0], [38.247659, -121.515129, 1.0], [38.429139, -121.423444, 1.0], [38.629929, -121.323086, 1.0], [38.867125, -121.319085, 1.0], [38.5357, -121.2249, 1.0], [38.737872, -121.249025, 1.0], [38.527384, -121.233531, 1.0], [38.405571, -121.445186, 1.0], [38.904869, -121.32075, 1.0], [38.656299, -121.079783, 1.0], [38.808581, -121.32785, 1.0], [38.551611, -121.504437, 1.0], [38.634111, -121.353376, 1.0], [38.935579, -121.079018, 1.0], [38.579326, -121.44252, 1.0], [38.669805, -120.999007, 1.0], [38.860007, -121.310946, 1.0], [38.804773, -121.341195, 1.0], [38.66051, -121.163689, 1.0], [38.506371, -121.514456, 1.0], [38.673882, -121.105077, 1.0], [38.621566, -121.370882, 1.0], [38.750577, -121.232768, 1.0], [38.680092, -121.036467, 1.0], [38.690867, -120.693641, 1.0], [38.84255, -120.8754, 1.0], [38.681778, -121.035838, 1.0], [38.676131, -121.038931, 1.0], [38.780051, -121.378718, 1.0], [38.650735, -121.258628, 1.0], [38.664066, -121.056735, 1.0], [38.588936, -121.373606, 1.0], [38.865246, -121.094869, 1.0], [38.568438, -121.457854, 1.0], [38.703962, -121.1871, 1.0], [38.45326, -121.32573, 1.0], [38.798448, -121.344054, 1.0], [38.772672, -121.220232, 1.0], [38.732096, -121.219142, 1.0], [38.781134, -121.222801, 1.0], [38.78861, -121.339495, 1.0], [38.6478, -121.0309, 1.0], [38.682961, -121.033253, 1.0], [38.706692, -121.058869, 1.0], [38.415298, -121.194858, 1.0], [38.851645, -121.231742, 1.0], [38.490447, -121.129337, 1.0], [38.488628, -121.387759, 1.0], [38.542419, -121.359904, 1.0], [38.471139, -121.432255, 1.0], [38.670467, -121.359799, 1.0], [38.539213, -121.46393, 1.0], [38.643978, -121.449562, 1.0], [38.618716, -121.466327, 1.0], [38.64472, -121.452228, 1.0], [38.627147, -121.500799, 1.0], [38.520469, -121.458606, 1.0], [38.488238, -121.472561, 1.0], [38.628842, -121.446127, 1.0], [38.484374, -121.463157, 1.0], [38.679279, -121.376615, 1.0], [38.578675, -121.409951, 1.0], [38.511893, -121.457676, 1.0], [38.647398, -121.432914, 1.0], [38.669587, -121.379879, 1.0], [38.480126, -121.487869, 1.0], [38.479593, -121.48434, 1.0], [38.465551, -121.42661, 1.0], [38.681393, -120.996713, 1.0], [38.528479, -121.411806, 1.0], [38.47709, -121.410569, 1.0], [38.532359, -121.41167, 1.0], [38.631925, -121.427775, 1.0], [38.546091, -121.457745, 1.0], [38.507339, -121.416267, 1.0], [38.466388, -121.458861, 1.0], [38.52049, -121.411383, 1.0], [38.506382, -121.483574, 1.0], [38.695589, -121.444133, 1.0], [38.462376, -121.426556, 1.0], [38.593049, -121.30304, 1.0], [38.88415, -121.270277, 1.0], [38.706175, -121.379776, 1.0], [38.603593, -121.417011, 1.0], [38.477563, -121.384382, 1.0], [38.563084, -121.535579, 1.0], [38.54117, -121.458129, 1.0], [38.46654, -121.419029, 1.0], [38.672567, -121.356754, 1.0], [38.46616, -121.448283, 1.0], [38.725873, -121.35856, 1.0], [38.473775, -121.493777, 1.0], [38.502034, -121.456027, 1.0], [38.685361, -121.376938, 1.0], [38.717738, -121.308322, 1.0], [38.462821, -121.433135, 1.0], [38.556178, -121.476256, 1.0], [38.584526, -121.534609, 1.0], [38.467012, -121.359969, 1.0], [38.681554, -121.312934, 1.0], [38.634292, -121.485106, 1.0], [38.893168, -121.305398, 1.0], [38.795529, -121.328819, 1.0], [38.490606, -121.410173, 1.0], [38.475853, -121.477039, 1.0], [38.490822, -121.401643, 1.0], [38.480859, -121.539745, 1.0], [38.622794, -121.499173, 1.0], [38.502254, -121.451444, 1.0], [38.433919, -121.422347, 1.0], [38.62457, -121.486913, 1.0], [38.44574, -121.3725, 1.0], [38.45073, -121.427528, 1.0], [38.667254, -121.240708, 1.0], [38.88417, -121.270222, 1.0], [38.634335, -121.486098, 1.0], [38.530144, -121.43749, 1.0], [38.66745, -121.2364, 1.0], [38.699714, -121.311635, 1.0], [38.649258, -121.465308, 1.0], [38.687006, -121.254319, 1.0], [38.477568, -121.492574, 1.0], [38.46734, -121.419843, 1.0], [38.700717, -121.3133, 1.0], [38.651386, -121.45042, 1.0], [38.42442, -121.440357, 1.0], [38.452075, -121.366461, 1.0], [38.569943, -121.527539, 1.0], [38.68197, -121.500025, 1.0], [38.438818, -121.37443, 1.0], [38.68607, -121.342369, 1.0], [38.555781, -121.485331, 1.0], [38.623372, -121.347665, 1.0], [38.424421, -121.443915, 1.0], [38.612694, -121.456669, 1.0], [38.737882, -121.308142, 1.0], [38.694279, -121.373395, 1.0], [38.259708, -121.311616, 1.0], [38.444, -121.370993, 1.0], [38.722959, -121.347115, 1.0], [38.467836, -121.410366, 1.0], [38.451398, -121.366614, 1.0], [38.508217, -121.411207, 1.0], [38.715423, -121.246743, 1.0], [38.390893, -121.437821, 1.0], [38.424497, -121.426595, 1.0], [38.793152, -121.290025, 1.0], [38.665104, -121.315901, 1.0], [38.289544, -121.284607, 1.0], [38.69674, -121.350519, 1.0], [38.631026, -121.501879, 1.0], [38.629468, -121.376445, 1.0], [38.70355, -121.375103, 1.0], [38.69757, -120.995739, 1.0], [38.703056, -121.235221, 1.0], [38.389756, -121.446246, 1.0], [38.897814, -121.324691, 1.0], [38.467936, -121.445477, 1.0], [38.445342, -121.441504, 1.0], [38.417382, -121.484325, 1.0], [38.457679, -121.35962, 1.0], [38.499893, -121.45889, 1.0], [38.708824, -121.256803, 1.0], [38.417, -121.397424, 1.0], [38.655245, -121.075915, 1.0]],\n",
       "                {&quot;blur&quot;: 15, &quot;maxZoom&quot;: 18, &quot;minOpacity&quot;: 0.5, &quot;radius&quot;: 25}\n",
       "            ).addTo(map_3a5ce6070dc6a0c49a716e7b9f026e16);\n",
       "        \n",
       "&lt;/script&gt;\" style=\"position:absolute;width:100%;height:100%;left:0;top:0;border:none !important;\" allowfullscreen webkitallowfullscreen mozallowfullscreen></iframe></div></div>"
      ],
      "text/plain": [
       "<folium.folium.Map at 0x28b17507280>"
      ]
     },
     "metadata": {},
     "output_type": "display_data"
    }
   ],
   "source": [
    "HeatMap(map_data).add_to(map_base)\n",
    "display(map_base)"
   ]
  },
  {
   "cell_type": "markdown",
   "metadata": {
    "id": "sIztKXN7Xd3u"
   },
   "source": [
    "### 2. Predict Price"
   ]
  },
  {
   "cell_type": "markdown",
   "metadata": {
    "id": "hzXJOP2_Xd3v"
   },
   "source": [
    "We are going to predict `price` from available information."
   ]
  },
  {
   "cell_type": "markdown",
   "metadata": {
    "id": "1CMJdXc3Xd3w"
   },
   "source": [
    "#### 2.1 What is the Target Variable? Why?"
   ]
  },
  {
   "cell_type": "code",
   "execution_count": 83,
   "metadata": {
    "id": "56yN89q2Xd3w"
   },
   "outputs": [],
   "source": [
    "# ANSWER\n",
    "# the price is the target variable"
   ]
  },
  {
   "cell_type": "markdown",
   "metadata": {
    "id": "7qy-ZmGEXd3z"
   },
   "source": [
    "#### 2.2 List all possible variables which might be Predictor variable."
   ]
  },
  {
   "cell_type": "code",
   "execution_count": 84,
   "metadata": {
    "id": "nfAq28P_Xd30"
   },
   "outputs": [],
   "source": [
    "# ANSWER\n",
    "#beds, sq_ft, type,sale_date, bath"
   ]
  },
  {
   "cell_type": "markdown",
   "metadata": {
    "id": "yFZkIpXhXd32"
   },
   "source": [
    "#### 2.3 Find correlation between variables\n",
    "\n",
    "Find correlation between variables. Which is the best predictor? Why? State your reason."
   ]
  },
  {
   "cell_type": "code",
   "execution_count": 85,
   "metadata": {
    "id": "Nc8FHVnjXd32"
   },
   "outputs": [
    {
     "data": {
      "text/html": [
       "<div>\n",
       "<style scoped>\n",
       "    .dataframe tbody tr th:only-of-type {\n",
       "        vertical-align: middle;\n",
       "    }\n",
       "\n",
       "    .dataframe tbody tr th {\n",
       "        vertical-align: top;\n",
       "    }\n",
       "\n",
       "    .dataframe thead th {\n",
       "        text-align: right;\n",
       "    }\n",
       "</style>\n",
       "<table border=\"1\" class=\"dataframe\">\n",
       "  <thead>\n",
       "    <tr style=\"text-align: right;\">\n",
       "      <th></th>\n",
       "      <th>beds</th>\n",
       "      <th>baths</th>\n",
       "      <th>sq__ft</th>\n",
       "      <th>price</th>\n",
       "      <th>latitude</th>\n",
       "      <th>longitude</th>\n",
       "    </tr>\n",
       "  </thead>\n",
       "  <tbody>\n",
       "    <tr>\n",
       "      <th>beds</th>\n",
       "      <td>1.000000</td>\n",
       "      <td>0.839650</td>\n",
       "      <td>0.684041</td>\n",
       "      <td>0.342024</td>\n",
       "      <td>-0.291307</td>\n",
       "      <td>-0.053993</td>\n",
       "    </tr>\n",
       "    <tr>\n",
       "      <th>baths</th>\n",
       "      <td>0.839650</td>\n",
       "      <td>1.000000</td>\n",
       "      <td>0.665690</td>\n",
       "      <td>0.416208</td>\n",
       "      <td>-0.235792</td>\n",
       "      <td>0.016582</td>\n",
       "    </tr>\n",
       "    <tr>\n",
       "      <th>sq__ft</th>\n",
       "      <td>0.684041</td>\n",
       "      <td>0.665690</td>\n",
       "      <td>1.000000</td>\n",
       "      <td>0.333897</td>\n",
       "      <td>-0.383274</td>\n",
       "      <td>-0.177742</td>\n",
       "    </tr>\n",
       "    <tr>\n",
       "      <th>price</th>\n",
       "      <td>0.342024</td>\n",
       "      <td>0.416208</td>\n",
       "      <td>0.333897</td>\n",
       "      <td>1.000000</td>\n",
       "      <td>-0.039573</td>\n",
       "      <td>0.284485</td>\n",
       "    </tr>\n",
       "    <tr>\n",
       "      <th>latitude</th>\n",
       "      <td>-0.291307</td>\n",
       "      <td>-0.235792</td>\n",
       "      <td>-0.383274</td>\n",
       "      <td>-0.039573</td>\n",
       "      <td>1.000000</td>\n",
       "      <td>0.387925</td>\n",
       "    </tr>\n",
       "    <tr>\n",
       "      <th>longitude</th>\n",
       "      <td>-0.053993</td>\n",
       "      <td>0.016582</td>\n",
       "      <td>-0.177742</td>\n",
       "      <td>0.284485</td>\n",
       "      <td>0.387925</td>\n",
       "      <td>1.000000</td>\n",
       "    </tr>\n",
       "  </tbody>\n",
       "</table>\n",
       "</div>"
      ],
      "text/plain": [
       "               beds     baths    sq__ft     price  latitude  longitude\n",
       "beds       1.000000  0.839650  0.684041  0.342024 -0.291307  -0.053993\n",
       "baths      0.839650  1.000000  0.665690  0.416208 -0.235792   0.016582\n",
       "sq__ft     0.684041  0.665690  1.000000  0.333897 -0.383274  -0.177742\n",
       "price      0.342024  0.416208  0.333897  1.000000 -0.039573   0.284485\n",
       "latitude  -0.291307 -0.235792 -0.383274 -0.039573  1.000000   0.387925\n",
       "longitude -0.053993  0.016582 -0.177742  0.284485  0.387925   1.000000"
      ]
     },
     "execution_count": 85,
     "metadata": {},
     "output_type": "execute_result"
    }
   ],
   "source": [
    "# ANSWER\n",
    "house.corr()"
   ]
  },
  {
   "cell_type": "markdown",
   "metadata": {
    "id": "1vop_P66Xd35"
   },
   "source": [
    "#### 2.4 What is the simplest way to predict price\n",
    "\n",
    "So we have information for 985 houses. What is the easiest way to predict price of a house?"
   ]
  },
  {
   "cell_type": "code",
   "execution_count": 86,
   "metadata": {
    "id": "p0xBzE9iXd35"
   },
   "outputs": [],
   "source": [
    "# ANSWER\n",
    "# choose sq_ft to be the predictor, it has strong coorelation with baths, beds, and price"
   ]
  },
  {
   "cell_type": "markdown",
   "metadata": {
    "id": "8uRWVPNuXd38"
   },
   "source": [
    "#### 2.5 Find Resudals\n",
    "\n",
    "Find difference between actual value and predicted value. Use absolute value."
   ]
  },
  {
   "cell_type": "code",
   "execution_count": 87,
   "metadata": {
    "id": "PBzfNQsGXd39"
   },
   "outputs": [
    {
     "data": {
      "text/html": [
       "<div>\n",
       "<style scoped>\n",
       "    .dataframe tbody tr th:only-of-type {\n",
       "        vertical-align: middle;\n",
       "    }\n",
       "\n",
       "    .dataframe tbody tr th {\n",
       "        vertical-align: top;\n",
       "    }\n",
       "\n",
       "    .dataframe thead th {\n",
       "        text-align: right;\n",
       "    }\n",
       "</style>\n",
       "<table border=\"1\" class=\"dataframe\">\n",
       "  <thead>\n",
       "    <tr style=\"text-align: right;\">\n",
       "      <th></th>\n",
       "      <th>street</th>\n",
       "      <th>city</th>\n",
       "      <th>zip</th>\n",
       "      <th>state</th>\n",
       "      <th>beds</th>\n",
       "      <th>baths</th>\n",
       "      <th>sq__ft</th>\n",
       "      <th>type</th>\n",
       "      <th>sale_date</th>\n",
       "      <th>price</th>\n",
       "      <th>latitude</th>\n",
       "      <th>longitude</th>\n",
       "      <th>price_mean</th>\n",
       "    </tr>\n",
       "  </thead>\n",
       "  <tbody>\n",
       "    <tr>\n",
       "      <th>0</th>\n",
       "      <td>3526 HIGH ST</td>\n",
       "      <td>SACRAMENTO</td>\n",
       "      <td>95838</td>\n",
       "      <td>CA</td>\n",
       "      <td>2</td>\n",
       "      <td>1</td>\n",
       "      <td>836</td>\n",
       "      <td>Residential</td>\n",
       "      <td>2008-05-21 00:00:00-04:00</td>\n",
       "      <td>59222</td>\n",
       "      <td>38.631913</td>\n",
       "      <td>-121.434879</td>\n",
       "      <td>234144.263959</td>\n",
       "    </tr>\n",
       "    <tr>\n",
       "      <th>1</th>\n",
       "      <td>51 OMAHA CT</td>\n",
       "      <td>SACRAMENTO</td>\n",
       "      <td>95823</td>\n",
       "      <td>CA</td>\n",
       "      <td>3</td>\n",
       "      <td>1</td>\n",
       "      <td>1167</td>\n",
       "      <td>Residential</td>\n",
       "      <td>2008-05-21 00:00:00-04:00</td>\n",
       "      <td>68212</td>\n",
       "      <td>38.478902</td>\n",
       "      <td>-121.431028</td>\n",
       "      <td>234144.263959</td>\n",
       "    </tr>\n",
       "  </tbody>\n",
       "</table>\n",
       "</div>"
      ],
      "text/plain": [
       "         street        city    zip state  beds  baths  sq__ft         type  \\\n",
       "0  3526 HIGH ST  SACRAMENTO  95838    CA     2      1     836  Residential   \n",
       "1   51 OMAHA CT  SACRAMENTO  95823    CA     3      1    1167  Residential   \n",
       "\n",
       "                  sale_date  price   latitude   longitude     price_mean  \n",
       "0 2008-05-21 00:00:00-04:00  59222  38.631913 -121.434879  234144.263959  \n",
       "1 2008-05-21 00:00:00-04:00  68212  38.478902 -121.431028  234144.263959  "
      ]
     },
     "execution_count": 87,
     "metadata": {},
     "output_type": "execute_result"
    }
   ],
   "source": [
    "# ANSWER\n",
    "house['price_mean'] = house['price'].mean()\n",
    "house.head(2)"
   ]
  },
  {
   "cell_type": "markdown",
   "metadata": {
    "id": "5P61MoAsXd4B"
   },
   "source": [
    "#### 2.6  Predict Using Linear Regression\n",
    "\n",
    "[Simple Linear Regression](https://en.wikipedia.org/wiki/Simple_linear_regression#Fitting_the_regression_line)\n",
    "\n",
    "### $$\\hat{y} = \\beta_0 + \\beta_1 x$$\n",
    "\n",
    "> ### $$ \\beta_1 = \\frac{\\sum_{i=1}^n (y_i - \\bar{y} ) (x_i - \\bar{x} )}{\\sum_{i=1}^n (x_i - \\bar{x})^2} $$\n",
    "\n",
    "and\n",
    "\n",
    "> ### $$ \\beta_0 = \\bar{y} - \\beta_1\\bar{x} $$\n",
    "\n",
    "Given variables:\n",
    "- $\\bar{y}$ : the sample mean of observed values $Y$\n",
    "- $\\bar{x}$ : the sample mean of observed values $X$"
   ]
  },
  {
   "cell_type": "markdown",
   "metadata": {
    "id": "drP_xuAKXd4C"
   },
   "source": [
    "##### 2.7 Define X, Y\n",
    "\n",
    "- X = Predictor Variable \n",
    "- Y = Target Variable"
   ]
  },
  {
   "cell_type": "code",
   "execution_count": 88,
   "metadata": {
    "id": "yPWPQp3VXd4D"
   },
   "outputs": [],
   "source": [
    "# ANSWER\n",
    "Y = house['price']\n",
    "X = house['sq__ft']"
   ]
  },
  {
   "cell_type": "markdown",
   "metadata": {
    "id": "JkV3m-EqXd4F"
   },
   "source": [
    "##### 2.7.A Calculate beta_1\n",
    "\n",
    " ### $$ \\beta_1 = \\frac{\\sum_{i=1}^n (y_i - \\bar{y} ) (x_i - \\bar{x} )}{\\sum_{i=1}^n (x_i - \\bar{x})^2} $$"
   ]
  },
  {
   "cell_type": "code",
   "execution_count": 114,
   "metadata": {
    "id": "lcI1IAmXXd4G"
   },
   "outputs": [],
   "source": [
    "# ANSWER\n",
    "def calculate_beta1(X, Y):\n",
    "    X_mean = X.mean()\n",
    "    Y_mean = Y.mean()\n",
    "    \n",
    "    upper = np.sum((Y-Y_mean)*(X-X_mean))\n",
    "    lower = np.sum(np.square(X- X_mean))\n",
    "    \n",
    "    beta1 = upper/lower\n",
    "    return beta1\n",
    "\n",
    "calculate_beta1(X,Y)\n",
    "beta1 = calculate_beta1(X,Y)"
   ]
  },
  {
   "cell_type": "markdown",
   "metadata": {
    "id": "MoA9ez44Xd4I"
   },
   "source": [
    "##### 2.7.B Calculate beta_0"
   ]
  },
  {
   "cell_type": "markdown",
   "metadata": {
    "id": "V7fug5lMXd4K"
   },
   "source": [
    "### $$ \\beta_0 = \\bar{y} - \\beta_1\\bar{x} $$"
   ]
  },
  {
   "cell_type": "code",
   "execution_count": 115,
   "metadata": {
    "id": "bcu8ZhFLXd4L"
   },
   "outputs": [
    {
     "data": {
      "text/plain": [
       "162930.16140699777"
      ]
     },
     "execution_count": 115,
     "metadata": {},
     "output_type": "execute_result"
    }
   ],
   "source": [
    "# ANSWER\n",
    "def calculate_beta0(X, Y):\n",
    "    X_mean = X.mean()\n",
    "    Y_mean = Y.mean()\n",
    "    beta_0 = Y_mean - calculate_beta1(X,Y) * X_mean\n",
    "    return beta_0\n",
    "    \n",
    "beta_0 = calculate_beta0(X,Y)\n",
    "beta_0"
   ]
  },
  {
   "cell_type": "markdown",
   "metadata": {
    "id": "Z9EUGv1KXd4N"
   },
   "source": [
    "##### 2.7.C Find Yhat (Predicted Value Using Beta 0 and Beta 1)"
   ]
  },
  {
   "cell_type": "markdown",
   "metadata": {
    "id": "gSRcDL57Xd4O"
   },
   "source": [
    "### $$\\hat{y} = \\beta_0 + \\beta_1 x$$"
   ]
  },
  {
   "cell_type": "code",
   "execution_count": 116,
   "metadata": {
    "id": "lGkoNedwXd4P"
   },
   "outputs": [
    {
     "data": {
      "text/plain": [
       "0      208206.784187\n",
       "1      226133.293924\n",
       "2      206040.438599\n",
       "3      209073.322422\n",
       "4      206094.597239\n",
       "           ...      \n",
       "980    286411.859897\n",
       "981    242922.472227\n",
       "982    228787.067268\n",
       "983    254187.469282\n",
       "984    236694.228663\n",
       "Name: sq__ft, Length: 985, dtype: float64"
      ]
     },
     "execution_count": 116,
     "metadata": {},
     "output_type": "execute_result"
    }
   ],
   "source": [
    "# ANSWER\n",
    "def calculate_yhat(X, Y):\n",
    "    y_hat = calculate_beta0(X,Y) + calculate_beta1(X,Y) * X\n",
    "    return y_hat\n",
    "calculate_yhat(X, Y)\n",
    "yhat = calculate_yhat(X, Y)\n",
    "yhat"
   ]
  },
  {
   "cell_type": "markdown",
   "metadata": {
    "id": "h1D-rddfXd4R"
   },
   "source": [
    "##### 2.7.D Find Residuals"
   ]
  },
  {
   "cell_type": "markdown",
   "metadata": {
    "id": "2cha8XAQXd4S"
   },
   "source": [
    "### $$ \\text{residual}_i = y_i - \\hat{y}_i$$"
   ]
  },
  {
   "cell_type": "code",
   "execution_count": 117,
   "metadata": {
    "id": "dLZgRjbGXd4S"
   },
   "outputs": [
    {
     "data": {
      "text/plain": [
       "0      148984.784187\n",
       "1      157921.293924\n",
       "2      137160.438599\n",
       "3      139766.322422\n",
       "4      124194.597239\n",
       "           ...      \n",
       "980     53986.859897\n",
       "981      8922.472227\n",
       "982      6212.932732\n",
       "983     18886.469282\n",
       "984       956.228663\n",
       "Length: 985, dtype: float64"
      ]
     },
     "execution_count": 117,
     "metadata": {},
     "output_type": "execute_result"
    }
   ],
   "source": [
    "# ANSWER\n",
    "def calculate_residual(X,Y):\n",
    "    residual = Y - calculate_yhat(X, Y)\n",
    "    return residual\n",
    "calculate_residual(X,Y)\n",
    "abs(calculate_residual(X,Y))"
   ]
  },
  {
   "cell_type": "markdown",
   "metadata": {
    "id": "bpXEda_uXd4U"
   },
   "source": [
    "##### 2.7.E Find R-Square\n",
    "\n",
    "The coefficient $R^2$ is defined as $$ R^2 = 1 - \\frac{SS_{res}}{SS_{tot}} $$, where $$ SS_{res} $$ is the residual sum of squares $$ SS_{res} = \\sum_{i=1}^n \\left(y_i - \\hat{y}_i\\right)^2 $$ and $$ SS_{res} $$ is the total sum of squares $$ SS_{tot} = \\sum_{i=1}^n \\left(y_i - \\bar{y}\\right)^2 $$\n",
    "\n",
    "The best possible score is 1.0 and it can be negative (because the model can be arbitrarily worse).\n",
    "\n",
    "**Write a function to calculate R- Square value.**"
   ]
  },
  {
   "cell_type": "markdown",
   "metadata": {
    "id": "1RamI9LTXd4V"
   },
   "source": [
    "The total sum of squares:\n",
    "\n",
    "### $$ SS_{tot} = \\sum_{i=1}^n \\left(y_i - \\bar{y}\\right)^2 $$\n",
    "\n",
    "The residual sum of squares:\n",
    "\n",
    "### $$ SS_{res} = \\sum_{i=1}^n \\left(y_i - \\hat{y}_i\\right)^2 $$\n",
    "\n",
    "$R^2$:\n",
    "\n",
    "### $$ R^2 = 1 - \\frac{SS_{res}}{SS_{tot}} $$"
   ]
  },
  {
   "cell_type": "code",
   "execution_count": 118,
   "metadata": {
    "id": "vmxloC2RXd4W"
   },
   "outputs": [
    {
     "data": {
      "text/plain": [
       "18838783738865.37"
      ]
     },
     "execution_count": 118,
     "metadata": {},
     "output_type": "execute_result"
    }
   ],
   "source": [
    "# ANSWER\n",
    "def calculate_total_sum_of_square(Y):\n",
    "    Y_mean = Y.mean()\n",
    "    SStot = np.square(Y - Y_mean)\n",
    "    SStot = np.sum(SStot)\n",
    "    return SStot\n",
    "calculate_total_sum_of_square(Y)\n",
    "    "
   ]
  },
  {
   "cell_type": "code",
   "execution_count": 119,
   "metadata": {},
   "outputs": [
    {
     "data": {
      "text/plain": [
       "16738500924917.504"
      ]
     },
     "execution_count": 119,
     "metadata": {},
     "output_type": "execute_result"
    }
   ],
   "source": [
    "def calculate_residual_sum_of_squre(Y, yhat):\n",
    "    SSres = np.square(Y-yhat)\n",
    "    SSres = np.sum(SSres)\n",
    "    return SSres\n",
    "calculate_residual_sum_of_squre(Y, yhat)\n"
   ]
  },
  {
   "cell_type": "code",
   "execution_count": 120,
   "metadata": {},
   "outputs": [],
   "source": [
    "def calculate_r_square(Y, yhat):\n",
    "    SStot = calculate_total_sum_of_square(Y)\n",
    "    SSres = calculate_residual_sum_of_squre(Y, yhat)\n",
    "    Rsquare = 1 - (SSres/SStot)\n",
    "    return Rsquare"
   ]
  },
  {
   "cell_type": "code",
   "execution_count": 121,
   "metadata": {},
   "outputs": [
    {
     "data": {
      "text/plain": [
       "0.0"
      ]
     },
     "execution_count": 121,
     "metadata": {},
     "output_type": "execute_result"
    }
   ],
   "source": [
    "calculate_r_square(Y,np.mean(Y))"
   ]
  },
  {
   "cell_type": "code",
   "execution_count": 122,
   "metadata": {},
   "outputs": [
    {
     "data": {
      "text/plain": [
       "0.11148717682951459"
      ]
     },
     "execution_count": 122,
     "metadata": {},
     "output_type": "execute_result"
    }
   ],
   "source": [
    "calculate_r_square(Y, calculate_yhat(X, Y))"
   ]
  },
  {
   "cell_type": "code",
   "execution_count": 123,
   "metadata": {},
   "outputs": [
    {
     "data": {
      "text/plain": [
       "0.11148717682951459"
      ]
     },
     "execution_count": 123,
     "metadata": {},
     "output_type": "execute_result"
    }
   ],
   "source": [
    "calculate_r_square(Y, yhat)"
   ]
  },
  {
   "cell_type": "markdown",
   "metadata": {
    "id": "7xV-CEKcXd4a"
   },
   "source": [
    "##### 2.7.F [BONUS] Draw Plot of Predicted Line"
   ]
  },
  {
   "cell_type": "code",
   "execution_count": 124,
   "metadata": {
    "id": "P4JKmHWSXd4a"
   },
   "outputs": [
    {
     "data": {
      "image/png": "[encoded data removed]",
      "text/plain": [
       "<Figure size 720x432 with 1 Axes>"
      ]
     },
     "metadata": {},
     "output_type": "display_data"
    }
   ],
   "source": [
    "# ANSWER\n",
    "def draw_plot_0(X, Y, yhat):\n",
    "    plt.scatter(X,Y, c= 'b')\n",
    "    plt.plot(X,yhat, color='r');\n",
    "    plt.show()\n",
    "draw_plot_0(X,Y, yhat)"
   ]
  },
  {
   "cell_type": "code",
   "execution_count": 125,
   "metadata": {},
   "outputs": [
    {
     "data": {
      "text/plain": [
       "0      208206.784187\n",
       "1      226133.293924\n",
       "2      206040.438599\n",
       "3      209073.322422\n",
       "4      206094.597239\n",
       "           ...      \n",
       "980    286411.859897\n",
       "981    242922.472227\n",
       "982    228787.067268\n",
       "983    254187.469282\n",
       "984    236694.228663\n",
       "Name: sq__ft, Length: 985, dtype: float64"
      ]
     },
     "execution_count": 125,
     "metadata": {},
     "output_type": "execute_result"
    }
   ],
   "source": [
    "yhat"
   ]
  },
  {
   "cell_type": "code",
   "execution_count": 126,
   "metadata": {},
   "outputs": [
    {
     "data": {
      "image/png": "[encoded data removed]",
      "text/plain": [
       "<Figure size 1080x504 with 1 Axes>"
      ]
     },
     "metadata": {},
     "output_type": "display_data"
    }
   ],
   "source": [
    "\n",
    "sns.set_context(\"poster\")\n",
    "sns.set(rc={'figure.figsize': (10, 6)})\n",
    "sns.set_style(\"whitegrid\")\n",
    "\n",
    "def draw_plot_1(X, Y, yhat):\n",
    "    fig = plt.figure(figsize = (15,7))\n",
    "    ax = plt.gca()\n",
    "    plt.scatter(X,Y, c= 'b')\n",
    "    plt.plot(X,yhat, color='r');\n",
    "    plt.show()\n",
    "draw_plot_1(X,Y, yhat)"
   ]
  },
  {
   "cell_type": "markdown",
   "metadata": {
    "id": "oE45Z1qaXd4f"
   },
   "source": [
    "##### 2.7.G [BONUS] Draw Plot of Predicted Line With Resudals"
   ]
  },
  {
   "cell_type": "code",
   "execution_count": 127,
   "metadata": {
    "id": "yBLDh6cAXd4g"
   },
   "outputs": [
    {
     "data": {
      "text/html": [
       "<div>\n",
       "<style scoped>\n",
       "    .dataframe tbody tr th:only-of-type {\n",
       "        vertical-align: middle;\n",
       "    }\n",
       "\n",
       "    .dataframe tbody tr th {\n",
       "        vertical-align: top;\n",
       "    }\n",
       "\n",
       "    .dataframe thead th {\n",
       "        text-align: right;\n",
       "    }\n",
       "</style>\n",
       "<table border=\"1\" class=\"dataframe\">\n",
       "  <thead>\n",
       "    <tr style=\"text-align: right;\">\n",
       "      <th></th>\n",
       "      <th>street</th>\n",
       "      <th>city</th>\n",
       "      <th>zip</th>\n",
       "      <th>state</th>\n",
       "      <th>beds</th>\n",
       "      <th>baths</th>\n",
       "      <th>sq__ft</th>\n",
       "      <th>type</th>\n",
       "      <th>sale_date</th>\n",
       "      <th>price</th>\n",
       "      <th>latitude</th>\n",
       "      <th>longitude</th>\n",
       "      <th>price_mean</th>\n",
       "      <th>yhat</th>\n",
       "    </tr>\n",
       "  </thead>\n",
       "  <tbody>\n",
       "    <tr>\n",
       "      <th>0</th>\n",
       "      <td>3526 HIGH ST</td>\n",
       "      <td>SACRAMENTO</td>\n",
       "      <td>95838</td>\n",
       "      <td>CA</td>\n",
       "      <td>2</td>\n",
       "      <td>1</td>\n",
       "      <td>836</td>\n",
       "      <td>Residential</td>\n",
       "      <td>2008-05-21 00:00:00-04:00</td>\n",
       "      <td>59222</td>\n",
       "      <td>38.631913</td>\n",
       "      <td>-121.434879</td>\n",
       "      <td>234144.263959</td>\n",
       "      <td>208206.784187</td>\n",
       "    </tr>\n",
       "    <tr>\n",
       "      <th>1</th>\n",
       "      <td>51 OMAHA CT</td>\n",
       "      <td>SACRAMENTO</td>\n",
       "      <td>95823</td>\n",
       "      <td>CA</td>\n",
       "      <td>3</td>\n",
       "      <td>1</td>\n",
       "      <td>1167</td>\n",
       "      <td>Residential</td>\n",
       "      <td>2008-05-21 00:00:00-04:00</td>\n",
       "      <td>68212</td>\n",
       "      <td>38.478902</td>\n",
       "      <td>-121.431028</td>\n",
       "      <td>234144.263959</td>\n",
       "      <td>226133.293924</td>\n",
       "    </tr>\n",
       "  </tbody>\n",
       "</table>\n",
       "</div>"
      ],
      "text/plain": [
       "         street        city    zip state  beds  baths  sq__ft         type  \\\n",
       "0  3526 HIGH ST  SACRAMENTO  95838    CA     2      1     836  Residential   \n",
       "1   51 OMAHA CT  SACRAMENTO  95823    CA     3      1    1167  Residential   \n",
       "\n",
       "                  sale_date  price   latitude   longitude     price_mean  \\\n",
       "0 2008-05-21 00:00:00-04:00  59222  38.631913 -121.434879  234144.263959   \n",
       "1 2008-05-21 00:00:00-04:00  68212  38.478902 -121.431028  234144.263959   \n",
       "\n",
       "            yhat  \n",
       "0  208206.784187  \n",
       "1  226133.293924  "
      ]
     },
     "execution_count": 127,
     "metadata": {},
     "output_type": "execute_result"
    }
   ],
   "source": [
    "# ANSWER\n",
    "house['yhat'] = yhat\n",
    "house.head(2)"
   ]
  },
  {
   "cell_type": "code",
   "execution_count": 128,
   "metadata": {},
   "outputs": [
    {
     "data": {
      "image/png": "[encoded data removed]",
      "text/plain": [
       "<Figure size 1080x576 with 1 Axes>"
      ]
     },
     "metadata": {},
     "output_type": "display_data"
    }
   ],
   "source": [
    "fig = plt.figure (figsize = (15,7))\n",
    "fig.set_figheight(8)\n",
    "fig.set_figwidth(15)\n",
    "\n",
    "ax = fig.gca()\n",
    "\n",
    "ax.scatter(x=X, y=Y, c='b')\n",
    "ax.plot(X, yhat, color='r');\n",
    "\n",
    "for _, row in house.iterrows():\n",
    "    plt.plot((row['sq__ft'], row['sq__ft']), (row['price'], row['yhat']), 'g-')"
   ]
  },
  {
   "cell_type": "markdown",
   "metadata": {
    "id": "NTjW6xxFXd4i"
   },
   "source": [
    "### 3. Predict House Price\n",
    "\n",
    "Let's assume we have information of following house:\n",
    "\n",
    "- street:\t1140 EDMONTON DR\n",
    "- city:\tSACRAMENTO\n",
    "- zip:\t95833\n",
    "- state:\tCA\n",
    "- beds:\t3\n",
    "- baths:\t2\n",
    "- sq__ft:\t1204\n",
    "- type:\tResidential\n",
    "\n",
    "**Predict the price of this house.**"
   ]
  },
  {
   "cell_type": "code",
   "execution_count": 133,
   "metadata": {
    "id": "mz5Lx5jGXd4j"
   },
   "outputs": [
    {
     "data": {
      "text/plain": [
       "162930.16140699777"
      ]
     },
     "execution_count": 133,
     "metadata": {},
     "output_type": "execute_result"
    }
   ],
   "source": [
    "# ANSWER\n",
    "x_predict = 1204\n",
    "beta_0\n"
   ]
  },
  {
   "cell_type": "code",
   "execution_count": 132,
   "metadata": {},
   "outputs": [
    {
     "data": {
      "text/plain": [
       "54.158639688530755"
      ]
     },
     "execution_count": 132,
     "metadata": {},
     "output_type": "execute_result"
    }
   ],
   "source": [
    "beta1"
   ]
  },
  {
   "cell_type": "code",
   "execution_count": 134,
   "metadata": {},
   "outputs": [
    {
     "data": {
      "text/plain": [
       "228137.1635919888"
      ]
     },
     "execution_count": 134,
     "metadata": {},
     "output_type": "execute_result"
    }
   ],
   "source": [
    "Y_predict = beta1 * x_predict + beta_0\n",
    "Y_predict"
   ]
  },
  {
   "cell_type": "markdown",
   "metadata": {
    "id": "W0FUjKlcl-NJ"
   },
   "source": [
    "\n",
    "\n",
    "---\n",
    "\n",
    "\n",
    "\n",
    "---\n",
    "\n",
    "\n",
    "\n",
    "> > > > > > > > > © 2022 Institute of Data\n",
    "\n",
    "\n",
    "---\n",
    "\n",
    "\n",
    "\n",
    "---\n",
    "\n",
    "\n",
    "\n"
   ]
  }
 ],
 "metadata": {
  "colab": {
   "collapsed_sections": [],
   "name": "IOD_Lab 4.1.1.ipynb",
   "provenance": []
  },
  "kernelspec": {
   "display_name": "Python 3 (ipykernel)",
   "language": "python",
   "name": "python3"
  },
  "language_info": {
   "codemirror_mode": {
    "name": "ipython",
    "version": 3
   },
   "file_extension": ".py",
   "mimetype": "text/x-python",
   "name": "python",
   "nbconvert_exporter": "python",
   "pygments_lexer": "ipython3",
   "version": "3.8.13"
  }
 },
 "nbformat": 4,
 "nbformat_minor": 4
}
