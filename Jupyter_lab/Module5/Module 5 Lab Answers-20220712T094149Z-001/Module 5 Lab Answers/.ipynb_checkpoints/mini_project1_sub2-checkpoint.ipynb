{
 "cells": [
  {
   "cell_type": "code",
   "execution_count": 41,
   "id": "e47aa473-e24a-4562-bb5d-e7fefdffc4ea",
   "metadata": {},
   "outputs": [],
   "source": [
    "import pandas as pd\n",
    "import matplotlib.pyplot as plt\n",
    "import seaborn as sns\n",
    "import geopandas\n",
    "import folium\n",
    "from folium.plugins import FastMarkerCluster\n",
    "from datetime import datetime\n",
    "import plotly.express as px\n",
    "\n",
    "%reload_ext autoreload\n",
    "%autoreload 2\n",
    "\n",
    "sns.set_palette(\"Set2\")"
   ]
  },
  {
   "cell_type": "code",
   "execution_count": 42,
   "id": "bf57fc06-1b25-4dd9-b4e3-34950cdf43f2",
   "metadata": {},
   "outputs": [
    {
     "data": {
      "text/html": [
       "<div>\n",
       "<style scoped>\n",
       "    .dataframe tbody tr th:only-of-type {\n",
       "        vertical-align: middle;\n",
       "    }\n",
       "\n",
       "    .dataframe tbody tr th {\n",
       "        vertical-align: top;\n",
       "    }\n",
       "\n",
       "    .dataframe thead th {\n",
       "        text-align: right;\n",
       "    }\n",
       "</style>\n",
       "<table border=\"1\" class=\"dataframe\">\n",
       "  <thead>\n",
       "    <tr style=\"text-align: right;\">\n",
       "      <th></th>\n",
       "      <th>id</th>\n",
       "      <th>name</th>\n",
       "      <th>host_id</th>\n",
       "      <th>host_name</th>\n",
       "      <th>neighbourhood_group</th>\n",
       "      <th>neighbourhood</th>\n",
       "      <th>latitude</th>\n",
       "      <th>longitude</th>\n",
       "      <th>room_type</th>\n",
       "      <th>price</th>\n",
       "      <th>minimum_nights</th>\n",
       "      <th>number_of_reviews</th>\n",
       "      <th>last_review</th>\n",
       "      <th>reviews_per_month</th>\n",
       "      <th>calculated_host_listings_count</th>\n",
       "      <th>availability_365</th>\n",
       "    </tr>\n",
       "  </thead>\n",
       "  <tbody>\n",
       "    <tr>\n",
       "      <th>0</th>\n",
       "      <td>12351</td>\n",
       "      <td>Sydney City &amp; Harbour at the door</td>\n",
       "      <td>17061</td>\n",
       "      <td>Stuart</td>\n",
       "      <td>NaN</td>\n",
       "      <td>Sydney</td>\n",
       "      <td>-33.865153</td>\n",
       "      <td>151.191896</td>\n",
       "      <td>Private room</td>\n",
       "      <td>100</td>\n",
       "      <td>2</td>\n",
       "      <td>493</td>\n",
       "      <td>2018-11-21</td>\n",
       "      <td>4.83</td>\n",
       "      <td>2</td>\n",
       "      <td>187</td>\n",
       "    </tr>\n",
       "    <tr>\n",
       "      <th>1</th>\n",
       "      <td>14250</td>\n",
       "      <td>Manly Harbour House</td>\n",
       "      <td>55948</td>\n",
       "      <td>Heidi</td>\n",
       "      <td>NaN</td>\n",
       "      <td>Manly</td>\n",
       "      <td>-33.800929</td>\n",
       "      <td>151.261722</td>\n",
       "      <td>Entire home/apt</td>\n",
       "      <td>471</td>\n",
       "      <td>5</td>\n",
       "      <td>1</td>\n",
       "      <td>2016-01-02</td>\n",
       "      <td>0.03</td>\n",
       "      <td>2</td>\n",
       "      <td>321</td>\n",
       "    </tr>\n",
       "    <tr>\n",
       "      <th>2</th>\n",
       "      <td>15253</td>\n",
       "      <td>Stunning Penthouse Apartment In Heart Of The City</td>\n",
       "      <td>59850</td>\n",
       "      <td>Morag</td>\n",
       "      <td>NaN</td>\n",
       "      <td>Sydney</td>\n",
       "      <td>-33.880455</td>\n",
       "      <td>151.216541</td>\n",
       "      <td>Private room</td>\n",
       "      <td>109</td>\n",
       "      <td>2</td>\n",
       "      <td>300</td>\n",
       "      <td>2018-11-16</td>\n",
       "      <td>3.63</td>\n",
       "      <td>2</td>\n",
       "      <td>316</td>\n",
       "    </tr>\n",
       "    <tr>\n",
       "      <th>3</th>\n",
       "      <td>20865</td>\n",
       "      <td>3 BED HOUSE + 1 BED STUDIO Balmain</td>\n",
       "      <td>64282</td>\n",
       "      <td>Fiona</td>\n",
       "      <td>NaN</td>\n",
       "      <td>Leichhardt</td>\n",
       "      <td>-33.859072</td>\n",
       "      <td>151.172753</td>\n",
       "      <td>Entire home/apt</td>\n",
       "      <td>450</td>\n",
       "      <td>7</td>\n",
       "      <td>15</td>\n",
       "      <td>2018-01-07</td>\n",
       "      <td>0.18</td>\n",
       "      <td>1</td>\n",
       "      <td>69</td>\n",
       "    </tr>\n",
       "    <tr>\n",
       "      <th>4</th>\n",
       "      <td>26174</td>\n",
       "      <td>COZY PRIVATE ROOM, GREAT LOCATION!</td>\n",
       "      <td>110561</td>\n",
       "      <td>Amanda</td>\n",
       "      <td>NaN</td>\n",
       "      <td>Woollahra</td>\n",
       "      <td>-33.889087</td>\n",
       "      <td>151.259404</td>\n",
       "      <td>Private room</td>\n",
       "      <td>62</td>\n",
       "      <td>1</td>\n",
       "      <td>42</td>\n",
       "      <td>2018-11-23</td>\n",
       "      <td>0.45</td>\n",
       "      <td>1</td>\n",
       "      <td>140</td>\n",
       "    </tr>\n",
       "  </tbody>\n",
       "</table>\n",
       "</div>"
      ],
      "text/plain": [
       "      id                                               name  host_id  \\\n",
       "0  12351                  Sydney City & Harbour at the door    17061   \n",
       "1  14250                                Manly Harbour House    55948   \n",
       "2  15253  Stunning Penthouse Apartment In Heart Of The City    59850   \n",
       "3  20865                 3 BED HOUSE + 1 BED STUDIO Balmain    64282   \n",
       "4  26174                 COZY PRIVATE ROOM, GREAT LOCATION!   110561   \n",
       "\n",
       "  host_name  neighbourhood_group neighbourhood   latitude   longitude  \\\n",
       "0    Stuart                  NaN        Sydney -33.865153  151.191896   \n",
       "1     Heidi                  NaN         Manly -33.800929  151.261722   \n",
       "2     Morag                  NaN        Sydney -33.880455  151.216541   \n",
       "3     Fiona                  NaN    Leichhardt -33.859072  151.172753   \n",
       "4    Amanda                  NaN     Woollahra -33.889087  151.259404   \n",
       "\n",
       "         room_type  price  minimum_nights  number_of_reviews last_review  \\\n",
       "0     Private room    100               2                493  2018-11-21   \n",
       "1  Entire home/apt    471               5                  1  2016-01-02   \n",
       "2     Private room    109               2                300  2018-11-16   \n",
       "3  Entire home/apt    450               7                 15  2018-01-07   \n",
       "4     Private room     62               1                 42  2018-11-23   \n",
       "\n",
       "   reviews_per_month  calculated_host_listings_count  availability_365  \n",
       "0               4.83                               2               187  \n",
       "1               0.03                               2               321  \n",
       "2               3.63                               2               316  \n",
       "3               0.18                               1                69  \n",
       "4               0.45                               1               140  "
      ]
     },
     "execution_count": 42,
     "metadata": {},
     "output_type": "execute_result"
    }
   ],
   "source": [
    "listing_18_csv = r'D:\\Notes\\Mini Project 1\\Airbnb Sydney open data\\listings_summary_dec18.csv'\n",
    "listing_18 = pd.read_csv(listing_18_csv)\n",
    "listing_18.head(5)"
   ]
  },
  {
   "cell_type": "code",
   "execution_count": 43,
   "id": "221c0bcc-868f-45c2-9ae6-5714dc246abb",
   "metadata": {},
   "outputs": [
    {
     "data": {
      "text/html": [
       "<div>\n",
       "<style scoped>\n",
       "    .dataframe tbody tr th:only-of-type {\n",
       "        vertical-align: middle;\n",
       "    }\n",
       "\n",
       "    .dataframe tbody tr th {\n",
       "        vertical-align: top;\n",
       "    }\n",
       "\n",
       "    .dataframe thead th {\n",
       "        text-align: right;\n",
       "    }\n",
       "</style>\n",
       "<table border=\"1\" class=\"dataframe\">\n",
       "  <thead>\n",
       "    <tr style=\"text-align: right;\">\n",
       "      <th></th>\n",
       "      <th>id</th>\n",
       "      <th>name</th>\n",
       "      <th>host_id</th>\n",
       "      <th>host_name</th>\n",
       "      <th>neighbourhood_group</th>\n",
       "      <th>neighbourhood</th>\n",
       "      <th>latitude</th>\n",
       "      <th>longitude</th>\n",
       "      <th>room_type</th>\n",
       "      <th>price</th>\n",
       "      <th>minimum_nights</th>\n",
       "      <th>number_of_reviews</th>\n",
       "      <th>last_review</th>\n",
       "      <th>reviews_per_month</th>\n",
       "      <th>calculated_host_listings_count</th>\n",
       "      <th>availability_365</th>\n",
       "      <th>number_of_reviews_ltm</th>\n",
       "      <th>license</th>\n",
       "    </tr>\n",
       "  </thead>\n",
       "  <tbody>\n",
       "    <tr>\n",
       "      <th>0</th>\n",
       "      <td>11156</td>\n",
       "      <td>An Oasis in the City</td>\n",
       "      <td>40855</td>\n",
       "      <td>Colleen</td>\n",
       "      <td>NaN</td>\n",
       "      <td>Sydney</td>\n",
       "      <td>-33.86767</td>\n",
       "      <td>151.22497</td>\n",
       "      <td>Private room</td>\n",
       "      <td>65</td>\n",
       "      <td>90</td>\n",
       "      <td>196</td>\n",
       "      <td>2020-03-13</td>\n",
       "      <td>1.34</td>\n",
       "      <td>1</td>\n",
       "      <td>364</td>\n",
       "      <td>0</td>\n",
       "      <td>NaN</td>\n",
       "    </tr>\n",
       "    <tr>\n",
       "      <th>1</th>\n",
       "      <td>14250</td>\n",
       "      <td>Manly Harbour House</td>\n",
       "      <td>55948</td>\n",
       "      <td>Heidi</td>\n",
       "      <td>NaN</td>\n",
       "      <td>Manly</td>\n",
       "      <td>-33.80084</td>\n",
       "      <td>151.26378</td>\n",
       "      <td>Entire home/apt</td>\n",
       "      <td>470</td>\n",
       "      <td>2</td>\n",
       "      <td>3</td>\n",
       "      <td>2021-06-01</td>\n",
       "      <td>0.04</td>\n",
       "      <td>2</td>\n",
       "      <td>174</td>\n",
       "      <td>1</td>\n",
       "      <td>Exempt</td>\n",
       "    </tr>\n",
       "    <tr>\n",
       "      <th>2</th>\n",
       "      <td>15253</td>\n",
       "      <td>Unique Designer Rooftop Apartment in City Loca...</td>\n",
       "      <td>59850</td>\n",
       "      <td>Morag</td>\n",
       "      <td>NaN</td>\n",
       "      <td>Sydney</td>\n",
       "      <td>-33.87964</td>\n",
       "      <td>151.21680</td>\n",
       "      <td>Private room</td>\n",
       "      <td>82</td>\n",
       "      <td>2</td>\n",
       "      <td>383</td>\n",
       "      <td>2021-12-03</td>\n",
       "      <td>3.21</td>\n",
       "      <td>1</td>\n",
       "      <td>336</td>\n",
       "      <td>18</td>\n",
       "      <td>PID-STRA-24061-7</td>\n",
       "    </tr>\n",
       "    <tr>\n",
       "      <th>3</th>\n",
       "      <td>44545</td>\n",
       "      <td>Sunny Darlinghurst Warehouse Apartment</td>\n",
       "      <td>112237</td>\n",
       "      <td>Atari</td>\n",
       "      <td>NaN</td>\n",
       "      <td>Sydney</td>\n",
       "      <td>-33.87888</td>\n",
       "      <td>151.21439</td>\n",
       "      <td>Entire home/apt</td>\n",
       "      <td>130</td>\n",
       "      <td>90</td>\n",
       "      <td>76</td>\n",
       "      <td>2020-01-03</td>\n",
       "      <td>0.56</td>\n",
       "      <td>1</td>\n",
       "      <td>0</td>\n",
       "      <td>0</td>\n",
       "      <td>NaN</td>\n",
       "    </tr>\n",
       "    <tr>\n",
       "      <th>4</th>\n",
       "      <td>58506</td>\n",
       "      <td>Studio Yindi @ Mosman, Sydney</td>\n",
       "      <td>279955</td>\n",
       "      <td>John</td>\n",
       "      <td>NaN</td>\n",
       "      <td>Mosman</td>\n",
       "      <td>-33.81748</td>\n",
       "      <td>151.23484</td>\n",
       "      <td>Entire home/apt</td>\n",
       "      <td>150</td>\n",
       "      <td>2</td>\n",
       "      <td>297</td>\n",
       "      <td>2021-11-30</td>\n",
       "      <td>2.23</td>\n",
       "      <td>1</td>\n",
       "      <td>217</td>\n",
       "      <td>15</td>\n",
       "      <td>PID-STRA-6093</td>\n",
       "    </tr>\n",
       "  </tbody>\n",
       "</table>\n",
       "</div>"
      ],
      "text/plain": [
       "      id                                               name  host_id  \\\n",
       "0  11156                               An Oasis in the City    40855   \n",
       "1  14250                                Manly Harbour House    55948   \n",
       "2  15253  Unique Designer Rooftop Apartment in City Loca...    59850   \n",
       "3  44545             Sunny Darlinghurst Warehouse Apartment   112237   \n",
       "4  58506                      Studio Yindi @ Mosman, Sydney   279955   \n",
       "\n",
       "  host_name  neighbourhood_group neighbourhood  latitude  longitude  \\\n",
       "0   Colleen                  NaN        Sydney -33.86767  151.22497   \n",
       "1     Heidi                  NaN         Manly -33.80084  151.26378   \n",
       "2     Morag                  NaN        Sydney -33.87964  151.21680   \n",
       "3     Atari                  NaN        Sydney -33.87888  151.21439   \n",
       "4      John                  NaN        Mosman -33.81748  151.23484   \n",
       "\n",
       "         room_type  price  minimum_nights  number_of_reviews last_review  \\\n",
       "0     Private room     65              90                196  2020-03-13   \n",
       "1  Entire home/apt    470               2                  3  2021-06-01   \n",
       "2     Private room     82               2                383  2021-12-03   \n",
       "3  Entire home/apt    130              90                 76  2020-01-03   \n",
       "4  Entire home/apt    150               2                297  2021-11-30   \n",
       "\n",
       "   reviews_per_month  calculated_host_listings_count  availability_365  \\\n",
       "0               1.34                               1               364   \n",
       "1               0.04                               2               174   \n",
       "2               3.21                               1               336   \n",
       "3               0.56                               1                 0   \n",
       "4               2.23                               1               217   \n",
       "\n",
       "   number_of_reviews_ltm           license  \n",
       "0                      0               NaN  \n",
       "1                      1            Exempt  \n",
       "2                     18  PID-STRA-24061-7  \n",
       "3                      0               NaN  \n",
       "4                     15     PID-STRA-6093  "
      ]
     },
     "execution_count": 43,
     "metadata": {},
     "output_type": "execute_result"
    }
   ],
   "source": [
    "listing_21_csv = r'D:\\Notes\\Mini Project 1\\Airbnb Sydney open data\\listings_summary_dec21.csv'\n",
    "listing_21 = pd.read_csv(listing_21_csv)\n",
    "listing_21.head(5)"
   ]
  },
  {
   "cell_type": "code",
   "execution_count": 44,
   "id": "f33211da-a1a7-4e99-a090-10c683f3f1ba",
   "metadata": {},
   "outputs": [
    {
     "data": {
      "text/plain": [
       "(421, 2)"
      ]
     },
     "execution_count": 44,
     "metadata": {},
     "output_type": "execute_result"
    }
   ],
   "source": [
    "url_full = 'https://sydneysuburbreviews.com/suburb-rankings/'\n",
    "tables = pd.read_html(url_full)\n",
    "table = tables[0]\n",
    "table = table[['Name','Region']]\n",
    "table.shape"
   ]
  },
  {
   "cell_type": "code",
   "execution_count": 45,
   "id": "730fa6c5-e33d-42d8-9ed5-9d4ae9bf94b9",
   "metadata": {},
   "outputs": [],
   "source": [
    "def clean_column_name(column_names):\n",
    "    clean_column_names = []\n",
    "    for c in column_names:\n",
    "        c = c.lower().replace(' ', '_')\n",
    "        c = c.lower().replace('*', '')\n",
    "        c = c.lower().replace('?', '')\n",
    "        clean_column_names.append(c)\n",
    "    return clean_column_names"
   ]
  },
  {
   "cell_type": "code",
   "execution_count": 46,
   "id": "9f6e3b83-41a5-4fce-b013-78dc3ccb3e5b",
   "metadata": {},
   "outputs": [
    {
     "name": "stderr",
     "output_type": "stream",
     "text": [
      "C:\\Users\\Clivia\\AppData\\Local\\Temp\\ipykernel_13276\\1734824492.py:3: SettingWithCopyWarning: \n",
      "A value is trying to be set on a copy of a slice from a DataFrame.\n",
      "Try using .loc[row_indexer,col_indexer] = value instead\n",
      "\n",
      "See the caveats in the documentation: https://pandas.pydata.org/pandas-docs/stable/user_guide/indexing.html#returning-a-view-versus-a-copy\n",
      "  table.Name = clean_column_name(table.Name)\n"
     ]
    },
    {
     "data": {
      "text/plain": [
       "0           hornsby\n",
       "1            oatley\n",
       "2      dulwich_hill\n",
       "3           jannali\n",
       "4          waverton\n",
       "           ...     \n",
       "416         yagoona\n",
       "417     yarrawarrah\n",
       "418         yennora\n",
       "419       yowie_bay\n",
       "420    bexley_north\n",
       "Name: Name, Length: 421, dtype: object"
      ]
     },
     "execution_count": 46,
     "metadata": {},
     "output_type": "execute_result"
    }
   ],
   "source": [
    "listing_18.neighbourhood = clean_column_name(listing_18.neighbourhood)\n",
    "listing_21.neighbourhood = clean_column_name(listing_21.neighbourhood)\n",
    "table.Name = clean_column_name(table.Name)\n",
    "table.Name"
   ]
  },
  {
   "cell_type": "code",
   "execution_count": 47,
   "id": "2db773cc-0990-4592-a2cf-9bac9f6894e5",
   "metadata": {},
   "outputs": [
    {
     "data": {
      "text/html": [
       "<div>\n",
       "<style scoped>\n",
       "    .dataframe tbody tr th:only-of-type {\n",
       "        vertical-align: middle;\n",
       "    }\n",
       "\n",
       "    .dataframe tbody tr th {\n",
       "        vertical-align: top;\n",
       "    }\n",
       "\n",
       "    .dataframe thead th {\n",
       "        text-align: right;\n",
       "    }\n",
       "</style>\n",
       "<table border=\"1\" class=\"dataframe\">\n",
       "  <thead>\n",
       "    <tr style=\"text-align: right;\">\n",
       "      <th></th>\n",
       "      <th>Name</th>\n",
       "      <th>Region</th>\n",
       "    </tr>\n",
       "  </thead>\n",
       "  <tbody>\n",
       "    <tr>\n",
       "      <th>0</th>\n",
       "      <td>hornsby</td>\n",
       "      <td>Upper North Shore</td>\n",
       "    </tr>\n",
       "    <tr>\n",
       "      <th>1</th>\n",
       "      <td>oatley</td>\n",
       "      <td>Southern Suburbs</td>\n",
       "    </tr>\n",
       "    <tr>\n",
       "      <th>2</th>\n",
       "      <td>dulwich_hill</td>\n",
       "      <td>Inner West</td>\n",
       "    </tr>\n",
       "    <tr>\n",
       "      <th>3</th>\n",
       "      <td>jannali</td>\n",
       "      <td>Sutherland Shire</td>\n",
       "    </tr>\n",
       "    <tr>\n",
       "      <th>4</th>\n",
       "      <td>waverton</td>\n",
       "      <td>Lower North Shore</td>\n",
       "    </tr>\n",
       "    <tr>\n",
       "      <th>...</th>\n",
       "      <td>...</td>\n",
       "      <td>...</td>\n",
       "    </tr>\n",
       "    <tr>\n",
       "      <th>416</th>\n",
       "      <td>yagoona</td>\n",
       "      <td>Western Suburbs</td>\n",
       "    </tr>\n",
       "    <tr>\n",
       "      <th>417</th>\n",
       "      <td>yarrawarrah</td>\n",
       "      <td>Sutherland Shire</td>\n",
       "    </tr>\n",
       "    <tr>\n",
       "      <th>418</th>\n",
       "      <td>yennora</td>\n",
       "      <td>Western Suburbs</td>\n",
       "    </tr>\n",
       "    <tr>\n",
       "      <th>419</th>\n",
       "      <td>yowie_bay</td>\n",
       "      <td>Sutherland Shire</td>\n",
       "    </tr>\n",
       "    <tr>\n",
       "      <th>420</th>\n",
       "      <td>bexley_north</td>\n",
       "      <td>Southern Suburbs</td>\n",
       "    </tr>\n",
       "  </tbody>\n",
       "</table>\n",
       "<p>421 rows × 2 columns</p>\n",
       "</div>"
      ],
      "text/plain": [
       "             Name             Region\n",
       "0         hornsby  Upper North Shore\n",
       "1          oatley   Southern Suburbs\n",
       "2    dulwich_hill         Inner West\n",
       "3         jannali   Sutherland Shire\n",
       "4        waverton  Lower North Shore\n",
       "..            ...                ...\n",
       "416       yagoona    Western Suburbs\n",
       "417   yarrawarrah   Sutherland Shire\n",
       "418       yennora    Western Suburbs\n",
       "419     yowie_bay   Sutherland Shire\n",
       "420  bexley_north   Southern Suburbs\n",
       "\n",
       "[421 rows x 2 columns]"
      ]
     },
     "execution_count": 47,
     "metadata": {},
     "output_type": "execute_result"
    }
   ],
   "source": [
    "table"
   ]
  },
  {
   "cell_type": "code",
   "execution_count": 48,
   "id": "a7538f25-afb0-4fb6-88d0-618f59bbc2a6",
   "metadata": {},
   "outputs": [
    {
     "data": {
      "text/html": [
       "<div>\n",
       "<style scoped>\n",
       "    .dataframe tbody tr th:only-of-type {\n",
       "        vertical-align: middle;\n",
       "    }\n",
       "\n",
       "    .dataframe tbody tr th {\n",
       "        vertical-align: top;\n",
       "    }\n",
       "\n",
       "    .dataframe thead th {\n",
       "        text-align: right;\n",
       "    }\n",
       "</style>\n",
       "<table border=\"1\" class=\"dataframe\">\n",
       "  <thead>\n",
       "    <tr style=\"text-align: right;\">\n",
       "      <th></th>\n",
       "      <th>Name</th>\n",
       "      <th>Region</th>\n",
       "    </tr>\n",
       "  </thead>\n",
       "  <tbody>\n",
       "    <tr>\n",
       "      <th>34</th>\n",
       "      <td>manly</td>\n",
       "      <td>Northern Beaches</td>\n",
       "    </tr>\n",
       "  </tbody>\n",
       "</table>\n",
       "</div>"
      ],
      "text/plain": [
       "     Name            Region\n",
       "34  manly  Northern Beaches"
      ]
     },
     "execution_count": 48,
     "metadata": {},
     "output_type": "execute_result"
    }
   ],
   "source": [
    "table[table.Name == 'manly']"
   ]
  },
  {
   "cell_type": "code",
   "execution_count": 49,
   "id": "11d00b52-d56d-44ee-b86e-f39e7f3716c8",
   "metadata": {},
   "outputs": [
    {
     "data": {
      "text/html": [
       "<div>\n",
       "<style scoped>\n",
       "    .dataframe tbody tr th:only-of-type {\n",
       "        vertical-align: middle;\n",
       "    }\n",
       "\n",
       "    .dataframe tbody tr th {\n",
       "        vertical-align: top;\n",
       "    }\n",
       "\n",
       "    .dataframe thead th {\n",
       "        text-align: right;\n",
       "    }\n",
       "</style>\n",
       "<table border=\"1\" class=\"dataframe\">\n",
       "  <thead>\n",
       "    <tr style=\"text-align: right;\">\n",
       "      <th></th>\n",
       "      <th>id</th>\n",
       "      <th>name</th>\n",
       "      <th>host_id</th>\n",
       "      <th>host_name</th>\n",
       "      <th>neighbourhood_group</th>\n",
       "      <th>neighbourhood</th>\n",
       "      <th>latitude</th>\n",
       "      <th>longitude</th>\n",
       "      <th>room_type</th>\n",
       "      <th>price</th>\n",
       "      <th>minimum_nights</th>\n",
       "      <th>number_of_reviews</th>\n",
       "      <th>last_review</th>\n",
       "      <th>reviews_per_month</th>\n",
       "      <th>calculated_host_listings_count</th>\n",
       "      <th>availability_365</th>\n",
       "      <th>Name</th>\n",
       "      <th>Region</th>\n",
       "    </tr>\n",
       "  </thead>\n",
       "  <tbody>\n",
       "    <tr>\n",
       "      <th>0</th>\n",
       "      <td>12351</td>\n",
       "      <td>Sydney City &amp; Harbour at the door</td>\n",
       "      <td>17061</td>\n",
       "      <td>Stuart</td>\n",
       "      <td>NaN</td>\n",
       "      <td>sydney</td>\n",
       "      <td>-33.865153</td>\n",
       "      <td>151.191896</td>\n",
       "      <td>Private room</td>\n",
       "      <td>100</td>\n",
       "      <td>2</td>\n",
       "      <td>493</td>\n",
       "      <td>2018-11-21</td>\n",
       "      <td>4.83</td>\n",
       "      <td>2</td>\n",
       "      <td>187</td>\n",
       "      <td>NaN</td>\n",
       "      <td>NaN</td>\n",
       "    </tr>\n",
       "    <tr>\n",
       "      <th>1</th>\n",
       "      <td>14250</td>\n",
       "      <td>Manly Harbour House</td>\n",
       "      <td>55948</td>\n",
       "      <td>Heidi</td>\n",
       "      <td>NaN</td>\n",
       "      <td>manly</td>\n",
       "      <td>-33.800929</td>\n",
       "      <td>151.261722</td>\n",
       "      <td>Entire home/apt</td>\n",
       "      <td>471</td>\n",
       "      <td>5</td>\n",
       "      <td>1</td>\n",
       "      <td>2016-01-02</td>\n",
       "      <td>0.03</td>\n",
       "      <td>2</td>\n",
       "      <td>321</td>\n",
       "      <td>manly</td>\n",
       "      <td>Northern Beaches</td>\n",
       "    </tr>\n",
       "    <tr>\n",
       "      <th>2</th>\n",
       "      <td>15253</td>\n",
       "      <td>Stunning Penthouse Apartment In Heart Of The City</td>\n",
       "      <td>59850</td>\n",
       "      <td>Morag</td>\n",
       "      <td>NaN</td>\n",
       "      <td>sydney</td>\n",
       "      <td>-33.880455</td>\n",
       "      <td>151.216541</td>\n",
       "      <td>Private room</td>\n",
       "      <td>109</td>\n",
       "      <td>2</td>\n",
       "      <td>300</td>\n",
       "      <td>2018-11-16</td>\n",
       "      <td>3.63</td>\n",
       "      <td>2</td>\n",
       "      <td>316</td>\n",
       "      <td>NaN</td>\n",
       "      <td>NaN</td>\n",
       "    </tr>\n",
       "    <tr>\n",
       "      <th>3</th>\n",
       "      <td>20865</td>\n",
       "      <td>3 BED HOUSE + 1 BED STUDIO Balmain</td>\n",
       "      <td>64282</td>\n",
       "      <td>Fiona</td>\n",
       "      <td>NaN</td>\n",
       "      <td>leichhardt</td>\n",
       "      <td>-33.859072</td>\n",
       "      <td>151.172753</td>\n",
       "      <td>Entire home/apt</td>\n",
       "      <td>450</td>\n",
       "      <td>7</td>\n",
       "      <td>15</td>\n",
       "      <td>2018-01-07</td>\n",
       "      <td>0.18</td>\n",
       "      <td>1</td>\n",
       "      <td>69</td>\n",
       "      <td>leichhardt</td>\n",
       "      <td>Inner West</td>\n",
       "    </tr>\n",
       "    <tr>\n",
       "      <th>4</th>\n",
       "      <td>26174</td>\n",
       "      <td>COZY PRIVATE ROOM, GREAT LOCATION!</td>\n",
       "      <td>110561</td>\n",
       "      <td>Amanda</td>\n",
       "      <td>NaN</td>\n",
       "      <td>woollahra</td>\n",
       "      <td>-33.889087</td>\n",
       "      <td>151.259404</td>\n",
       "      <td>Private room</td>\n",
       "      <td>62</td>\n",
       "      <td>1</td>\n",
       "      <td>42</td>\n",
       "      <td>2018-11-23</td>\n",
       "      <td>0.45</td>\n",
       "      <td>1</td>\n",
       "      <td>140</td>\n",
       "      <td>woollahra</td>\n",
       "      <td>Eastern Suburbs</td>\n",
       "    </tr>\n",
       "  </tbody>\n",
       "</table>\n",
       "</div>"
      ],
      "text/plain": [
       "      id                                               name  host_id  \\\n",
       "0  12351                  Sydney City & Harbour at the door    17061   \n",
       "1  14250                                Manly Harbour House    55948   \n",
       "2  15253  Stunning Penthouse Apartment In Heart Of The City    59850   \n",
       "3  20865                 3 BED HOUSE + 1 BED STUDIO Balmain    64282   \n",
       "4  26174                 COZY PRIVATE ROOM, GREAT LOCATION!   110561   \n",
       "\n",
       "  host_name  neighbourhood_group neighbourhood   latitude   longitude  \\\n",
       "0    Stuart                  NaN        sydney -33.865153  151.191896   \n",
       "1     Heidi                  NaN         manly -33.800929  151.261722   \n",
       "2     Morag                  NaN        sydney -33.880455  151.216541   \n",
       "3     Fiona                  NaN    leichhardt -33.859072  151.172753   \n",
       "4    Amanda                  NaN     woollahra -33.889087  151.259404   \n",
       "\n",
       "         room_type  price  minimum_nights  number_of_reviews last_review  \\\n",
       "0     Private room    100               2                493  2018-11-21   \n",
       "1  Entire home/apt    471               5                  1  2016-01-02   \n",
       "2     Private room    109               2                300  2018-11-16   \n",
       "3  Entire home/apt    450               7                 15  2018-01-07   \n",
       "4     Private room     62               1                 42  2018-11-23   \n",
       "\n",
       "   reviews_per_month  calculated_host_listings_count  availability_365  \\\n",
       "0               4.83                               2               187   \n",
       "1               0.03                               2               321   \n",
       "2               3.63                               2               316   \n",
       "3               0.18                               1                69   \n",
       "4               0.45                               1               140   \n",
       "\n",
       "         Name            Region  \n",
       "0         NaN               NaN  \n",
       "1       manly  Northern Beaches  \n",
       "2         NaN               NaN  \n",
       "3  leichhardt        Inner West  \n",
       "4   woollahra   Eastern Suburbs  "
      ]
     },
     "execution_count": 49,
     "metadata": {},
     "output_type": "execute_result"
    }
   ],
   "source": [
    "listing_18 = listing_18.merge(table, left_on= 'neighbourhood', right_on= 'Name', how = 'left')\n",
    "listing_18.head(5)"
   ]
  },
  {
   "cell_type": "code",
   "execution_count": 50,
   "id": "5ae368b4-b0e7-44d8-a420-e8cf415eaa92",
   "metadata": {},
   "outputs": [
    {
     "data": {
      "text/html": [
       "<div>\n",
       "<style scoped>\n",
       "    .dataframe tbody tr th:only-of-type {\n",
       "        vertical-align: middle;\n",
       "    }\n",
       "\n",
       "    .dataframe tbody tr th {\n",
       "        vertical-align: top;\n",
       "    }\n",
       "\n",
       "    .dataframe thead th {\n",
       "        text-align: right;\n",
       "    }\n",
       "</style>\n",
       "<table border=\"1\" class=\"dataframe\">\n",
       "  <thead>\n",
       "    <tr style=\"text-align: right;\">\n",
       "      <th></th>\n",
       "      <th>id</th>\n",
       "      <th>name</th>\n",
       "      <th>host_id</th>\n",
       "      <th>host_name</th>\n",
       "      <th>neighbourhood_group</th>\n",
       "      <th>neighbourhood</th>\n",
       "      <th>latitude</th>\n",
       "      <th>longitude</th>\n",
       "      <th>room_type</th>\n",
       "      <th>price</th>\n",
       "      <th>minimum_nights</th>\n",
       "      <th>number_of_reviews</th>\n",
       "      <th>last_review</th>\n",
       "      <th>reviews_per_month</th>\n",
       "      <th>calculated_host_listings_count</th>\n",
       "      <th>availability_365</th>\n",
       "      <th>number_of_reviews_ltm</th>\n",
       "      <th>license</th>\n",
       "      <th>Name</th>\n",
       "      <th>Region</th>\n",
       "    </tr>\n",
       "  </thead>\n",
       "  <tbody>\n",
       "    <tr>\n",
       "      <th>0</th>\n",
       "      <td>11156</td>\n",
       "      <td>An Oasis in the City</td>\n",
       "      <td>40855</td>\n",
       "      <td>Colleen</td>\n",
       "      <td>NaN</td>\n",
       "      <td>sydney</td>\n",
       "      <td>-33.86767</td>\n",
       "      <td>151.22497</td>\n",
       "      <td>Private room</td>\n",
       "      <td>65</td>\n",
       "      <td>90</td>\n",
       "      <td>196</td>\n",
       "      <td>2020-03-13</td>\n",
       "      <td>1.34</td>\n",
       "      <td>1</td>\n",
       "      <td>364</td>\n",
       "      <td>0</td>\n",
       "      <td>NaN</td>\n",
       "      <td>NaN</td>\n",
       "      <td>NaN</td>\n",
       "    </tr>\n",
       "    <tr>\n",
       "      <th>1</th>\n",
       "      <td>14250</td>\n",
       "      <td>Manly Harbour House</td>\n",
       "      <td>55948</td>\n",
       "      <td>Heidi</td>\n",
       "      <td>NaN</td>\n",
       "      <td>manly</td>\n",
       "      <td>-33.80084</td>\n",
       "      <td>151.26378</td>\n",
       "      <td>Entire home/apt</td>\n",
       "      <td>470</td>\n",
       "      <td>2</td>\n",
       "      <td>3</td>\n",
       "      <td>2021-06-01</td>\n",
       "      <td>0.04</td>\n",
       "      <td>2</td>\n",
       "      <td>174</td>\n",
       "      <td>1</td>\n",
       "      <td>Exempt</td>\n",
       "      <td>manly</td>\n",
       "      <td>Northern Beaches</td>\n",
       "    </tr>\n",
       "    <tr>\n",
       "      <th>2</th>\n",
       "      <td>15253</td>\n",
       "      <td>Unique Designer Rooftop Apartment in City Loca...</td>\n",
       "      <td>59850</td>\n",
       "      <td>Morag</td>\n",
       "      <td>NaN</td>\n",
       "      <td>sydney</td>\n",
       "      <td>-33.87964</td>\n",
       "      <td>151.21680</td>\n",
       "      <td>Private room</td>\n",
       "      <td>82</td>\n",
       "      <td>2</td>\n",
       "      <td>383</td>\n",
       "      <td>2021-12-03</td>\n",
       "      <td>3.21</td>\n",
       "      <td>1</td>\n",
       "      <td>336</td>\n",
       "      <td>18</td>\n",
       "      <td>PID-STRA-24061-7</td>\n",
       "      <td>NaN</td>\n",
       "      <td>NaN</td>\n",
       "    </tr>\n",
       "    <tr>\n",
       "      <th>3</th>\n",
       "      <td>44545</td>\n",
       "      <td>Sunny Darlinghurst Warehouse Apartment</td>\n",
       "      <td>112237</td>\n",
       "      <td>Atari</td>\n",
       "      <td>NaN</td>\n",
       "      <td>sydney</td>\n",
       "      <td>-33.87888</td>\n",
       "      <td>151.21439</td>\n",
       "      <td>Entire home/apt</td>\n",
       "      <td>130</td>\n",
       "      <td>90</td>\n",
       "      <td>76</td>\n",
       "      <td>2020-01-03</td>\n",
       "      <td>0.56</td>\n",
       "      <td>1</td>\n",
       "      <td>0</td>\n",
       "      <td>0</td>\n",
       "      <td>NaN</td>\n",
       "      <td>NaN</td>\n",
       "      <td>NaN</td>\n",
       "    </tr>\n",
       "    <tr>\n",
       "      <th>4</th>\n",
       "      <td>58506</td>\n",
       "      <td>Studio Yindi @ Mosman, Sydney</td>\n",
       "      <td>279955</td>\n",
       "      <td>John</td>\n",
       "      <td>NaN</td>\n",
       "      <td>mosman</td>\n",
       "      <td>-33.81748</td>\n",
       "      <td>151.23484</td>\n",
       "      <td>Entire home/apt</td>\n",
       "      <td>150</td>\n",
       "      <td>2</td>\n",
       "      <td>297</td>\n",
       "      <td>2021-11-30</td>\n",
       "      <td>2.23</td>\n",
       "      <td>1</td>\n",
       "      <td>217</td>\n",
       "      <td>15</td>\n",
       "      <td>PID-STRA-6093</td>\n",
       "      <td>mosman</td>\n",
       "      <td>North Shore</td>\n",
       "    </tr>\n",
       "  </tbody>\n",
       "</table>\n",
       "</div>"
      ],
      "text/plain": [
       "      id                                               name  host_id  \\\n",
       "0  11156                               An Oasis in the City    40855   \n",
       "1  14250                                Manly Harbour House    55948   \n",
       "2  15253  Unique Designer Rooftop Apartment in City Loca...    59850   \n",
       "3  44545             Sunny Darlinghurst Warehouse Apartment   112237   \n",
       "4  58506                      Studio Yindi @ Mosman, Sydney   279955   \n",
       "\n",
       "  host_name  neighbourhood_group neighbourhood  latitude  longitude  \\\n",
       "0   Colleen                  NaN        sydney -33.86767  151.22497   \n",
       "1     Heidi                  NaN         manly -33.80084  151.26378   \n",
       "2     Morag                  NaN        sydney -33.87964  151.21680   \n",
       "3     Atari                  NaN        sydney -33.87888  151.21439   \n",
       "4      John                  NaN        mosman -33.81748  151.23484   \n",
       "\n",
       "         room_type  price  minimum_nights  number_of_reviews last_review  \\\n",
       "0     Private room     65              90                196  2020-03-13   \n",
       "1  Entire home/apt    470               2                  3  2021-06-01   \n",
       "2     Private room     82               2                383  2021-12-03   \n",
       "3  Entire home/apt    130              90                 76  2020-01-03   \n",
       "4  Entire home/apt    150               2                297  2021-11-30   \n",
       "\n",
       "   reviews_per_month  calculated_host_listings_count  availability_365  \\\n",
       "0               1.34                               1               364   \n",
       "1               0.04                               2               174   \n",
       "2               3.21                               1               336   \n",
       "3               0.56                               1                 0   \n",
       "4               2.23                               1               217   \n",
       "\n",
       "   number_of_reviews_ltm           license    Name            Region  \n",
       "0                      0               NaN     NaN               NaN  \n",
       "1                      1            Exempt   manly  Northern Beaches  \n",
       "2                     18  PID-STRA-24061-7     NaN               NaN  \n",
       "3                      0               NaN     NaN               NaN  \n",
       "4                     15     PID-STRA-6093  mosman       North Shore  "
      ]
     },
     "execution_count": 50,
     "metadata": {},
     "output_type": "execute_result"
    }
   ],
   "source": [
    "listing_21 = listing_21.merge(table, left_on= 'neighbourhood', right_on= 'Name', how = 'left')\n",
    "listing_21.head(5)"
   ]
  },
  {
   "cell_type": "code",
   "execution_count": 51,
   "id": "04588b19-c05f-4d43-abbf-4878b8e8e34b",
   "metadata": {},
   "outputs": [
    {
     "data": {
      "text/plain": [
       "<AxesSubplot:ylabel='neighbourhood'>"
      ]
     },
     "execution_count": 51,
     "metadata": {},
     "output_type": "execute_result"
    },
    {
     "data": {
      "image/png": "[encoded data removed]",
      "text/plain": [
       "<Figure size 1152x720 with 1 Axes>"
      ]
     },
     "metadata": {
      "needs_background": "light"
     },
     "output_type": "display_data"
    }
   ],
   "source": [
    "plt.figure(figsize =(16,10))\n",
    "listing_18.groupby(['neighbourhood'])['id'].count().sort_values().plot.barh()"
   ]
  },
  {
   "cell_type": "code",
   "execution_count": 52,
   "id": "0b55faea-1b44-480f-b47e-0d78833e91ed",
   "metadata": {},
   "outputs": [
    {
     "data": {
      "text/plain": [
       "<AxesSubplot:ylabel='neighbourhood'>"
      ]
     },
     "execution_count": 52,
     "metadata": {},
     "output_type": "execute_result"
    },
    {
     "data": {
      "image/png": "[encoded data removed]",
      "text/plain": [
       "<Figure size 1152x720 with 1 Axes>"
      ]
     },
     "metadata": {
      "needs_background": "light"
     },
     "output_type": "display_data"
    }
   ],
   "source": [
    "plt.figure(figsize =(16,10))\n",
    "listing_21.groupby(['neighbourhood'])['id'].count().sort_values().plot.barh()"
   ]
  },
  {
   "cell_type": "code",
   "execution_count": 77,
   "id": "1f145db4-3581-40f3-8c03-aeae255703d7",
   "metadata": {},
   "outputs": [
    {
     "data": {
      "image/png": "[encoded data removed]",
      "text/plain": [
       "<Figure size 1152x720 with 1 Axes>"
      ]
     },
     "metadata": {
      "needs_background": "light"
     },
     "output_type": "display_data"
    }
   ],
   "source": [
    "plt.figure(figsize =(16,10))\n",
    "ax = sns.countplot(data = listing_21,y = listing_21['neighbourhood'], order = listing_21['neighbourhood'].value_counts().index, label = 'count of 2021 listing', color = 'gray')\n",
    "sns.countplot(data = listing_18, y = listing_18['neighbourhood'], label = 'count of 2018 listing', ax = ax, color = 'orange')\n",
    "plt.legend(loc = 'upper right')\n",
    "plt.xlabel('Count of listing ID')\n",
    "plt.ylabel('Neighbourhood')\n",
    "plt.show()"
   ]
  },
  {
   "cell_type": "code",
   "execution_count": 79,
   "id": "6fd27ed6-ce1a-4e47-8978-36f2ee5be853",
   "metadata": {},
   "outputs": [
    {
     "data": {
      "image/png": "[encoded data removed]",
      "text/plain": [
       "<Figure size 1152x720 with 1 Axes>"
      ]
     },
     "metadata": {
      "needs_background": "light"
     },
     "output_type": "display_data"
    }
   ],
   "source": [
    "plt.figure(figsize =(16,10))\n",
    "ax = sns.countplot(data = listing_18,y = listing_18['neighbourhood'], order = listing_18['neighbourhood'].value_counts().index, label = 'count of 2018 listing', color = 'gray')\n",
    "sns.countplot(data = listing_21, y = listing_21['neighbourhood'], label = 'count of 2021 listing', ax = ax, color = 'orange')\n",
    "plt.legend(loc = 'lower right')\n",
    "plt.xlabel('Count of listing ID')\n",
    "plt.ylabel('Neighbourhood')\n",
    "plt.show()"
   ]
  },
  {
   "cell_type": "code",
   "execution_count": null,
   "id": "f19e4adf-9bd0-4732-a187-9e050dbc4c90",
   "metadata": {},
   "outputs": [],
   "source": [
    "plt.figure(figsize =(16,10))\n",
    "ax = sns.barplot(x = listing_18['price'],y = listing_18['neighbourhood'], order = listing_18['neighbourhood'].sort_values(), label = 'count of 2018 listing', color = 'white', edgecolor = 'red')\n",
    "sns.barplot(x = listing_21['price'], y = listing_21['neighbourhood'], label = 'count of 2021 listing', color = 'grey', edgecolor = 'grey')\n",
    "plt.legend(loc = 'lower right')\n",
    "plt.xlabel('Price')\n",
    "plt.ylabel('Neighbourhood')\n",
    "plt.show()"
   ]
  },
  {
   "cell_type": "code",
   "execution_count": null,
   "id": "3540e16a-cca4-40c8-a94b-53f9bbc4b3d9",
   "metadata": {},
   "outputs": [],
   "source": [
    "plt.figure(figsize =(16,10))\n",
    "ax = sns.barplot(x = listing_18['price'],y = listing_18['neighbourhood'], order = listing_18.sort_values('price').neighbourhood, label = 'count of 2018 listing', color = 'white', edgecolor = 'red', ci = None)\n",
    "sns.barplot(x = listing_21['price'], y = listing_21['neighbourhood'], label = 'count of 2021 listing', color = 'grey', edgecolor = 'grey', ci = None)\n",
    "plt.legend(loc = 'lower right')\n",
    "plt.xlabel('Price')\n",
    "plt.ylabel('Neighbourhood')\n",
    "plt.show()"
   ]
  },
  {
   "cell_type": "code",
   "execution_count": 84,
   "id": "8d5a90c2-8fe4-4d86-a919-addb589bd123",
   "metadata": {},
   "outputs": [
    {
     "ename": "AttributeError",
     "evalue": "'bool' object has no attribute 'all'",
     "output_type": "error",
     "traceback": [
      "\u001b[1;31m---------------------------------------------------------------------------\u001b[0m",
      "\u001b[1;31mAttributeError\u001b[0m                            Traceback (most recent call last)",
      "Input \u001b[1;32mIn [84]\u001b[0m, in \u001b[0;36m<cell line: 2>\u001b[1;34m()\u001b[0m\n\u001b[0;32m      1\u001b[0m plt\u001b[38;5;241m.\u001b[39mfigure(figsize \u001b[38;5;241m=\u001b[39m(\u001b[38;5;241m16\u001b[39m,\u001b[38;5;241m10\u001b[39m))\n\u001b[1;32m----> 2\u001b[0m ax \u001b[38;5;241m=\u001b[39m \u001b[43msns\u001b[49m\u001b[38;5;241;43m.\u001b[39;49m\u001b[43mbarplot\u001b[49m\u001b[43m(\u001b[49m\u001b[43mx\u001b[49m\u001b[43m \u001b[49m\u001b[38;5;241;43m=\u001b[39;49m\u001b[43m \u001b[49m\u001b[43mlisting_18\u001b[49m\u001b[43m[\u001b[49m\u001b[38;5;124;43m'\u001b[39;49m\u001b[38;5;124;43mprice\u001b[39;49m\u001b[38;5;124;43m'\u001b[39;49m\u001b[43m]\u001b[49m\u001b[38;5;241;43m.\u001b[39;49m\u001b[43mmedian\u001b[49m\u001b[43m,\u001b[49m\u001b[43my\u001b[49m\u001b[43m \u001b[49m\u001b[38;5;241;43m=\u001b[39;49m\u001b[43m \u001b[49m\u001b[43mlisting_18\u001b[49m\u001b[43m[\u001b[49m\u001b[38;5;124;43m'\u001b[39;49m\u001b[38;5;124;43mneighbourhood\u001b[39;49m\u001b[38;5;124;43m'\u001b[39;49m\u001b[43m]\u001b[49m\u001b[43m,\u001b[49m\u001b[43m \u001b[49m\u001b[43morder\u001b[49m\u001b[43m \u001b[49m\u001b[38;5;241;43m=\u001b[39;49m\u001b[43m \u001b[49m\u001b[43mlisting_18\u001b[49m\u001b[43m[\u001b[49m\u001b[38;5;124;43m'\u001b[39;49m\u001b[38;5;124;43mneighbourhood\u001b[39;49m\u001b[38;5;124;43m'\u001b[39;49m\u001b[43m]\u001b[49m\u001b[38;5;241;43m.\u001b[39;49m\u001b[43mvalue_counts\u001b[49m\u001b[43m(\u001b[49m\u001b[43m)\u001b[49m\u001b[38;5;241;43m.\u001b[39;49m\u001b[43mindex\u001b[49m\u001b[43m,\u001b[49m\u001b[43m \u001b[49m\u001b[43mlabel\u001b[49m\u001b[43m \u001b[49m\u001b[38;5;241;43m=\u001b[39;49m\u001b[43m \u001b[49m\u001b[38;5;124;43m'\u001b[39;49m\u001b[38;5;124;43mcount of 2018 listing\u001b[39;49m\u001b[38;5;124;43m'\u001b[39;49m\u001b[43m,\u001b[49m\u001b[43m \u001b[49m\u001b[43mcolor\u001b[49m\u001b[43m \u001b[49m\u001b[38;5;241;43m=\u001b[39;49m\u001b[43m \u001b[49m\u001b[38;5;124;43m'\u001b[39;49m\u001b[38;5;124;43mgray\u001b[39;49m\u001b[38;5;124;43m'\u001b[39;49m\u001b[43m)\u001b[49m\n\u001b[0;32m      3\u001b[0m sns\u001b[38;5;241m.\u001b[39mbarplot(x \u001b[38;5;241m=\u001b[39m listing_21[\u001b[38;5;124m'\u001b[39m\u001b[38;5;124mprice\u001b[39m\u001b[38;5;124m'\u001b[39m]\u001b[38;5;241m.\u001b[39mmedian, y \u001b[38;5;241m=\u001b[39m listing_21[\u001b[38;5;124m'\u001b[39m\u001b[38;5;124mneighbourhood\u001b[39m\u001b[38;5;124m'\u001b[39m], label \u001b[38;5;241m=\u001b[39m \u001b[38;5;124m'\u001b[39m\u001b[38;5;124mcount of 2021 listing\u001b[39m\u001b[38;5;124m'\u001b[39m, ax \u001b[38;5;241m=\u001b[39m ax, color \u001b[38;5;241m=\u001b[39m \u001b[38;5;124m'\u001b[39m\u001b[38;5;124morange\u001b[39m\u001b[38;5;124m'\u001b[39m)\n\u001b[0;32m      4\u001b[0m plt\u001b[38;5;241m.\u001b[39mlegend(loc \u001b[38;5;241m=\u001b[39m \u001b[38;5;124m'\u001b[39m\u001b[38;5;124mlower right\u001b[39m\u001b[38;5;124m'\u001b[39m)\n",
      "File \u001b[1;32m~\\Anaconda3-2019.10\\envs\\IOD\\lib\\site-packages\\seaborn\\_decorators.py:46\u001b[0m, in \u001b[0;36m_deprecate_positional_args.<locals>.inner_f\u001b[1;34m(*args, **kwargs)\u001b[0m\n\u001b[0;32m     36\u001b[0m     warnings\u001b[38;5;241m.\u001b[39mwarn(\n\u001b[0;32m     37\u001b[0m         \u001b[38;5;124m\"\u001b[39m\u001b[38;5;124mPass the following variable\u001b[39m\u001b[38;5;132;01m{}\u001b[39;00m\u001b[38;5;124m as \u001b[39m\u001b[38;5;132;01m{}\u001b[39;00m\u001b[38;5;124mkeyword arg\u001b[39m\u001b[38;5;132;01m{}\u001b[39;00m\u001b[38;5;124m: \u001b[39m\u001b[38;5;132;01m{}\u001b[39;00m\u001b[38;5;124m. \u001b[39m\u001b[38;5;124m\"\u001b[39m\n\u001b[0;32m     38\u001b[0m         \u001b[38;5;124m\"\u001b[39m\u001b[38;5;124mFrom version 0.12, the only valid positional argument \u001b[39m\u001b[38;5;124m\"\u001b[39m\n\u001b[1;32m   (...)\u001b[0m\n\u001b[0;32m     43\u001b[0m         \u001b[38;5;167;01mFutureWarning\u001b[39;00m\n\u001b[0;32m     44\u001b[0m     )\n\u001b[0;32m     45\u001b[0m kwargs\u001b[38;5;241m.\u001b[39mupdate({k: arg \u001b[38;5;28;01mfor\u001b[39;00m k, arg \u001b[38;5;129;01min\u001b[39;00m \u001b[38;5;28mzip\u001b[39m(sig\u001b[38;5;241m.\u001b[39mparameters, args)})\n\u001b[1;32m---> 46\u001b[0m \u001b[38;5;28;01mreturn\u001b[39;00m \u001b[43mf\u001b[49m\u001b[43m(\u001b[49m\u001b[38;5;241;43m*\u001b[39;49m\u001b[38;5;241;43m*\u001b[39;49m\u001b[43mkwargs\u001b[49m\u001b[43m)\u001b[49m\n",
      "File \u001b[1;32m~\\Anaconda3-2019.10\\envs\\IOD\\lib\\site-packages\\seaborn\\categorical.py:3182\u001b[0m, in \u001b[0;36mbarplot\u001b[1;34m(x, y, hue, data, order, hue_order, estimator, ci, n_boot, units, seed, orient, color, palette, saturation, errcolor, errwidth, capsize, dodge, ax, **kwargs)\u001b[0m\n\u001b[0;32m   3169\u001b[0m \u001b[38;5;129m@_deprecate_positional_args\u001b[39m\n\u001b[0;32m   3170\u001b[0m \u001b[38;5;28;01mdef\u001b[39;00m \u001b[38;5;21mbarplot\u001b[39m(\n\u001b[0;32m   3171\u001b[0m     \u001b[38;5;241m*\u001b[39m,\n\u001b[1;32m   (...)\u001b[0m\n\u001b[0;32m   3179\u001b[0m     \u001b[38;5;241m*\u001b[39m\u001b[38;5;241m*\u001b[39mkwargs,\n\u001b[0;32m   3180\u001b[0m ):\n\u001b[1;32m-> 3182\u001b[0m     plotter \u001b[38;5;241m=\u001b[39m \u001b[43m_BarPlotter\u001b[49m\u001b[43m(\u001b[49m\u001b[43mx\u001b[49m\u001b[43m,\u001b[49m\u001b[43m \u001b[49m\u001b[43my\u001b[49m\u001b[43m,\u001b[49m\u001b[43m \u001b[49m\u001b[43mhue\u001b[49m\u001b[43m,\u001b[49m\u001b[43m \u001b[49m\u001b[43mdata\u001b[49m\u001b[43m,\u001b[49m\u001b[43m \u001b[49m\u001b[43morder\u001b[49m\u001b[43m,\u001b[49m\u001b[43m \u001b[49m\u001b[43mhue_order\u001b[49m\u001b[43m,\u001b[49m\n\u001b[0;32m   3183\u001b[0m \u001b[43m                          \u001b[49m\u001b[43mestimator\u001b[49m\u001b[43m,\u001b[49m\u001b[43m \u001b[49m\u001b[43mci\u001b[49m\u001b[43m,\u001b[49m\u001b[43m \u001b[49m\u001b[43mn_boot\u001b[49m\u001b[43m,\u001b[49m\u001b[43m \u001b[49m\u001b[43munits\u001b[49m\u001b[43m,\u001b[49m\u001b[43m \u001b[49m\u001b[43mseed\u001b[49m\u001b[43m,\u001b[49m\n\u001b[0;32m   3184\u001b[0m \u001b[43m                          \u001b[49m\u001b[43morient\u001b[49m\u001b[43m,\u001b[49m\u001b[43m \u001b[49m\u001b[43mcolor\u001b[49m\u001b[43m,\u001b[49m\u001b[43m \u001b[49m\u001b[43mpalette\u001b[49m\u001b[43m,\u001b[49m\u001b[43m \u001b[49m\u001b[43msaturation\u001b[49m\u001b[43m,\u001b[49m\n\u001b[0;32m   3185\u001b[0m \u001b[43m                          \u001b[49m\u001b[43merrcolor\u001b[49m\u001b[43m,\u001b[49m\u001b[43m \u001b[49m\u001b[43merrwidth\u001b[49m\u001b[43m,\u001b[49m\u001b[43m \u001b[49m\u001b[43mcapsize\u001b[49m\u001b[43m,\u001b[49m\u001b[43m \u001b[49m\u001b[43mdodge\u001b[49m\u001b[43m)\u001b[49m\n\u001b[0;32m   3187\u001b[0m     \u001b[38;5;28;01mif\u001b[39;00m ax \u001b[38;5;129;01mis\u001b[39;00m \u001b[38;5;28;01mNone\u001b[39;00m:\n\u001b[0;32m   3188\u001b[0m         ax \u001b[38;5;241m=\u001b[39m plt\u001b[38;5;241m.\u001b[39mgca()\n",
      "File \u001b[1;32m~\\Anaconda3-2019.10\\envs\\IOD\\lib\\site-packages\\seaborn\\categorical.py:1584\u001b[0m, in \u001b[0;36m_BarPlotter.__init__\u001b[1;34m(self, x, y, hue, data, order, hue_order, estimator, ci, n_boot, units, seed, orient, color, palette, saturation, errcolor, errwidth, capsize, dodge)\u001b[0m\n\u001b[0;32m   1579\u001b[0m \u001b[38;5;28;01mdef\u001b[39;00m \u001b[38;5;21m__init__\u001b[39m(\u001b[38;5;28mself\u001b[39m, x, y, hue, data, order, hue_order,\n\u001b[0;32m   1580\u001b[0m              estimator, ci, n_boot, units, seed,\n\u001b[0;32m   1581\u001b[0m              orient, color, palette, saturation, errcolor,\n\u001b[0;32m   1582\u001b[0m              errwidth, capsize, dodge):\n\u001b[0;32m   1583\u001b[0m     \u001b[38;5;124;03m\"\"\"Initialize the plotter.\"\"\"\u001b[39;00m\n\u001b[1;32m-> 1584\u001b[0m     \u001b[38;5;28;43mself\u001b[39;49m\u001b[38;5;241;43m.\u001b[39;49m\u001b[43mestablish_variables\u001b[49m\u001b[43m(\u001b[49m\u001b[43mx\u001b[49m\u001b[43m,\u001b[49m\u001b[43m \u001b[49m\u001b[43my\u001b[49m\u001b[43m,\u001b[49m\u001b[43m \u001b[49m\u001b[43mhue\u001b[49m\u001b[43m,\u001b[49m\u001b[43m \u001b[49m\u001b[43mdata\u001b[49m\u001b[43m,\u001b[49m\u001b[43m \u001b[49m\u001b[43morient\u001b[49m\u001b[43m,\u001b[49m\n\u001b[0;32m   1585\u001b[0m \u001b[43m                             \u001b[49m\u001b[43morder\u001b[49m\u001b[43m,\u001b[49m\u001b[43m \u001b[49m\u001b[43mhue_order\u001b[49m\u001b[43m,\u001b[49m\u001b[43m \u001b[49m\u001b[43munits\u001b[49m\u001b[43m)\u001b[49m\n\u001b[0;32m   1586\u001b[0m     \u001b[38;5;28mself\u001b[39m\u001b[38;5;241m.\u001b[39mestablish_colors(color, palette, saturation)\n\u001b[0;32m   1587\u001b[0m     \u001b[38;5;28mself\u001b[39m\u001b[38;5;241m.\u001b[39mestimate_statistic(estimator, ci, n_boot, seed)\n",
      "File \u001b[1;32m~\\Anaconda3-2019.10\\envs\\IOD\\lib\\site-packages\\seaborn\\categorical.py:156\u001b[0m, in \u001b[0;36m_CategoricalPlotter.establish_variables\u001b[1;34m(self, x, y, hue, data, orient, order, hue_order, units)\u001b[0m\n\u001b[0;32m    153\u001b[0m         \u001b[38;5;28;01mraise\u001b[39;00m \u001b[38;5;167;01mValueError\u001b[39;00m(err)\n\u001b[0;32m    155\u001b[0m \u001b[38;5;66;03m# Figure out the plotting orientation\u001b[39;00m\n\u001b[1;32m--> 156\u001b[0m orient \u001b[38;5;241m=\u001b[39m \u001b[43minfer_orient\u001b[49m\u001b[43m(\u001b[49m\n\u001b[0;32m    157\u001b[0m \u001b[43m    \u001b[49m\u001b[43mx\u001b[49m\u001b[43m,\u001b[49m\u001b[43m \u001b[49m\u001b[43my\u001b[49m\u001b[43m,\u001b[49m\u001b[43m \u001b[49m\u001b[43morient\u001b[49m\u001b[43m,\u001b[49m\u001b[43m \u001b[49m\u001b[43mrequire_numeric\u001b[49m\u001b[38;5;241;43m=\u001b[39;49m\u001b[38;5;28;43mself\u001b[39;49m\u001b[38;5;241;43m.\u001b[39;49m\u001b[43mrequire_numeric\u001b[49m\n\u001b[0;32m    158\u001b[0m \u001b[43m\u001b[49m\u001b[43m)\u001b[49m\n\u001b[0;32m    160\u001b[0m \u001b[38;5;66;03m# Option 2a:\u001b[39;00m\n\u001b[0;32m    161\u001b[0m \u001b[38;5;66;03m# We are plotting a single set of data\u001b[39;00m\n\u001b[0;32m    162\u001b[0m \u001b[38;5;66;03m# ------------------------------------\u001b[39;00m\n\u001b[0;32m    163\u001b[0m \u001b[38;5;28;01mif\u001b[39;00m x \u001b[38;5;129;01mis\u001b[39;00m \u001b[38;5;28;01mNone\u001b[39;00m \u001b[38;5;129;01mor\u001b[39;00m y \u001b[38;5;129;01mis\u001b[39;00m \u001b[38;5;28;01mNone\u001b[39;00m:\n\u001b[0;32m    164\u001b[0m \n\u001b[0;32m    165\u001b[0m     \u001b[38;5;66;03m# Determine where the data are\u001b[39;00m\n",
      "File \u001b[1;32m~\\Anaconda3-2019.10\\envs\\IOD\\lib\\site-packages\\seaborn\\_core.py:1311\u001b[0m, in \u001b[0;36minfer_orient\u001b[1;34m(x, y, orient, require_numeric)\u001b[0m\n\u001b[0;32m   1283\u001b[0m \u001b[38;5;28;01mdef\u001b[39;00m \u001b[38;5;21minfer_orient\u001b[39m(x\u001b[38;5;241m=\u001b[39m\u001b[38;5;28;01mNone\u001b[39;00m, y\u001b[38;5;241m=\u001b[39m\u001b[38;5;28;01mNone\u001b[39;00m, orient\u001b[38;5;241m=\u001b[39m\u001b[38;5;28;01mNone\u001b[39;00m, require_numeric\u001b[38;5;241m=\u001b[39m\u001b[38;5;28;01mTrue\u001b[39;00m):\n\u001b[0;32m   1284\u001b[0m     \u001b[38;5;124;03m\"\"\"Determine how the plot should be oriented based on the data.\u001b[39;00m\n\u001b[0;32m   1285\u001b[0m \n\u001b[0;32m   1286\u001b[0m \u001b[38;5;124;03m    For historical reasons, the convention is to call a plot \"horizontally\"\u001b[39;00m\n\u001b[1;32m   (...)\u001b[0m\n\u001b[0;32m   1308\u001b[0m \n\u001b[0;32m   1309\u001b[0m \u001b[38;5;124;03m    \"\"\"\u001b[39;00m\n\u001b[1;32m-> 1311\u001b[0m     x_type \u001b[38;5;241m=\u001b[39m \u001b[38;5;28;01mNone\u001b[39;00m \u001b[38;5;28;01mif\u001b[39;00m x \u001b[38;5;129;01mis\u001b[39;00m \u001b[38;5;28;01mNone\u001b[39;00m \u001b[38;5;28;01melse\u001b[39;00m \u001b[43mvariable_type\u001b[49m\u001b[43m(\u001b[49m\u001b[43mx\u001b[49m\u001b[43m)\u001b[49m\n\u001b[0;32m   1312\u001b[0m     y_type \u001b[38;5;241m=\u001b[39m \u001b[38;5;28;01mNone\u001b[39;00m \u001b[38;5;28;01mif\u001b[39;00m y \u001b[38;5;129;01mis\u001b[39;00m \u001b[38;5;28;01mNone\u001b[39;00m \u001b[38;5;28;01melse\u001b[39;00m variable_type(y)\n\u001b[0;32m   1314\u001b[0m     nonnumeric_dv_error \u001b[38;5;241m=\u001b[39m \u001b[38;5;124m\"\u001b[39m\u001b[38;5;132;01m{}\u001b[39;00m\u001b[38;5;124m orientation requires numeric `\u001b[39m\u001b[38;5;132;01m{}\u001b[39;00m\u001b[38;5;124m` variable.\u001b[39m\u001b[38;5;124m\"\u001b[39m\n",
      "File \u001b[1;32m~\\Anaconda3-2019.10\\envs\\IOD\\lib\\site-packages\\seaborn\\_core.py:1229\u001b[0m, in \u001b[0;36mvariable_type\u001b[1;34m(vector, boolean_type)\u001b[0m\n\u001b[0;32m   1226\u001b[0m     \u001b[38;5;28;01mreturn\u001b[39;00m \u001b[38;5;124m\"\u001b[39m\u001b[38;5;124mcategorical\u001b[39m\u001b[38;5;124m\"\u001b[39m\n\u001b[0;32m   1228\u001b[0m \u001b[38;5;66;03m# Special-case all-na data, which is always \"numeric\"\u001b[39;00m\n\u001b[1;32m-> 1229\u001b[0m \u001b[38;5;28;01mif\u001b[39;00m \u001b[43mpd\u001b[49m\u001b[38;5;241;43m.\u001b[39;49m\u001b[43misna\u001b[49m\u001b[43m(\u001b[49m\u001b[43mvector\u001b[49m\u001b[43m)\u001b[49m\u001b[38;5;241;43m.\u001b[39;49m\u001b[43mall\u001b[49m():\n\u001b[0;32m   1230\u001b[0m     \u001b[38;5;28;01mreturn\u001b[39;00m \u001b[38;5;124m\"\u001b[39m\u001b[38;5;124mnumeric\u001b[39m\u001b[38;5;124m\"\u001b[39m\n\u001b[0;32m   1232\u001b[0m \u001b[38;5;66;03m# Special-case binary/boolean data, allow caller to determine\u001b[39;00m\n\u001b[0;32m   1233\u001b[0m \u001b[38;5;66;03m# This triggers a numpy warning when vector has strings/objects\u001b[39;00m\n\u001b[0;32m   1234\u001b[0m \u001b[38;5;66;03m# https://github.com/numpy/numpy/issues/6784\u001b[39;00m\n\u001b[1;32m   (...)\u001b[0m\n\u001b[0;32m   1238\u001b[0m \u001b[38;5;66;03m# https://github.com/numpy/numpy/issues/13548\u001b[39;00m\n\u001b[0;32m   1239\u001b[0m \u001b[38;5;66;03m# This is considered a bug by numpy and will likely go away.\u001b[39;00m\n",
      "\u001b[1;31mAttributeError\u001b[0m: 'bool' object has no attribute 'all'"
     ]
    },
    {
     "data": {
      "text/plain": [
       "<Figure size 1152x720 with 0 Axes>"
      ]
     },
     "metadata": {},
     "output_type": "display_data"
    }
   ],
   "source": [
    "plt.figure(figsize =(16,10))\n",
    "ax = sns.barplot(x = listing_18['price'].median,y = listing_18['neighbourhood'], order = listing_18['neighbourhood'].value_counts().index, label = 'count of 2018 listing', color = 'gray')\n",
    "sns.barplot(x = listing_21['price'].median, y = listing_21['neighbourhood'], label = 'count of 2021 listing', ax = ax, color = 'orange')\n",
    "plt.legend(loc = 'lower right')\n",
    "plt.xlabel('Count of listing ID')\n",
    "plt.ylabel('Neighbourhood')\n",
    "plt.show()"
   ]
  },
  {
   "cell_type": "code",
   "execution_count": 70,
   "id": "dac4e0c8-0d8e-46b1-8b78-f224250ad63a",
   "metadata": {},
   "outputs": [
    {
     "data": {
      "text/plain": [
       "<AxesSubplot:xlabel='id', ylabel='neighbourhood'>"
      ]
     },
     "execution_count": 70,
     "metadata": {},
     "output_type": "execute_result"
    },
    {
     "data": {
      "image/png": "[encoded data removed]",
      "text/plain": [
       "<Figure size 1152x720 with 1 Axes>"
      ]
     },
     "metadata": {
      "needs_background": "light"
     },
     "output_type": "display_data"
    }
   ],
   "source": [
    "plt.figure(figsize =(16,10))\n",
    "sns.barplot(x = listing_21['id'],y = listing_21['neighbourhood'], color  = 'orange', order = listing_21['neighbourhood'].value_counts().index)"
   ]
  },
  {
   "cell_type": "code",
   "execution_count": 57,
   "id": "8ea02658-96a9-4f12-9a68-b13e8cad4223",
   "metadata": {},
   "outputs": [
    {
     "data": {
      "image/png": "[encoded data removed]",
      "text/plain": [
       "<Figure size 432x288 with 1 Axes>"
      ]
     },
     "metadata": {
      "needs_background": "light"
     },
     "output_type": "display_data"
    }
   ],
   "source": [
    "ax = listing_21.groupby(['neighbourhood'])['id'].count().sort_values().plot.barh(color = 'r')\n",
    "listing_18.groupby(['neighbourhood'])['id'].count().sort_values().plot.barh(ax= ax, lable = )\n",
    "plt.legend(loc= 'upper right')\n",
    "plt.xlabel('Count of Listing ID')\n",
    "plt.ylabel('Neighbourhood')\n",
    "plt.show()"
   ]
  },
  {
   "cell_type": "code",
   "execution_count": null,
   "id": "88fb49f0-238b-46be-9056-408ed0029009",
   "metadata": {},
   "outputs": [],
   "source": []
  },
  {
   "cell_type": "code",
   "execution_count": 11,
   "id": "2bbe8c47-a4fc-46ab-be9a-62db46106b48",
   "metadata": {},
   "outputs": [],
   "source": [
    "def data_region_change(data):\n",
    "    data.loc[data.neighbourhood == 'sydney', 'Region'] = 'sydney_cbd'\n",
    "    data.loc[data.neighbourhood == 'pittwater', 'Region'] = 'Northern Beaches'\n",
    "    data.loc[data.neighbourhood == 'the_hills_shire', 'Region'] = 'Northern West'\n",
    "    data.loc[data.neighbourhood == 'warringah', 'Region'] = 'Northern Suburbs'\n",
    "    data.loc[data.neighbourhood == 'sutherland_shire', 'Region'] = 'Southern Suburbs'\n",
    "    data.loc[data.neighbourhood == 'ku-ring-gai', 'Region'] = 'Northern Suburbs'\n",
    "    data.loc[data.neighbourhood == 'canada_bay', 'Region'] = 'Inner West'\n",
    "    data.loc[data.neighbourhood == 'city_of_kogarah', 'Region'] = 'Southern Suburbs'\n",
    "    data.loc[data.neighbourhood == 'botany_bay', 'Region'] = 'Eastern Suburbs'\n",
    "    return data"
   ]
  },
  {
   "cell_type": "code",
   "execution_count": 12,
   "id": "27b1c5f9-23f3-4fba-bd25-121215727ec7",
   "metadata": {},
   "outputs": [],
   "source": [
    "listing_18 = data_region_change(listing_18)\n",
    "listing_21 = data_region_change(listing_21)"
   ]
  },
  {
   "cell_type": "code",
   "execution_count": 13,
   "id": "441df6fb-16e8-49f4-9dc8-c5da1a8e3ac8",
   "metadata": {},
   "outputs": [
    {
     "data": {
      "text/html": [
       "<div>\n",
       "<style scoped>\n",
       "    .dataframe tbody tr th:only-of-type {\n",
       "        vertical-align: middle;\n",
       "    }\n",
       "\n",
       "    .dataframe tbody tr th {\n",
       "        vertical-align: top;\n",
       "    }\n",
       "\n",
       "    .dataframe thead th {\n",
       "        text-align: right;\n",
       "    }\n",
       "</style>\n",
       "<table border=\"1\" class=\"dataframe\">\n",
       "  <thead>\n",
       "    <tr style=\"text-align: right;\">\n",
       "      <th></th>\n",
       "      <th>id</th>\n",
       "      <th>name</th>\n",
       "      <th>host_id</th>\n",
       "      <th>host_name</th>\n",
       "      <th>neighbourhood_group</th>\n",
       "      <th>neighbourhood</th>\n",
       "      <th>latitude</th>\n",
       "      <th>longitude</th>\n",
       "      <th>room_type</th>\n",
       "      <th>price</th>\n",
       "      <th>minimum_nights</th>\n",
       "      <th>number_of_reviews</th>\n",
       "      <th>last_review</th>\n",
       "      <th>reviews_per_month</th>\n",
       "      <th>calculated_host_listings_count</th>\n",
       "      <th>availability_365</th>\n",
       "      <th>Name</th>\n",
       "      <th>Region</th>\n",
       "    </tr>\n",
       "  </thead>\n",
       "  <tbody>\n",
       "    <tr>\n",
       "      <th>0</th>\n",
       "      <td>12351</td>\n",
       "      <td>Sydney City &amp; Harbour at the door</td>\n",
       "      <td>17061</td>\n",
       "      <td>Stuart</td>\n",
       "      <td>NaN</td>\n",
       "      <td>sydney</td>\n",
       "      <td>-33.865153</td>\n",
       "      <td>151.191896</td>\n",
       "      <td>Private room</td>\n",
       "      <td>100</td>\n",
       "      <td>2</td>\n",
       "      <td>493</td>\n",
       "      <td>2018-11-21</td>\n",
       "      <td>4.83</td>\n",
       "      <td>2</td>\n",
       "      <td>187</td>\n",
       "      <td>NaN</td>\n",
       "      <td>sydney_cbd</td>\n",
       "    </tr>\n",
       "    <tr>\n",
       "      <th>1</th>\n",
       "      <td>14250</td>\n",
       "      <td>Manly Harbour House</td>\n",
       "      <td>55948</td>\n",
       "      <td>Heidi</td>\n",
       "      <td>NaN</td>\n",
       "      <td>manly</td>\n",
       "      <td>-33.800929</td>\n",
       "      <td>151.261722</td>\n",
       "      <td>Entire home/apt</td>\n",
       "      <td>471</td>\n",
       "      <td>5</td>\n",
       "      <td>1</td>\n",
       "      <td>2016-01-02</td>\n",
       "      <td>0.03</td>\n",
       "      <td>2</td>\n",
       "      <td>321</td>\n",
       "      <td>manly</td>\n",
       "      <td>Northern Beaches</td>\n",
       "    </tr>\n",
       "    <tr>\n",
       "      <th>2</th>\n",
       "      <td>15253</td>\n",
       "      <td>Stunning Penthouse Apartment In Heart Of The City</td>\n",
       "      <td>59850</td>\n",
       "      <td>Morag</td>\n",
       "      <td>NaN</td>\n",
       "      <td>sydney</td>\n",
       "      <td>-33.880455</td>\n",
       "      <td>151.216541</td>\n",
       "      <td>Private room</td>\n",
       "      <td>109</td>\n",
       "      <td>2</td>\n",
       "      <td>300</td>\n",
       "      <td>2018-11-16</td>\n",
       "      <td>3.63</td>\n",
       "      <td>2</td>\n",
       "      <td>316</td>\n",
       "      <td>NaN</td>\n",
       "      <td>sydney_cbd</td>\n",
       "    </tr>\n",
       "  </tbody>\n",
       "</table>\n",
       "</div>"
      ],
      "text/plain": [
       "      id                                               name  host_id  \\\n",
       "0  12351                  Sydney City & Harbour at the door    17061   \n",
       "1  14250                                Manly Harbour House    55948   \n",
       "2  15253  Stunning Penthouse Apartment In Heart Of The City    59850   \n",
       "\n",
       "  host_name  neighbourhood_group neighbourhood   latitude   longitude  \\\n",
       "0    Stuart                  NaN        sydney -33.865153  151.191896   \n",
       "1     Heidi                  NaN         manly -33.800929  151.261722   \n",
       "2     Morag                  NaN        sydney -33.880455  151.216541   \n",
       "\n",
       "         room_type  price  minimum_nights  number_of_reviews last_review  \\\n",
       "0     Private room    100               2                493  2018-11-21   \n",
       "1  Entire home/apt    471               5                  1  2016-01-02   \n",
       "2     Private room    109               2                300  2018-11-16   \n",
       "\n",
       "   reviews_per_month  calculated_host_listings_count  availability_365   Name  \\\n",
       "0               4.83                               2               187    NaN   \n",
       "1               0.03                               2               321  manly   \n",
       "2               3.63                               2               316    NaN   \n",
       "\n",
       "             Region  \n",
       "0        sydney_cbd  \n",
       "1  Northern Beaches  \n",
       "2        sydney_cbd  "
      ]
     },
     "execution_count": 13,
     "metadata": {},
     "output_type": "execute_result"
    }
   ],
   "source": [
    "listing_18.head(3)"
   ]
  },
  {
   "cell_type": "code",
   "execution_count": 14,
   "id": "0d7b60dc-fa6b-4c3c-a7ca-0082403f3b5b",
   "metadata": {},
   "outputs": [
    {
     "data": {
      "text/html": [
       "<div>\n",
       "<style scoped>\n",
       "    .dataframe tbody tr th:only-of-type {\n",
       "        vertical-align: middle;\n",
       "    }\n",
       "\n",
       "    .dataframe tbody tr th {\n",
       "        vertical-align: top;\n",
       "    }\n",
       "\n",
       "    .dataframe thead th {\n",
       "        text-align: right;\n",
       "    }\n",
       "</style>\n",
       "<table border=\"1\" class=\"dataframe\">\n",
       "  <thead>\n",
       "    <tr style=\"text-align: right;\">\n",
       "      <th></th>\n",
       "      <th>id</th>\n",
       "      <th>name</th>\n",
       "      <th>host_id</th>\n",
       "      <th>host_name</th>\n",
       "      <th>neighbourhood_group</th>\n",
       "      <th>neighbourhood</th>\n",
       "      <th>latitude</th>\n",
       "      <th>longitude</th>\n",
       "      <th>room_type</th>\n",
       "      <th>price</th>\n",
       "      <th>minimum_nights</th>\n",
       "      <th>number_of_reviews</th>\n",
       "      <th>last_review</th>\n",
       "      <th>reviews_per_month</th>\n",
       "      <th>calculated_host_listings_count</th>\n",
       "      <th>availability_365</th>\n",
       "      <th>number_of_reviews_ltm</th>\n",
       "      <th>license</th>\n",
       "      <th>Name</th>\n",
       "      <th>Region</th>\n",
       "    </tr>\n",
       "  </thead>\n",
       "  <tbody>\n",
       "    <tr>\n",
       "      <th>0</th>\n",
       "      <td>11156</td>\n",
       "      <td>An Oasis in the City</td>\n",
       "      <td>40855</td>\n",
       "      <td>Colleen</td>\n",
       "      <td>NaN</td>\n",
       "      <td>sydney</td>\n",
       "      <td>-33.86767</td>\n",
       "      <td>151.22497</td>\n",
       "      <td>Private room</td>\n",
       "      <td>65</td>\n",
       "      <td>90</td>\n",
       "      <td>196</td>\n",
       "      <td>2020-03-13</td>\n",
       "      <td>1.34</td>\n",
       "      <td>1</td>\n",
       "      <td>364</td>\n",
       "      <td>0</td>\n",
       "      <td>NaN</td>\n",
       "      <td>NaN</td>\n",
       "      <td>sydney_cbd</td>\n",
       "    </tr>\n",
       "    <tr>\n",
       "      <th>1</th>\n",
       "      <td>14250</td>\n",
       "      <td>Manly Harbour House</td>\n",
       "      <td>55948</td>\n",
       "      <td>Heidi</td>\n",
       "      <td>NaN</td>\n",
       "      <td>manly</td>\n",
       "      <td>-33.80084</td>\n",
       "      <td>151.26378</td>\n",
       "      <td>Entire home/apt</td>\n",
       "      <td>470</td>\n",
       "      <td>2</td>\n",
       "      <td>3</td>\n",
       "      <td>2021-06-01</td>\n",
       "      <td>0.04</td>\n",
       "      <td>2</td>\n",
       "      <td>174</td>\n",
       "      <td>1</td>\n",
       "      <td>Exempt</td>\n",
       "      <td>manly</td>\n",
       "      <td>Northern Beaches</td>\n",
       "    </tr>\n",
       "    <tr>\n",
       "      <th>2</th>\n",
       "      <td>15253</td>\n",
       "      <td>Unique Designer Rooftop Apartment in City Loca...</td>\n",
       "      <td>59850</td>\n",
       "      <td>Morag</td>\n",
       "      <td>NaN</td>\n",
       "      <td>sydney</td>\n",
       "      <td>-33.87964</td>\n",
       "      <td>151.21680</td>\n",
       "      <td>Private room</td>\n",
       "      <td>82</td>\n",
       "      <td>2</td>\n",
       "      <td>383</td>\n",
       "      <td>2021-12-03</td>\n",
       "      <td>3.21</td>\n",
       "      <td>1</td>\n",
       "      <td>336</td>\n",
       "      <td>18</td>\n",
       "      <td>PID-STRA-24061-7</td>\n",
       "      <td>NaN</td>\n",
       "      <td>sydney_cbd</td>\n",
       "    </tr>\n",
       "  </tbody>\n",
       "</table>\n",
       "</div>"
      ],
      "text/plain": [
       "      id                                               name  host_id  \\\n",
       "0  11156                               An Oasis in the City    40855   \n",
       "1  14250                                Manly Harbour House    55948   \n",
       "2  15253  Unique Designer Rooftop Apartment in City Loca...    59850   \n",
       "\n",
       "  host_name  neighbourhood_group neighbourhood  latitude  longitude  \\\n",
       "0   Colleen                  NaN        sydney -33.86767  151.22497   \n",
       "1     Heidi                  NaN         manly -33.80084  151.26378   \n",
       "2     Morag                  NaN        sydney -33.87964  151.21680   \n",
       "\n",
       "         room_type  price  minimum_nights  number_of_reviews last_review  \\\n",
       "0     Private room     65              90                196  2020-03-13   \n",
       "1  Entire home/apt    470               2                  3  2021-06-01   \n",
       "2     Private room     82               2                383  2021-12-03   \n",
       "\n",
       "   reviews_per_month  calculated_host_listings_count  availability_365  \\\n",
       "0               1.34                               1               364   \n",
       "1               0.04                               2               174   \n",
       "2               3.21                               1               336   \n",
       "\n",
       "   number_of_reviews_ltm           license   Name            Region  \n",
       "0                      0               NaN    NaN        sydney_cbd  \n",
       "1                      1            Exempt  manly  Northern Beaches  \n",
       "2                     18  PID-STRA-24061-7    NaN        sydney_cbd  "
      ]
     },
     "execution_count": 14,
     "metadata": {},
     "output_type": "execute_result"
    }
   ],
   "source": [
    "listing_21.head(3)"
   ]
  },
  {
   "cell_type": "code",
   "execution_count": 15,
   "id": "66982abf-0538-4eab-9760-7bb8010ae97d",
   "metadata": {},
   "outputs": [
    {
     "data": {
      "text/plain": [
       "array([], dtype=object)"
      ]
     },
     "execution_count": 15,
     "metadata": {},
     "output_type": "execute_result"
    }
   ],
   "source": [
    "listing_18[listing_18.Region.isnull()].neighbourhood.unique()"
   ]
  },
  {
   "cell_type": "code",
   "execution_count": 16,
   "id": "777dae34-b341-4c9f-bee5-bd55e5128bb8",
   "metadata": {},
   "outputs": [
    {
     "data": {
      "text/plain": [
       "array([], dtype=object)"
      ]
     },
     "execution_count": 16,
     "metadata": {},
     "output_type": "execute_result"
    }
   ],
   "source": [
    "listing_21[listing_21.Region.isnull()].neighbourhood.unique()"
   ]
  },
  {
   "cell_type": "code",
   "execution_count": 17,
   "id": "6627be4d-ba3f-4cdb-9f20-dfcfea80c043",
   "metadata": {},
   "outputs": [
    {
     "data": {
      "text/plain": [
       "id                                    0\n",
       "name                                 12\n",
       "host_id                               0\n",
       "host_name                             6\n",
       "neighbourhood_group               36662\n",
       "neighbourhood                         0\n",
       "latitude                              0\n",
       "longitude                             0\n",
       "room_type                             0\n",
       "price                                 0\n",
       "minimum_nights                        0\n",
       "number_of_reviews                     0\n",
       "last_review                       11937\n",
       "reviews_per_month                 11937\n",
       "calculated_host_listings_count        0\n",
       "availability_365                      0\n",
       "Name                              14523\n",
       "Region                                0\n",
       "dtype: int64"
      ]
     },
     "execution_count": 17,
     "metadata": {},
     "output_type": "execute_result"
    }
   ],
   "source": [
    "listing_18.isnull().sum()"
   ]
  },
  {
   "cell_type": "code",
   "execution_count": 18,
   "id": "11b7e6f9-6189-461b-a816-1ca98cb4c02a",
   "metadata": {},
   "outputs": [
    {
     "data": {
      "text/plain": [
       "id                                    0\n",
       "name                                  7\n",
       "host_id                               0\n",
       "host_name                             3\n",
       "neighbourhood_group               20880\n",
       "neighbourhood                         0\n",
       "latitude                              0\n",
       "longitude                             0\n",
       "room_type                             0\n",
       "price                                 0\n",
       "minimum_nights                        0\n",
       "number_of_reviews                     0\n",
       "last_review                        5809\n",
       "reviews_per_month                  5809\n",
       "calculated_host_listings_count        0\n",
       "availability_365                      0\n",
       "number_of_reviews_ltm                 0\n",
       "license                           13387\n",
       "Name                               8379\n",
       "Region                                0\n",
       "dtype: int64"
      ]
     },
     "execution_count": 18,
     "metadata": {},
     "output_type": "execute_result"
    }
   ],
   "source": [
    "listing_21.isnull().sum()"
   ]
  },
  {
   "cell_type": "code",
   "execution_count": 19,
   "id": "4a771bcf-7267-4eb3-8bf1-644268723557",
   "metadata": {},
   "outputs": [
    {
     "data": {
      "text/plain": [
       "array(['sydney_cbd', 'Northern Beaches', 'Inner West', 'Eastern Suburbs',\n",
       "       'Lower North Shore', 'North Shore', 'Northern West',\n",
       "       'Upper North Shore', 'Northern Suburbs', 'Southern Suburbs',\n",
       "       'Western Suburbs', 'South West'], dtype=object)"
      ]
     },
     "execution_count": 19,
     "metadata": {},
     "output_type": "execute_result"
    }
   ],
   "source": [
    "listing_18.Region.unique()"
   ]
  },
  {
   "cell_type": "code",
   "execution_count": 20,
   "id": "84c3d608-a95f-4f9e-9ba0-9838ac40ceea",
   "metadata": {},
   "outputs": [
    {
     "data": {
      "text/plain": [
       "12"
      ]
     },
     "execution_count": 20,
     "metadata": {},
     "output_type": "execute_result"
    }
   ],
   "source": [
    "listing_18.Region.nunique()"
   ]
  },
  {
   "cell_type": "code",
   "execution_count": 21,
   "id": "9fd48c6e-55be-4357-9afb-606466a2bafe",
   "metadata": {},
   "outputs": [
    {
     "data": {
      "text/plain": [
       "array(['sydney_cbd', 'Northern Beaches', 'North Shore', 'Eastern Suburbs',\n",
       "       'Inner West', 'Upper North Shore', 'Northern Suburbs',\n",
       "       'Southern Suburbs', 'Western Suburbs', 'Lower North Shore',\n",
       "       'Northern West', 'South West'], dtype=object)"
      ]
     },
     "execution_count": 21,
     "metadata": {},
     "output_type": "execute_result"
    }
   ],
   "source": [
    "listing_21.Region.unique()"
   ]
  },
  {
   "cell_type": "code",
   "execution_count": 22,
   "id": "51cff63e-6e5a-4ec5-b0d9-ab04df756aa9",
   "metadata": {},
   "outputs": [
    {
     "data": {
      "text/plain": [
       "12"
      ]
     },
     "execution_count": 22,
     "metadata": {},
     "output_type": "execute_result"
    }
   ],
   "source": [
    "listing_21.Region.nunique()"
   ]
  },
  {
   "cell_type": "code",
   "execution_count": 23,
   "id": "c17765bc-e6ee-46d1-b62c-48474a7fa6c4",
   "metadata": {},
   "outputs": [
    {
     "data": {
      "text/plain": [
       "['sydney_cbd',\n",
       " 'Northern Beaches',\n",
       " 'North Shore',\n",
       " 'Eastern Suburbs',\n",
       " 'Inner West',\n",
       " 'Upper North Shore',\n",
       " 'Northern Suburbs',\n",
       " 'Southern Suburbs',\n",
       " 'Western Suburbs',\n",
       " 'Lower North Shore',\n",
       " 'Northern West',\n",
       " 'South West']"
      ]
     },
     "execution_count": 23,
     "metadata": {},
     "output_type": "execute_result"
    }
   ],
   "source": [
    "# create a region_list to iterate\n",
    "region_list = listing_21.Region.unique().tolist()\n",
    "region_list"
   ]
  },
  {
   "cell_type": "code",
   "execution_count": 24,
   "id": "7c7b3649-3424-4d99-9645-476f9b939247",
   "metadata": {},
   "outputs": [],
   "source": [
    "N = 100\n",
    "alpha = 0.05"
   ]
  },
  {
   "cell_type": "code",
   "execution_count": 25,
   "id": "550e7698-88da-48c0-a2d4-866f82e4384f",
   "metadata": {
    "tags": []
   },
   "outputs": [
    {
     "data": {
      "text/plain": [
       "11966      59\n",
       "11677     920\n",
       "6537     1084\n",
       "10926     182\n",
       "13126     129\n",
       "         ... \n",
       "6784       62\n",
       "16716     111\n",
       "8308       90\n",
       "982       115\n",
       "15393     100\n",
       "Name: price, Length: 100, dtype: int64"
      ]
     },
     "execution_count": 25,
     "metadata": {},
     "output_type": "execute_result"
    }
   ],
   "source": [
    "sydney_cbd_18 = listing_18[listing_18['Region'] == 'sydney_cbd']['price'].sample(N, random_state = 42)\n",
    "sydney_cbd_21 = listing_21[listing_21['Region'] == 'sydney_cbd']['price'].sample(N, random_state = 42)\n",
    "sydney_cbd_21"
   ]
  },
  {
   "cell_type": "code",
   "execution_count": 26,
   "id": "1b949ee5-ac07-4c25-97a5-894959897bf0",
   "metadata": {},
   "outputs": [],
   "source": [
    "def print_sig_region(p_value, alpha):\n",
    "    '''\n",
    "    Inputs:\n",
    "    p_value: Calculated p_value\n",
    "    alpha: Confidence level\n",
    "    '''\n",
    "    if p_value < alpha:\n",
    "        return 'H1'\n",
    "    elif p_value > alpha:\n",
    "        return 'H0'\n",
    "    else:\n",
    "        return \"p_value = alpha\""
   ]
  },
  {
   "cell_type": "code",
   "execution_count": 27,
   "id": "1134a657-b6a9-4480-8526-80891ed6ac3f",
   "metadata": {},
   "outputs": [],
   "source": [
    "from scipy import stats"
   ]
  },
  {
   "cell_type": "code",
   "execution_count": 28,
   "id": "f4565b88-dacb-4267-9a99-e6962ae42607",
   "metadata": {},
   "outputs": [
    {
     "name": "stdout",
     "output_type": "stream",
     "text": [
      "t = -1.0472017578220312\n",
      "p = 0.29628318467430226\n"
     ]
    },
    {
     "data": {
      "text/plain": [
       "'H0'"
      ]
     },
     "execution_count": 28,
     "metadata": {},
     "output_type": "execute_result"
    }
   ],
   "source": [
    "t1, p1 = stats.ttest_ind(sydney_cbd_18,sydney_cbd_21)\n",
    "print(\"t = \" + str(t1))\n",
    "print(\"p = \" + str(p1))\n",
    "print_sig_region(p1, alpha)"
   ]
  },
  {
   "cell_type": "code",
   "execution_count": 29,
   "id": "63d50a77-1cf7-4589-afb8-4a1de5266880",
   "metadata": {},
   "outputs": [],
   "source": [
    "null_hypothesis = {\n",
    "    'H0': \"There is no difference in the price between 2018 listings and 2021 listings\",\n",
    "    'H1': \"There is a difference in the price between 2018 listings and 2021 listings.\"\n",
    "}"
   ]
  },
  {
   "cell_type": "code",
   "execution_count": 30,
   "id": "9342363e-3acb-44ff-acaf-da2821b0ce39",
   "metadata": {},
   "outputs": [],
   "source": [
    "\n",
    "def region_hypotest(data_18, data_21):\n",
    "\n",
    "    for i in region_list:\n",
    "        error_list = []\n",
    "        N  = 100   \n",
    "        a = listing_18[listing_18['Region'] == i]['price']\n",
    "        b = listing_21[listing_21['Region'] == i]['price']\n",
    "        \n",
    "        if len(a) < N or len(b) < N:\n",
    "            error_list.append('_'.join([i]))\n",
    "        else:\n",
    "            a_t = a.sample(N, random_state = 42)\n",
    "            b_t = b.sample(N, random_state = 42)\n",
    "            t, p = stats.ttest_ind(a_t, b_t)\n",
    "            result = print_sig_region(p, alpha)\n",
    "            print(i,',', str(result))\n",
    "                                                 \n",
    "    print('error_list: ',error_list)\n"
   ]
  },
  {
   "cell_type": "code",
   "execution_count": null,
   "id": "8cea695d-d041-4282-aa09-4c0936509115",
   "metadata": {},
   "outputs": [],
   "source": []
  },
  {
   "cell_type": "code",
   "execution_count": 31,
   "id": "e892fb95-c16f-459b-8121-409b4d538071",
   "metadata": {},
   "outputs": [
    {
     "name": "stdout",
     "output_type": "stream",
     "text": [
      "sydney_cbd , H0\n",
      "Northern Beaches , H1\n",
      "North Shore , H1\n",
      "Eastern Suburbs , H1\n",
      "Inner West , H0\n",
      "Upper North Shore , H1\n",
      "Northern Suburbs , H1\n",
      "Southern Suburbs , H0\n",
      "Western Suburbs , H0\n",
      "Lower North Shore , H0\n",
      "Northern West , H0\n",
      "error_list:  ['South West']\n"
     ]
    }
   ],
   "source": [
    "region_hypotest(listing_18, listing_21)"
   ]
  },
  {
   "cell_type": "code",
   "execution_count": 32,
   "id": "b4d079c8-eb9a-4564-86f0-eeea65fb06d9",
   "metadata": {},
   "outputs": [
    {
     "data": {
      "text/html": [
       "<div>\n",
       "<style scoped>\n",
       "    .dataframe tbody tr th:only-of-type {\n",
       "        vertical-align: middle;\n",
       "    }\n",
       "\n",
       "    .dataframe tbody tr th {\n",
       "        vertical-align: top;\n",
       "    }\n",
       "\n",
       "    .dataframe thead th {\n",
       "        text-align: right;\n",
       "    }\n",
       "</style>\n",
       "<table border=\"1\" class=\"dataframe\">\n",
       "  <thead>\n",
       "    <tr style=\"text-align: right;\">\n",
       "      <th></th>\n",
       "      <th>Region</th>\n",
       "      <th>Result</th>\n",
       "    </tr>\n",
       "  </thead>\n",
       "  <tbody>\n",
       "  </tbody>\n",
       "</table>\n",
       "</div>"
      ],
      "text/plain": [
       "Empty DataFrame\n",
       "Columns: [Region, Result]\n",
       "Index: []"
      ]
     },
     "execution_count": 32,
     "metadata": {},
     "output_type": "execute_result"
    }
   ],
   "source": [
    "df = pd.DataFrame({'Region': [],'Result':[]})\n",
    "df"
   ]
  },
  {
   "cell_type": "code",
   "execution_count": 39,
   "id": "09ab212a-2d79-457e-bd76-31076c264ed5",
   "metadata": {},
   "outputs": [],
   "source": [
    "def region_hypotest_1(data_18, data_21):\n",
    "\n",
    "    for i in region_list:\n",
    "        error_list = []\n",
    "        N  = 100   \n",
    "        a = data_18[data_18['Region'] == i]['price']\n",
    "        b = data_21[data_21['Region'] == i]['price']\n",
    "        df = pd.DataFrame({'Region': [],'Result':[]})\n",
    "        if len(a) < N or len(b) < N:\n",
    "            error_list.append('_'.join([i]))\n",
    "        else:\n",
    "            a_t = a.sample(N, random_state = 42)\n",
    "            b_t = b.sample(N, random_state = 42)\n",
    "            t, p = stats.ttest_ind(a_t, b_t)\n",
    "            result = print_sig_region(p, alpha)\n",
    "            #df = pd.DataFrame({'Region': [i],'Result': [str(result)]})\n",
    "            i_series = pd.Series(i, index = region_list)\n",
    "            i_df =  pd.DataFrame({'i_value':i})\n",
    "            result_series = pd.Series(result, index = region_list)\n",
    "            result_df = pd.DataFrame({'result_value': result})\n",
    "            df_test_1 = i_df.join(result_df).join(df)\n",
    "            #df_result = pd.DataFrame({'Region': [i],'Result': [str(result)]})\n",
    "            #df.append(df_result)\n",
    "            #df = pd.concat([df_result], ignore_index = True)\n",
    "            #print(i,',', str(result))\n",
    "            #print(df_result)\n",
    "                                                 \n",
    "    print('error_list: ',error_list)\n",
    "    print(df)"
   ]
  },
  {
   "cell_type": "code",
   "execution_count": 40,
   "id": "d8a08313-0611-4c1b-b3f1-c79e321b490a",
   "metadata": {},
   "outputs": [
    {
     "ename": "ValueError",
     "evalue": "If using all scalar values, you must pass an index",
     "output_type": "error",
     "traceback": [
      "\u001b[1;31m---------------------------------------------------------------------------\u001b[0m",
      "\u001b[1;31mValueError\u001b[0m                                Traceback (most recent call last)",
      "Input \u001b[1;32mIn [40]\u001b[0m, in \u001b[0;36m<cell line: 1>\u001b[1;34m()\u001b[0m\n\u001b[1;32m----> 1\u001b[0m \u001b[43mregion_hypotest_1\u001b[49m\u001b[43m(\u001b[49m\u001b[43mlisting_18\u001b[49m\u001b[43m,\u001b[49m\u001b[43m \u001b[49m\u001b[43mlisting_21\u001b[49m\u001b[43m)\u001b[49m\n",
      "Input \u001b[1;32mIn [39]\u001b[0m, in \u001b[0;36mregion_hypotest_1\u001b[1;34m(data_18, data_21)\u001b[0m\n\u001b[0;32m     16\u001b[0m \u001b[38;5;66;03m#df = pd.DataFrame({'Region': [i],'Result': [str(result)]})\u001b[39;00m\n\u001b[0;32m     17\u001b[0m i_series \u001b[38;5;241m=\u001b[39m pd\u001b[38;5;241m.\u001b[39mSeries(i, index \u001b[38;5;241m=\u001b[39m region_list)\n\u001b[1;32m---> 18\u001b[0m i_df \u001b[38;5;241m=\u001b[39m  \u001b[43mpd\u001b[49m\u001b[38;5;241;43m.\u001b[39;49m\u001b[43mDataFrame\u001b[49m\u001b[43m(\u001b[49m\u001b[43m{\u001b[49m\u001b[38;5;124;43m'\u001b[39;49m\u001b[38;5;124;43mi_value\u001b[39;49m\u001b[38;5;124;43m'\u001b[39;49m\u001b[43m:\u001b[49m\u001b[43mi\u001b[49m\u001b[43m}\u001b[49m\u001b[43m)\u001b[49m\n\u001b[0;32m     19\u001b[0m result_series \u001b[38;5;241m=\u001b[39m pd\u001b[38;5;241m.\u001b[39mSeries(result, index \u001b[38;5;241m=\u001b[39m region_list)\n\u001b[0;32m     20\u001b[0m result_df \u001b[38;5;241m=\u001b[39m pd\u001b[38;5;241m.\u001b[39mDataFrame({\u001b[38;5;124m'\u001b[39m\u001b[38;5;124mresult_value\u001b[39m\u001b[38;5;124m'\u001b[39m: result})\n",
      "File \u001b[1;32m~\\Anaconda3-2019.10\\envs\\IOD\\lib\\site-packages\\pandas\\core\\frame.py:636\u001b[0m, in \u001b[0;36mDataFrame.__init__\u001b[1;34m(self, data, index, columns, dtype, copy)\u001b[0m\n\u001b[0;32m    630\u001b[0m     mgr \u001b[38;5;241m=\u001b[39m \u001b[38;5;28mself\u001b[39m\u001b[38;5;241m.\u001b[39m_init_mgr(\n\u001b[0;32m    631\u001b[0m         data, axes\u001b[38;5;241m=\u001b[39m{\u001b[38;5;124m\"\u001b[39m\u001b[38;5;124mindex\u001b[39m\u001b[38;5;124m\"\u001b[39m: index, \u001b[38;5;124m\"\u001b[39m\u001b[38;5;124mcolumns\u001b[39m\u001b[38;5;124m\"\u001b[39m: columns}, dtype\u001b[38;5;241m=\u001b[39mdtype, copy\u001b[38;5;241m=\u001b[39mcopy\n\u001b[0;32m    632\u001b[0m     )\n\u001b[0;32m    634\u001b[0m \u001b[38;5;28;01melif\u001b[39;00m \u001b[38;5;28misinstance\u001b[39m(data, \u001b[38;5;28mdict\u001b[39m):\n\u001b[0;32m    635\u001b[0m     \u001b[38;5;66;03m# GH#38939 de facto copy defaults to False only in non-dict cases\u001b[39;00m\n\u001b[1;32m--> 636\u001b[0m     mgr \u001b[38;5;241m=\u001b[39m \u001b[43mdict_to_mgr\u001b[49m\u001b[43m(\u001b[49m\u001b[43mdata\u001b[49m\u001b[43m,\u001b[49m\u001b[43m \u001b[49m\u001b[43mindex\u001b[49m\u001b[43m,\u001b[49m\u001b[43m \u001b[49m\u001b[43mcolumns\u001b[49m\u001b[43m,\u001b[49m\u001b[43m \u001b[49m\u001b[43mdtype\u001b[49m\u001b[38;5;241;43m=\u001b[39;49m\u001b[43mdtype\u001b[49m\u001b[43m,\u001b[49m\u001b[43m \u001b[49m\u001b[43mcopy\u001b[49m\u001b[38;5;241;43m=\u001b[39;49m\u001b[43mcopy\u001b[49m\u001b[43m,\u001b[49m\u001b[43m \u001b[49m\u001b[43mtyp\u001b[49m\u001b[38;5;241;43m=\u001b[39;49m\u001b[43mmanager\u001b[49m\u001b[43m)\u001b[49m\n\u001b[0;32m    637\u001b[0m \u001b[38;5;28;01melif\u001b[39;00m \u001b[38;5;28misinstance\u001b[39m(data, ma\u001b[38;5;241m.\u001b[39mMaskedArray):\n\u001b[0;32m    638\u001b[0m     \u001b[38;5;28;01mimport\u001b[39;00m \u001b[38;5;21;01mnumpy\u001b[39;00m\u001b[38;5;21;01m.\u001b[39;00m\u001b[38;5;21;01mma\u001b[39;00m\u001b[38;5;21;01m.\u001b[39;00m\u001b[38;5;21;01mmrecords\u001b[39;00m \u001b[38;5;28;01mas\u001b[39;00m \u001b[38;5;21;01mmrecords\u001b[39;00m\n",
      "File \u001b[1;32m~\\Anaconda3-2019.10\\envs\\IOD\\lib\\site-packages\\pandas\\core\\internals\\construction.py:502\u001b[0m, in \u001b[0;36mdict_to_mgr\u001b[1;34m(data, index, columns, dtype, typ, copy)\u001b[0m\n\u001b[0;32m    494\u001b[0m     arrays \u001b[38;5;241m=\u001b[39m [\n\u001b[0;32m    495\u001b[0m         x\n\u001b[0;32m    496\u001b[0m         \u001b[38;5;28;01mif\u001b[39;00m \u001b[38;5;129;01mnot\u001b[39;00m \u001b[38;5;28mhasattr\u001b[39m(x, \u001b[38;5;124m\"\u001b[39m\u001b[38;5;124mdtype\u001b[39m\u001b[38;5;124m\"\u001b[39m) \u001b[38;5;129;01mor\u001b[39;00m \u001b[38;5;129;01mnot\u001b[39;00m \u001b[38;5;28misinstance\u001b[39m(x\u001b[38;5;241m.\u001b[39mdtype, ExtensionDtype)\n\u001b[0;32m    497\u001b[0m         \u001b[38;5;28;01melse\u001b[39;00m x\u001b[38;5;241m.\u001b[39mcopy()\n\u001b[0;32m    498\u001b[0m         \u001b[38;5;28;01mfor\u001b[39;00m x \u001b[38;5;129;01min\u001b[39;00m arrays\n\u001b[0;32m    499\u001b[0m     ]\n\u001b[0;32m    500\u001b[0m     \u001b[38;5;66;03m# TODO: can we get rid of the dt64tz special case above?\u001b[39;00m\n\u001b[1;32m--> 502\u001b[0m \u001b[38;5;28;01mreturn\u001b[39;00m \u001b[43marrays_to_mgr\u001b[49m\u001b[43m(\u001b[49m\u001b[43marrays\u001b[49m\u001b[43m,\u001b[49m\u001b[43m \u001b[49m\u001b[43mcolumns\u001b[49m\u001b[43m,\u001b[49m\u001b[43m \u001b[49m\u001b[43mindex\u001b[49m\u001b[43m,\u001b[49m\u001b[43m \u001b[49m\u001b[43mdtype\u001b[49m\u001b[38;5;241;43m=\u001b[39;49m\u001b[43mdtype\u001b[49m\u001b[43m,\u001b[49m\u001b[43m \u001b[49m\u001b[43mtyp\u001b[49m\u001b[38;5;241;43m=\u001b[39;49m\u001b[43mtyp\u001b[49m\u001b[43m,\u001b[49m\u001b[43m \u001b[49m\u001b[43mconsolidate\u001b[49m\u001b[38;5;241;43m=\u001b[39;49m\u001b[43mcopy\u001b[49m\u001b[43m)\u001b[49m\n",
      "File \u001b[1;32m~\\Anaconda3-2019.10\\envs\\IOD\\lib\\site-packages\\pandas\\core\\internals\\construction.py:120\u001b[0m, in \u001b[0;36marrays_to_mgr\u001b[1;34m(arrays, columns, index, dtype, verify_integrity, typ, consolidate)\u001b[0m\n\u001b[0;32m    117\u001b[0m \u001b[38;5;28;01mif\u001b[39;00m verify_integrity:\n\u001b[0;32m    118\u001b[0m     \u001b[38;5;66;03m# figure out the index, if necessary\u001b[39;00m\n\u001b[0;32m    119\u001b[0m     \u001b[38;5;28;01mif\u001b[39;00m index \u001b[38;5;129;01mis\u001b[39;00m \u001b[38;5;28;01mNone\u001b[39;00m:\n\u001b[1;32m--> 120\u001b[0m         index \u001b[38;5;241m=\u001b[39m \u001b[43m_extract_index\u001b[49m\u001b[43m(\u001b[49m\u001b[43marrays\u001b[49m\u001b[43m)\u001b[49m\n\u001b[0;32m    121\u001b[0m     \u001b[38;5;28;01melse\u001b[39;00m:\n\u001b[0;32m    122\u001b[0m         index \u001b[38;5;241m=\u001b[39m ensure_index(index)\n",
      "File \u001b[1;32m~\\Anaconda3-2019.10\\envs\\IOD\\lib\\site-packages\\pandas\\core\\internals\\construction.py:664\u001b[0m, in \u001b[0;36m_extract_index\u001b[1;34m(data)\u001b[0m\n\u001b[0;32m    661\u001b[0m         \u001b[38;5;28;01mraise\u001b[39;00m \u001b[38;5;167;01mValueError\u001b[39;00m(\u001b[38;5;124m\"\u001b[39m\u001b[38;5;124mPer-column arrays must each be 1-dimensional\u001b[39m\u001b[38;5;124m\"\u001b[39m)\n\u001b[0;32m    663\u001b[0m \u001b[38;5;28;01mif\u001b[39;00m \u001b[38;5;129;01mnot\u001b[39;00m indexes \u001b[38;5;129;01mand\u001b[39;00m \u001b[38;5;129;01mnot\u001b[39;00m raw_lengths:\n\u001b[1;32m--> 664\u001b[0m     \u001b[38;5;28;01mraise\u001b[39;00m \u001b[38;5;167;01mValueError\u001b[39;00m(\u001b[38;5;124m\"\u001b[39m\u001b[38;5;124mIf using all scalar values, you must pass an index\u001b[39m\u001b[38;5;124m\"\u001b[39m)\n\u001b[0;32m    666\u001b[0m \u001b[38;5;28;01melif\u001b[39;00m have_series:\n\u001b[0;32m    667\u001b[0m     index \u001b[38;5;241m=\u001b[39m union_indexes(indexes)\n",
      "\u001b[1;31mValueError\u001b[0m: If using all scalar values, you must pass an index"
     ]
    }
   ],
   "source": [
    "region_hypotest_1(listing_18, listing_21)"
   ]
  },
  {
   "cell_type": "code",
   "execution_count": 33,
   "id": "1493f807-d63f-4766-b6ba-1507f2d23794",
   "metadata": {},
   "outputs": [],
   "source": [
    "def region_hypotest(data_18, data_21):\n",
    "\n",
    "    for i in region_list:\n",
    "        error_list = []\n",
    "        N  = 100   \n",
    "        a = data_18[data_18['Region'] == i]['price']\n",
    "        b = data_21[data_21['Region'] == i]['price']\n",
    "        df = pd.DataFrame({'Region': [],'Result':[]})\n",
    "        if len(a) < N or len(b) < N:\n",
    "            error_list.append('_'.join([i]))\n",
    "        else:\n",
    "            a_t = a.sample(N, random_state = 42)\n",
    "            b_t = b.sample(N, random_state = 42)\n",
    "            t, p = stats.ttest_ind(a_t, b_t)\n",
    "            result = print_sig_region(p, alpha)\n",
    "            #df = pd.DataFrame({'Region': [i],'Result': [str(result)]})\n",
    "            df_result = pd.DataFrame({'Region': [i],'Result': [str(result)]})\n",
    "            df.append(df_result)\n",
    "            #df = pd.concat([df_result], ignore_index = True)\n",
    "            #print(i,',', str(result))\n",
    "            #print(df_result)\n",
    "                                                 \n",
    "    print('error_list: ',error_list)\n",
    "    print(df)"
   ]
  },
  {
   "cell_type": "code",
   "execution_count": 34,
   "id": "8bccf613",
   "metadata": {},
   "outputs": [],
   "source": [
    "def region_hypotest(data_18, data_21):\n",
    "\n",
    "    for i in region_list:\n",
    "        error_list = []\n",
    "        N  = 100   \n",
    "        a = data_18[data_18['Region'] == i]['price']\n",
    "        b = data_21[data_21['Region'] == i]['price']\n",
    "        df = pd.DataFrame({'Region': [],'Result':[]})\n",
    "        if len(a) < N or len(b) < N:\n",
    "            error_list.append('_'.join([i]))\n",
    "        else:\n",
    "            a_t = a.sample(N, random_state = 42)\n",
    "            b_t = b.sample(N, random_state = 42)\n",
    "            t, p = stats.ttest_ind(a_t, b_t)\n",
    "            result = print_sig_region(p, alpha)\n",
    "            #df = pd.DataFrame({'Region': [i],'Result': [str(result)]})\n",
    "            df_result = pd.DataFrame({'Region': [i],'Result': [str(result)]})\n",
    "            df.append(df_result)\n",
    "            #df = pd.concat([df_result], ignore_index = True)\n",
    "            #print(i,',', str(result))\n",
    "            #print(df_result)\n",
    "                                                 \n",
    "    print('error_list: ',error_list)\n",
    "    print(df)"
   ]
  },
  {
   "cell_type": "code",
   "execution_count": 35,
   "id": "a05070be-80c8-441d-809b-ee6178abaeeb",
   "metadata": {},
   "outputs": [
    {
     "name": "stderr",
     "output_type": "stream",
     "text": [
      "C:\\Users\\Clivia\\AppData\\Local\\Temp\\ipykernel_13276\\3766463438.py:18: FutureWarning: The frame.append method is deprecated and will be removed from pandas in a future version. Use pandas.concat instead.\n",
      "  df.append(df_result)\n"
     ]
    },
    {
     "name": "stdout",
     "output_type": "stream",
     "text": [
      "error_list:  ['South West']\n",
      "Empty DataFrame\n",
      "Columns: [Region, Result]\n",
      "Index: []\n"
     ]
    }
   ],
   "source": [
    "region_hypotest(listing_18, listing_21)"
   ]
  },
  {
   "cell_type": "code",
   "execution_count": null,
   "id": "6be2c4c8-44a7-40d7-817a-9e5ebab48c75",
   "metadata": {},
   "outputs": [],
   "source": []
  },
  {
   "cell_type": "code",
   "execution_count": null,
   "id": "a7de014e-0182-45a8-b191-8f58d36294bf",
   "metadata": {},
   "outputs": [],
   "source": []
  },
  {
   "cell_type": "code",
   "execution_count": null,
   "id": "bf9980a9-a725-48ef-a17e-99ca362f05ed",
   "metadata": {},
   "outputs": [],
   "source": []
  },
  {
   "cell_type": "code",
   "execution_count": null,
   "id": "20dba3ab-fddf-4ccf-a059-b4f0f199447c",
   "metadata": {},
   "outputs": [],
   "source": []
  }
 ],
 "metadata": {
  "kernelspec": {
   "display_name": "Python 3 (ipykernel)",
   "language": "python",
   "name": "python3"
  },
  "language_info": {
   "codemirror_mode": {
    "name": "ipython",
    "version": 3
   },
   "file_extension": ".py",
   "mimetype": "text/x-python",
   "name": "python",
   "nbconvert_exporter": "python",
   "pygments_lexer": "ipython3",
   "version": "3.8.13"
  }
 },
 "nbformat": 4,
 "nbformat_minor": 5
}
