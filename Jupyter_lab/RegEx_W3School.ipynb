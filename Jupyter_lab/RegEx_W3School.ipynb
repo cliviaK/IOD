{
 "cells": [
  {
   "cell_type": "markdown",
   "id": "e5c6a246-114c-43e1-a36d-3a79faaec4c9",
   "metadata": {},
   "source": [
    "# Python RegEx"
   ]
  },
  {
   "cell_type": "code",
   "execution_count": 1,
   "id": "840ac9a6-06ad-4cb2-b1b2-4de85a03fc55",
   "metadata": {},
   "outputs": [],
   "source": [
    "#https://www.w3schools.com/python/python_regex.asp"
   ]
  },
  {
   "cell_type": "code",
   "execution_count": 5,
   "id": "12893c34-760a-4293-967f-50e9f98b0b44",
   "metadata": {},
   "outputs": [],
   "source": [
    "import re"
   ]
  },
  {
   "cell_type": "code",
   "execution_count": 6,
   "id": "da45f914-f2c5-415c-a676-43f0ff52bab5",
   "metadata": {},
   "outputs": [],
   "source": [
    "txt = \"The rain in Spain\""
   ]
  },
  {
   "cell_type": "code",
   "execution_count": 7,
   "id": "e399a723-ff33-4914-9352-31793c4cbd4a",
   "metadata": {},
   "outputs": [],
   "source": [
    "x = re.search(\"^The.*Spain$\", txt)"
   ]
  },
  {
   "cell_type": "code",
   "execution_count": 9,
   "id": "7b3eab1b-6d51-42fa-a561-3265b3964d2d",
   "metadata": {},
   "outputs": [
    {
     "name": "stdout",
     "output_type": "stream",
     "text": [
      "<re.Match object; span=(0, 17), match='The rain in Spain'>\n"
     ]
    }
   ],
   "source": [
    "print(x)"
   ]
  },
  {
   "cell_type": "code",
   "execution_count": 10,
   "id": "d53c2f15-e3a9-4ef6-bc94-cdbff38c9256",
   "metadata": {},
   "outputs": [
    {
     "data": {
      "text/plain": [
       "['ai', 'ai']"
      ]
     },
     "execution_count": 10,
     "metadata": {},
     "output_type": "execute_result"
    }
   ],
   "source": [
    "y = re.findall(\"ai\", txt)\n",
    "y"
   ]
  },
  {
   "cell_type": "code",
   "execution_count": 11,
   "id": "6605bdc5-a1db-4c9e-8e71-828aaeda67e1",
   "metadata": {},
   "outputs": [
    {
     "name": "stdout",
     "output_type": "stream",
     "text": [
      "[]\n"
     ]
    }
   ],
   "source": [
    "txt1 = \"The rain in Spain\"\n",
    "y = re.findall(\"Portugal\", txt1)\n",
    "print(y)"
   ]
  },
  {
   "cell_type": "code",
   "execution_count": null,
   "id": "828915ac-4e17-413b-a0f9-92bdbfc142ef",
   "metadata": {},
   "outputs": [],
   "source": []
  }
 ],
 "metadata": {
  "kernelspec": {
   "display_name": "Python 3 (ipykernel)",
   "language": "python",
   "name": "python3"
  },
  "language_info": {
   "codemirror_mode": {
    "name": "ipython",
    "version": 3
   },
   "file_extension": ".py",
   "mimetype": "text/x-python",
   "name": "python",
   "nbconvert_exporter": "python",
   "pygments_lexer": "ipython3",
   "version": "3.8.13"
  }
 },
 "nbformat": 4,
 "nbformat_minor": 5
}
