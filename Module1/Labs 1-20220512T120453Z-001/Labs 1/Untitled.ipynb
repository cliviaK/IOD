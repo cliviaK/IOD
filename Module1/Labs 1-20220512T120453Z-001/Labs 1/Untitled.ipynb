{
 "cells": [
  {
   "cell_type": "markdown",
   "id": "bdebbdc3-bed4-42c7-9643-b58434fb17d4",
   "metadata": {},
   "source": [
    "Class "
   ]
  },
  {
   "cell_type": "code",
   "execution_count": null,
   "id": "3df31d47-6c6d-46c2-91e0-4bf75f502c76",
   "metadata": {},
   "outputs": [],
   "source": [
    "import numpy as np"
   ]
  },
  {
   "cell_type": "code",
   "execution_count": 2,
   "id": "acf8bdc2-9055-4ee1-8946-f1c24d20369f",
   "metadata": {},
   "outputs": [],
   "source": [
    "myArray = [50,60,70,80,90,100,110,120,130,140,150]"
   ]
  },
  {
   "cell_type": "code",
   "execution_count": 6,
   "id": "fed57b61-b85b-4572-9398-cbde31f5ffc9",
   "metadata": {},
   "outputs": [
    {
     "name": "stdout",
     "output_type": "stream",
     "text": [
      "11\n"
     ]
    }
   ],
   "source": [
    "print(len(myArray))"
   ]
  },
  {
   "cell_type": "code",
   "execution_count": null,
   "id": "43f5f166-667f-410d-8312-34c9174e5bef",
   "metadata": {},
   "outputs": [],
   "source": []
  },
  {
   "cell_type": "code",
   "execution_count": null,
   "id": "001a9887-d6ca-4ccf-858a-9f451ab8b2d5",
   "metadata": {},
   "outputs": [],
   "source": []
  },
  {
   "cell_type": "code",
   "execution_count": null,
   "id": "29a4739d-6b45-4b2a-ba4a-0cc8171831a1",
   "metadata": {},
   "outputs": [],
   "source": []
  },
  {
   "cell_type": "code",
   "execution_count": null,
   "id": "5c62fdb4-10dc-4f20-9cc3-acc2aca39297",
   "metadata": {},
   "outputs": [],
   "source": []
  },
  {
   "cell_type": "code",
   "execution_count": null,
   "id": "26a9ffc9-3efa-4d9b-a40e-46782063c307",
   "metadata": {},
   "outputs": [],
   "source": []
  }
 ],
 "metadata": {
  "kernelspec": {
   "display_name": "Python 3 (ipykernel)",
   "language": "python",
   "name": "python3"
  },
  "language_info": {
   "codemirror_mode": {
    "name": "ipython",
    "version": 3
   },
   "file_extension": ".py",
   "mimetype": "text/x-python",
   "name": "python",
   "nbconvert_exporter": "python",
   "pygments_lexer": "ipython3",
   "version": "3.8.13"
  }
 },
 "nbformat": 4,
 "nbformat_minor": 5
}
